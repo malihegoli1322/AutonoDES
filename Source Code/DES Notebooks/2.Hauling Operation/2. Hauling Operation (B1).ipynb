{
 "cells": [
  {
   "cell_type": "markdown",
   "id": "24df7327-cf29-4449-ba60-60e59dd7081e",
   "metadata": {
    "tags": []
   },
   "source": [
    "# Release Note (V.B1: Internal)\n",
    "In this version, the following problems should be fixed:\n",
    "\n",
    "- The amount of material transported each time by a truck to be extracted from truck_list.\n",
    "- Total amount of material should be extracted from input data.\n",
    "- The input files to be modified.\n",
    "- The data used in the truck simulation is to be extracted from truck_list.\n",
    "- Source and destinations should be added and the location to be the same as the geometry of the road network.\n",
    "- Routing to be added to the simulation."
   ]
  },
  {
   "cell_type": "code",
   "execution_count": 2,
   "id": "04d02c6d-17c8-4bfe-b6e6-d25a874ba78c",
   "metadata": {
    "tags": []
   },
   "outputs": [],
   "source": [
    "import networkx as nx  \n",
    "import shapely.geometry\n",
    "import datetime as dt\n",
    "import time\n",
    "import simpy\n",
    "import openclsim.core as core\n",
    "import openclsim.model as model\n",
    "import openclsim.plot as plot\n",
    "import opentnsim\n",
    "\n",
    "import pandas as pd\n",
    "import numpy as np\n",
    "\n",
    "import matplotlib.pyplot as plt\n",
    "import logging"
   ]
  },
  {
   "cell_type": "code",
   "execution_count": 3,
   "id": "9c7f3b91-b8fd-4498-8672-8718bcfc2411",
   "metadata": {},
   "outputs": [],
   "source": [
    "# Create a data set fro trucks\n",
    "def process_truck_data():\n",
    "    # Read the CSV files\n",
    "    truck_file = 'HaulageOperation_TruckDetails.csv'\n",
    "    df_tr = pd.read_csv(truck_file)\n",
    "\n",
    "    # Create an empty list to store information about each truck\n",
    "    truck_list = []\n",
    "\n",
    "    # Initialize a counter for overall truck numbering\n",
    "    overall_truck_counter = 1\n",
    "\n",
    "    # Iterate through rows and repeat based on the number of trucks\n",
    "    for index, row in df_tr.iterrows():\n",
    "        # Convert 'Number of trucks' to integer\n",
    "        num_trucks = int(row['Number of Trucks'])\n",
    "        for truck_num in range(num_trucks):\n",
    "            # Create a dictionary for each truck\n",
    "            truck_info = {\n",
    "                'ID': row['ID'],\n",
    "                'Name of the trucks': f'truck{overall_truck_counter}',\n",
    "                'Type': row['Type'],\n",
    "                'Payload (Ton)': row['Payload (Ton)'],\n",
    "                'Minimum Speed (Mile/Hour)': row['Minimum Speed (Mile/Hour)'],\n",
    "                'Maximum Speed (Mile/Hour)': row['Maximum Speed (Mile/Hour)'],\n",
    "                'Unloading Time (Minute)': row['Unloading Time (Minute)'],\n",
    "                'Param 1': row['Param 1'],\n",
    "                'Param 2': row['Param 2']\n",
    "            }\n",
    "            # Increment the overall truck counter\n",
    "            overall_truck_counter += 1\n",
    "\n",
    "            # Append the truck information to the list\n",
    "            truck_list.append(truck_info)\n",
    "\n",
    "    # Calculate the total number of trucks as an integer\n",
    "    total_trucks = int(df_tr['Number of Trucks'].sum())\n",
    "     \n",
    "    # Create a new data frame from the list\n",
    "    df_tr_result = pd.DataFrame(truck_list)\n",
    "\n",
    "    # Read the Shovel_Truck_Allocation.csv file\n",
    "    allocation_file_path = 'Shovel_Truck_Allocation.csv'\n",
    "    allocation_df = pd.read_csv(allocation_file_path)\n",
    "\n",
    "    # Initialize an empty list to store updated allocation rows\n",
    "    updated_allocation_list = []\n",
    "\n",
    "    # Iterate through rows of allocation_df\n",
    "    for allocation_index, allocation_row in allocation_df.iterrows():\n",
    "        # Repeat each row based on the number of trucks\n",
    "        for _ in range(allocation_row['Number of Trucks']):\n",
    "            # Create a new DataFrame row with the same information as the original row\n",
    "            updated_allocation_row = allocation_row.copy()\n",
    "            # Append the updated allocation row to the list\n",
    "            updated_allocation_list.append(updated_allocation_row)\n",
    "\n",
    "    # Create a new DataFrame from the updated allocation list\n",
    "    updated_allocation_df = pd.DataFrame(updated_allocation_list)\n",
    "\n",
    "    # Drop the 'Number of Trucks' column\n",
    "    updated_allocation_df.drop(columns=['Number of Trucks'], inplace=True)\n",
    "\n",
    "    # Reset the index of the DataFrame to be incremental\n",
    "    updated_allocation_df.reset_index(drop=True, inplace=True)\n",
    "    \n",
    "    # Export to CSV file\n",
    "    updated_allocation_df.to_csv('updated_allocation.csv', index=False)\n",
    "        # Create new 'Source' and 'Destination' columns in df_tr_result\n",
    "    df_tr_result['Source'] = ''\n",
    "    df_tr_result['Destination'] = ''\n",
    "    \n",
    "    # Copy the data frame to not be changed in the loop\n",
    "    updated_allocation = updated_allocation_df.copy()\n",
    "\n",
    "    # Iterate through rows of df_tr_result\n",
    "    for index, truck_row in df_tr_result.iterrows():\n",
    "        # Iterate through rows of updated_allocation_df\n",
    "        for allocation_index, allocation_row in updated_allocation.iterrows():\n",
    "            # Check if the text in truck_row['Type'] is contained in allocation_row['Truck Type'] (case-insensitive)\n",
    "            if truck_row['Type'].lower() in allocation_row['Truck Type'].lower():\n",
    "                # Assign 'Source' and 'Destination' to the corresponding columns\n",
    "                df_tr_result.at[index, 'Source'] = allocation_row['Source']\n",
    "                df_tr_result.at[index, 'Destination'] = allocation_row['Destination']\n",
    "                # Drop the assigned row from updated_allocation_df\n",
    "                updated_allocation.drop(allocation_index, inplace=True)\n",
    "                # Break out of the inner loop to avoid re-assigning the same row to multiple trucks\n",
    "                break\n",
    "    # Export to CSV file\n",
    "    df_tr_result.to_csv('truck_list.csv', index=False)\n",
    "    \n",
    "    return df_tr_result, updated_allocation_df, total_trucks\n"
   ]
  },
  {
   "cell_type": "code",
   "execution_count": 4,
   "id": "c77e8a1a-a2a2-494e-90f8-414fb9db913e",
   "metadata": {},
   "outputs": [],
   "source": [
    "def run(total_waste):\n",
    "    # Call the function to get truck_list and updated_allocation_df\n",
    "    truck_list, updated_allocation_df, total_trucks = process_truck_data()\n",
    "\n",
    "    # truck_list, df_result, total_trucks\n",
    "    \n",
    "    # create a Site object based on desired mixin classes\n",
    "    Site = type('Site',\n",
    "                (core.Identifiable,\n",
    "                 core.Log,\n",
    "                 core.Locatable,\n",
    "                 core.HasContainer,\n",
    "                 core.HasResource,), {})\n",
    "\n",
    "    # create a TransportProcessingResource object based on desired mixin classes\n",
    "    TransportProcessingResource = type(\n",
    "        \"TransportProcessingResource\",\n",
    "        (\n",
    "         core.ContainerDependentMovable,\n",
    "         core.Processor,\n",
    "         core.HasResource,\n",
    "         core.LoadingFunction,\n",
    "         core.UnloadingFunction,\n",
    "         core.Identifiable,\n",
    "         core.Log,\n",
    "        ),\n",
    "        {},\n",
    "    )\n",
    "    \n",
    "    simulation_start = 0\n",
    "    my_env = simpy.Environment(initial_time=simulation_start)\n",
    "    registry = {}\n",
    "\n",
    "    # prepare input data for source\n",
    "    location_source01 = shapely.geometry.Point(4.062705498083785, 51.95909715255291)\n",
    "    data_source01 = {\"env\": my_env,\n",
    "                     \"name\": \"source01\",\n",
    "                     \"geometry\": location_source01,\n",
    "                     \"capacity\": total_waste,\n",
    "                     \"level\": total_waste\n",
    "                   # \"nr_resources\": 1\n",
    "                    }\n",
    "    source01 = Site(**data_source01)\n",
    "    \n",
    "    # prepare input data for dump\n",
    "    location_dump01 = shapely.geometry.Point(4.1795229742823, 52.11590591837503)\n",
    "    data_dump01 = {\"env\": my_env,\n",
    "                   \"name\": \"dump01\",\n",
    "                   \"geometry\": location_dump01,\n",
    "                   \"capacity\": total_waste,\n",
    "                   \"level\": 0\n",
    "                  }\n",
    "    dump01 = Site(**data_dump01)\n",
    "\n",
    "    # create truck objects\n",
    "    trucks = {}\n",
    "\n",
    "    for i in range(1, total_trucks + 1):\n",
    "        # Extract information from the truck list\n",
    "        truck_info = truck_list[truck_list['Name of the trucks'] == f'truck{i}'].iloc[0]\n",
    "\n",
    "        # Extract unloading time distribution parameters\n",
    "        mean_unloading_time = truck_info['Param 1']\n",
    "        std_dev_unloading_time = truck_info['Param 2']\n",
    "        # Generate random unloading time from the specified distribution\n",
    "        unloading_rate = np.random.normal(loc=mean_unloading_time, scale=std_dev_unloading_time)\n",
    "\n",
    "        # Create an instance of TransportProcessingResource\n",
    "        trucks[f\"truck{i}\"] = TransportProcessingResource(\n",
    "            env=my_env,\n",
    "            name=f\"truck{i}\",\n",
    "            geometry=location_dump01,\n",
    "            # level=0,\n",
    "            loading_rate=1,\n",
    "            unloading_rate=unloading_rate,\n",
    "            capacity= truck_info['Payload (Ton)'],\n",
    "            compute_v=lambda x: 10 + 2 * x,\n",
    "        )\n",
    "\n",
    "   # Create activity objects\n",
    "    activities_d_truck = {}\n",
    "    cond_level = total_waste - (total_trucks * 20)\n",
    "    \n",
    "    for i in range(1, total_trucks + 1):\n",
    "        # requested_resources = {}\n",
    "        truck = trucks[f\"truck{i}\"]\n",
    "        d_subprocesses = [\n",
    "            model.MoveActivity(\n",
    "                env=my_env,\n",
    "                name=f\"driving_empty:\" + trucks[f\"truck{i}\"].name,\n",
    "                registry=registry,\n",
    "                mover=trucks[f\"truck{i}\"],\n",
    "                destination=source01,\n",
    "                # duration=20,\n",
    "            ),\n",
    "            model.ShiftAmountActivity(\n",
    "                env=my_env,\n",
    "                name=f\"loading:\" + trucks[f\"truck{i}\"].name,\n",
    "                registry=registry,\n",
    "                processor=trucks[f\"truck{i}\"],\n",
    "                origin=source01,\n",
    "                destination=trucks[f\"truck{i}\"],\n",
    "                amount=20,\n",
    "                duration=50,\n",
    "                # id_=\"waste\",\n",
    "            ),\n",
    "            model.MoveActivity(\n",
    "                env=my_env,\n",
    "                name=f\"driving_full:\" + trucks[f\"truck{i}\"].name,\n",
    "                registry=registry,\n",
    "                mover=trucks[f\"truck{i}\"],\n",
    "                destination=dump01,\n",
    "                # duration=15,\n",
    "            ),\n",
    "            model.ShiftAmountActivity(\n",
    "                env=my_env,\n",
    "                name=f\"unloading:\" + trucks[f\"truck{i}\"].name,\n",
    "                registry=registry,\n",
    "                processor=trucks[f\"truck{i}\"],\n",
    "                origin=trucks[f\"truck{i}\"],\n",
    "                destination=dump01,\n",
    "                amount=20,\n",
    "                duration=25,\n",
    "                # id_=\"waste\",\n",
    "            )\n",
    "        ]\n",
    "        activities_d_truck[f\"activities_d_truck{i}\"] = model.WhileActivity(\n",
    "            env=my_env,\n",
    "            name=f\"while_sequential_activity_d_truck{i}\",\n",
    "            registry=registry,\n",
    "            sub_processes=[model.SequentialActivity(\n",
    "                env=my_env,\n",
    "                name=f\"sequential_activity_d_truck{i}\",\n",
    "                registry=registry,\n",
    "                sub_processes=d_subprocesses\n",
    "            )],\n",
    "            condition_event=[{\"type\": \"container\",\n",
    "                              \"concept\": dump01,\n",
    "                              \"state\": \"gt\", \"level\":cond_level}\n",
    "                             ]\n",
    "        )\n",
    "    \n",
    "    processes=[*activities_d_truck.values()]\n",
    "    print(processes)\n",
    "    model.register_processes(processes)\n",
    "    try: \n",
    "        my_env.run()\n",
    "    except:\n",
    "        logging.exception('run did not succeed')\n",
    "        \n",
    "    return {\n",
    "        \"trucks\": trucks,\n",
    "        \"activities_d_truck\": activities_d_truck,\n",
    "        \"source01\": source01,\n",
    "        \"dump01\": dump01,\n",
    "        \"total_trucks\": total_trucks,  # Adding total_trucks to the returned dictionary\n",
    "        \"registry\": registry,\n",
    "    }"
   ]
  },
  {
   "cell_type": "code",
   "execution_count": 5,
   "id": "0d6f5d3c-2c97-4bd9-b6bf-3e4dc30c3511",
   "metadata": {},
   "outputs": [
    {
     "name": "stdout",
     "output_type": "stream",
     "text": [
      "[<openclsim.model.while_activity.WhileActivity object at 0x7f96584ab370>, <openclsim.model.while_activity.WhileActivity object at 0x7f96584abf10>, <openclsim.model.while_activity.WhileActivity object at 0x7f9638a182e0>, <openclsim.model.while_activity.WhileActivity object at 0x7f9638a18df0>, <openclsim.model.while_activity.WhileActivity object at 0x7f96584e6880>, <openclsim.model.while_activity.WhileActivity object at 0x7f96584e6b50>, <openclsim.model.while_activity.WhileActivity object at 0x7f962836a0d0>, <openclsim.model.while_activity.WhileActivity object at 0x7f962836a4f0>, <openclsim.model.while_activity.WhileActivity object at 0x7f962836a910>, <openclsim.model.while_activity.WhileActivity object at 0x7f962836ad30>, <openclsim.model.while_activity.WhileActivity object at 0x7f9628372190>, <openclsim.model.while_activity.WhileActivity object at 0x7f96283725b0>, <openclsim.model.while_activity.WhileActivity object at 0x7f96283729d0>, <openclsim.model.while_activity.WhileActivity object at 0x7f9628372df0>, <openclsim.model.while_activity.WhileActivity object at 0x7f96584e8250>, <openclsim.model.while_activity.WhileActivity object at 0x7f96584e8670>, <openclsim.model.while_activity.WhileActivity object at 0x7f96584e8a90>, <openclsim.model.while_activity.WhileActivity object at 0x7f96584e8eb0>, <openclsim.model.while_activity.WhileActivity object at 0x7f96584ef310>, <openclsim.model.while_activity.WhileActivity object at 0x7f96584ef730>]\n"
     ]
    }
   ],
   "source": [
    "# Example usage: \n",
    "res = run(1000)\n",
    "trucks = res['trucks']\n",
    "activities_d_truck = res['activities_d_truck']\n",
    "source01 = res['source01']\n",
    "dump01 = res['dump01']\n",
    "total_trucks = res['total_trucks']  # Extracting total_trucks\n",
    "registry = res['registry']"
   ]
  },
  {
   "cell_type": "code",
   "execution_count": 6,
   "id": "287c00dd-851e-4bc0-9bf5-01c9ab906af6",
   "metadata": {},
   "outputs": [
    {
     "data": {
      "text/html": [
       "        <script type=\"text/javascript\">\n",
       "        window.PlotlyConfig = {MathJaxConfig: 'local'};\n",
       "        if (window.MathJax && window.MathJax.Hub && window.MathJax.Hub.Config) {window.MathJax.Hub.Config({SVG: {font: \"STIX-Web\"}});}\n",
       "        if (typeof require !== 'undefined') {\n",
       "        require.undef(\"plotly\");\n",
       "        requirejs.config({\n",
       "            paths: {\n",
       "                'plotly': ['https://cdn.plot.ly/plotly-2.24.1.min']\n",
       "            }\n",
       "        });\n",
       "        require(['plotly'], function(Plotly) {\n",
       "            window._Plotly = Plotly;\n",
       "        });\n",
       "        }\n",
       "        </script>\n",
       "        "
      ]
     },
     "metadata": {},
     "output_type": "display_data"
    },
    {
     "data": {
      "application/vnd.plotly.v1+json": {
       "config": {
        "linkText": "Export to plot.ly",
        "plotlyServerURL": "https://plot.ly",
        "showLink": false
       },
       "data": [
        {
         "connectgaps": false,
         "hoverinfo": "y+name",
         "line": {
          "color": "rgb(240,169,2)",
          "width": 10
         },
         "mode": "lines",
         "name": "unloading:truck1",
         "type": "scatter",
         "x": [
          "1970-01-01T01:03:36.375536",
          "1970-01-01T01:03:36.375536",
          "1970-01-01T01:04:01.375536",
          "1970-01-01T01:04:01.375536",
          "1970-01-01T01:04:01.375536",
          "1970-01-01T02:07:37.751072",
          "1970-01-01T02:07:37.751072",
          "1970-01-01T02:08:02.751072",
          "1970-01-01T02:08:02.751072",
          "1970-01-01T02:08:02.751072",
          "1970-01-01T03:11:39.126609",
          "1970-01-01T03:11:39.126609",
          "1970-01-01T03:12:04.126609",
          "1970-01-01T03:12:04.126609",
          "1970-01-01T03:12:04.126609"
         ],
         "y": [
          "truck1",
          "truck1",
          "truck1",
          "truck1",
          null,
          "truck1",
          "truck1",
          "truck1",
          "truck1",
          null,
          "truck1",
          "truck1",
          "truck1",
          "truck1",
          null
         ]
        },
        {
         "connectgaps": false,
         "hoverinfo": "y+name",
         "line": {
          "color": "rgb(243,172,5)",
          "width": 10
         },
         "mode": "lines",
         "name": "loading:truck1",
         "type": "scatter",
         "x": [
          "1970-01-01T00:32:00.113018",
          "1970-01-01T00:32:00.113018",
          "1970-01-01T00:32:50.113018",
          "1970-01-01T00:32:50.113018",
          "1970-01-01T00:32:50.113018",
          "1970-01-01T01:36:01.488555",
          "1970-01-01T01:36:01.488555",
          "1970-01-01T01:36:51.488555",
          "1970-01-01T01:36:51.488555",
          "1970-01-01T01:36:51.488555",
          "1970-01-01T02:40:02.864091",
          "1970-01-01T02:40:02.864091",
          "1970-01-01T02:40:52.864091",
          "1970-01-01T02:40:52.864091",
          "1970-01-01T02:40:52.864091"
         ],
         "y": [
          "truck1",
          "truck1",
          "truck1",
          "truck1",
          null,
          "truck1",
          "truck1",
          "truck1",
          "truck1",
          null,
          "truck1",
          "truck1",
          "truck1",
          "truck1",
          null
         ]
        },
        {
         "connectgaps": false,
         "hoverinfo": "y+name",
         "line": {
          "color": "rgb(246,175,8)",
          "width": 10
         },
         "mode": "lines",
         "name": "driving_full:truck1",
         "type": "scatter",
         "x": [
          "1970-01-01T00:32:50.113018",
          "1970-01-01T00:32:50.113018",
          "1970-01-01T01:03:36.375536",
          "1970-01-01T01:03:36.375536",
          "1970-01-01T01:03:36.375536",
          "1970-01-01T01:36:51.488555",
          "1970-01-01T01:36:51.488555",
          "1970-01-01T02:07:37.751072",
          "1970-01-01T02:07:37.751072",
          "1970-01-01T02:07:37.751072",
          "1970-01-01T02:40:52.864091",
          "1970-01-01T02:40:52.864091",
          "1970-01-01T03:11:39.126609",
          "1970-01-01T03:11:39.126609",
          "1970-01-01T03:11:39.126609"
         ],
         "y": [
          "truck1",
          "truck1",
          "truck1",
          "truck1",
          null,
          "truck1",
          "truck1",
          "truck1",
          "truck1",
          null,
          "truck1",
          "truck1",
          "truck1",
          "truck1",
          null
         ]
        },
        {
         "connectgaps": false,
         "hoverinfo": "y+name",
         "line": {
          "color": "rgb(249,178,11)",
          "width": 10
         },
         "mode": "lines",
         "name": "driving_empty:truck1",
         "type": "scatter",
         "x": [
          "1970-01-01T00:00:00",
          "1970-01-01T00:00:00",
          "1970-01-01T00:32:00.113018",
          "1970-01-01T00:32:00.113018",
          "1970-01-01T00:32:00.113018",
          "1970-01-01T01:04:01.375536",
          "1970-01-01T01:04:01.375536",
          "1970-01-01T01:36:01.488555",
          "1970-01-01T01:36:01.488555",
          "1970-01-01T01:36:01.488555",
          "1970-01-01T02:08:02.751072",
          "1970-01-01T02:08:02.751072",
          "1970-01-01T02:40:02.864091",
          "1970-01-01T02:40:02.864091",
          "1970-01-01T02:40:02.864091"
         ],
         "y": [
          "truck1",
          "truck1",
          "truck1",
          "truck1",
          null,
          "truck1",
          "truck1",
          "truck1",
          "truck1",
          null,
          "truck1",
          "truck1",
          "truck1",
          "truck1",
          null
         ]
        },
        {
         "connectgaps": false,
         "hoverinfo": "y+name",
         "line": {
          "color": "rgb(252,181,14)",
          "width": 10
         },
         "mode": "lines",
         "name": "loading:truck2",
         "type": "scatter",
         "x": [
          "1970-01-01T00:32:50.113018",
          "1970-01-01T00:32:50.113018",
          "1970-01-01T00:33:40.113018",
          "1970-01-01T00:33:40.113018",
          "1970-01-01T00:33:40.113018",
          "1970-01-01T01:36:51.488555",
          "1970-01-01T01:36:51.488555",
          "1970-01-01T01:37:41.488555",
          "1970-01-01T01:37:41.488555",
          "1970-01-01T01:37:41.488555",
          "1970-01-01T02:40:52.864091",
          "1970-01-01T02:40:52.864091",
          "1970-01-01T02:41:42.864091",
          "1970-01-01T02:41:42.864091",
          "1970-01-01T02:41:42.864091"
         ],
         "y": [
          "truck2",
          "truck2",
          "truck2",
          "truck2",
          null,
          "truck2",
          "truck2",
          "truck2",
          "truck2",
          null,
          "truck2",
          "truck2",
          "truck2",
          "truck2",
          null
         ]
        },
        {
         "connectgaps": false,
         "hoverinfo": "y+name",
         "line": {
          "color": "rgb(255,184,17)",
          "width": 10
         },
         "mode": "lines",
         "name": "driving_empty:truck2",
         "type": "scatter",
         "x": [
          "1970-01-01T00:00:00",
          "1970-01-01T00:00:00",
          "1970-01-01T00:32:00.113018",
          "1970-01-01T00:32:00.113018",
          "1970-01-01T00:32:00.113018",
          "1970-01-01T01:04:51.375536",
          "1970-01-01T01:04:51.375536",
          "1970-01-01T01:36:51.488555",
          "1970-01-01T01:36:51.488555",
          "1970-01-01T01:36:51.488555",
          "1970-01-01T02:08:52.751072",
          "1970-01-01T02:08:52.751072",
          "1970-01-01T02:40:52.864091",
          "1970-01-01T02:40:52.864091",
          "1970-01-01T02:40:52.864091"
         ],
         "y": [
          "truck2",
          "truck2",
          "truck2",
          "truck2",
          null,
          "truck2",
          "truck2",
          "truck2",
          "truck2",
          null,
          "truck2",
          "truck2",
          "truck2",
          "truck2",
          null
         ]
        },
        {
         "connectgaps": false,
         "hoverinfo": "y+name",
         "line": {
          "color": "rgb(2,187,20)",
          "width": 10
         },
         "mode": "lines",
         "name": "unloading:truck2",
         "type": "scatter",
         "x": [
          "1970-01-01T01:04:26.375536",
          "1970-01-01T01:04:26.375536",
          "1970-01-01T01:04:51.375536",
          "1970-01-01T01:04:51.375536",
          "1970-01-01T01:04:51.375536",
          "1970-01-01T02:08:27.751072",
          "1970-01-01T02:08:27.751072",
          "1970-01-01T02:08:52.751072",
          "1970-01-01T02:08:52.751072",
          "1970-01-01T02:08:52.751072",
          "1970-01-01T03:12:29.126609",
          "1970-01-01T03:12:29.126609",
          "1970-01-01T03:12:54.126609",
          "1970-01-01T03:12:54.126609",
          "1970-01-01T03:12:54.126609"
         ],
         "y": [
          "truck2",
          "truck2",
          "truck2",
          "truck2",
          null,
          "truck2",
          "truck2",
          "truck2",
          "truck2",
          null,
          "truck2",
          "truck2",
          "truck2",
          "truck2",
          null
         ]
        },
        {
         "connectgaps": false,
         "hoverinfo": "y+name",
         "line": {
          "color": "rgb(5,190,23)",
          "width": 10
         },
         "mode": "lines",
         "name": "driving_full:truck2",
         "type": "scatter",
         "x": [
          "1970-01-01T00:33:40.113018",
          "1970-01-01T00:33:40.113018",
          "1970-01-01T01:04:26.375536",
          "1970-01-01T01:04:26.375536",
          "1970-01-01T01:04:26.375536",
          "1970-01-01T01:37:41.488555",
          "1970-01-01T01:37:41.488555",
          "1970-01-01T02:08:27.751072",
          "1970-01-01T02:08:27.751072",
          "1970-01-01T02:08:27.751072",
          "1970-01-01T02:41:42.864091",
          "1970-01-01T02:41:42.864091",
          "1970-01-01T03:12:29.126609",
          "1970-01-01T03:12:29.126609",
          "1970-01-01T03:12:29.126609"
         ],
         "y": [
          "truck2",
          "truck2",
          "truck2",
          "truck2",
          null,
          "truck2",
          "truck2",
          "truck2",
          "truck2",
          null,
          "truck2",
          "truck2",
          "truck2",
          "truck2",
          null
         ]
        },
        {
         "connectgaps": false,
         "hoverinfo": "y+name",
         "line": {
          "color": "rgb(8,193,26)",
          "width": 10
         },
         "mode": "lines",
         "name": "driving_empty:truck3",
         "type": "scatter",
         "x": [
          "1970-01-01T00:00:00",
          "1970-01-01T00:00:00",
          "1970-01-01T00:32:00.113018",
          "1970-01-01T00:32:00.113018",
          "1970-01-01T00:32:00.113018",
          "1970-01-01T01:05:41.375536",
          "1970-01-01T01:05:41.375536",
          "1970-01-01T01:37:41.488555",
          "1970-01-01T01:37:41.488555",
          "1970-01-01T01:37:41.488555",
          "1970-01-01T02:09:42.751072",
          "1970-01-01T02:09:42.751072",
          "1970-01-01T02:41:42.864091",
          "1970-01-01T02:41:42.864091",
          "1970-01-01T02:41:42.864091"
         ],
         "y": [
          "truck3",
          "truck3",
          "truck3",
          "truck3",
          null,
          "truck3",
          "truck3",
          "truck3",
          "truck3",
          null,
          "truck3",
          "truck3",
          "truck3",
          "truck3",
          null
         ]
        },
        {
         "connectgaps": false,
         "hoverinfo": "y+name",
         "line": {
          "color": "rgb(11,196,29)",
          "width": 10
         },
         "mode": "lines",
         "name": "loading:truck3",
         "type": "scatter",
         "x": [
          "1970-01-01T00:33:40.113018",
          "1970-01-01T00:33:40.113018",
          "1970-01-01T00:34:30.113018",
          "1970-01-01T00:34:30.113018",
          "1970-01-01T00:34:30.113018",
          "1970-01-01T01:37:41.488555",
          "1970-01-01T01:37:41.488555",
          "1970-01-01T01:38:31.488555",
          "1970-01-01T01:38:31.488555",
          "1970-01-01T01:38:31.488555",
          "1970-01-01T02:41:42.864091",
          "1970-01-01T02:41:42.864091",
          "1970-01-01T02:42:32.864091",
          "1970-01-01T02:42:32.864091",
          "1970-01-01T02:42:32.864091"
         ],
         "y": [
          "truck3",
          "truck3",
          "truck3",
          "truck3",
          null,
          "truck3",
          "truck3",
          "truck3",
          "truck3",
          null,
          "truck3",
          "truck3",
          "truck3",
          "truck3",
          null
         ]
        },
        {
         "connectgaps": false,
         "hoverinfo": "y+name",
         "line": {
          "color": "rgb(14,199,32)",
          "width": 10
         },
         "mode": "lines",
         "name": "unloading:truck3",
         "type": "scatter",
         "x": [
          "1970-01-01T01:05:16.375536",
          "1970-01-01T01:05:16.375536",
          "1970-01-01T01:05:41.375536",
          "1970-01-01T01:05:41.375536",
          "1970-01-01T01:05:41.375536",
          "1970-01-01T02:09:17.751072",
          "1970-01-01T02:09:17.751072",
          "1970-01-01T02:09:42.751072",
          "1970-01-01T02:09:42.751072",
          "1970-01-01T02:09:42.751072",
          "1970-01-01T03:13:19.126609",
          "1970-01-01T03:13:19.126609",
          "1970-01-01T03:13:44.126609",
          "1970-01-01T03:13:44.126609",
          "1970-01-01T03:13:44.126609"
         ],
         "y": [
          "truck3",
          "truck3",
          "truck3",
          "truck3",
          null,
          "truck3",
          "truck3",
          "truck3",
          "truck3",
          null,
          "truck3",
          "truck3",
          "truck3",
          "truck3",
          null
         ]
        },
        {
         "connectgaps": false,
         "hoverinfo": "y+name",
         "line": {
          "color": "rgb(17,202,35)",
          "width": 10
         },
         "mode": "lines",
         "name": "driving_full:truck3",
         "type": "scatter",
         "x": [
          "1970-01-01T00:34:30.113018",
          "1970-01-01T00:34:30.113018",
          "1970-01-01T01:05:16.375536",
          "1970-01-01T01:05:16.375536",
          "1970-01-01T01:05:16.375536",
          "1970-01-01T01:38:31.488555",
          "1970-01-01T01:38:31.488555",
          "1970-01-01T02:09:17.751072",
          "1970-01-01T02:09:17.751072",
          "1970-01-01T02:09:17.751072",
          "1970-01-01T02:42:32.864091",
          "1970-01-01T02:42:32.864091",
          "1970-01-01T03:13:19.126609",
          "1970-01-01T03:13:19.126609",
          "1970-01-01T03:13:19.126609"
         ],
         "y": [
          "truck3",
          "truck3",
          "truck3",
          "truck3",
          null,
          "truck3",
          "truck3",
          "truck3",
          "truck3",
          null,
          "truck3",
          "truck3",
          "truck3",
          "truck3",
          null
         ]
        },
        {
         "connectgaps": false,
         "hoverinfo": "y+name",
         "line": {
          "color": "rgb(20,205,38)",
          "width": 10
         },
         "mode": "lines",
         "name": "loading:truck4",
         "type": "scatter",
         "x": [
          "1970-01-01T00:34:30.113018",
          "1970-01-01T00:34:30.113018",
          "1970-01-01T00:35:20.113018",
          "1970-01-01T00:35:20.113018",
          "1970-01-01T00:35:20.113018",
          "1970-01-01T01:38:31.488555",
          "1970-01-01T01:38:31.488555",
          "1970-01-01T01:39:21.488555",
          "1970-01-01T01:39:21.488555",
          "1970-01-01T01:39:21.488555",
          "1970-01-01T02:42:32.864091",
          "1970-01-01T02:42:32.864091",
          "1970-01-01T02:43:22.864091",
          "1970-01-01T02:43:22.864091",
          "1970-01-01T02:43:22.864091"
         ],
         "y": [
          "truck4",
          "truck4",
          "truck4",
          "truck4",
          null,
          "truck4",
          "truck4",
          "truck4",
          "truck4",
          null,
          "truck4",
          "truck4",
          "truck4",
          "truck4",
          null
         ]
        },
        {
         "connectgaps": false,
         "hoverinfo": "y+name",
         "line": {
          "color": "rgb(23,208,41)",
          "width": 10
         },
         "mode": "lines",
         "name": "unloading:truck4",
         "type": "scatter",
         "x": [
          "1970-01-01T01:06:06.375536",
          "1970-01-01T01:06:06.375536",
          "1970-01-01T01:06:31.375536",
          "1970-01-01T01:06:31.375536",
          "1970-01-01T01:06:31.375536",
          "1970-01-01T02:10:07.751072",
          "1970-01-01T02:10:07.751072",
          "1970-01-01T02:10:32.751072",
          "1970-01-01T02:10:32.751072",
          "1970-01-01T02:10:32.751072",
          "1970-01-01T03:14:09.126609",
          "1970-01-01T03:14:09.126609",
          "1970-01-01T03:14:34.126609",
          "1970-01-01T03:14:34.126609",
          "1970-01-01T03:14:34.126609"
         ],
         "y": [
          "truck4",
          "truck4",
          "truck4",
          "truck4",
          null,
          "truck4",
          "truck4",
          "truck4",
          "truck4",
          null,
          "truck4",
          "truck4",
          "truck4",
          "truck4",
          null
         ]
        },
        {
         "connectgaps": false,
         "hoverinfo": "y+name",
         "line": {
          "color": "rgb(26,211,44)",
          "width": 10
         },
         "mode": "lines",
         "name": "driving_full:truck4",
         "type": "scatter",
         "x": [
          "1970-01-01T00:35:20.113018",
          "1970-01-01T00:35:20.113018",
          "1970-01-01T01:06:06.375536",
          "1970-01-01T01:06:06.375536",
          "1970-01-01T01:06:06.375536",
          "1970-01-01T01:39:21.488555",
          "1970-01-01T01:39:21.488555",
          "1970-01-01T02:10:07.751072",
          "1970-01-01T02:10:07.751072",
          "1970-01-01T02:10:07.751072",
          "1970-01-01T02:43:22.864091",
          "1970-01-01T02:43:22.864091",
          "1970-01-01T03:14:09.126609",
          "1970-01-01T03:14:09.126609",
          "1970-01-01T03:14:09.126609"
         ],
         "y": [
          "truck4",
          "truck4",
          "truck4",
          "truck4",
          null,
          "truck4",
          "truck4",
          "truck4",
          "truck4",
          null,
          "truck4",
          "truck4",
          "truck4",
          "truck4",
          null
         ]
        },
        {
         "connectgaps": false,
         "hoverinfo": "y+name",
         "line": {
          "color": "rgb(29,214,47)",
          "width": 10
         },
         "mode": "lines",
         "name": "driving_empty:truck4",
         "type": "scatter",
         "x": [
          "1970-01-01T00:00:00",
          "1970-01-01T00:00:00",
          "1970-01-01T00:32:00.113018",
          "1970-01-01T00:32:00.113018",
          "1970-01-01T00:32:00.113018",
          "1970-01-01T01:06:31.375536",
          "1970-01-01T01:06:31.375536",
          "1970-01-01T01:38:31.488555",
          "1970-01-01T01:38:31.488555",
          "1970-01-01T01:38:31.488555",
          "1970-01-01T02:10:32.751072",
          "1970-01-01T02:10:32.751072",
          "1970-01-01T02:42:32.864091",
          "1970-01-01T02:42:32.864091",
          "1970-01-01T02:42:32.864091"
         ],
         "y": [
          "truck4",
          "truck4",
          "truck4",
          "truck4",
          null,
          "truck4",
          "truck4",
          "truck4",
          "truck4",
          null,
          "truck4",
          "truck4",
          "truck4",
          "truck4",
          null
         ]
        },
        {
         "connectgaps": false,
         "hoverinfo": "y+name",
         "line": {
          "color": "rgb(32,217,50)",
          "width": 10
         },
         "mode": "lines",
         "name": "driving_empty:truck5",
         "type": "scatter",
         "x": [
          "1970-01-01T00:00:00",
          "1970-01-01T00:00:00",
          "1970-01-01T00:32:00.113018",
          "1970-01-01T00:32:00.113018",
          "1970-01-01T00:32:00.113018",
          "1970-01-01T01:07:21.375536",
          "1970-01-01T01:07:21.375536",
          "1970-01-01T01:39:21.488555",
          "1970-01-01T01:39:21.488555",
          "1970-01-01T01:39:21.488555",
          "1970-01-01T02:11:22.751072",
          "1970-01-01T02:11:22.751072",
          "1970-01-01T02:43:22.864091",
          "1970-01-01T02:43:22.864091",
          "1970-01-01T02:43:22.864091"
         ],
         "y": [
          "truck5",
          "truck5",
          "truck5",
          "truck5",
          null,
          "truck5",
          "truck5",
          "truck5",
          "truck5",
          null,
          "truck5",
          "truck5",
          "truck5",
          "truck5",
          null
         ]
        },
        {
         "connectgaps": false,
         "hoverinfo": "y+name",
         "line": {
          "color": "rgb(35,220,53)",
          "width": 10
         },
         "mode": "lines",
         "name": "loading:truck5",
         "type": "scatter",
         "x": [
          "1970-01-01T00:35:20.113018",
          "1970-01-01T00:35:20.113018",
          "1970-01-01T00:36:10.113018",
          "1970-01-01T00:36:10.113018",
          "1970-01-01T00:36:10.113018",
          "1970-01-01T01:39:21.488555",
          "1970-01-01T01:39:21.488555",
          "1970-01-01T01:40:11.488555",
          "1970-01-01T01:40:11.488555",
          "1970-01-01T01:40:11.488555",
          "1970-01-01T02:43:22.864091",
          "1970-01-01T02:43:22.864091",
          "1970-01-01T02:44:12.864091",
          "1970-01-01T02:44:12.864091",
          "1970-01-01T02:44:12.864091"
         ],
         "y": [
          "truck5",
          "truck5",
          "truck5",
          "truck5",
          null,
          "truck5",
          "truck5",
          "truck5",
          "truck5",
          null,
          "truck5",
          "truck5",
          "truck5",
          "truck5",
          null
         ]
        },
        {
         "connectgaps": false,
         "hoverinfo": "y+name",
         "line": {
          "color": "rgb(38,223,56)",
          "width": 10
         },
         "mode": "lines",
         "name": "unloading:truck5",
         "type": "scatter",
         "x": [
          "1970-01-01T01:06:56.375536",
          "1970-01-01T01:06:56.375536",
          "1970-01-01T01:07:21.375536",
          "1970-01-01T01:07:21.375536",
          "1970-01-01T01:07:21.375536",
          "1970-01-01T02:10:57.751072",
          "1970-01-01T02:10:57.751072",
          "1970-01-01T02:11:22.751072",
          "1970-01-01T02:11:22.751072",
          "1970-01-01T02:11:22.751072",
          "1970-01-01T03:14:59.126609",
          "1970-01-01T03:14:59.126609",
          "1970-01-01T03:15:24.126609",
          "1970-01-01T03:15:24.126609",
          "1970-01-01T03:15:24.126609"
         ],
         "y": [
          "truck5",
          "truck5",
          "truck5",
          "truck5",
          null,
          "truck5",
          "truck5",
          "truck5",
          "truck5",
          null,
          "truck5",
          "truck5",
          "truck5",
          "truck5",
          null
         ]
        },
        {
         "connectgaps": false,
         "hoverinfo": "y+name",
         "line": {
          "color": "rgb(41,226,59)",
          "width": 10
         },
         "mode": "lines",
         "name": "driving_full:truck5",
         "type": "scatter",
         "x": [
          "1970-01-01T00:36:10.113018",
          "1970-01-01T00:36:10.113018",
          "1970-01-01T01:06:56.375536",
          "1970-01-01T01:06:56.375536",
          "1970-01-01T01:06:56.375536",
          "1970-01-01T01:40:11.488555",
          "1970-01-01T01:40:11.488555",
          "1970-01-01T02:10:57.751072",
          "1970-01-01T02:10:57.751072",
          "1970-01-01T02:10:57.751072",
          "1970-01-01T02:44:12.864091",
          "1970-01-01T02:44:12.864091",
          "1970-01-01T03:14:59.126609",
          "1970-01-01T03:14:59.126609",
          "1970-01-01T03:14:59.126609"
         ],
         "y": [
          "truck5",
          "truck5",
          "truck5",
          "truck5",
          null,
          "truck5",
          "truck5",
          "truck5",
          "truck5",
          null,
          "truck5",
          "truck5",
          "truck5",
          "truck5",
          null
         ]
        },
        {
         "connectgaps": false,
         "hoverinfo": "y+name",
         "line": {
          "color": "rgb(44,229,62)",
          "width": 10
         },
         "mode": "lines",
         "name": "loading:truck6",
         "type": "scatter",
         "x": [
          "1970-01-01T00:36:10.113018",
          "1970-01-01T00:36:10.113018",
          "1970-01-01T00:37:00.113018",
          "1970-01-01T00:37:00.113018",
          "1970-01-01T00:37:00.113018",
          "1970-01-01T01:40:11.488555",
          "1970-01-01T01:40:11.488555",
          "1970-01-01T01:41:01.488555",
          "1970-01-01T01:41:01.488555",
          "1970-01-01T01:41:01.488555",
          "1970-01-01T02:44:12.864091",
          "1970-01-01T02:44:12.864091",
          "1970-01-01T02:45:02.864091",
          "1970-01-01T02:45:02.864091",
          "1970-01-01T02:45:02.864091"
         ],
         "y": [
          "truck6",
          "truck6",
          "truck6",
          "truck6",
          null,
          "truck6",
          "truck6",
          "truck6",
          "truck6",
          null,
          "truck6",
          "truck6",
          "truck6",
          "truck6",
          null
         ]
        },
        {
         "connectgaps": false,
         "hoverinfo": "y+name",
         "line": {
          "color": "rgb(47,232,65)",
          "width": 10
         },
         "mode": "lines",
         "name": "driving_full:truck6",
         "type": "scatter",
         "x": [
          "1970-01-01T00:37:00.113018",
          "1970-01-01T00:37:00.113018",
          "1970-01-01T01:07:46.375536",
          "1970-01-01T01:07:46.375536",
          "1970-01-01T01:07:46.375536",
          "1970-01-01T01:41:01.488555",
          "1970-01-01T01:41:01.488555",
          "1970-01-01T02:11:47.751072",
          "1970-01-01T02:11:47.751072",
          "1970-01-01T02:11:47.751072",
          "1970-01-01T02:45:02.864091",
          "1970-01-01T02:45:02.864091",
          "1970-01-01T03:15:49.126609",
          "1970-01-01T03:15:49.126609",
          "1970-01-01T03:15:49.126609"
         ],
         "y": [
          "truck6",
          "truck6",
          "truck6",
          "truck6",
          null,
          "truck6",
          "truck6",
          "truck6",
          "truck6",
          null,
          "truck6",
          "truck6",
          "truck6",
          "truck6",
          null
         ]
        },
        {
         "connectgaps": false,
         "hoverinfo": "y+name",
         "line": {
          "color": "rgb(50,235,68)",
          "width": 10
         },
         "mode": "lines",
         "name": "driving_empty:truck6",
         "type": "scatter",
         "x": [
          "1970-01-01T00:00:00",
          "1970-01-01T00:00:00",
          "1970-01-01T00:32:00.113018",
          "1970-01-01T00:32:00.113018",
          "1970-01-01T00:32:00.113018",
          "1970-01-01T01:08:11.375536",
          "1970-01-01T01:08:11.375536",
          "1970-01-01T01:40:11.488555",
          "1970-01-01T01:40:11.488555",
          "1970-01-01T01:40:11.488555",
          "1970-01-01T02:12:12.751072",
          "1970-01-01T02:12:12.751072",
          "1970-01-01T02:44:12.864091",
          "1970-01-01T02:44:12.864091",
          "1970-01-01T02:44:12.864091"
         ],
         "y": [
          "truck6",
          "truck6",
          "truck6",
          "truck6",
          null,
          "truck6",
          "truck6",
          "truck6",
          "truck6",
          null,
          "truck6",
          "truck6",
          "truck6",
          "truck6",
          null
         ]
        },
        {
         "connectgaps": false,
         "hoverinfo": "y+name",
         "line": {
          "color": "rgb(53,238,71)",
          "width": 10
         },
         "mode": "lines",
         "name": "unloading:truck6",
         "type": "scatter",
         "x": [
          "1970-01-01T01:07:46.375536",
          "1970-01-01T01:07:46.375536",
          "1970-01-01T01:08:11.375536",
          "1970-01-01T01:08:11.375536",
          "1970-01-01T01:08:11.375536",
          "1970-01-01T02:11:47.751072",
          "1970-01-01T02:11:47.751072",
          "1970-01-01T02:12:12.751072",
          "1970-01-01T02:12:12.751072",
          "1970-01-01T02:12:12.751072",
          "1970-01-01T03:15:49.126609",
          "1970-01-01T03:15:49.126609",
          "1970-01-01T03:16:14.126609",
          "1970-01-01T03:16:14.126609",
          "1970-01-01T03:16:14.126609"
         ],
         "y": [
          "truck6",
          "truck6",
          "truck6",
          "truck6",
          null,
          "truck6",
          "truck6",
          "truck6",
          "truck6",
          null,
          "truck6",
          "truck6",
          "truck6",
          "truck6",
          null
         ]
        },
        {
         "connectgaps": false,
         "hoverinfo": "y+name",
         "line": {
          "color": "rgb(56,241,74)",
          "width": 10
         },
         "mode": "lines",
         "name": "driving_full:truck7",
         "type": "scatter",
         "x": [
          "1970-01-01T00:37:50.113018",
          "1970-01-01T00:37:50.113018",
          "1970-01-01T01:08:36.375536",
          "1970-01-01T01:08:36.375536",
          "1970-01-01T01:08:36.375536",
          "1970-01-01T01:41:51.488555",
          "1970-01-01T01:41:51.488555",
          "1970-01-01T02:12:37.751072",
          "1970-01-01T02:12:37.751072",
          "1970-01-01T02:12:37.751072",
          "1970-01-01T02:45:52.864091",
          "1970-01-01T02:45:52.864091",
          "1970-01-01T03:16:39.126609",
          "1970-01-01T03:16:39.126609",
          "1970-01-01T03:16:39.126609"
         ],
         "y": [
          "truck7",
          "truck7",
          "truck7",
          "truck7",
          null,
          "truck7",
          "truck7",
          "truck7",
          "truck7",
          null,
          "truck7",
          "truck7",
          "truck7",
          "truck7",
          null
         ]
        },
        {
         "connectgaps": false,
         "hoverinfo": "y+name",
         "line": {
          "color": "rgb(59,244,77)",
          "width": 10
         },
         "mode": "lines",
         "name": "unloading:truck7",
         "type": "scatter",
         "x": [
          "1970-01-01T01:08:36.375536",
          "1970-01-01T01:08:36.375536",
          "1970-01-01T01:09:01.375536",
          "1970-01-01T01:09:01.375536",
          "1970-01-01T01:09:01.375536",
          "1970-01-01T02:12:37.751072",
          "1970-01-01T02:12:37.751072",
          "1970-01-01T02:13:02.751072",
          "1970-01-01T02:13:02.751072",
          "1970-01-01T02:13:02.751072",
          "1970-01-01T03:16:39.126609",
          "1970-01-01T03:16:39.126609",
          "1970-01-01T03:17:04.126609",
          "1970-01-01T03:17:04.126609",
          "1970-01-01T03:17:04.126609"
         ],
         "y": [
          "truck7",
          "truck7",
          "truck7",
          "truck7",
          null,
          "truck7",
          "truck7",
          "truck7",
          "truck7",
          null,
          "truck7",
          "truck7",
          "truck7",
          "truck7",
          null
         ]
        },
        {
         "connectgaps": false,
         "hoverinfo": "y+name",
         "line": {
          "color": "rgb(62,247,80)",
          "width": 10
         },
         "mode": "lines",
         "name": "driving_empty:truck7",
         "type": "scatter",
         "x": [
          "1970-01-01T00:00:00",
          "1970-01-01T00:00:00",
          "1970-01-01T00:32:00.113018",
          "1970-01-01T00:32:00.113018",
          "1970-01-01T00:32:00.113018",
          "1970-01-01T01:09:01.375536",
          "1970-01-01T01:09:01.375536",
          "1970-01-01T01:41:01.488555",
          "1970-01-01T01:41:01.488555",
          "1970-01-01T01:41:01.488555",
          "1970-01-01T02:13:02.751072",
          "1970-01-01T02:13:02.751072",
          "1970-01-01T02:45:02.864091",
          "1970-01-01T02:45:02.864091",
          "1970-01-01T02:45:02.864091"
         ],
         "y": [
          "truck7",
          "truck7",
          "truck7",
          "truck7",
          null,
          "truck7",
          "truck7",
          "truck7",
          "truck7",
          null,
          "truck7",
          "truck7",
          "truck7",
          "truck7",
          null
         ]
        },
        {
         "connectgaps": false,
         "hoverinfo": "y+name",
         "line": {
          "color": "rgb(65,250,83)",
          "width": 10
         },
         "mode": "lines",
         "name": "loading:truck7",
         "type": "scatter",
         "x": [
          "1970-01-01T00:37:00.113018",
          "1970-01-01T00:37:00.113018",
          "1970-01-01T00:37:50.113018",
          "1970-01-01T00:37:50.113018",
          "1970-01-01T00:37:50.113018",
          "1970-01-01T01:41:01.488555",
          "1970-01-01T01:41:01.488555",
          "1970-01-01T01:41:51.488555",
          "1970-01-01T01:41:51.488555",
          "1970-01-01T01:41:51.488555",
          "1970-01-01T02:45:02.864091",
          "1970-01-01T02:45:02.864091",
          "1970-01-01T02:45:52.864091",
          "1970-01-01T02:45:52.864091",
          "1970-01-01T02:45:52.864091"
         ],
         "y": [
          "truck7",
          "truck7",
          "truck7",
          "truck7",
          null,
          "truck7",
          "truck7",
          "truck7",
          "truck7",
          null,
          "truck7",
          "truck7",
          "truck7",
          "truck7",
          null
         ]
        },
        {
         "connectgaps": false,
         "hoverinfo": "y+name",
         "line": {
          "color": "rgb(68,253,86)",
          "width": 10
         },
         "mode": "lines",
         "name": "driving_empty:truck8",
         "type": "scatter",
         "x": [
          "1970-01-01T00:00:00",
          "1970-01-01T00:00:00",
          "1970-01-01T00:32:00.113018",
          "1970-01-01T00:32:00.113018",
          "1970-01-01T00:32:00.113018",
          "1970-01-01T01:09:51.375536",
          "1970-01-01T01:09:51.375536",
          "1970-01-01T01:41:51.488555",
          "1970-01-01T01:41:51.488555",
          "1970-01-01T01:41:51.488555",
          "1970-01-01T02:13:52.751072",
          "1970-01-01T02:13:52.751072",
          "1970-01-01T02:45:52.864091",
          "1970-01-01T02:45:52.864091",
          "1970-01-01T02:45:52.864091"
         ],
         "y": [
          "truck8",
          "truck8",
          "truck8",
          "truck8",
          null,
          "truck8",
          "truck8",
          "truck8",
          "truck8",
          null,
          "truck8",
          "truck8",
          "truck8",
          "truck8",
          null
         ]
        },
        {
         "connectgaps": false,
         "hoverinfo": "y+name",
         "line": {
          "color": "rgb(71,0,89)",
          "width": 10
         },
         "mode": "lines",
         "name": "unloading:truck8",
         "type": "scatter",
         "x": [
          "1970-01-01T01:09:26.375536",
          "1970-01-01T01:09:26.375536",
          "1970-01-01T01:09:51.375536",
          "1970-01-01T01:09:51.375536",
          "1970-01-01T01:09:51.375536",
          "1970-01-01T02:13:27.751072",
          "1970-01-01T02:13:27.751072",
          "1970-01-01T02:13:52.751072",
          "1970-01-01T02:13:52.751072",
          "1970-01-01T02:13:52.751072",
          "1970-01-01T03:17:29.126609",
          "1970-01-01T03:17:29.126609",
          "1970-01-01T03:17:54.126609",
          "1970-01-01T03:17:54.126609",
          "1970-01-01T03:17:54.126609"
         ],
         "y": [
          "truck8",
          "truck8",
          "truck8",
          "truck8",
          null,
          "truck8",
          "truck8",
          "truck8",
          "truck8",
          null,
          "truck8",
          "truck8",
          "truck8",
          "truck8",
          null
         ]
        },
        {
         "connectgaps": false,
         "hoverinfo": "y+name",
         "line": {
          "color": "rgb(74,3,92)",
          "width": 10
         },
         "mode": "lines",
         "name": "driving_full:truck8",
         "type": "scatter",
         "x": [
          "1970-01-01T00:38:40.113018",
          "1970-01-01T00:38:40.113018",
          "1970-01-01T01:09:26.375536",
          "1970-01-01T01:09:26.375536",
          "1970-01-01T01:09:26.375536",
          "1970-01-01T01:42:41.488555",
          "1970-01-01T01:42:41.488555",
          "1970-01-01T02:13:27.751072",
          "1970-01-01T02:13:27.751072",
          "1970-01-01T02:13:27.751072",
          "1970-01-01T02:46:42.864091",
          "1970-01-01T02:46:42.864091",
          "1970-01-01T03:17:29.126609",
          "1970-01-01T03:17:29.126609",
          "1970-01-01T03:17:29.126609"
         ],
         "y": [
          "truck8",
          "truck8",
          "truck8",
          "truck8",
          null,
          "truck8",
          "truck8",
          "truck8",
          "truck8",
          null,
          "truck8",
          "truck8",
          "truck8",
          "truck8",
          null
         ]
        },
        {
         "connectgaps": false,
         "hoverinfo": "y+name",
         "line": {
          "color": "rgb(77,6,95)",
          "width": 10
         },
         "mode": "lines",
         "name": "loading:truck8",
         "type": "scatter",
         "x": [
          "1970-01-01T00:37:50.113018",
          "1970-01-01T00:37:50.113018",
          "1970-01-01T00:38:40.113018",
          "1970-01-01T00:38:40.113018",
          "1970-01-01T00:38:40.113018",
          "1970-01-01T01:41:51.488555",
          "1970-01-01T01:41:51.488555",
          "1970-01-01T01:42:41.488555",
          "1970-01-01T01:42:41.488555",
          "1970-01-01T01:42:41.488555",
          "1970-01-01T02:45:52.864091",
          "1970-01-01T02:45:52.864091",
          "1970-01-01T02:46:42.864091",
          "1970-01-01T02:46:42.864091",
          "1970-01-01T02:46:42.864091"
         ],
         "y": [
          "truck8",
          "truck8",
          "truck8",
          "truck8",
          null,
          "truck8",
          "truck8",
          "truck8",
          "truck8",
          null,
          "truck8",
          "truck8",
          "truck8",
          "truck8",
          null
         ]
        },
        {
         "connectgaps": false,
         "hoverinfo": "y+name",
         "line": {
          "color": "rgb(80,9,98)",
          "width": 10
         },
         "mode": "lines",
         "name": "unloading:truck9",
         "type": "scatter",
         "x": [
          "1970-01-01T01:10:16.375536",
          "1970-01-01T01:10:16.375536",
          "1970-01-01T01:10:41.375536",
          "1970-01-01T01:10:41.375536",
          "1970-01-01T01:10:41.375536",
          "1970-01-01T02:14:17.751072",
          "1970-01-01T02:14:17.751072",
          "1970-01-01T02:14:42.751072",
          "1970-01-01T02:14:42.751072",
          "1970-01-01T02:14:42.751072",
          "1970-01-01T03:18:19.126609",
          "1970-01-01T03:18:19.126609",
          "1970-01-01T03:18:44.126609",
          "1970-01-01T03:18:44.126609",
          "1970-01-01T03:18:44.126609"
         ],
         "y": [
          "truck9",
          "truck9",
          "truck9",
          "truck9",
          null,
          "truck9",
          "truck9",
          "truck9",
          "truck9",
          null,
          "truck9",
          "truck9",
          "truck9",
          "truck9",
          null
         ]
        },
        {
         "connectgaps": false,
         "hoverinfo": "y+name",
         "line": {
          "color": "rgb(83,12,101)",
          "width": 10
         },
         "mode": "lines",
         "name": "driving_full:truck9",
         "type": "scatter",
         "x": [
          "1970-01-01T00:39:30.113018",
          "1970-01-01T00:39:30.113018",
          "1970-01-01T01:10:16.375536",
          "1970-01-01T01:10:16.375536",
          "1970-01-01T01:10:16.375536",
          "1970-01-01T01:43:31.488555",
          "1970-01-01T01:43:31.488555",
          "1970-01-01T02:14:17.751072",
          "1970-01-01T02:14:17.751072",
          "1970-01-01T02:14:17.751072",
          "1970-01-01T02:47:32.864091",
          "1970-01-01T02:47:32.864091",
          "1970-01-01T03:18:19.126609",
          "1970-01-01T03:18:19.126609",
          "1970-01-01T03:18:19.126609"
         ],
         "y": [
          "truck9",
          "truck9",
          "truck9",
          "truck9",
          null,
          "truck9",
          "truck9",
          "truck9",
          "truck9",
          null,
          "truck9",
          "truck9",
          "truck9",
          "truck9",
          null
         ]
        },
        {
         "connectgaps": false,
         "hoverinfo": "y+name",
         "line": {
          "color": "rgb(86,15,104)",
          "width": 10
         },
         "mode": "lines",
         "name": "loading:truck9",
         "type": "scatter",
         "x": [
          "1970-01-01T00:38:40.113018",
          "1970-01-01T00:38:40.113018",
          "1970-01-01T00:39:30.113018",
          "1970-01-01T00:39:30.113018",
          "1970-01-01T00:39:30.113018",
          "1970-01-01T01:42:41.488555",
          "1970-01-01T01:42:41.488555",
          "1970-01-01T01:43:31.488555",
          "1970-01-01T01:43:31.488555",
          "1970-01-01T01:43:31.488555",
          "1970-01-01T02:46:42.864091",
          "1970-01-01T02:46:42.864091",
          "1970-01-01T02:47:32.864091",
          "1970-01-01T02:47:32.864091",
          "1970-01-01T02:47:32.864091"
         ],
         "y": [
          "truck9",
          "truck9",
          "truck9",
          "truck9",
          null,
          "truck9",
          "truck9",
          "truck9",
          "truck9",
          null,
          "truck9",
          "truck9",
          "truck9",
          "truck9",
          null
         ]
        },
        {
         "connectgaps": false,
         "hoverinfo": "y+name",
         "line": {
          "color": "rgb(89,18,107)",
          "width": 10
         },
         "mode": "lines",
         "name": "driving_empty:truck9",
         "type": "scatter",
         "x": [
          "1970-01-01T00:00:00",
          "1970-01-01T00:00:00",
          "1970-01-01T00:32:00.113018",
          "1970-01-01T00:32:00.113018",
          "1970-01-01T00:32:00.113018",
          "1970-01-01T01:10:41.375536",
          "1970-01-01T01:10:41.375536",
          "1970-01-01T01:42:41.488555",
          "1970-01-01T01:42:41.488555",
          "1970-01-01T01:42:41.488555",
          "1970-01-01T02:14:42.751072",
          "1970-01-01T02:14:42.751072",
          "1970-01-01T02:46:42.864091",
          "1970-01-01T02:46:42.864091",
          "1970-01-01T02:46:42.864091"
         ],
         "y": [
          "truck9",
          "truck9",
          "truck9",
          "truck9",
          null,
          "truck9",
          "truck9",
          "truck9",
          "truck9",
          null,
          "truck9",
          "truck9",
          "truck9",
          "truck9",
          null
         ]
        },
        {
         "connectgaps": false,
         "hoverinfo": "y+name",
         "line": {
          "color": "rgb(92,21,110)",
          "width": 10
         },
         "mode": "lines",
         "name": "unloading:truck10",
         "type": "scatter",
         "x": [
          "1970-01-01T01:11:06.375536",
          "1970-01-01T01:11:06.375536",
          "1970-01-01T01:11:31.375536",
          "1970-01-01T01:11:31.375536",
          "1970-01-01T01:11:31.375536",
          "1970-01-01T02:15:07.751072",
          "1970-01-01T02:15:07.751072",
          "1970-01-01T02:15:32.751072",
          "1970-01-01T02:15:32.751072",
          "1970-01-01T02:15:32.751072",
          "1970-01-01T03:19:09.126609",
          "1970-01-01T03:19:09.126609",
          "1970-01-01T03:19:34.126609",
          "1970-01-01T03:19:34.126609",
          "1970-01-01T03:19:34.126609"
         ],
         "y": [
          "truck10",
          "truck10",
          "truck10",
          "truck10",
          null,
          "truck10",
          "truck10",
          "truck10",
          "truck10",
          null,
          "truck10",
          "truck10",
          "truck10",
          "truck10",
          null
         ]
        },
        {
         "connectgaps": false,
         "hoverinfo": "y+name",
         "line": {
          "color": "rgb(95,24,113)",
          "width": 10
         },
         "mode": "lines",
         "name": "loading:truck10",
         "type": "scatter",
         "x": [
          "1970-01-01T00:39:30.113018",
          "1970-01-01T00:39:30.113018",
          "1970-01-01T00:40:20.113018",
          "1970-01-01T00:40:20.113018",
          "1970-01-01T00:40:20.113018",
          "1970-01-01T01:43:31.488555",
          "1970-01-01T01:43:31.488555",
          "1970-01-01T01:44:21.488555",
          "1970-01-01T01:44:21.488555",
          "1970-01-01T01:44:21.488555",
          "1970-01-01T02:47:32.864091",
          "1970-01-01T02:47:32.864091",
          "1970-01-01T02:48:22.864091",
          "1970-01-01T02:48:22.864091",
          "1970-01-01T02:48:22.864091"
         ],
         "y": [
          "truck10",
          "truck10",
          "truck10",
          "truck10",
          null,
          "truck10",
          "truck10",
          "truck10",
          "truck10",
          null,
          "truck10",
          "truck10",
          "truck10",
          "truck10",
          null
         ]
        },
        {
         "connectgaps": false,
         "hoverinfo": "y+name",
         "line": {
          "color": "rgb(98,27,116)",
          "width": 10
         },
         "mode": "lines",
         "name": "driving_full:truck10",
         "type": "scatter",
         "x": [
          "1970-01-01T00:40:20.113018",
          "1970-01-01T00:40:20.113018",
          "1970-01-01T01:11:06.375536",
          "1970-01-01T01:11:06.375536",
          "1970-01-01T01:11:06.375536",
          "1970-01-01T01:44:21.488555",
          "1970-01-01T01:44:21.488555",
          "1970-01-01T02:15:07.751072",
          "1970-01-01T02:15:07.751072",
          "1970-01-01T02:15:07.751072",
          "1970-01-01T02:48:22.864091",
          "1970-01-01T02:48:22.864091",
          "1970-01-01T03:19:09.126609",
          "1970-01-01T03:19:09.126609",
          "1970-01-01T03:19:09.126609"
         ],
         "y": [
          "truck10",
          "truck10",
          "truck10",
          "truck10",
          null,
          "truck10",
          "truck10",
          "truck10",
          "truck10",
          null,
          "truck10",
          "truck10",
          "truck10",
          "truck10",
          null
         ]
        },
        {
         "connectgaps": false,
         "hoverinfo": "y+name",
         "line": {
          "color": "rgb(101,30,119)",
          "width": 10
         },
         "mode": "lines",
         "name": "driving_empty:truck10",
         "type": "scatter",
         "x": [
          "1970-01-01T00:00:00",
          "1970-01-01T00:00:00",
          "1970-01-01T00:32:00.113018",
          "1970-01-01T00:32:00.113018",
          "1970-01-01T00:32:00.113018",
          "1970-01-01T01:11:31.375536",
          "1970-01-01T01:11:31.375536",
          "1970-01-01T01:43:31.488555",
          "1970-01-01T01:43:31.488555",
          "1970-01-01T01:43:31.488555",
          "1970-01-01T02:15:32.751072",
          "1970-01-01T02:15:32.751072",
          "1970-01-01T02:47:32.864091",
          "1970-01-01T02:47:32.864091",
          "1970-01-01T02:47:32.864091"
         ],
         "y": [
          "truck10",
          "truck10",
          "truck10",
          "truck10",
          null,
          "truck10",
          "truck10",
          "truck10",
          "truck10",
          null,
          "truck10",
          "truck10",
          "truck10",
          "truck10",
          null
         ]
        },
        {
         "connectgaps": false,
         "hoverinfo": "y+name",
         "line": {
          "color": "rgb(104,33,122)",
          "width": 10
         },
         "mode": "lines",
         "name": "driving_empty:truck11",
         "type": "scatter",
         "x": [
          "1970-01-01T00:00:00",
          "1970-01-01T00:00:00",
          "1970-01-01T00:32:00.113018",
          "1970-01-01T00:32:00.113018",
          "1970-01-01T00:32:00.113018",
          "1970-01-01T01:12:21.375536",
          "1970-01-01T01:12:21.375536",
          "1970-01-01T01:44:21.488555",
          "1970-01-01T01:44:21.488555",
          "1970-01-01T01:44:21.488555"
         ],
         "y": [
          "truck11",
          "truck11",
          "truck11",
          "truck11",
          null,
          "truck11",
          "truck11",
          "truck11",
          "truck11",
          null
         ]
        },
        {
         "connectgaps": false,
         "hoverinfo": "y+name",
         "line": {
          "color": "rgb(107,36,125)",
          "width": 10
         },
         "mode": "lines",
         "name": "loading:truck11",
         "type": "scatter",
         "x": [
          "1970-01-01T00:40:20.113018",
          "1970-01-01T00:40:20.113018",
          "1970-01-01T00:41:10.113018",
          "1970-01-01T00:41:10.113018",
          "1970-01-01T00:41:10.113018",
          "1970-01-01T01:44:21.488555",
          "1970-01-01T01:44:21.488555",
          "1970-01-01T01:45:11.488555",
          "1970-01-01T01:45:11.488555",
          "1970-01-01T01:45:11.488555"
         ],
         "y": [
          "truck11",
          "truck11",
          "truck11",
          "truck11",
          null,
          "truck11",
          "truck11",
          "truck11",
          "truck11",
          null
         ]
        },
        {
         "connectgaps": false,
         "hoverinfo": "y+name",
         "line": {
          "color": "rgb(110,39,128)",
          "width": 10
         },
         "mode": "lines",
         "name": "driving_full:truck11",
         "type": "scatter",
         "x": [
          "1970-01-01T00:41:10.113018",
          "1970-01-01T00:41:10.113018",
          "1970-01-01T01:11:56.375536",
          "1970-01-01T01:11:56.375536",
          "1970-01-01T01:11:56.375536",
          "1970-01-01T01:45:11.488555",
          "1970-01-01T01:45:11.488555",
          "1970-01-01T02:15:57.751072",
          "1970-01-01T02:15:57.751072",
          "1970-01-01T02:15:57.751072"
         ],
         "y": [
          "truck11",
          "truck11",
          "truck11",
          "truck11",
          null,
          "truck11",
          "truck11",
          "truck11",
          "truck11",
          null
         ]
        },
        {
         "connectgaps": false,
         "hoverinfo": "y+name",
         "line": {
          "color": "rgb(113,42,131)",
          "width": 10
         },
         "mode": "lines",
         "name": "unloading:truck11",
         "type": "scatter",
         "x": [
          "1970-01-01T01:11:56.375536",
          "1970-01-01T01:11:56.375536",
          "1970-01-01T01:12:21.375536",
          "1970-01-01T01:12:21.375536",
          "1970-01-01T01:12:21.375536",
          "1970-01-01T02:15:57.751072",
          "1970-01-01T02:15:57.751072",
          "1970-01-01T02:16:22.751072",
          "1970-01-01T02:16:22.751072",
          "1970-01-01T02:16:22.751072"
         ],
         "y": [
          "truck11",
          "truck11",
          "truck11",
          "truck11",
          null,
          "truck11",
          "truck11",
          "truck11",
          "truck11",
          null
         ]
        },
        {
         "connectgaps": false,
         "hoverinfo": "y+name",
         "line": {
          "color": "rgb(116,45,134)",
          "width": 10
         },
         "mode": "lines",
         "name": "driving_empty:truck12",
         "type": "scatter",
         "x": [
          "1970-01-01T00:00:00",
          "1970-01-01T00:00:00",
          "1970-01-01T00:32:00.113018",
          "1970-01-01T00:32:00.113018",
          "1970-01-01T00:32:00.113018",
          "1970-01-01T01:13:11.375536",
          "1970-01-01T01:13:11.375536",
          "1970-01-01T01:45:11.488555",
          "1970-01-01T01:45:11.488555",
          "1970-01-01T01:45:11.488555"
         ],
         "y": [
          "truck12",
          "truck12",
          "truck12",
          "truck12",
          null,
          "truck12",
          "truck12",
          "truck12",
          "truck12",
          null
         ]
        },
        {
         "connectgaps": false,
         "hoverinfo": "y+name",
         "line": {
          "color": "rgb(119,48,137)",
          "width": 10
         },
         "mode": "lines",
         "name": "unloading:truck12",
         "type": "scatter",
         "x": [
          "1970-01-01T01:12:46.375536",
          "1970-01-01T01:12:46.375536",
          "1970-01-01T01:13:11.375536",
          "1970-01-01T01:13:11.375536",
          "1970-01-01T01:13:11.375536",
          "1970-01-01T02:16:47.751072",
          "1970-01-01T02:16:47.751072",
          "1970-01-01T02:17:12.751072",
          "1970-01-01T02:17:12.751072",
          "1970-01-01T02:17:12.751072"
         ],
         "y": [
          "truck12",
          "truck12",
          "truck12",
          "truck12",
          null,
          "truck12",
          "truck12",
          "truck12",
          "truck12",
          null
         ]
        },
        {
         "connectgaps": false,
         "hoverinfo": "y+name",
         "line": {
          "color": "rgb(122,51,140)",
          "width": 10
         },
         "mode": "lines",
         "name": "driving_full:truck12",
         "type": "scatter",
         "x": [
          "1970-01-01T00:42:00.113018",
          "1970-01-01T00:42:00.113018",
          "1970-01-01T01:12:46.375536",
          "1970-01-01T01:12:46.375536",
          "1970-01-01T01:12:46.375536",
          "1970-01-01T01:46:01.488555",
          "1970-01-01T01:46:01.488555",
          "1970-01-01T02:16:47.751072",
          "1970-01-01T02:16:47.751072",
          "1970-01-01T02:16:47.751072"
         ],
         "y": [
          "truck12",
          "truck12",
          "truck12",
          "truck12",
          null,
          "truck12",
          "truck12",
          "truck12",
          "truck12",
          null
         ]
        },
        {
         "connectgaps": false,
         "hoverinfo": "y+name",
         "line": {
          "color": "rgb(125,54,143)",
          "width": 10
         },
         "mode": "lines",
         "name": "loading:truck12",
         "type": "scatter",
         "x": [
          "1970-01-01T00:41:10.113018",
          "1970-01-01T00:41:10.113018",
          "1970-01-01T00:42:00.113018",
          "1970-01-01T00:42:00.113018",
          "1970-01-01T00:42:00.113018",
          "1970-01-01T01:45:11.488555",
          "1970-01-01T01:45:11.488555",
          "1970-01-01T01:46:01.488555",
          "1970-01-01T01:46:01.488555",
          "1970-01-01T01:46:01.488555"
         ],
         "y": [
          "truck12",
          "truck12",
          "truck12",
          "truck12",
          null,
          "truck12",
          "truck12",
          "truck12",
          "truck12",
          null
         ]
        },
        {
         "connectgaps": false,
         "hoverinfo": "y+name",
         "line": {
          "color": "rgb(128,57,146)",
          "width": 10
         },
         "mode": "lines",
         "name": "driving_full:truck13",
         "type": "scatter",
         "x": [
          "1970-01-01T00:42:50.113018",
          "1970-01-01T00:42:50.113018",
          "1970-01-01T01:13:36.375536",
          "1970-01-01T01:13:36.375536",
          "1970-01-01T01:13:36.375536",
          "1970-01-01T01:46:51.488555",
          "1970-01-01T01:46:51.488555",
          "1970-01-01T02:17:37.751072",
          "1970-01-01T02:17:37.751072",
          "1970-01-01T02:17:37.751072"
         ],
         "y": [
          "truck13",
          "truck13",
          "truck13",
          "truck13",
          null,
          "truck13",
          "truck13",
          "truck13",
          "truck13",
          null
         ]
        },
        {
         "connectgaps": false,
         "hoverinfo": "y+name",
         "line": {
          "color": "rgb(131,60,149)",
          "width": 10
         },
         "mode": "lines",
         "name": "driving_empty:truck13",
         "type": "scatter",
         "x": [
          "1970-01-01T00:00:00",
          "1970-01-01T00:00:00",
          "1970-01-01T00:32:00.113018",
          "1970-01-01T00:32:00.113018",
          "1970-01-01T00:32:00.113018",
          "1970-01-01T01:14:01.375536",
          "1970-01-01T01:14:01.375536",
          "1970-01-01T01:46:01.488555",
          "1970-01-01T01:46:01.488555",
          "1970-01-01T01:46:01.488555"
         ],
         "y": [
          "truck13",
          "truck13",
          "truck13",
          "truck13",
          null,
          "truck13",
          "truck13",
          "truck13",
          "truck13",
          null
         ]
        },
        {
         "connectgaps": false,
         "hoverinfo": "y+name",
         "line": {
          "color": "rgb(134,63,152)",
          "width": 10
         },
         "mode": "lines",
         "name": "loading:truck13",
         "type": "scatter",
         "x": [
          "1970-01-01T00:42:00.113018",
          "1970-01-01T00:42:00.113018",
          "1970-01-01T00:42:50.113018",
          "1970-01-01T00:42:50.113018",
          "1970-01-01T00:42:50.113018",
          "1970-01-01T01:46:01.488555",
          "1970-01-01T01:46:01.488555",
          "1970-01-01T01:46:51.488555",
          "1970-01-01T01:46:51.488555",
          "1970-01-01T01:46:51.488555"
         ],
         "y": [
          "truck13",
          "truck13",
          "truck13",
          "truck13",
          null,
          "truck13",
          "truck13",
          "truck13",
          "truck13",
          null
         ]
        },
        {
         "connectgaps": false,
         "hoverinfo": "y+name",
         "line": {
          "color": "rgb(137,66,155)",
          "width": 10
         },
         "mode": "lines",
         "name": "unloading:truck13",
         "type": "scatter",
         "x": [
          "1970-01-01T01:13:36.375536",
          "1970-01-01T01:13:36.375536",
          "1970-01-01T01:14:01.375536",
          "1970-01-01T01:14:01.375536",
          "1970-01-01T01:14:01.375536",
          "1970-01-01T02:17:37.751072",
          "1970-01-01T02:17:37.751072",
          "1970-01-01T02:18:02.751072",
          "1970-01-01T02:18:02.751072",
          "1970-01-01T02:18:02.751072"
         ],
         "y": [
          "truck13",
          "truck13",
          "truck13",
          "truck13",
          null,
          "truck13",
          "truck13",
          "truck13",
          "truck13",
          null
         ]
        },
        {
         "connectgaps": false,
         "hoverinfo": "y+name",
         "line": {
          "color": "rgb(140,69,158)",
          "width": 10
         },
         "mode": "lines",
         "name": "loading:truck14",
         "type": "scatter",
         "x": [
          "1970-01-01T00:42:50.113018",
          "1970-01-01T00:42:50.113018",
          "1970-01-01T00:43:40.113018",
          "1970-01-01T00:43:40.113018",
          "1970-01-01T00:43:40.113018",
          "1970-01-01T01:46:51.488555",
          "1970-01-01T01:46:51.488555",
          "1970-01-01T01:47:41.488555",
          "1970-01-01T01:47:41.488555",
          "1970-01-01T01:47:41.488555"
         ],
         "y": [
          "truck14",
          "truck14",
          "truck14",
          "truck14",
          null,
          "truck14",
          "truck14",
          "truck14",
          "truck14",
          null
         ]
        },
        {
         "connectgaps": false,
         "hoverinfo": "y+name",
         "line": {
          "color": "rgb(143,72,161)",
          "width": 10
         },
         "mode": "lines",
         "name": "driving_empty:truck14",
         "type": "scatter",
         "x": [
          "1970-01-01T00:00:00",
          "1970-01-01T00:00:00",
          "1970-01-01T00:32:00.113018",
          "1970-01-01T00:32:00.113018",
          "1970-01-01T00:32:00.113018",
          "1970-01-01T01:14:51.375536",
          "1970-01-01T01:14:51.375536",
          "1970-01-01T01:46:51.488555",
          "1970-01-01T01:46:51.488555",
          "1970-01-01T01:46:51.488555"
         ],
         "y": [
          "truck14",
          "truck14",
          "truck14",
          "truck14",
          null,
          "truck14",
          "truck14",
          "truck14",
          "truck14",
          null
         ]
        },
        {
         "connectgaps": false,
         "hoverinfo": "y+name",
         "line": {
          "color": "rgb(146,75,164)",
          "width": 10
         },
         "mode": "lines",
         "name": "unloading:truck14",
         "type": "scatter",
         "x": [
          "1970-01-01T01:14:26.375536",
          "1970-01-01T01:14:26.375536",
          "1970-01-01T01:14:51.375536",
          "1970-01-01T01:14:51.375536",
          "1970-01-01T01:14:51.375536",
          "1970-01-01T02:18:27.751072",
          "1970-01-01T02:18:27.751072",
          "1970-01-01T02:18:52.751072",
          "1970-01-01T02:18:52.751072",
          "1970-01-01T02:18:52.751072"
         ],
         "y": [
          "truck14",
          "truck14",
          "truck14",
          "truck14",
          null,
          "truck14",
          "truck14",
          "truck14",
          "truck14",
          null
         ]
        },
        {
         "connectgaps": false,
         "hoverinfo": "y+name",
         "line": {
          "color": "rgb(149,78,167)",
          "width": 10
         },
         "mode": "lines",
         "name": "driving_full:truck14",
         "type": "scatter",
         "x": [
          "1970-01-01T00:43:40.113018",
          "1970-01-01T00:43:40.113018",
          "1970-01-01T01:14:26.375536",
          "1970-01-01T01:14:26.375536",
          "1970-01-01T01:14:26.375536",
          "1970-01-01T01:47:41.488555",
          "1970-01-01T01:47:41.488555",
          "1970-01-01T02:18:27.751072",
          "1970-01-01T02:18:27.751072",
          "1970-01-01T02:18:27.751072"
         ],
         "y": [
          "truck14",
          "truck14",
          "truck14",
          "truck14",
          null,
          "truck14",
          "truck14",
          "truck14",
          "truck14",
          null
         ]
        },
        {
         "connectgaps": false,
         "hoverinfo": "y+name",
         "line": {
          "color": "rgb(152,81,170)",
          "width": 10
         },
         "mode": "lines",
         "name": "unloading:truck15",
         "type": "scatter",
         "x": [
          "1970-01-01T01:15:16.375536",
          "1970-01-01T01:15:16.375536",
          "1970-01-01T01:15:41.375536",
          "1970-01-01T01:15:41.375536",
          "1970-01-01T01:15:41.375536",
          "1970-01-01T02:19:17.751072",
          "1970-01-01T02:19:17.751072",
          "1970-01-01T02:19:42.751072",
          "1970-01-01T02:19:42.751072",
          "1970-01-01T02:19:42.751072"
         ],
         "y": [
          "truck15",
          "truck15",
          "truck15",
          "truck15",
          null,
          "truck15",
          "truck15",
          "truck15",
          "truck15",
          null
         ]
        },
        {
         "connectgaps": false,
         "hoverinfo": "y+name",
         "line": {
          "color": "rgb(155,84,173)",
          "width": 10
         },
         "mode": "lines",
         "name": "driving_full:truck15",
         "type": "scatter",
         "x": [
          "1970-01-01T00:44:30.113018",
          "1970-01-01T00:44:30.113018",
          "1970-01-01T01:15:16.375536",
          "1970-01-01T01:15:16.375536",
          "1970-01-01T01:15:16.375536",
          "1970-01-01T01:48:31.488555",
          "1970-01-01T01:48:31.488555",
          "1970-01-01T02:19:17.751072",
          "1970-01-01T02:19:17.751072",
          "1970-01-01T02:19:17.751072"
         ],
         "y": [
          "truck15",
          "truck15",
          "truck15",
          "truck15",
          null,
          "truck15",
          "truck15",
          "truck15",
          "truck15",
          null
         ]
        },
        {
         "connectgaps": false,
         "hoverinfo": "y+name",
         "line": {
          "color": "rgb(158,87,176)",
          "width": 10
         },
         "mode": "lines",
         "name": "loading:truck15",
         "type": "scatter",
         "x": [
          "1970-01-01T00:43:40.113018",
          "1970-01-01T00:43:40.113018",
          "1970-01-01T00:44:30.113018",
          "1970-01-01T00:44:30.113018",
          "1970-01-01T00:44:30.113018",
          "1970-01-01T01:47:41.488555",
          "1970-01-01T01:47:41.488555",
          "1970-01-01T01:48:31.488555",
          "1970-01-01T01:48:31.488555",
          "1970-01-01T01:48:31.488555"
         ],
         "y": [
          "truck15",
          "truck15",
          "truck15",
          "truck15",
          null,
          "truck15",
          "truck15",
          "truck15",
          "truck15",
          null
         ]
        },
        {
         "connectgaps": false,
         "hoverinfo": "y+name",
         "line": {
          "color": "rgb(161,90,179)",
          "width": 10
         },
         "mode": "lines",
         "name": "driving_empty:truck15",
         "type": "scatter",
         "x": [
          "1970-01-01T00:00:00",
          "1970-01-01T00:00:00",
          "1970-01-01T00:32:00.113018",
          "1970-01-01T00:32:00.113018",
          "1970-01-01T00:32:00.113018",
          "1970-01-01T01:15:41.375536",
          "1970-01-01T01:15:41.375536",
          "1970-01-01T01:47:41.488555",
          "1970-01-01T01:47:41.488555",
          "1970-01-01T01:47:41.488555"
         ],
         "y": [
          "truck15",
          "truck15",
          "truck15",
          "truck15",
          null,
          "truck15",
          "truck15",
          "truck15",
          "truck15",
          null
         ]
        },
        {
         "connectgaps": false,
         "hoverinfo": "y+name",
         "line": {
          "color": "rgb(164,93,182)",
          "width": 10
         },
         "mode": "lines",
         "name": "driving_full:truck16",
         "type": "scatter",
         "x": [
          "1970-01-01T00:45:20.113018",
          "1970-01-01T00:45:20.113018",
          "1970-01-01T01:16:06.375536",
          "1970-01-01T01:16:06.375536",
          "1970-01-01T01:16:06.375536",
          "1970-01-01T01:49:21.488555",
          "1970-01-01T01:49:21.488555",
          "1970-01-01T02:20:07.751072",
          "1970-01-01T02:20:07.751072",
          "1970-01-01T02:20:07.751072"
         ],
         "y": [
          "truck16",
          "truck16",
          "truck16",
          "truck16",
          null,
          "truck16",
          "truck16",
          "truck16",
          "truck16",
          null
         ]
        },
        {
         "connectgaps": false,
         "hoverinfo": "y+name",
         "line": {
          "color": "rgb(167,96,185)",
          "width": 10
         },
         "mode": "lines",
         "name": "driving_empty:truck16",
         "type": "scatter",
         "x": [
          "1970-01-01T00:00:00",
          "1970-01-01T00:00:00",
          "1970-01-01T00:32:00.113018",
          "1970-01-01T00:32:00.113018",
          "1970-01-01T00:32:00.113018",
          "1970-01-01T01:16:31.375536",
          "1970-01-01T01:16:31.375536",
          "1970-01-01T01:48:31.488555",
          "1970-01-01T01:48:31.488555",
          "1970-01-01T01:48:31.488555"
         ],
         "y": [
          "truck16",
          "truck16",
          "truck16",
          "truck16",
          null,
          "truck16",
          "truck16",
          "truck16",
          "truck16",
          null
         ]
        },
        {
         "connectgaps": false,
         "hoverinfo": "y+name",
         "line": {
          "color": "rgb(170,99,188)",
          "width": 10
         },
         "mode": "lines",
         "name": "loading:truck16",
         "type": "scatter",
         "x": [
          "1970-01-01T00:44:30.113018",
          "1970-01-01T00:44:30.113018",
          "1970-01-01T00:45:20.113018",
          "1970-01-01T00:45:20.113018",
          "1970-01-01T00:45:20.113018",
          "1970-01-01T01:48:31.488555",
          "1970-01-01T01:48:31.488555",
          "1970-01-01T01:49:21.488555",
          "1970-01-01T01:49:21.488555",
          "1970-01-01T01:49:21.488555"
         ],
         "y": [
          "truck16",
          "truck16",
          "truck16",
          "truck16",
          null,
          "truck16",
          "truck16",
          "truck16",
          "truck16",
          null
         ]
        },
        {
         "connectgaps": false,
         "hoverinfo": "y+name",
         "line": {
          "color": "rgb(173,102,191)",
          "width": 10
         },
         "mode": "lines",
         "name": "unloading:truck16",
         "type": "scatter",
         "x": [
          "1970-01-01T01:16:06.375536",
          "1970-01-01T01:16:06.375536",
          "1970-01-01T01:16:31.375536",
          "1970-01-01T01:16:31.375536",
          "1970-01-01T01:16:31.375536",
          "1970-01-01T02:20:07.751072",
          "1970-01-01T02:20:07.751072",
          "1970-01-01T02:20:32.751072",
          "1970-01-01T02:20:32.751072",
          "1970-01-01T02:20:32.751072"
         ],
         "y": [
          "truck16",
          "truck16",
          "truck16",
          "truck16",
          null,
          "truck16",
          "truck16",
          "truck16",
          "truck16",
          null
         ]
        },
        {
         "connectgaps": false,
         "hoverinfo": "y+name",
         "line": {
          "color": "rgb(176,105,194)",
          "width": 10
         },
         "mode": "lines",
         "name": "loading:truck17",
         "type": "scatter",
         "x": [
          "1970-01-01T00:45:20.113018",
          "1970-01-01T00:45:20.113018",
          "1970-01-01T00:46:10.113018",
          "1970-01-01T00:46:10.113018",
          "1970-01-01T00:46:10.113018",
          "1970-01-01T01:49:21.488555",
          "1970-01-01T01:49:21.488555",
          "1970-01-01T01:50:11.488555",
          "1970-01-01T01:50:11.488555",
          "1970-01-01T01:50:11.488555"
         ],
         "y": [
          "truck17",
          "truck17",
          "truck17",
          "truck17",
          null,
          "truck17",
          "truck17",
          "truck17",
          "truck17",
          null
         ]
        },
        {
         "connectgaps": false,
         "hoverinfo": "y+name",
         "line": {
          "color": "rgb(179,108,197)",
          "width": 10
         },
         "mode": "lines",
         "name": "driving_empty:truck17",
         "type": "scatter",
         "x": [
          "1970-01-01T00:00:00",
          "1970-01-01T00:00:00",
          "1970-01-01T00:32:00.113018",
          "1970-01-01T00:32:00.113018",
          "1970-01-01T00:32:00.113018",
          "1970-01-01T01:17:21.375536",
          "1970-01-01T01:17:21.375536",
          "1970-01-01T01:49:21.488555",
          "1970-01-01T01:49:21.488555",
          "1970-01-01T01:49:21.488555"
         ],
         "y": [
          "truck17",
          "truck17",
          "truck17",
          "truck17",
          null,
          "truck17",
          "truck17",
          "truck17",
          "truck17",
          null
         ]
        },
        {
         "connectgaps": false,
         "hoverinfo": "y+name",
         "line": {
          "color": "rgb(182,111,200)",
          "width": 10
         },
         "mode": "lines",
         "name": "driving_full:truck17",
         "type": "scatter",
         "x": [
          "1970-01-01T00:46:10.113018",
          "1970-01-01T00:46:10.113018",
          "1970-01-01T01:16:56.375536",
          "1970-01-01T01:16:56.375536",
          "1970-01-01T01:16:56.375536",
          "1970-01-01T01:50:11.488555",
          "1970-01-01T01:50:11.488555",
          "1970-01-01T02:20:57.751072",
          "1970-01-01T02:20:57.751072",
          "1970-01-01T02:20:57.751072"
         ],
         "y": [
          "truck17",
          "truck17",
          "truck17",
          "truck17",
          null,
          "truck17",
          "truck17",
          "truck17",
          "truck17",
          null
         ]
        },
        {
         "connectgaps": false,
         "hoverinfo": "y+name",
         "line": {
          "color": "rgb(185,114,203)",
          "width": 10
         },
         "mode": "lines",
         "name": "unloading:truck17",
         "type": "scatter",
         "x": [
          "1970-01-01T01:16:56.375536",
          "1970-01-01T01:16:56.375536",
          "1970-01-01T01:17:21.375536",
          "1970-01-01T01:17:21.375536",
          "1970-01-01T01:17:21.375536",
          "1970-01-01T02:20:57.751072",
          "1970-01-01T02:20:57.751072",
          "1970-01-01T02:21:22.751072",
          "1970-01-01T02:21:22.751072",
          "1970-01-01T02:21:22.751072"
         ],
         "y": [
          "truck17",
          "truck17",
          "truck17",
          "truck17",
          null,
          "truck17",
          "truck17",
          "truck17",
          "truck17",
          null
         ]
        },
        {
         "connectgaps": false,
         "hoverinfo": "y+name",
         "line": {
          "color": "rgb(188,117,206)",
          "width": 10
         },
         "mode": "lines",
         "name": "unloading:truck18",
         "type": "scatter",
         "x": [
          "1970-01-01T01:17:46.375536",
          "1970-01-01T01:17:46.375536",
          "1970-01-01T01:18:11.375536",
          "1970-01-01T01:18:11.375536",
          "1970-01-01T01:18:11.375536",
          "1970-01-01T02:21:47.751072",
          "1970-01-01T02:21:47.751072",
          "1970-01-01T02:22:12.751072",
          "1970-01-01T02:22:12.751072",
          "1970-01-01T02:22:12.751072"
         ],
         "y": [
          "truck18",
          "truck18",
          "truck18",
          "truck18",
          null,
          "truck18",
          "truck18",
          "truck18",
          "truck18",
          null
         ]
        },
        {
         "connectgaps": false,
         "hoverinfo": "y+name",
         "line": {
          "color": "rgb(191,120,209)",
          "width": 10
         },
         "mode": "lines",
         "name": "driving_full:truck18",
         "type": "scatter",
         "x": [
          "1970-01-01T00:47:00.113018",
          "1970-01-01T00:47:00.113018",
          "1970-01-01T01:17:46.375536",
          "1970-01-01T01:17:46.375536",
          "1970-01-01T01:17:46.375536",
          "1970-01-01T01:51:01.488555",
          "1970-01-01T01:51:01.488555",
          "1970-01-01T02:21:47.751072",
          "1970-01-01T02:21:47.751072",
          "1970-01-01T02:21:47.751072"
         ],
         "y": [
          "truck18",
          "truck18",
          "truck18",
          "truck18",
          null,
          "truck18",
          "truck18",
          "truck18",
          "truck18",
          null
         ]
        },
        {
         "connectgaps": false,
         "hoverinfo": "y+name",
         "line": {
          "color": "rgb(194,123,212)",
          "width": 10
         },
         "mode": "lines",
         "name": "loading:truck18",
         "type": "scatter",
         "x": [
          "1970-01-01T00:46:10.113018",
          "1970-01-01T00:46:10.113018",
          "1970-01-01T00:47:00.113018",
          "1970-01-01T00:47:00.113018",
          "1970-01-01T00:47:00.113018",
          "1970-01-01T01:50:11.488555",
          "1970-01-01T01:50:11.488555",
          "1970-01-01T01:51:01.488555",
          "1970-01-01T01:51:01.488555",
          "1970-01-01T01:51:01.488555"
         ],
         "y": [
          "truck18",
          "truck18",
          "truck18",
          "truck18",
          null,
          "truck18",
          "truck18",
          "truck18",
          "truck18",
          null
         ]
        },
        {
         "connectgaps": false,
         "hoverinfo": "y+name",
         "line": {
          "color": "rgb(197,126,215)",
          "width": 10
         },
         "mode": "lines",
         "name": "driving_empty:truck18",
         "type": "scatter",
         "x": [
          "1970-01-01T00:00:00",
          "1970-01-01T00:00:00",
          "1970-01-01T00:32:00.113018",
          "1970-01-01T00:32:00.113018",
          "1970-01-01T00:32:00.113018",
          "1970-01-01T01:18:11.375536",
          "1970-01-01T01:18:11.375536",
          "1970-01-01T01:50:11.488555",
          "1970-01-01T01:50:11.488555",
          "1970-01-01T01:50:11.488555"
         ],
         "y": [
          "truck18",
          "truck18",
          "truck18",
          "truck18",
          null,
          "truck18",
          "truck18",
          "truck18",
          "truck18",
          null
         ]
        },
        {
         "connectgaps": false,
         "hoverinfo": "y+name",
         "line": {
          "color": "rgb(200,129,218)",
          "width": 10
         },
         "mode": "lines",
         "name": "driving_empty:truck19",
         "type": "scatter",
         "x": [
          "1970-01-01T00:00:00",
          "1970-01-01T00:00:00",
          "1970-01-01T00:32:00.113018",
          "1970-01-01T00:32:00.113018",
          "1970-01-01T00:32:00.113018",
          "1970-01-01T01:19:01.375536",
          "1970-01-01T01:19:01.375536",
          "1970-01-01T01:51:01.488555",
          "1970-01-01T01:51:01.488555",
          "1970-01-01T01:51:01.488555"
         ],
         "y": [
          "truck19",
          "truck19",
          "truck19",
          "truck19",
          null,
          "truck19",
          "truck19",
          "truck19",
          "truck19",
          null
         ]
        },
        {
         "connectgaps": false,
         "hoverinfo": "y+name",
         "line": {
          "color": "rgb(203,132,221)",
          "width": 10
         },
         "mode": "lines",
         "name": "unloading:truck19",
         "type": "scatter",
         "x": [
          "1970-01-01T01:18:36.375536",
          "1970-01-01T01:18:36.375536",
          "1970-01-01T01:19:01.375536",
          "1970-01-01T01:19:01.375536",
          "1970-01-01T01:19:01.375536",
          "1970-01-01T02:22:37.751072",
          "1970-01-01T02:22:37.751072",
          "1970-01-01T02:23:02.751072",
          "1970-01-01T02:23:02.751072",
          "1970-01-01T02:23:02.751072"
         ],
         "y": [
          "truck19",
          "truck19",
          "truck19",
          "truck19",
          null,
          "truck19",
          "truck19",
          "truck19",
          "truck19",
          null
         ]
        },
        {
         "connectgaps": false,
         "hoverinfo": "y+name",
         "line": {
          "color": "rgb(206,135,224)",
          "width": 10
         },
         "mode": "lines",
         "name": "driving_full:truck19",
         "type": "scatter",
         "x": [
          "1970-01-01T00:47:50.113018",
          "1970-01-01T00:47:50.113018",
          "1970-01-01T01:18:36.375536",
          "1970-01-01T01:18:36.375536",
          "1970-01-01T01:18:36.375536",
          "1970-01-01T01:51:51.488555",
          "1970-01-01T01:51:51.488555",
          "1970-01-01T02:22:37.751072",
          "1970-01-01T02:22:37.751072",
          "1970-01-01T02:22:37.751072"
         ],
         "y": [
          "truck19",
          "truck19",
          "truck19",
          "truck19",
          null,
          "truck19",
          "truck19",
          "truck19",
          "truck19",
          null
         ]
        },
        {
         "connectgaps": false,
         "hoverinfo": "y+name",
         "line": {
          "color": "rgb(209,138,227)",
          "width": 10
         },
         "mode": "lines",
         "name": "loading:truck19",
         "type": "scatter",
         "x": [
          "1970-01-01T00:47:00.113018",
          "1970-01-01T00:47:00.113018",
          "1970-01-01T00:47:50.113018",
          "1970-01-01T00:47:50.113018",
          "1970-01-01T00:47:50.113018",
          "1970-01-01T01:51:01.488555",
          "1970-01-01T01:51:01.488555",
          "1970-01-01T01:51:51.488555",
          "1970-01-01T01:51:51.488555",
          "1970-01-01T01:51:51.488555"
         ],
         "y": [
          "truck19",
          "truck19",
          "truck19",
          "truck19",
          null,
          "truck19",
          "truck19",
          "truck19",
          "truck19",
          null
         ]
        },
        {
         "connectgaps": false,
         "hoverinfo": "y+name",
         "line": {
          "color": "rgb(212,141,230)",
          "width": 10
         },
         "mode": "lines",
         "name": "driving_full:truck20",
         "type": "scatter",
         "x": [
          "1970-01-01T00:48:40.113018",
          "1970-01-01T00:48:40.113018",
          "1970-01-01T01:19:26.375536",
          "1970-01-01T01:19:26.375536",
          "1970-01-01T01:19:26.375536",
          "1970-01-01T01:52:41.488555",
          "1970-01-01T01:52:41.488555",
          "1970-01-01T02:23:27.751072",
          "1970-01-01T02:23:27.751072",
          "1970-01-01T02:23:27.751072"
         ],
         "y": [
          "truck20",
          "truck20",
          "truck20",
          "truck20",
          null,
          "truck20",
          "truck20",
          "truck20",
          "truck20",
          null
         ]
        },
        {
         "connectgaps": false,
         "hoverinfo": "y+name",
         "line": {
          "color": "rgb(215,144,233)",
          "width": 10
         },
         "mode": "lines",
         "name": "unloading:truck20",
         "type": "scatter",
         "x": [
          "1970-01-01T01:19:26.375536",
          "1970-01-01T01:19:26.375536",
          "1970-01-01T01:19:51.375536",
          "1970-01-01T01:19:51.375536",
          "1970-01-01T01:19:51.375536",
          "1970-01-01T02:23:27.751072",
          "1970-01-01T02:23:27.751072",
          "1970-01-01T02:23:52.751072",
          "1970-01-01T02:23:52.751072",
          "1970-01-01T02:23:52.751072"
         ],
         "y": [
          "truck20",
          "truck20",
          "truck20",
          "truck20",
          null,
          "truck20",
          "truck20",
          "truck20",
          "truck20",
          null
         ]
        },
        {
         "connectgaps": false,
         "hoverinfo": "y+name",
         "line": {
          "color": "rgb(218,147,236)",
          "width": 10
         },
         "mode": "lines",
         "name": "loading:truck20",
         "type": "scatter",
         "x": [
          "1970-01-01T00:47:50.113018",
          "1970-01-01T00:47:50.113018",
          "1970-01-01T00:48:40.113018",
          "1970-01-01T00:48:40.113018",
          "1970-01-01T00:48:40.113018",
          "1970-01-01T01:51:51.488555",
          "1970-01-01T01:51:51.488555",
          "1970-01-01T01:52:41.488555",
          "1970-01-01T01:52:41.488555",
          "1970-01-01T01:52:41.488555"
         ],
         "y": [
          "truck20",
          "truck20",
          "truck20",
          "truck20",
          null,
          "truck20",
          "truck20",
          "truck20",
          "truck20",
          null
         ]
        },
        {
         "connectgaps": false,
         "hoverinfo": "y+name",
         "line": {
          "color": "rgb(221,150,239)",
          "width": 10
         },
         "mode": "lines",
         "name": "driving_empty:truck20",
         "type": "scatter",
         "x": [
          "1970-01-01T00:00:00",
          "1970-01-01T00:00:00",
          "1970-01-01T00:32:00.113018",
          "1970-01-01T00:32:00.113018",
          "1970-01-01T00:32:00.113018",
          "1970-01-01T01:19:51.375536",
          "1970-01-01T01:19:51.375536",
          "1970-01-01T01:51:51.488555",
          "1970-01-01T01:51:51.488555",
          "1970-01-01T01:51:51.488555"
         ],
         "y": [
          "truck20",
          "truck20",
          "truck20",
          "truck20",
          null,
          "truck20",
          "truck20",
          "truck20",
          "truck20",
          null
         ]
        }
       ],
       "layout": {
        "autosize": true,
        "hovermode": "closest",
        "legend": {
         "orientation": "h",
         "x": 0,
         "y": -0.2
        },
        "template": {
         "data": {
          "bar": [
           {
            "error_x": {
             "color": "#2a3f5f"
            },
            "error_y": {
             "color": "#2a3f5f"
            },
            "marker": {
             "line": {
              "color": "#E5ECF6",
              "width": 0.5
             },
             "pattern": {
              "fillmode": "overlay",
              "size": 10,
              "solidity": 0.2
             }
            },
            "type": "bar"
           }
          ],
          "barpolar": [
           {
            "marker": {
             "line": {
              "color": "#E5ECF6",
              "width": 0.5
             },
             "pattern": {
              "fillmode": "overlay",
              "size": 10,
              "solidity": 0.2
             }
            },
            "type": "barpolar"
           }
          ],
          "carpet": [
           {
            "aaxis": {
             "endlinecolor": "#2a3f5f",
             "gridcolor": "white",
             "linecolor": "white",
             "minorgridcolor": "white",
             "startlinecolor": "#2a3f5f"
            },
            "baxis": {
             "endlinecolor": "#2a3f5f",
             "gridcolor": "white",
             "linecolor": "white",
             "minorgridcolor": "white",
             "startlinecolor": "#2a3f5f"
            },
            "type": "carpet"
           }
          ],
          "choropleth": [
           {
            "colorbar": {
             "outlinewidth": 0,
             "ticks": ""
            },
            "type": "choropleth"
           }
          ],
          "contour": [
           {
            "colorbar": {
             "outlinewidth": 0,
             "ticks": ""
            },
            "colorscale": [
             [
              0,
              "#0d0887"
             ],
             [
              0.1111111111111111,
              "#46039f"
             ],
             [
              0.2222222222222222,
              "#7201a8"
             ],
             [
              0.3333333333333333,
              "#9c179e"
             ],
             [
              0.4444444444444444,
              "#bd3786"
             ],
             [
              0.5555555555555556,
              "#d8576b"
             ],
             [
              0.6666666666666666,
              "#ed7953"
             ],
             [
              0.7777777777777778,
              "#fb9f3a"
             ],
             [
              0.8888888888888888,
              "#fdca26"
             ],
             [
              1,
              "#f0f921"
             ]
            ],
            "type": "contour"
           }
          ],
          "contourcarpet": [
           {
            "colorbar": {
             "outlinewidth": 0,
             "ticks": ""
            },
            "type": "contourcarpet"
           }
          ],
          "heatmap": [
           {
            "colorbar": {
             "outlinewidth": 0,
             "ticks": ""
            },
            "colorscale": [
             [
              0,
              "#0d0887"
             ],
             [
              0.1111111111111111,
              "#46039f"
             ],
             [
              0.2222222222222222,
              "#7201a8"
             ],
             [
              0.3333333333333333,
              "#9c179e"
             ],
             [
              0.4444444444444444,
              "#bd3786"
             ],
             [
              0.5555555555555556,
              "#d8576b"
             ],
             [
              0.6666666666666666,
              "#ed7953"
             ],
             [
              0.7777777777777778,
              "#fb9f3a"
             ],
             [
              0.8888888888888888,
              "#fdca26"
             ],
             [
              1,
              "#f0f921"
             ]
            ],
            "type": "heatmap"
           }
          ],
          "heatmapgl": [
           {
            "colorbar": {
             "outlinewidth": 0,
             "ticks": ""
            },
            "colorscale": [
             [
              0,
              "#0d0887"
             ],
             [
              0.1111111111111111,
              "#46039f"
             ],
             [
              0.2222222222222222,
              "#7201a8"
             ],
             [
              0.3333333333333333,
              "#9c179e"
             ],
             [
              0.4444444444444444,
              "#bd3786"
             ],
             [
              0.5555555555555556,
              "#d8576b"
             ],
             [
              0.6666666666666666,
              "#ed7953"
             ],
             [
              0.7777777777777778,
              "#fb9f3a"
             ],
             [
              0.8888888888888888,
              "#fdca26"
             ],
             [
              1,
              "#f0f921"
             ]
            ],
            "type": "heatmapgl"
           }
          ],
          "histogram": [
           {
            "marker": {
             "pattern": {
              "fillmode": "overlay",
              "size": 10,
              "solidity": 0.2
             }
            },
            "type": "histogram"
           }
          ],
          "histogram2d": [
           {
            "colorbar": {
             "outlinewidth": 0,
             "ticks": ""
            },
            "colorscale": [
             [
              0,
              "#0d0887"
             ],
             [
              0.1111111111111111,
              "#46039f"
             ],
             [
              0.2222222222222222,
              "#7201a8"
             ],
             [
              0.3333333333333333,
              "#9c179e"
             ],
             [
              0.4444444444444444,
              "#bd3786"
             ],
             [
              0.5555555555555556,
              "#d8576b"
             ],
             [
              0.6666666666666666,
              "#ed7953"
             ],
             [
              0.7777777777777778,
              "#fb9f3a"
             ],
             [
              0.8888888888888888,
              "#fdca26"
             ],
             [
              1,
              "#f0f921"
             ]
            ],
            "type": "histogram2d"
           }
          ],
          "histogram2dcontour": [
           {
            "colorbar": {
             "outlinewidth": 0,
             "ticks": ""
            },
            "colorscale": [
             [
              0,
              "#0d0887"
             ],
             [
              0.1111111111111111,
              "#46039f"
             ],
             [
              0.2222222222222222,
              "#7201a8"
             ],
             [
              0.3333333333333333,
              "#9c179e"
             ],
             [
              0.4444444444444444,
              "#bd3786"
             ],
             [
              0.5555555555555556,
              "#d8576b"
             ],
             [
              0.6666666666666666,
              "#ed7953"
             ],
             [
              0.7777777777777778,
              "#fb9f3a"
             ],
             [
              0.8888888888888888,
              "#fdca26"
             ],
             [
              1,
              "#f0f921"
             ]
            ],
            "type": "histogram2dcontour"
           }
          ],
          "mesh3d": [
           {
            "colorbar": {
             "outlinewidth": 0,
             "ticks": ""
            },
            "type": "mesh3d"
           }
          ],
          "parcoords": [
           {
            "line": {
             "colorbar": {
              "outlinewidth": 0,
              "ticks": ""
             }
            },
            "type": "parcoords"
           }
          ],
          "pie": [
           {
            "automargin": true,
            "type": "pie"
           }
          ],
          "scatter": [
           {
            "fillpattern": {
             "fillmode": "overlay",
             "size": 10,
             "solidity": 0.2
            },
            "type": "scatter"
           }
          ],
          "scatter3d": [
           {
            "line": {
             "colorbar": {
              "outlinewidth": 0,
              "ticks": ""
             }
            },
            "marker": {
             "colorbar": {
              "outlinewidth": 0,
              "ticks": ""
             }
            },
            "type": "scatter3d"
           }
          ],
          "scattercarpet": [
           {
            "marker": {
             "colorbar": {
              "outlinewidth": 0,
              "ticks": ""
             }
            },
            "type": "scattercarpet"
           }
          ],
          "scattergeo": [
           {
            "marker": {
             "colorbar": {
              "outlinewidth": 0,
              "ticks": ""
             }
            },
            "type": "scattergeo"
           }
          ],
          "scattergl": [
           {
            "marker": {
             "colorbar": {
              "outlinewidth": 0,
              "ticks": ""
             }
            },
            "type": "scattergl"
           }
          ],
          "scattermapbox": [
           {
            "marker": {
             "colorbar": {
              "outlinewidth": 0,
              "ticks": ""
             }
            },
            "type": "scattermapbox"
           }
          ],
          "scatterpolar": [
           {
            "marker": {
             "colorbar": {
              "outlinewidth": 0,
              "ticks": ""
             }
            },
            "type": "scatterpolar"
           }
          ],
          "scatterpolargl": [
           {
            "marker": {
             "colorbar": {
              "outlinewidth": 0,
              "ticks": ""
             }
            },
            "type": "scatterpolargl"
           }
          ],
          "scatterternary": [
           {
            "marker": {
             "colorbar": {
              "outlinewidth": 0,
              "ticks": ""
             }
            },
            "type": "scatterternary"
           }
          ],
          "surface": [
           {
            "colorbar": {
             "outlinewidth": 0,
             "ticks": ""
            },
            "colorscale": [
             [
              0,
              "#0d0887"
             ],
             [
              0.1111111111111111,
              "#46039f"
             ],
             [
              0.2222222222222222,
              "#7201a8"
             ],
             [
              0.3333333333333333,
              "#9c179e"
             ],
             [
              0.4444444444444444,
              "#bd3786"
             ],
             [
              0.5555555555555556,
              "#d8576b"
             ],
             [
              0.6666666666666666,
              "#ed7953"
             ],
             [
              0.7777777777777778,
              "#fb9f3a"
             ],
             [
              0.8888888888888888,
              "#fdca26"
             ],
             [
              1,
              "#f0f921"
             ]
            ],
            "type": "surface"
           }
          ],
          "table": [
           {
            "cells": {
             "fill": {
              "color": "#EBF0F8"
             },
             "line": {
              "color": "white"
             }
            },
            "header": {
             "fill": {
              "color": "#C8D4E3"
             },
             "line": {
              "color": "white"
             }
            },
            "type": "table"
           }
          ]
         },
         "layout": {
          "annotationdefaults": {
           "arrowcolor": "#2a3f5f",
           "arrowhead": 0,
           "arrowwidth": 1
          },
          "autotypenumbers": "strict",
          "coloraxis": {
           "colorbar": {
            "outlinewidth": 0,
            "ticks": ""
           }
          },
          "colorscale": {
           "diverging": [
            [
             0,
             "#8e0152"
            ],
            [
             0.1,
             "#c51b7d"
            ],
            [
             0.2,
             "#de77ae"
            ],
            [
             0.3,
             "#f1b6da"
            ],
            [
             0.4,
             "#fde0ef"
            ],
            [
             0.5,
             "#f7f7f7"
            ],
            [
             0.6,
             "#e6f5d0"
            ],
            [
             0.7,
             "#b8e186"
            ],
            [
             0.8,
             "#7fbc41"
            ],
            [
             0.9,
             "#4d9221"
            ],
            [
             1,
             "#276419"
            ]
           ],
           "sequential": [
            [
             0,
             "#0d0887"
            ],
            [
             0.1111111111111111,
             "#46039f"
            ],
            [
             0.2222222222222222,
             "#7201a8"
            ],
            [
             0.3333333333333333,
             "#9c179e"
            ],
            [
             0.4444444444444444,
             "#bd3786"
            ],
            [
             0.5555555555555556,
             "#d8576b"
            ],
            [
             0.6666666666666666,
             "#ed7953"
            ],
            [
             0.7777777777777778,
             "#fb9f3a"
            ],
            [
             0.8888888888888888,
             "#fdca26"
            ],
            [
             1,
             "#f0f921"
            ]
           ],
           "sequentialminus": [
            [
             0,
             "#0d0887"
            ],
            [
             0.1111111111111111,
             "#46039f"
            ],
            [
             0.2222222222222222,
             "#7201a8"
            ],
            [
             0.3333333333333333,
             "#9c179e"
            ],
            [
             0.4444444444444444,
             "#bd3786"
            ],
            [
             0.5555555555555556,
             "#d8576b"
            ],
            [
             0.6666666666666666,
             "#ed7953"
            ],
            [
             0.7777777777777778,
             "#fb9f3a"
            ],
            [
             0.8888888888888888,
             "#fdca26"
            ],
            [
             1,
             "#f0f921"
            ]
           ]
          },
          "colorway": [
           "#636efa",
           "#EF553B",
           "#00cc96",
           "#ab63fa",
           "#FFA15A",
           "#19d3f3",
           "#FF6692",
           "#B6E880",
           "#FF97FF",
           "#FECB52"
          ],
          "font": {
           "color": "#2a3f5f"
          },
          "geo": {
           "bgcolor": "white",
           "lakecolor": "white",
           "landcolor": "#E5ECF6",
           "showlakes": true,
           "showland": true,
           "subunitcolor": "white"
          },
          "hoverlabel": {
           "align": "left"
          },
          "hovermode": "closest",
          "mapbox": {
           "style": "light"
          },
          "paper_bgcolor": "white",
          "plot_bgcolor": "#E5ECF6",
          "polar": {
           "angularaxis": {
            "gridcolor": "white",
            "linecolor": "white",
            "ticks": ""
           },
           "bgcolor": "#E5ECF6",
           "radialaxis": {
            "gridcolor": "white",
            "linecolor": "white",
            "ticks": ""
           }
          },
          "scene": {
           "xaxis": {
            "backgroundcolor": "#E5ECF6",
            "gridcolor": "white",
            "gridwidth": 2,
            "linecolor": "white",
            "showbackground": true,
            "ticks": "",
            "zerolinecolor": "white"
           },
           "yaxis": {
            "backgroundcolor": "#E5ECF6",
            "gridcolor": "white",
            "gridwidth": 2,
            "linecolor": "white",
            "showbackground": true,
            "ticks": "",
            "zerolinecolor": "white"
           },
           "zaxis": {
            "backgroundcolor": "#E5ECF6",
            "gridcolor": "white",
            "gridwidth": 2,
            "linecolor": "white",
            "showbackground": true,
            "ticks": "",
            "zerolinecolor": "white"
           }
          },
          "shapedefaults": {
           "line": {
            "color": "#2a3f5f"
           }
          },
          "ternary": {
           "aaxis": {
            "gridcolor": "white",
            "linecolor": "white",
            "ticks": ""
           },
           "baxis": {
            "gridcolor": "white",
            "linecolor": "white",
            "ticks": ""
           },
           "bgcolor": "#E5ECF6",
           "caxis": {
            "gridcolor": "white",
            "linecolor": "white",
            "ticks": ""
           }
          },
          "title": {
           "x": 0.05
          },
          "xaxis": {
           "automargin": true,
           "gridcolor": "white",
           "linecolor": "white",
           "ticks": "",
           "title": {
            "standoff": 15
           },
           "zerolinecolor": "white",
           "zerolinewidth": 2
          },
          "yaxis": {
           "automargin": true,
           "gridcolor": "white",
           "linecolor": "white",
           "ticks": "",
           "title": {
            "standoff": 15
           },
           "zerolinecolor": "white",
           "zerolinewidth": 2
          }
         }
        },
        "title": {
         "text": "GANTT Chart"
        },
        "xaxis": {
         "range": [
          "1970-01-01T00:00:00",
          "1970-01-01T03:19:34.126609"
         ],
         "title": {
          "font": {
           "color": "#7f7f7f",
           "family": "Courier New, monospace",
           "size": 18
          },
          "text": "Time"
         },
         "type": "date"
        },
        "yaxis": {
         "autorange": true,
         "range": [
          -1.0555555555555558,
          20.055555555555557
         ],
         "title": {
          "font": {
           "color": "#7f7f7f",
           "family": "Courier New, monospace",
           "size": 18
          },
          "text": "Activities"
         },
         "type": "category"
        }
       }
      },
      "text/html": [
       "<div>                            <div id=\"56b2ff2e-856b-48a7-be01-8640e05d1d77\" class=\"plotly-graph-div\" style=\"height:525px; width:100%;\"></div>            <script type=\"text/javascript\">                require([\"plotly\"], function(Plotly) {                    window.PLOTLYENV=window.PLOTLYENV || {};                                    if (document.getElementById(\"56b2ff2e-856b-48a7-be01-8640e05d1d77\")) {                    Plotly.newPlot(                        \"56b2ff2e-856b-48a7-be01-8640e05d1d77\",                        [{\"connectgaps\":false,\"hoverinfo\":\"y+name\",\"line\":{\"color\":\"rgb(240,169,2)\",\"width\":10},\"mode\":\"lines\",\"name\":\"unloading:truck1\",\"x\":[\"1970-01-01T01:03:36.375536\",\"1970-01-01T01:03:36.375536\",\"1970-01-01T01:04:01.375536\",\"1970-01-01T01:04:01.375536\",\"1970-01-01T01:04:01.375536\",\"1970-01-01T02:07:37.751072\",\"1970-01-01T02:07:37.751072\",\"1970-01-01T02:08:02.751072\",\"1970-01-01T02:08:02.751072\",\"1970-01-01T02:08:02.751072\",\"1970-01-01T03:11:39.126609\",\"1970-01-01T03:11:39.126609\",\"1970-01-01T03:12:04.126609\",\"1970-01-01T03:12:04.126609\",\"1970-01-01T03:12:04.126609\"],\"y\":[\"truck1\",\"truck1\",\"truck1\",\"truck1\",null,\"truck1\",\"truck1\",\"truck1\",\"truck1\",null,\"truck1\",\"truck1\",\"truck1\",\"truck1\",null],\"type\":\"scatter\"},{\"connectgaps\":false,\"hoverinfo\":\"y+name\",\"line\":{\"color\":\"rgb(243,172,5)\",\"width\":10},\"mode\":\"lines\",\"name\":\"loading:truck1\",\"x\":[\"1970-01-01T00:32:00.113018\",\"1970-01-01T00:32:00.113018\",\"1970-01-01T00:32:50.113018\",\"1970-01-01T00:32:50.113018\",\"1970-01-01T00:32:50.113018\",\"1970-01-01T01:36:01.488555\",\"1970-01-01T01:36:01.488555\",\"1970-01-01T01:36:51.488555\",\"1970-01-01T01:36:51.488555\",\"1970-01-01T01:36:51.488555\",\"1970-01-01T02:40:02.864091\",\"1970-01-01T02:40:02.864091\",\"1970-01-01T02:40:52.864091\",\"1970-01-01T02:40:52.864091\",\"1970-01-01T02:40:52.864091\"],\"y\":[\"truck1\",\"truck1\",\"truck1\",\"truck1\",null,\"truck1\",\"truck1\",\"truck1\",\"truck1\",null,\"truck1\",\"truck1\",\"truck1\",\"truck1\",null],\"type\":\"scatter\"},{\"connectgaps\":false,\"hoverinfo\":\"y+name\",\"line\":{\"color\":\"rgb(246,175,8)\",\"width\":10},\"mode\":\"lines\",\"name\":\"driving_full:truck1\",\"x\":[\"1970-01-01T00:32:50.113018\",\"1970-01-01T00:32:50.113018\",\"1970-01-01T01:03:36.375536\",\"1970-01-01T01:03:36.375536\",\"1970-01-01T01:03:36.375536\",\"1970-01-01T01:36:51.488555\",\"1970-01-01T01:36:51.488555\",\"1970-01-01T02:07:37.751072\",\"1970-01-01T02:07:37.751072\",\"1970-01-01T02:07:37.751072\",\"1970-01-01T02:40:52.864091\",\"1970-01-01T02:40:52.864091\",\"1970-01-01T03:11:39.126609\",\"1970-01-01T03:11:39.126609\",\"1970-01-01T03:11:39.126609\"],\"y\":[\"truck1\",\"truck1\",\"truck1\",\"truck1\",null,\"truck1\",\"truck1\",\"truck1\",\"truck1\",null,\"truck1\",\"truck1\",\"truck1\",\"truck1\",null],\"type\":\"scatter\"},{\"connectgaps\":false,\"hoverinfo\":\"y+name\",\"line\":{\"color\":\"rgb(249,178,11)\",\"width\":10},\"mode\":\"lines\",\"name\":\"driving_empty:truck1\",\"x\":[\"1970-01-01T00:00:00\",\"1970-01-01T00:00:00\",\"1970-01-01T00:32:00.113018\",\"1970-01-01T00:32:00.113018\",\"1970-01-01T00:32:00.113018\",\"1970-01-01T01:04:01.375536\",\"1970-01-01T01:04:01.375536\",\"1970-01-01T01:36:01.488555\",\"1970-01-01T01:36:01.488555\",\"1970-01-01T01:36:01.488555\",\"1970-01-01T02:08:02.751072\",\"1970-01-01T02:08:02.751072\",\"1970-01-01T02:40:02.864091\",\"1970-01-01T02:40:02.864091\",\"1970-01-01T02:40:02.864091\"],\"y\":[\"truck1\",\"truck1\",\"truck1\",\"truck1\",null,\"truck1\",\"truck1\",\"truck1\",\"truck1\",null,\"truck1\",\"truck1\",\"truck1\",\"truck1\",null],\"type\":\"scatter\"},{\"connectgaps\":false,\"hoverinfo\":\"y+name\",\"line\":{\"color\":\"rgb(252,181,14)\",\"width\":10},\"mode\":\"lines\",\"name\":\"loading:truck2\",\"x\":[\"1970-01-01T00:32:50.113018\",\"1970-01-01T00:32:50.113018\",\"1970-01-01T00:33:40.113018\",\"1970-01-01T00:33:40.113018\",\"1970-01-01T00:33:40.113018\",\"1970-01-01T01:36:51.488555\",\"1970-01-01T01:36:51.488555\",\"1970-01-01T01:37:41.488555\",\"1970-01-01T01:37:41.488555\",\"1970-01-01T01:37:41.488555\",\"1970-01-01T02:40:52.864091\",\"1970-01-01T02:40:52.864091\",\"1970-01-01T02:41:42.864091\",\"1970-01-01T02:41:42.864091\",\"1970-01-01T02:41:42.864091\"],\"y\":[\"truck2\",\"truck2\",\"truck2\",\"truck2\",null,\"truck2\",\"truck2\",\"truck2\",\"truck2\",null,\"truck2\",\"truck2\",\"truck2\",\"truck2\",null],\"type\":\"scatter\"},{\"connectgaps\":false,\"hoverinfo\":\"y+name\",\"line\":{\"color\":\"rgb(255,184,17)\",\"width\":10},\"mode\":\"lines\",\"name\":\"driving_empty:truck2\",\"x\":[\"1970-01-01T00:00:00\",\"1970-01-01T00:00:00\",\"1970-01-01T00:32:00.113018\",\"1970-01-01T00:32:00.113018\",\"1970-01-01T00:32:00.113018\",\"1970-01-01T01:04:51.375536\",\"1970-01-01T01:04:51.375536\",\"1970-01-01T01:36:51.488555\",\"1970-01-01T01:36:51.488555\",\"1970-01-01T01:36:51.488555\",\"1970-01-01T02:08:52.751072\",\"1970-01-01T02:08:52.751072\",\"1970-01-01T02:40:52.864091\",\"1970-01-01T02:40:52.864091\",\"1970-01-01T02:40:52.864091\"],\"y\":[\"truck2\",\"truck2\",\"truck2\",\"truck2\",null,\"truck2\",\"truck2\",\"truck2\",\"truck2\",null,\"truck2\",\"truck2\",\"truck2\",\"truck2\",null],\"type\":\"scatter\"},{\"connectgaps\":false,\"hoverinfo\":\"y+name\",\"line\":{\"color\":\"rgb(2,187,20)\",\"width\":10},\"mode\":\"lines\",\"name\":\"unloading:truck2\",\"x\":[\"1970-01-01T01:04:26.375536\",\"1970-01-01T01:04:26.375536\",\"1970-01-01T01:04:51.375536\",\"1970-01-01T01:04:51.375536\",\"1970-01-01T01:04:51.375536\",\"1970-01-01T02:08:27.751072\",\"1970-01-01T02:08:27.751072\",\"1970-01-01T02:08:52.751072\",\"1970-01-01T02:08:52.751072\",\"1970-01-01T02:08:52.751072\",\"1970-01-01T03:12:29.126609\",\"1970-01-01T03:12:29.126609\",\"1970-01-01T03:12:54.126609\",\"1970-01-01T03:12:54.126609\",\"1970-01-01T03:12:54.126609\"],\"y\":[\"truck2\",\"truck2\",\"truck2\",\"truck2\",null,\"truck2\",\"truck2\",\"truck2\",\"truck2\",null,\"truck2\",\"truck2\",\"truck2\",\"truck2\",null],\"type\":\"scatter\"},{\"connectgaps\":false,\"hoverinfo\":\"y+name\",\"line\":{\"color\":\"rgb(5,190,23)\",\"width\":10},\"mode\":\"lines\",\"name\":\"driving_full:truck2\",\"x\":[\"1970-01-01T00:33:40.113018\",\"1970-01-01T00:33:40.113018\",\"1970-01-01T01:04:26.375536\",\"1970-01-01T01:04:26.375536\",\"1970-01-01T01:04:26.375536\",\"1970-01-01T01:37:41.488555\",\"1970-01-01T01:37:41.488555\",\"1970-01-01T02:08:27.751072\",\"1970-01-01T02:08:27.751072\",\"1970-01-01T02:08:27.751072\",\"1970-01-01T02:41:42.864091\",\"1970-01-01T02:41:42.864091\",\"1970-01-01T03:12:29.126609\",\"1970-01-01T03:12:29.126609\",\"1970-01-01T03:12:29.126609\"],\"y\":[\"truck2\",\"truck2\",\"truck2\",\"truck2\",null,\"truck2\",\"truck2\",\"truck2\",\"truck2\",null,\"truck2\",\"truck2\",\"truck2\",\"truck2\",null],\"type\":\"scatter\"},{\"connectgaps\":false,\"hoverinfo\":\"y+name\",\"line\":{\"color\":\"rgb(8,193,26)\",\"width\":10},\"mode\":\"lines\",\"name\":\"driving_empty:truck3\",\"x\":[\"1970-01-01T00:00:00\",\"1970-01-01T00:00:00\",\"1970-01-01T00:32:00.113018\",\"1970-01-01T00:32:00.113018\",\"1970-01-01T00:32:00.113018\",\"1970-01-01T01:05:41.375536\",\"1970-01-01T01:05:41.375536\",\"1970-01-01T01:37:41.488555\",\"1970-01-01T01:37:41.488555\",\"1970-01-01T01:37:41.488555\",\"1970-01-01T02:09:42.751072\",\"1970-01-01T02:09:42.751072\",\"1970-01-01T02:41:42.864091\",\"1970-01-01T02:41:42.864091\",\"1970-01-01T02:41:42.864091\"],\"y\":[\"truck3\",\"truck3\",\"truck3\",\"truck3\",null,\"truck3\",\"truck3\",\"truck3\",\"truck3\",null,\"truck3\",\"truck3\",\"truck3\",\"truck3\",null],\"type\":\"scatter\"},{\"connectgaps\":false,\"hoverinfo\":\"y+name\",\"line\":{\"color\":\"rgb(11,196,29)\",\"width\":10},\"mode\":\"lines\",\"name\":\"loading:truck3\",\"x\":[\"1970-01-01T00:33:40.113018\",\"1970-01-01T00:33:40.113018\",\"1970-01-01T00:34:30.113018\",\"1970-01-01T00:34:30.113018\",\"1970-01-01T00:34:30.113018\",\"1970-01-01T01:37:41.488555\",\"1970-01-01T01:37:41.488555\",\"1970-01-01T01:38:31.488555\",\"1970-01-01T01:38:31.488555\",\"1970-01-01T01:38:31.488555\",\"1970-01-01T02:41:42.864091\",\"1970-01-01T02:41:42.864091\",\"1970-01-01T02:42:32.864091\",\"1970-01-01T02:42:32.864091\",\"1970-01-01T02:42:32.864091\"],\"y\":[\"truck3\",\"truck3\",\"truck3\",\"truck3\",null,\"truck3\",\"truck3\",\"truck3\",\"truck3\",null,\"truck3\",\"truck3\",\"truck3\",\"truck3\",null],\"type\":\"scatter\"},{\"connectgaps\":false,\"hoverinfo\":\"y+name\",\"line\":{\"color\":\"rgb(14,199,32)\",\"width\":10},\"mode\":\"lines\",\"name\":\"unloading:truck3\",\"x\":[\"1970-01-01T01:05:16.375536\",\"1970-01-01T01:05:16.375536\",\"1970-01-01T01:05:41.375536\",\"1970-01-01T01:05:41.375536\",\"1970-01-01T01:05:41.375536\",\"1970-01-01T02:09:17.751072\",\"1970-01-01T02:09:17.751072\",\"1970-01-01T02:09:42.751072\",\"1970-01-01T02:09:42.751072\",\"1970-01-01T02:09:42.751072\",\"1970-01-01T03:13:19.126609\",\"1970-01-01T03:13:19.126609\",\"1970-01-01T03:13:44.126609\",\"1970-01-01T03:13:44.126609\",\"1970-01-01T03:13:44.126609\"],\"y\":[\"truck3\",\"truck3\",\"truck3\",\"truck3\",null,\"truck3\",\"truck3\",\"truck3\",\"truck3\",null,\"truck3\",\"truck3\",\"truck3\",\"truck3\",null],\"type\":\"scatter\"},{\"connectgaps\":false,\"hoverinfo\":\"y+name\",\"line\":{\"color\":\"rgb(17,202,35)\",\"width\":10},\"mode\":\"lines\",\"name\":\"driving_full:truck3\",\"x\":[\"1970-01-01T00:34:30.113018\",\"1970-01-01T00:34:30.113018\",\"1970-01-01T01:05:16.375536\",\"1970-01-01T01:05:16.375536\",\"1970-01-01T01:05:16.375536\",\"1970-01-01T01:38:31.488555\",\"1970-01-01T01:38:31.488555\",\"1970-01-01T02:09:17.751072\",\"1970-01-01T02:09:17.751072\",\"1970-01-01T02:09:17.751072\",\"1970-01-01T02:42:32.864091\",\"1970-01-01T02:42:32.864091\",\"1970-01-01T03:13:19.126609\",\"1970-01-01T03:13:19.126609\",\"1970-01-01T03:13:19.126609\"],\"y\":[\"truck3\",\"truck3\",\"truck3\",\"truck3\",null,\"truck3\",\"truck3\",\"truck3\",\"truck3\",null,\"truck3\",\"truck3\",\"truck3\",\"truck3\",null],\"type\":\"scatter\"},{\"connectgaps\":false,\"hoverinfo\":\"y+name\",\"line\":{\"color\":\"rgb(20,205,38)\",\"width\":10},\"mode\":\"lines\",\"name\":\"loading:truck4\",\"x\":[\"1970-01-01T00:34:30.113018\",\"1970-01-01T00:34:30.113018\",\"1970-01-01T00:35:20.113018\",\"1970-01-01T00:35:20.113018\",\"1970-01-01T00:35:20.113018\",\"1970-01-01T01:38:31.488555\",\"1970-01-01T01:38:31.488555\",\"1970-01-01T01:39:21.488555\",\"1970-01-01T01:39:21.488555\",\"1970-01-01T01:39:21.488555\",\"1970-01-01T02:42:32.864091\",\"1970-01-01T02:42:32.864091\",\"1970-01-01T02:43:22.864091\",\"1970-01-01T02:43:22.864091\",\"1970-01-01T02:43:22.864091\"],\"y\":[\"truck4\",\"truck4\",\"truck4\",\"truck4\",null,\"truck4\",\"truck4\",\"truck4\",\"truck4\",null,\"truck4\",\"truck4\",\"truck4\",\"truck4\",null],\"type\":\"scatter\"},{\"connectgaps\":false,\"hoverinfo\":\"y+name\",\"line\":{\"color\":\"rgb(23,208,41)\",\"width\":10},\"mode\":\"lines\",\"name\":\"unloading:truck4\",\"x\":[\"1970-01-01T01:06:06.375536\",\"1970-01-01T01:06:06.375536\",\"1970-01-01T01:06:31.375536\",\"1970-01-01T01:06:31.375536\",\"1970-01-01T01:06:31.375536\",\"1970-01-01T02:10:07.751072\",\"1970-01-01T02:10:07.751072\",\"1970-01-01T02:10:32.751072\",\"1970-01-01T02:10:32.751072\",\"1970-01-01T02:10:32.751072\",\"1970-01-01T03:14:09.126609\",\"1970-01-01T03:14:09.126609\",\"1970-01-01T03:14:34.126609\",\"1970-01-01T03:14:34.126609\",\"1970-01-01T03:14:34.126609\"],\"y\":[\"truck4\",\"truck4\",\"truck4\",\"truck4\",null,\"truck4\",\"truck4\",\"truck4\",\"truck4\",null,\"truck4\",\"truck4\",\"truck4\",\"truck4\",null],\"type\":\"scatter\"},{\"connectgaps\":false,\"hoverinfo\":\"y+name\",\"line\":{\"color\":\"rgb(26,211,44)\",\"width\":10},\"mode\":\"lines\",\"name\":\"driving_full:truck4\",\"x\":[\"1970-01-01T00:35:20.113018\",\"1970-01-01T00:35:20.113018\",\"1970-01-01T01:06:06.375536\",\"1970-01-01T01:06:06.375536\",\"1970-01-01T01:06:06.375536\",\"1970-01-01T01:39:21.488555\",\"1970-01-01T01:39:21.488555\",\"1970-01-01T02:10:07.751072\",\"1970-01-01T02:10:07.751072\",\"1970-01-01T02:10:07.751072\",\"1970-01-01T02:43:22.864091\",\"1970-01-01T02:43:22.864091\",\"1970-01-01T03:14:09.126609\",\"1970-01-01T03:14:09.126609\",\"1970-01-01T03:14:09.126609\"],\"y\":[\"truck4\",\"truck4\",\"truck4\",\"truck4\",null,\"truck4\",\"truck4\",\"truck4\",\"truck4\",null,\"truck4\",\"truck4\",\"truck4\",\"truck4\",null],\"type\":\"scatter\"},{\"connectgaps\":false,\"hoverinfo\":\"y+name\",\"line\":{\"color\":\"rgb(29,214,47)\",\"width\":10},\"mode\":\"lines\",\"name\":\"driving_empty:truck4\",\"x\":[\"1970-01-01T00:00:00\",\"1970-01-01T00:00:00\",\"1970-01-01T00:32:00.113018\",\"1970-01-01T00:32:00.113018\",\"1970-01-01T00:32:00.113018\",\"1970-01-01T01:06:31.375536\",\"1970-01-01T01:06:31.375536\",\"1970-01-01T01:38:31.488555\",\"1970-01-01T01:38:31.488555\",\"1970-01-01T01:38:31.488555\",\"1970-01-01T02:10:32.751072\",\"1970-01-01T02:10:32.751072\",\"1970-01-01T02:42:32.864091\",\"1970-01-01T02:42:32.864091\",\"1970-01-01T02:42:32.864091\"],\"y\":[\"truck4\",\"truck4\",\"truck4\",\"truck4\",null,\"truck4\",\"truck4\",\"truck4\",\"truck4\",null,\"truck4\",\"truck4\",\"truck4\",\"truck4\",null],\"type\":\"scatter\"},{\"connectgaps\":false,\"hoverinfo\":\"y+name\",\"line\":{\"color\":\"rgb(32,217,50)\",\"width\":10},\"mode\":\"lines\",\"name\":\"driving_empty:truck5\",\"x\":[\"1970-01-01T00:00:00\",\"1970-01-01T00:00:00\",\"1970-01-01T00:32:00.113018\",\"1970-01-01T00:32:00.113018\",\"1970-01-01T00:32:00.113018\",\"1970-01-01T01:07:21.375536\",\"1970-01-01T01:07:21.375536\",\"1970-01-01T01:39:21.488555\",\"1970-01-01T01:39:21.488555\",\"1970-01-01T01:39:21.488555\",\"1970-01-01T02:11:22.751072\",\"1970-01-01T02:11:22.751072\",\"1970-01-01T02:43:22.864091\",\"1970-01-01T02:43:22.864091\",\"1970-01-01T02:43:22.864091\"],\"y\":[\"truck5\",\"truck5\",\"truck5\",\"truck5\",null,\"truck5\",\"truck5\",\"truck5\",\"truck5\",null,\"truck5\",\"truck5\",\"truck5\",\"truck5\",null],\"type\":\"scatter\"},{\"connectgaps\":false,\"hoverinfo\":\"y+name\",\"line\":{\"color\":\"rgb(35,220,53)\",\"width\":10},\"mode\":\"lines\",\"name\":\"loading:truck5\",\"x\":[\"1970-01-01T00:35:20.113018\",\"1970-01-01T00:35:20.113018\",\"1970-01-01T00:36:10.113018\",\"1970-01-01T00:36:10.113018\",\"1970-01-01T00:36:10.113018\",\"1970-01-01T01:39:21.488555\",\"1970-01-01T01:39:21.488555\",\"1970-01-01T01:40:11.488555\",\"1970-01-01T01:40:11.488555\",\"1970-01-01T01:40:11.488555\",\"1970-01-01T02:43:22.864091\",\"1970-01-01T02:43:22.864091\",\"1970-01-01T02:44:12.864091\",\"1970-01-01T02:44:12.864091\",\"1970-01-01T02:44:12.864091\"],\"y\":[\"truck5\",\"truck5\",\"truck5\",\"truck5\",null,\"truck5\",\"truck5\",\"truck5\",\"truck5\",null,\"truck5\",\"truck5\",\"truck5\",\"truck5\",null],\"type\":\"scatter\"},{\"connectgaps\":false,\"hoverinfo\":\"y+name\",\"line\":{\"color\":\"rgb(38,223,56)\",\"width\":10},\"mode\":\"lines\",\"name\":\"unloading:truck5\",\"x\":[\"1970-01-01T01:06:56.375536\",\"1970-01-01T01:06:56.375536\",\"1970-01-01T01:07:21.375536\",\"1970-01-01T01:07:21.375536\",\"1970-01-01T01:07:21.375536\",\"1970-01-01T02:10:57.751072\",\"1970-01-01T02:10:57.751072\",\"1970-01-01T02:11:22.751072\",\"1970-01-01T02:11:22.751072\",\"1970-01-01T02:11:22.751072\",\"1970-01-01T03:14:59.126609\",\"1970-01-01T03:14:59.126609\",\"1970-01-01T03:15:24.126609\",\"1970-01-01T03:15:24.126609\",\"1970-01-01T03:15:24.126609\"],\"y\":[\"truck5\",\"truck5\",\"truck5\",\"truck5\",null,\"truck5\",\"truck5\",\"truck5\",\"truck5\",null,\"truck5\",\"truck5\",\"truck5\",\"truck5\",null],\"type\":\"scatter\"},{\"connectgaps\":false,\"hoverinfo\":\"y+name\",\"line\":{\"color\":\"rgb(41,226,59)\",\"width\":10},\"mode\":\"lines\",\"name\":\"driving_full:truck5\",\"x\":[\"1970-01-01T00:36:10.113018\",\"1970-01-01T00:36:10.113018\",\"1970-01-01T01:06:56.375536\",\"1970-01-01T01:06:56.375536\",\"1970-01-01T01:06:56.375536\",\"1970-01-01T01:40:11.488555\",\"1970-01-01T01:40:11.488555\",\"1970-01-01T02:10:57.751072\",\"1970-01-01T02:10:57.751072\",\"1970-01-01T02:10:57.751072\",\"1970-01-01T02:44:12.864091\",\"1970-01-01T02:44:12.864091\",\"1970-01-01T03:14:59.126609\",\"1970-01-01T03:14:59.126609\",\"1970-01-01T03:14:59.126609\"],\"y\":[\"truck5\",\"truck5\",\"truck5\",\"truck5\",null,\"truck5\",\"truck5\",\"truck5\",\"truck5\",null,\"truck5\",\"truck5\",\"truck5\",\"truck5\",null],\"type\":\"scatter\"},{\"connectgaps\":false,\"hoverinfo\":\"y+name\",\"line\":{\"color\":\"rgb(44,229,62)\",\"width\":10},\"mode\":\"lines\",\"name\":\"loading:truck6\",\"x\":[\"1970-01-01T00:36:10.113018\",\"1970-01-01T00:36:10.113018\",\"1970-01-01T00:37:00.113018\",\"1970-01-01T00:37:00.113018\",\"1970-01-01T00:37:00.113018\",\"1970-01-01T01:40:11.488555\",\"1970-01-01T01:40:11.488555\",\"1970-01-01T01:41:01.488555\",\"1970-01-01T01:41:01.488555\",\"1970-01-01T01:41:01.488555\",\"1970-01-01T02:44:12.864091\",\"1970-01-01T02:44:12.864091\",\"1970-01-01T02:45:02.864091\",\"1970-01-01T02:45:02.864091\",\"1970-01-01T02:45:02.864091\"],\"y\":[\"truck6\",\"truck6\",\"truck6\",\"truck6\",null,\"truck6\",\"truck6\",\"truck6\",\"truck6\",null,\"truck6\",\"truck6\",\"truck6\",\"truck6\",null],\"type\":\"scatter\"},{\"connectgaps\":false,\"hoverinfo\":\"y+name\",\"line\":{\"color\":\"rgb(47,232,65)\",\"width\":10},\"mode\":\"lines\",\"name\":\"driving_full:truck6\",\"x\":[\"1970-01-01T00:37:00.113018\",\"1970-01-01T00:37:00.113018\",\"1970-01-01T01:07:46.375536\",\"1970-01-01T01:07:46.375536\",\"1970-01-01T01:07:46.375536\",\"1970-01-01T01:41:01.488555\",\"1970-01-01T01:41:01.488555\",\"1970-01-01T02:11:47.751072\",\"1970-01-01T02:11:47.751072\",\"1970-01-01T02:11:47.751072\",\"1970-01-01T02:45:02.864091\",\"1970-01-01T02:45:02.864091\",\"1970-01-01T03:15:49.126609\",\"1970-01-01T03:15:49.126609\",\"1970-01-01T03:15:49.126609\"],\"y\":[\"truck6\",\"truck6\",\"truck6\",\"truck6\",null,\"truck6\",\"truck6\",\"truck6\",\"truck6\",null,\"truck6\",\"truck6\",\"truck6\",\"truck6\",null],\"type\":\"scatter\"},{\"connectgaps\":false,\"hoverinfo\":\"y+name\",\"line\":{\"color\":\"rgb(50,235,68)\",\"width\":10},\"mode\":\"lines\",\"name\":\"driving_empty:truck6\",\"x\":[\"1970-01-01T00:00:00\",\"1970-01-01T00:00:00\",\"1970-01-01T00:32:00.113018\",\"1970-01-01T00:32:00.113018\",\"1970-01-01T00:32:00.113018\",\"1970-01-01T01:08:11.375536\",\"1970-01-01T01:08:11.375536\",\"1970-01-01T01:40:11.488555\",\"1970-01-01T01:40:11.488555\",\"1970-01-01T01:40:11.488555\",\"1970-01-01T02:12:12.751072\",\"1970-01-01T02:12:12.751072\",\"1970-01-01T02:44:12.864091\",\"1970-01-01T02:44:12.864091\",\"1970-01-01T02:44:12.864091\"],\"y\":[\"truck6\",\"truck6\",\"truck6\",\"truck6\",null,\"truck6\",\"truck6\",\"truck6\",\"truck6\",null,\"truck6\",\"truck6\",\"truck6\",\"truck6\",null],\"type\":\"scatter\"},{\"connectgaps\":false,\"hoverinfo\":\"y+name\",\"line\":{\"color\":\"rgb(53,238,71)\",\"width\":10},\"mode\":\"lines\",\"name\":\"unloading:truck6\",\"x\":[\"1970-01-01T01:07:46.375536\",\"1970-01-01T01:07:46.375536\",\"1970-01-01T01:08:11.375536\",\"1970-01-01T01:08:11.375536\",\"1970-01-01T01:08:11.375536\",\"1970-01-01T02:11:47.751072\",\"1970-01-01T02:11:47.751072\",\"1970-01-01T02:12:12.751072\",\"1970-01-01T02:12:12.751072\",\"1970-01-01T02:12:12.751072\",\"1970-01-01T03:15:49.126609\",\"1970-01-01T03:15:49.126609\",\"1970-01-01T03:16:14.126609\",\"1970-01-01T03:16:14.126609\",\"1970-01-01T03:16:14.126609\"],\"y\":[\"truck6\",\"truck6\",\"truck6\",\"truck6\",null,\"truck6\",\"truck6\",\"truck6\",\"truck6\",null,\"truck6\",\"truck6\",\"truck6\",\"truck6\",null],\"type\":\"scatter\"},{\"connectgaps\":false,\"hoverinfo\":\"y+name\",\"line\":{\"color\":\"rgb(56,241,74)\",\"width\":10},\"mode\":\"lines\",\"name\":\"driving_full:truck7\",\"x\":[\"1970-01-01T00:37:50.113018\",\"1970-01-01T00:37:50.113018\",\"1970-01-01T01:08:36.375536\",\"1970-01-01T01:08:36.375536\",\"1970-01-01T01:08:36.375536\",\"1970-01-01T01:41:51.488555\",\"1970-01-01T01:41:51.488555\",\"1970-01-01T02:12:37.751072\",\"1970-01-01T02:12:37.751072\",\"1970-01-01T02:12:37.751072\",\"1970-01-01T02:45:52.864091\",\"1970-01-01T02:45:52.864091\",\"1970-01-01T03:16:39.126609\",\"1970-01-01T03:16:39.126609\",\"1970-01-01T03:16:39.126609\"],\"y\":[\"truck7\",\"truck7\",\"truck7\",\"truck7\",null,\"truck7\",\"truck7\",\"truck7\",\"truck7\",null,\"truck7\",\"truck7\",\"truck7\",\"truck7\",null],\"type\":\"scatter\"},{\"connectgaps\":false,\"hoverinfo\":\"y+name\",\"line\":{\"color\":\"rgb(59,244,77)\",\"width\":10},\"mode\":\"lines\",\"name\":\"unloading:truck7\",\"x\":[\"1970-01-01T01:08:36.375536\",\"1970-01-01T01:08:36.375536\",\"1970-01-01T01:09:01.375536\",\"1970-01-01T01:09:01.375536\",\"1970-01-01T01:09:01.375536\",\"1970-01-01T02:12:37.751072\",\"1970-01-01T02:12:37.751072\",\"1970-01-01T02:13:02.751072\",\"1970-01-01T02:13:02.751072\",\"1970-01-01T02:13:02.751072\",\"1970-01-01T03:16:39.126609\",\"1970-01-01T03:16:39.126609\",\"1970-01-01T03:17:04.126609\",\"1970-01-01T03:17:04.126609\",\"1970-01-01T03:17:04.126609\"],\"y\":[\"truck7\",\"truck7\",\"truck7\",\"truck7\",null,\"truck7\",\"truck7\",\"truck7\",\"truck7\",null,\"truck7\",\"truck7\",\"truck7\",\"truck7\",null],\"type\":\"scatter\"},{\"connectgaps\":false,\"hoverinfo\":\"y+name\",\"line\":{\"color\":\"rgb(62,247,80)\",\"width\":10},\"mode\":\"lines\",\"name\":\"driving_empty:truck7\",\"x\":[\"1970-01-01T00:00:00\",\"1970-01-01T00:00:00\",\"1970-01-01T00:32:00.113018\",\"1970-01-01T00:32:00.113018\",\"1970-01-01T00:32:00.113018\",\"1970-01-01T01:09:01.375536\",\"1970-01-01T01:09:01.375536\",\"1970-01-01T01:41:01.488555\",\"1970-01-01T01:41:01.488555\",\"1970-01-01T01:41:01.488555\",\"1970-01-01T02:13:02.751072\",\"1970-01-01T02:13:02.751072\",\"1970-01-01T02:45:02.864091\",\"1970-01-01T02:45:02.864091\",\"1970-01-01T02:45:02.864091\"],\"y\":[\"truck7\",\"truck7\",\"truck7\",\"truck7\",null,\"truck7\",\"truck7\",\"truck7\",\"truck7\",null,\"truck7\",\"truck7\",\"truck7\",\"truck7\",null],\"type\":\"scatter\"},{\"connectgaps\":false,\"hoverinfo\":\"y+name\",\"line\":{\"color\":\"rgb(65,250,83)\",\"width\":10},\"mode\":\"lines\",\"name\":\"loading:truck7\",\"x\":[\"1970-01-01T00:37:00.113018\",\"1970-01-01T00:37:00.113018\",\"1970-01-01T00:37:50.113018\",\"1970-01-01T00:37:50.113018\",\"1970-01-01T00:37:50.113018\",\"1970-01-01T01:41:01.488555\",\"1970-01-01T01:41:01.488555\",\"1970-01-01T01:41:51.488555\",\"1970-01-01T01:41:51.488555\",\"1970-01-01T01:41:51.488555\",\"1970-01-01T02:45:02.864091\",\"1970-01-01T02:45:02.864091\",\"1970-01-01T02:45:52.864091\",\"1970-01-01T02:45:52.864091\",\"1970-01-01T02:45:52.864091\"],\"y\":[\"truck7\",\"truck7\",\"truck7\",\"truck7\",null,\"truck7\",\"truck7\",\"truck7\",\"truck7\",null,\"truck7\",\"truck7\",\"truck7\",\"truck7\",null],\"type\":\"scatter\"},{\"connectgaps\":false,\"hoverinfo\":\"y+name\",\"line\":{\"color\":\"rgb(68,253,86)\",\"width\":10},\"mode\":\"lines\",\"name\":\"driving_empty:truck8\",\"x\":[\"1970-01-01T00:00:00\",\"1970-01-01T00:00:00\",\"1970-01-01T00:32:00.113018\",\"1970-01-01T00:32:00.113018\",\"1970-01-01T00:32:00.113018\",\"1970-01-01T01:09:51.375536\",\"1970-01-01T01:09:51.375536\",\"1970-01-01T01:41:51.488555\",\"1970-01-01T01:41:51.488555\",\"1970-01-01T01:41:51.488555\",\"1970-01-01T02:13:52.751072\",\"1970-01-01T02:13:52.751072\",\"1970-01-01T02:45:52.864091\",\"1970-01-01T02:45:52.864091\",\"1970-01-01T02:45:52.864091\"],\"y\":[\"truck8\",\"truck8\",\"truck8\",\"truck8\",null,\"truck8\",\"truck8\",\"truck8\",\"truck8\",null,\"truck8\",\"truck8\",\"truck8\",\"truck8\",null],\"type\":\"scatter\"},{\"connectgaps\":false,\"hoverinfo\":\"y+name\",\"line\":{\"color\":\"rgb(71,0,89)\",\"width\":10},\"mode\":\"lines\",\"name\":\"unloading:truck8\",\"x\":[\"1970-01-01T01:09:26.375536\",\"1970-01-01T01:09:26.375536\",\"1970-01-01T01:09:51.375536\",\"1970-01-01T01:09:51.375536\",\"1970-01-01T01:09:51.375536\",\"1970-01-01T02:13:27.751072\",\"1970-01-01T02:13:27.751072\",\"1970-01-01T02:13:52.751072\",\"1970-01-01T02:13:52.751072\",\"1970-01-01T02:13:52.751072\",\"1970-01-01T03:17:29.126609\",\"1970-01-01T03:17:29.126609\",\"1970-01-01T03:17:54.126609\",\"1970-01-01T03:17:54.126609\",\"1970-01-01T03:17:54.126609\"],\"y\":[\"truck8\",\"truck8\",\"truck8\",\"truck8\",null,\"truck8\",\"truck8\",\"truck8\",\"truck8\",null,\"truck8\",\"truck8\",\"truck8\",\"truck8\",null],\"type\":\"scatter\"},{\"connectgaps\":false,\"hoverinfo\":\"y+name\",\"line\":{\"color\":\"rgb(74,3,92)\",\"width\":10},\"mode\":\"lines\",\"name\":\"driving_full:truck8\",\"x\":[\"1970-01-01T00:38:40.113018\",\"1970-01-01T00:38:40.113018\",\"1970-01-01T01:09:26.375536\",\"1970-01-01T01:09:26.375536\",\"1970-01-01T01:09:26.375536\",\"1970-01-01T01:42:41.488555\",\"1970-01-01T01:42:41.488555\",\"1970-01-01T02:13:27.751072\",\"1970-01-01T02:13:27.751072\",\"1970-01-01T02:13:27.751072\",\"1970-01-01T02:46:42.864091\",\"1970-01-01T02:46:42.864091\",\"1970-01-01T03:17:29.126609\",\"1970-01-01T03:17:29.126609\",\"1970-01-01T03:17:29.126609\"],\"y\":[\"truck8\",\"truck8\",\"truck8\",\"truck8\",null,\"truck8\",\"truck8\",\"truck8\",\"truck8\",null,\"truck8\",\"truck8\",\"truck8\",\"truck8\",null],\"type\":\"scatter\"},{\"connectgaps\":false,\"hoverinfo\":\"y+name\",\"line\":{\"color\":\"rgb(77,6,95)\",\"width\":10},\"mode\":\"lines\",\"name\":\"loading:truck8\",\"x\":[\"1970-01-01T00:37:50.113018\",\"1970-01-01T00:37:50.113018\",\"1970-01-01T00:38:40.113018\",\"1970-01-01T00:38:40.113018\",\"1970-01-01T00:38:40.113018\",\"1970-01-01T01:41:51.488555\",\"1970-01-01T01:41:51.488555\",\"1970-01-01T01:42:41.488555\",\"1970-01-01T01:42:41.488555\",\"1970-01-01T01:42:41.488555\",\"1970-01-01T02:45:52.864091\",\"1970-01-01T02:45:52.864091\",\"1970-01-01T02:46:42.864091\",\"1970-01-01T02:46:42.864091\",\"1970-01-01T02:46:42.864091\"],\"y\":[\"truck8\",\"truck8\",\"truck8\",\"truck8\",null,\"truck8\",\"truck8\",\"truck8\",\"truck8\",null,\"truck8\",\"truck8\",\"truck8\",\"truck8\",null],\"type\":\"scatter\"},{\"connectgaps\":false,\"hoverinfo\":\"y+name\",\"line\":{\"color\":\"rgb(80,9,98)\",\"width\":10},\"mode\":\"lines\",\"name\":\"unloading:truck9\",\"x\":[\"1970-01-01T01:10:16.375536\",\"1970-01-01T01:10:16.375536\",\"1970-01-01T01:10:41.375536\",\"1970-01-01T01:10:41.375536\",\"1970-01-01T01:10:41.375536\",\"1970-01-01T02:14:17.751072\",\"1970-01-01T02:14:17.751072\",\"1970-01-01T02:14:42.751072\",\"1970-01-01T02:14:42.751072\",\"1970-01-01T02:14:42.751072\",\"1970-01-01T03:18:19.126609\",\"1970-01-01T03:18:19.126609\",\"1970-01-01T03:18:44.126609\",\"1970-01-01T03:18:44.126609\",\"1970-01-01T03:18:44.126609\"],\"y\":[\"truck9\",\"truck9\",\"truck9\",\"truck9\",null,\"truck9\",\"truck9\",\"truck9\",\"truck9\",null,\"truck9\",\"truck9\",\"truck9\",\"truck9\",null],\"type\":\"scatter\"},{\"connectgaps\":false,\"hoverinfo\":\"y+name\",\"line\":{\"color\":\"rgb(83,12,101)\",\"width\":10},\"mode\":\"lines\",\"name\":\"driving_full:truck9\",\"x\":[\"1970-01-01T00:39:30.113018\",\"1970-01-01T00:39:30.113018\",\"1970-01-01T01:10:16.375536\",\"1970-01-01T01:10:16.375536\",\"1970-01-01T01:10:16.375536\",\"1970-01-01T01:43:31.488555\",\"1970-01-01T01:43:31.488555\",\"1970-01-01T02:14:17.751072\",\"1970-01-01T02:14:17.751072\",\"1970-01-01T02:14:17.751072\",\"1970-01-01T02:47:32.864091\",\"1970-01-01T02:47:32.864091\",\"1970-01-01T03:18:19.126609\",\"1970-01-01T03:18:19.126609\",\"1970-01-01T03:18:19.126609\"],\"y\":[\"truck9\",\"truck9\",\"truck9\",\"truck9\",null,\"truck9\",\"truck9\",\"truck9\",\"truck9\",null,\"truck9\",\"truck9\",\"truck9\",\"truck9\",null],\"type\":\"scatter\"},{\"connectgaps\":false,\"hoverinfo\":\"y+name\",\"line\":{\"color\":\"rgb(86,15,104)\",\"width\":10},\"mode\":\"lines\",\"name\":\"loading:truck9\",\"x\":[\"1970-01-01T00:38:40.113018\",\"1970-01-01T00:38:40.113018\",\"1970-01-01T00:39:30.113018\",\"1970-01-01T00:39:30.113018\",\"1970-01-01T00:39:30.113018\",\"1970-01-01T01:42:41.488555\",\"1970-01-01T01:42:41.488555\",\"1970-01-01T01:43:31.488555\",\"1970-01-01T01:43:31.488555\",\"1970-01-01T01:43:31.488555\",\"1970-01-01T02:46:42.864091\",\"1970-01-01T02:46:42.864091\",\"1970-01-01T02:47:32.864091\",\"1970-01-01T02:47:32.864091\",\"1970-01-01T02:47:32.864091\"],\"y\":[\"truck9\",\"truck9\",\"truck9\",\"truck9\",null,\"truck9\",\"truck9\",\"truck9\",\"truck9\",null,\"truck9\",\"truck9\",\"truck9\",\"truck9\",null],\"type\":\"scatter\"},{\"connectgaps\":false,\"hoverinfo\":\"y+name\",\"line\":{\"color\":\"rgb(89,18,107)\",\"width\":10},\"mode\":\"lines\",\"name\":\"driving_empty:truck9\",\"x\":[\"1970-01-01T00:00:00\",\"1970-01-01T00:00:00\",\"1970-01-01T00:32:00.113018\",\"1970-01-01T00:32:00.113018\",\"1970-01-01T00:32:00.113018\",\"1970-01-01T01:10:41.375536\",\"1970-01-01T01:10:41.375536\",\"1970-01-01T01:42:41.488555\",\"1970-01-01T01:42:41.488555\",\"1970-01-01T01:42:41.488555\",\"1970-01-01T02:14:42.751072\",\"1970-01-01T02:14:42.751072\",\"1970-01-01T02:46:42.864091\",\"1970-01-01T02:46:42.864091\",\"1970-01-01T02:46:42.864091\"],\"y\":[\"truck9\",\"truck9\",\"truck9\",\"truck9\",null,\"truck9\",\"truck9\",\"truck9\",\"truck9\",null,\"truck9\",\"truck9\",\"truck9\",\"truck9\",null],\"type\":\"scatter\"},{\"connectgaps\":false,\"hoverinfo\":\"y+name\",\"line\":{\"color\":\"rgb(92,21,110)\",\"width\":10},\"mode\":\"lines\",\"name\":\"unloading:truck10\",\"x\":[\"1970-01-01T01:11:06.375536\",\"1970-01-01T01:11:06.375536\",\"1970-01-01T01:11:31.375536\",\"1970-01-01T01:11:31.375536\",\"1970-01-01T01:11:31.375536\",\"1970-01-01T02:15:07.751072\",\"1970-01-01T02:15:07.751072\",\"1970-01-01T02:15:32.751072\",\"1970-01-01T02:15:32.751072\",\"1970-01-01T02:15:32.751072\",\"1970-01-01T03:19:09.126609\",\"1970-01-01T03:19:09.126609\",\"1970-01-01T03:19:34.126609\",\"1970-01-01T03:19:34.126609\",\"1970-01-01T03:19:34.126609\"],\"y\":[\"truck10\",\"truck10\",\"truck10\",\"truck10\",null,\"truck10\",\"truck10\",\"truck10\",\"truck10\",null,\"truck10\",\"truck10\",\"truck10\",\"truck10\",null],\"type\":\"scatter\"},{\"connectgaps\":false,\"hoverinfo\":\"y+name\",\"line\":{\"color\":\"rgb(95,24,113)\",\"width\":10},\"mode\":\"lines\",\"name\":\"loading:truck10\",\"x\":[\"1970-01-01T00:39:30.113018\",\"1970-01-01T00:39:30.113018\",\"1970-01-01T00:40:20.113018\",\"1970-01-01T00:40:20.113018\",\"1970-01-01T00:40:20.113018\",\"1970-01-01T01:43:31.488555\",\"1970-01-01T01:43:31.488555\",\"1970-01-01T01:44:21.488555\",\"1970-01-01T01:44:21.488555\",\"1970-01-01T01:44:21.488555\",\"1970-01-01T02:47:32.864091\",\"1970-01-01T02:47:32.864091\",\"1970-01-01T02:48:22.864091\",\"1970-01-01T02:48:22.864091\",\"1970-01-01T02:48:22.864091\"],\"y\":[\"truck10\",\"truck10\",\"truck10\",\"truck10\",null,\"truck10\",\"truck10\",\"truck10\",\"truck10\",null,\"truck10\",\"truck10\",\"truck10\",\"truck10\",null],\"type\":\"scatter\"},{\"connectgaps\":false,\"hoverinfo\":\"y+name\",\"line\":{\"color\":\"rgb(98,27,116)\",\"width\":10},\"mode\":\"lines\",\"name\":\"driving_full:truck10\",\"x\":[\"1970-01-01T00:40:20.113018\",\"1970-01-01T00:40:20.113018\",\"1970-01-01T01:11:06.375536\",\"1970-01-01T01:11:06.375536\",\"1970-01-01T01:11:06.375536\",\"1970-01-01T01:44:21.488555\",\"1970-01-01T01:44:21.488555\",\"1970-01-01T02:15:07.751072\",\"1970-01-01T02:15:07.751072\",\"1970-01-01T02:15:07.751072\",\"1970-01-01T02:48:22.864091\",\"1970-01-01T02:48:22.864091\",\"1970-01-01T03:19:09.126609\",\"1970-01-01T03:19:09.126609\",\"1970-01-01T03:19:09.126609\"],\"y\":[\"truck10\",\"truck10\",\"truck10\",\"truck10\",null,\"truck10\",\"truck10\",\"truck10\",\"truck10\",null,\"truck10\",\"truck10\",\"truck10\",\"truck10\",null],\"type\":\"scatter\"},{\"connectgaps\":false,\"hoverinfo\":\"y+name\",\"line\":{\"color\":\"rgb(101,30,119)\",\"width\":10},\"mode\":\"lines\",\"name\":\"driving_empty:truck10\",\"x\":[\"1970-01-01T00:00:00\",\"1970-01-01T00:00:00\",\"1970-01-01T00:32:00.113018\",\"1970-01-01T00:32:00.113018\",\"1970-01-01T00:32:00.113018\",\"1970-01-01T01:11:31.375536\",\"1970-01-01T01:11:31.375536\",\"1970-01-01T01:43:31.488555\",\"1970-01-01T01:43:31.488555\",\"1970-01-01T01:43:31.488555\",\"1970-01-01T02:15:32.751072\",\"1970-01-01T02:15:32.751072\",\"1970-01-01T02:47:32.864091\",\"1970-01-01T02:47:32.864091\",\"1970-01-01T02:47:32.864091\"],\"y\":[\"truck10\",\"truck10\",\"truck10\",\"truck10\",null,\"truck10\",\"truck10\",\"truck10\",\"truck10\",null,\"truck10\",\"truck10\",\"truck10\",\"truck10\",null],\"type\":\"scatter\"},{\"connectgaps\":false,\"hoverinfo\":\"y+name\",\"line\":{\"color\":\"rgb(104,33,122)\",\"width\":10},\"mode\":\"lines\",\"name\":\"driving_empty:truck11\",\"x\":[\"1970-01-01T00:00:00\",\"1970-01-01T00:00:00\",\"1970-01-01T00:32:00.113018\",\"1970-01-01T00:32:00.113018\",\"1970-01-01T00:32:00.113018\",\"1970-01-01T01:12:21.375536\",\"1970-01-01T01:12:21.375536\",\"1970-01-01T01:44:21.488555\",\"1970-01-01T01:44:21.488555\",\"1970-01-01T01:44:21.488555\"],\"y\":[\"truck11\",\"truck11\",\"truck11\",\"truck11\",null,\"truck11\",\"truck11\",\"truck11\",\"truck11\",null],\"type\":\"scatter\"},{\"connectgaps\":false,\"hoverinfo\":\"y+name\",\"line\":{\"color\":\"rgb(107,36,125)\",\"width\":10},\"mode\":\"lines\",\"name\":\"loading:truck11\",\"x\":[\"1970-01-01T00:40:20.113018\",\"1970-01-01T00:40:20.113018\",\"1970-01-01T00:41:10.113018\",\"1970-01-01T00:41:10.113018\",\"1970-01-01T00:41:10.113018\",\"1970-01-01T01:44:21.488555\",\"1970-01-01T01:44:21.488555\",\"1970-01-01T01:45:11.488555\",\"1970-01-01T01:45:11.488555\",\"1970-01-01T01:45:11.488555\"],\"y\":[\"truck11\",\"truck11\",\"truck11\",\"truck11\",null,\"truck11\",\"truck11\",\"truck11\",\"truck11\",null],\"type\":\"scatter\"},{\"connectgaps\":false,\"hoverinfo\":\"y+name\",\"line\":{\"color\":\"rgb(110,39,128)\",\"width\":10},\"mode\":\"lines\",\"name\":\"driving_full:truck11\",\"x\":[\"1970-01-01T00:41:10.113018\",\"1970-01-01T00:41:10.113018\",\"1970-01-01T01:11:56.375536\",\"1970-01-01T01:11:56.375536\",\"1970-01-01T01:11:56.375536\",\"1970-01-01T01:45:11.488555\",\"1970-01-01T01:45:11.488555\",\"1970-01-01T02:15:57.751072\",\"1970-01-01T02:15:57.751072\",\"1970-01-01T02:15:57.751072\"],\"y\":[\"truck11\",\"truck11\",\"truck11\",\"truck11\",null,\"truck11\",\"truck11\",\"truck11\",\"truck11\",null],\"type\":\"scatter\"},{\"connectgaps\":false,\"hoverinfo\":\"y+name\",\"line\":{\"color\":\"rgb(113,42,131)\",\"width\":10},\"mode\":\"lines\",\"name\":\"unloading:truck11\",\"x\":[\"1970-01-01T01:11:56.375536\",\"1970-01-01T01:11:56.375536\",\"1970-01-01T01:12:21.375536\",\"1970-01-01T01:12:21.375536\",\"1970-01-01T01:12:21.375536\",\"1970-01-01T02:15:57.751072\",\"1970-01-01T02:15:57.751072\",\"1970-01-01T02:16:22.751072\",\"1970-01-01T02:16:22.751072\",\"1970-01-01T02:16:22.751072\"],\"y\":[\"truck11\",\"truck11\",\"truck11\",\"truck11\",null,\"truck11\",\"truck11\",\"truck11\",\"truck11\",null],\"type\":\"scatter\"},{\"connectgaps\":false,\"hoverinfo\":\"y+name\",\"line\":{\"color\":\"rgb(116,45,134)\",\"width\":10},\"mode\":\"lines\",\"name\":\"driving_empty:truck12\",\"x\":[\"1970-01-01T00:00:00\",\"1970-01-01T00:00:00\",\"1970-01-01T00:32:00.113018\",\"1970-01-01T00:32:00.113018\",\"1970-01-01T00:32:00.113018\",\"1970-01-01T01:13:11.375536\",\"1970-01-01T01:13:11.375536\",\"1970-01-01T01:45:11.488555\",\"1970-01-01T01:45:11.488555\",\"1970-01-01T01:45:11.488555\"],\"y\":[\"truck12\",\"truck12\",\"truck12\",\"truck12\",null,\"truck12\",\"truck12\",\"truck12\",\"truck12\",null],\"type\":\"scatter\"},{\"connectgaps\":false,\"hoverinfo\":\"y+name\",\"line\":{\"color\":\"rgb(119,48,137)\",\"width\":10},\"mode\":\"lines\",\"name\":\"unloading:truck12\",\"x\":[\"1970-01-01T01:12:46.375536\",\"1970-01-01T01:12:46.375536\",\"1970-01-01T01:13:11.375536\",\"1970-01-01T01:13:11.375536\",\"1970-01-01T01:13:11.375536\",\"1970-01-01T02:16:47.751072\",\"1970-01-01T02:16:47.751072\",\"1970-01-01T02:17:12.751072\",\"1970-01-01T02:17:12.751072\",\"1970-01-01T02:17:12.751072\"],\"y\":[\"truck12\",\"truck12\",\"truck12\",\"truck12\",null,\"truck12\",\"truck12\",\"truck12\",\"truck12\",null],\"type\":\"scatter\"},{\"connectgaps\":false,\"hoverinfo\":\"y+name\",\"line\":{\"color\":\"rgb(122,51,140)\",\"width\":10},\"mode\":\"lines\",\"name\":\"driving_full:truck12\",\"x\":[\"1970-01-01T00:42:00.113018\",\"1970-01-01T00:42:00.113018\",\"1970-01-01T01:12:46.375536\",\"1970-01-01T01:12:46.375536\",\"1970-01-01T01:12:46.375536\",\"1970-01-01T01:46:01.488555\",\"1970-01-01T01:46:01.488555\",\"1970-01-01T02:16:47.751072\",\"1970-01-01T02:16:47.751072\",\"1970-01-01T02:16:47.751072\"],\"y\":[\"truck12\",\"truck12\",\"truck12\",\"truck12\",null,\"truck12\",\"truck12\",\"truck12\",\"truck12\",null],\"type\":\"scatter\"},{\"connectgaps\":false,\"hoverinfo\":\"y+name\",\"line\":{\"color\":\"rgb(125,54,143)\",\"width\":10},\"mode\":\"lines\",\"name\":\"loading:truck12\",\"x\":[\"1970-01-01T00:41:10.113018\",\"1970-01-01T00:41:10.113018\",\"1970-01-01T00:42:00.113018\",\"1970-01-01T00:42:00.113018\",\"1970-01-01T00:42:00.113018\",\"1970-01-01T01:45:11.488555\",\"1970-01-01T01:45:11.488555\",\"1970-01-01T01:46:01.488555\",\"1970-01-01T01:46:01.488555\",\"1970-01-01T01:46:01.488555\"],\"y\":[\"truck12\",\"truck12\",\"truck12\",\"truck12\",null,\"truck12\",\"truck12\",\"truck12\",\"truck12\",null],\"type\":\"scatter\"},{\"connectgaps\":false,\"hoverinfo\":\"y+name\",\"line\":{\"color\":\"rgb(128,57,146)\",\"width\":10},\"mode\":\"lines\",\"name\":\"driving_full:truck13\",\"x\":[\"1970-01-01T00:42:50.113018\",\"1970-01-01T00:42:50.113018\",\"1970-01-01T01:13:36.375536\",\"1970-01-01T01:13:36.375536\",\"1970-01-01T01:13:36.375536\",\"1970-01-01T01:46:51.488555\",\"1970-01-01T01:46:51.488555\",\"1970-01-01T02:17:37.751072\",\"1970-01-01T02:17:37.751072\",\"1970-01-01T02:17:37.751072\"],\"y\":[\"truck13\",\"truck13\",\"truck13\",\"truck13\",null,\"truck13\",\"truck13\",\"truck13\",\"truck13\",null],\"type\":\"scatter\"},{\"connectgaps\":false,\"hoverinfo\":\"y+name\",\"line\":{\"color\":\"rgb(131,60,149)\",\"width\":10},\"mode\":\"lines\",\"name\":\"driving_empty:truck13\",\"x\":[\"1970-01-01T00:00:00\",\"1970-01-01T00:00:00\",\"1970-01-01T00:32:00.113018\",\"1970-01-01T00:32:00.113018\",\"1970-01-01T00:32:00.113018\",\"1970-01-01T01:14:01.375536\",\"1970-01-01T01:14:01.375536\",\"1970-01-01T01:46:01.488555\",\"1970-01-01T01:46:01.488555\",\"1970-01-01T01:46:01.488555\"],\"y\":[\"truck13\",\"truck13\",\"truck13\",\"truck13\",null,\"truck13\",\"truck13\",\"truck13\",\"truck13\",null],\"type\":\"scatter\"},{\"connectgaps\":false,\"hoverinfo\":\"y+name\",\"line\":{\"color\":\"rgb(134,63,152)\",\"width\":10},\"mode\":\"lines\",\"name\":\"loading:truck13\",\"x\":[\"1970-01-01T00:42:00.113018\",\"1970-01-01T00:42:00.113018\",\"1970-01-01T00:42:50.113018\",\"1970-01-01T00:42:50.113018\",\"1970-01-01T00:42:50.113018\",\"1970-01-01T01:46:01.488555\",\"1970-01-01T01:46:01.488555\",\"1970-01-01T01:46:51.488555\",\"1970-01-01T01:46:51.488555\",\"1970-01-01T01:46:51.488555\"],\"y\":[\"truck13\",\"truck13\",\"truck13\",\"truck13\",null,\"truck13\",\"truck13\",\"truck13\",\"truck13\",null],\"type\":\"scatter\"},{\"connectgaps\":false,\"hoverinfo\":\"y+name\",\"line\":{\"color\":\"rgb(137,66,155)\",\"width\":10},\"mode\":\"lines\",\"name\":\"unloading:truck13\",\"x\":[\"1970-01-01T01:13:36.375536\",\"1970-01-01T01:13:36.375536\",\"1970-01-01T01:14:01.375536\",\"1970-01-01T01:14:01.375536\",\"1970-01-01T01:14:01.375536\",\"1970-01-01T02:17:37.751072\",\"1970-01-01T02:17:37.751072\",\"1970-01-01T02:18:02.751072\",\"1970-01-01T02:18:02.751072\",\"1970-01-01T02:18:02.751072\"],\"y\":[\"truck13\",\"truck13\",\"truck13\",\"truck13\",null,\"truck13\",\"truck13\",\"truck13\",\"truck13\",null],\"type\":\"scatter\"},{\"connectgaps\":false,\"hoverinfo\":\"y+name\",\"line\":{\"color\":\"rgb(140,69,158)\",\"width\":10},\"mode\":\"lines\",\"name\":\"loading:truck14\",\"x\":[\"1970-01-01T00:42:50.113018\",\"1970-01-01T00:42:50.113018\",\"1970-01-01T00:43:40.113018\",\"1970-01-01T00:43:40.113018\",\"1970-01-01T00:43:40.113018\",\"1970-01-01T01:46:51.488555\",\"1970-01-01T01:46:51.488555\",\"1970-01-01T01:47:41.488555\",\"1970-01-01T01:47:41.488555\",\"1970-01-01T01:47:41.488555\"],\"y\":[\"truck14\",\"truck14\",\"truck14\",\"truck14\",null,\"truck14\",\"truck14\",\"truck14\",\"truck14\",null],\"type\":\"scatter\"},{\"connectgaps\":false,\"hoverinfo\":\"y+name\",\"line\":{\"color\":\"rgb(143,72,161)\",\"width\":10},\"mode\":\"lines\",\"name\":\"driving_empty:truck14\",\"x\":[\"1970-01-01T00:00:00\",\"1970-01-01T00:00:00\",\"1970-01-01T00:32:00.113018\",\"1970-01-01T00:32:00.113018\",\"1970-01-01T00:32:00.113018\",\"1970-01-01T01:14:51.375536\",\"1970-01-01T01:14:51.375536\",\"1970-01-01T01:46:51.488555\",\"1970-01-01T01:46:51.488555\",\"1970-01-01T01:46:51.488555\"],\"y\":[\"truck14\",\"truck14\",\"truck14\",\"truck14\",null,\"truck14\",\"truck14\",\"truck14\",\"truck14\",null],\"type\":\"scatter\"},{\"connectgaps\":false,\"hoverinfo\":\"y+name\",\"line\":{\"color\":\"rgb(146,75,164)\",\"width\":10},\"mode\":\"lines\",\"name\":\"unloading:truck14\",\"x\":[\"1970-01-01T01:14:26.375536\",\"1970-01-01T01:14:26.375536\",\"1970-01-01T01:14:51.375536\",\"1970-01-01T01:14:51.375536\",\"1970-01-01T01:14:51.375536\",\"1970-01-01T02:18:27.751072\",\"1970-01-01T02:18:27.751072\",\"1970-01-01T02:18:52.751072\",\"1970-01-01T02:18:52.751072\",\"1970-01-01T02:18:52.751072\"],\"y\":[\"truck14\",\"truck14\",\"truck14\",\"truck14\",null,\"truck14\",\"truck14\",\"truck14\",\"truck14\",null],\"type\":\"scatter\"},{\"connectgaps\":false,\"hoverinfo\":\"y+name\",\"line\":{\"color\":\"rgb(149,78,167)\",\"width\":10},\"mode\":\"lines\",\"name\":\"driving_full:truck14\",\"x\":[\"1970-01-01T00:43:40.113018\",\"1970-01-01T00:43:40.113018\",\"1970-01-01T01:14:26.375536\",\"1970-01-01T01:14:26.375536\",\"1970-01-01T01:14:26.375536\",\"1970-01-01T01:47:41.488555\",\"1970-01-01T01:47:41.488555\",\"1970-01-01T02:18:27.751072\",\"1970-01-01T02:18:27.751072\",\"1970-01-01T02:18:27.751072\"],\"y\":[\"truck14\",\"truck14\",\"truck14\",\"truck14\",null,\"truck14\",\"truck14\",\"truck14\",\"truck14\",null],\"type\":\"scatter\"},{\"connectgaps\":false,\"hoverinfo\":\"y+name\",\"line\":{\"color\":\"rgb(152,81,170)\",\"width\":10},\"mode\":\"lines\",\"name\":\"unloading:truck15\",\"x\":[\"1970-01-01T01:15:16.375536\",\"1970-01-01T01:15:16.375536\",\"1970-01-01T01:15:41.375536\",\"1970-01-01T01:15:41.375536\",\"1970-01-01T01:15:41.375536\",\"1970-01-01T02:19:17.751072\",\"1970-01-01T02:19:17.751072\",\"1970-01-01T02:19:42.751072\",\"1970-01-01T02:19:42.751072\",\"1970-01-01T02:19:42.751072\"],\"y\":[\"truck15\",\"truck15\",\"truck15\",\"truck15\",null,\"truck15\",\"truck15\",\"truck15\",\"truck15\",null],\"type\":\"scatter\"},{\"connectgaps\":false,\"hoverinfo\":\"y+name\",\"line\":{\"color\":\"rgb(155,84,173)\",\"width\":10},\"mode\":\"lines\",\"name\":\"driving_full:truck15\",\"x\":[\"1970-01-01T00:44:30.113018\",\"1970-01-01T00:44:30.113018\",\"1970-01-01T01:15:16.375536\",\"1970-01-01T01:15:16.375536\",\"1970-01-01T01:15:16.375536\",\"1970-01-01T01:48:31.488555\",\"1970-01-01T01:48:31.488555\",\"1970-01-01T02:19:17.751072\",\"1970-01-01T02:19:17.751072\",\"1970-01-01T02:19:17.751072\"],\"y\":[\"truck15\",\"truck15\",\"truck15\",\"truck15\",null,\"truck15\",\"truck15\",\"truck15\",\"truck15\",null],\"type\":\"scatter\"},{\"connectgaps\":false,\"hoverinfo\":\"y+name\",\"line\":{\"color\":\"rgb(158,87,176)\",\"width\":10},\"mode\":\"lines\",\"name\":\"loading:truck15\",\"x\":[\"1970-01-01T00:43:40.113018\",\"1970-01-01T00:43:40.113018\",\"1970-01-01T00:44:30.113018\",\"1970-01-01T00:44:30.113018\",\"1970-01-01T00:44:30.113018\",\"1970-01-01T01:47:41.488555\",\"1970-01-01T01:47:41.488555\",\"1970-01-01T01:48:31.488555\",\"1970-01-01T01:48:31.488555\",\"1970-01-01T01:48:31.488555\"],\"y\":[\"truck15\",\"truck15\",\"truck15\",\"truck15\",null,\"truck15\",\"truck15\",\"truck15\",\"truck15\",null],\"type\":\"scatter\"},{\"connectgaps\":false,\"hoverinfo\":\"y+name\",\"line\":{\"color\":\"rgb(161,90,179)\",\"width\":10},\"mode\":\"lines\",\"name\":\"driving_empty:truck15\",\"x\":[\"1970-01-01T00:00:00\",\"1970-01-01T00:00:00\",\"1970-01-01T00:32:00.113018\",\"1970-01-01T00:32:00.113018\",\"1970-01-01T00:32:00.113018\",\"1970-01-01T01:15:41.375536\",\"1970-01-01T01:15:41.375536\",\"1970-01-01T01:47:41.488555\",\"1970-01-01T01:47:41.488555\",\"1970-01-01T01:47:41.488555\"],\"y\":[\"truck15\",\"truck15\",\"truck15\",\"truck15\",null,\"truck15\",\"truck15\",\"truck15\",\"truck15\",null],\"type\":\"scatter\"},{\"connectgaps\":false,\"hoverinfo\":\"y+name\",\"line\":{\"color\":\"rgb(164,93,182)\",\"width\":10},\"mode\":\"lines\",\"name\":\"driving_full:truck16\",\"x\":[\"1970-01-01T00:45:20.113018\",\"1970-01-01T00:45:20.113018\",\"1970-01-01T01:16:06.375536\",\"1970-01-01T01:16:06.375536\",\"1970-01-01T01:16:06.375536\",\"1970-01-01T01:49:21.488555\",\"1970-01-01T01:49:21.488555\",\"1970-01-01T02:20:07.751072\",\"1970-01-01T02:20:07.751072\",\"1970-01-01T02:20:07.751072\"],\"y\":[\"truck16\",\"truck16\",\"truck16\",\"truck16\",null,\"truck16\",\"truck16\",\"truck16\",\"truck16\",null],\"type\":\"scatter\"},{\"connectgaps\":false,\"hoverinfo\":\"y+name\",\"line\":{\"color\":\"rgb(167,96,185)\",\"width\":10},\"mode\":\"lines\",\"name\":\"driving_empty:truck16\",\"x\":[\"1970-01-01T00:00:00\",\"1970-01-01T00:00:00\",\"1970-01-01T00:32:00.113018\",\"1970-01-01T00:32:00.113018\",\"1970-01-01T00:32:00.113018\",\"1970-01-01T01:16:31.375536\",\"1970-01-01T01:16:31.375536\",\"1970-01-01T01:48:31.488555\",\"1970-01-01T01:48:31.488555\",\"1970-01-01T01:48:31.488555\"],\"y\":[\"truck16\",\"truck16\",\"truck16\",\"truck16\",null,\"truck16\",\"truck16\",\"truck16\",\"truck16\",null],\"type\":\"scatter\"},{\"connectgaps\":false,\"hoverinfo\":\"y+name\",\"line\":{\"color\":\"rgb(170,99,188)\",\"width\":10},\"mode\":\"lines\",\"name\":\"loading:truck16\",\"x\":[\"1970-01-01T00:44:30.113018\",\"1970-01-01T00:44:30.113018\",\"1970-01-01T00:45:20.113018\",\"1970-01-01T00:45:20.113018\",\"1970-01-01T00:45:20.113018\",\"1970-01-01T01:48:31.488555\",\"1970-01-01T01:48:31.488555\",\"1970-01-01T01:49:21.488555\",\"1970-01-01T01:49:21.488555\",\"1970-01-01T01:49:21.488555\"],\"y\":[\"truck16\",\"truck16\",\"truck16\",\"truck16\",null,\"truck16\",\"truck16\",\"truck16\",\"truck16\",null],\"type\":\"scatter\"},{\"connectgaps\":false,\"hoverinfo\":\"y+name\",\"line\":{\"color\":\"rgb(173,102,191)\",\"width\":10},\"mode\":\"lines\",\"name\":\"unloading:truck16\",\"x\":[\"1970-01-01T01:16:06.375536\",\"1970-01-01T01:16:06.375536\",\"1970-01-01T01:16:31.375536\",\"1970-01-01T01:16:31.375536\",\"1970-01-01T01:16:31.375536\",\"1970-01-01T02:20:07.751072\",\"1970-01-01T02:20:07.751072\",\"1970-01-01T02:20:32.751072\",\"1970-01-01T02:20:32.751072\",\"1970-01-01T02:20:32.751072\"],\"y\":[\"truck16\",\"truck16\",\"truck16\",\"truck16\",null,\"truck16\",\"truck16\",\"truck16\",\"truck16\",null],\"type\":\"scatter\"},{\"connectgaps\":false,\"hoverinfo\":\"y+name\",\"line\":{\"color\":\"rgb(176,105,194)\",\"width\":10},\"mode\":\"lines\",\"name\":\"loading:truck17\",\"x\":[\"1970-01-01T00:45:20.113018\",\"1970-01-01T00:45:20.113018\",\"1970-01-01T00:46:10.113018\",\"1970-01-01T00:46:10.113018\",\"1970-01-01T00:46:10.113018\",\"1970-01-01T01:49:21.488555\",\"1970-01-01T01:49:21.488555\",\"1970-01-01T01:50:11.488555\",\"1970-01-01T01:50:11.488555\",\"1970-01-01T01:50:11.488555\"],\"y\":[\"truck17\",\"truck17\",\"truck17\",\"truck17\",null,\"truck17\",\"truck17\",\"truck17\",\"truck17\",null],\"type\":\"scatter\"},{\"connectgaps\":false,\"hoverinfo\":\"y+name\",\"line\":{\"color\":\"rgb(179,108,197)\",\"width\":10},\"mode\":\"lines\",\"name\":\"driving_empty:truck17\",\"x\":[\"1970-01-01T00:00:00\",\"1970-01-01T00:00:00\",\"1970-01-01T00:32:00.113018\",\"1970-01-01T00:32:00.113018\",\"1970-01-01T00:32:00.113018\",\"1970-01-01T01:17:21.375536\",\"1970-01-01T01:17:21.375536\",\"1970-01-01T01:49:21.488555\",\"1970-01-01T01:49:21.488555\",\"1970-01-01T01:49:21.488555\"],\"y\":[\"truck17\",\"truck17\",\"truck17\",\"truck17\",null,\"truck17\",\"truck17\",\"truck17\",\"truck17\",null],\"type\":\"scatter\"},{\"connectgaps\":false,\"hoverinfo\":\"y+name\",\"line\":{\"color\":\"rgb(182,111,200)\",\"width\":10},\"mode\":\"lines\",\"name\":\"driving_full:truck17\",\"x\":[\"1970-01-01T00:46:10.113018\",\"1970-01-01T00:46:10.113018\",\"1970-01-01T01:16:56.375536\",\"1970-01-01T01:16:56.375536\",\"1970-01-01T01:16:56.375536\",\"1970-01-01T01:50:11.488555\",\"1970-01-01T01:50:11.488555\",\"1970-01-01T02:20:57.751072\",\"1970-01-01T02:20:57.751072\",\"1970-01-01T02:20:57.751072\"],\"y\":[\"truck17\",\"truck17\",\"truck17\",\"truck17\",null,\"truck17\",\"truck17\",\"truck17\",\"truck17\",null],\"type\":\"scatter\"},{\"connectgaps\":false,\"hoverinfo\":\"y+name\",\"line\":{\"color\":\"rgb(185,114,203)\",\"width\":10},\"mode\":\"lines\",\"name\":\"unloading:truck17\",\"x\":[\"1970-01-01T01:16:56.375536\",\"1970-01-01T01:16:56.375536\",\"1970-01-01T01:17:21.375536\",\"1970-01-01T01:17:21.375536\",\"1970-01-01T01:17:21.375536\",\"1970-01-01T02:20:57.751072\",\"1970-01-01T02:20:57.751072\",\"1970-01-01T02:21:22.751072\",\"1970-01-01T02:21:22.751072\",\"1970-01-01T02:21:22.751072\"],\"y\":[\"truck17\",\"truck17\",\"truck17\",\"truck17\",null,\"truck17\",\"truck17\",\"truck17\",\"truck17\",null],\"type\":\"scatter\"},{\"connectgaps\":false,\"hoverinfo\":\"y+name\",\"line\":{\"color\":\"rgb(188,117,206)\",\"width\":10},\"mode\":\"lines\",\"name\":\"unloading:truck18\",\"x\":[\"1970-01-01T01:17:46.375536\",\"1970-01-01T01:17:46.375536\",\"1970-01-01T01:18:11.375536\",\"1970-01-01T01:18:11.375536\",\"1970-01-01T01:18:11.375536\",\"1970-01-01T02:21:47.751072\",\"1970-01-01T02:21:47.751072\",\"1970-01-01T02:22:12.751072\",\"1970-01-01T02:22:12.751072\",\"1970-01-01T02:22:12.751072\"],\"y\":[\"truck18\",\"truck18\",\"truck18\",\"truck18\",null,\"truck18\",\"truck18\",\"truck18\",\"truck18\",null],\"type\":\"scatter\"},{\"connectgaps\":false,\"hoverinfo\":\"y+name\",\"line\":{\"color\":\"rgb(191,120,209)\",\"width\":10},\"mode\":\"lines\",\"name\":\"driving_full:truck18\",\"x\":[\"1970-01-01T00:47:00.113018\",\"1970-01-01T00:47:00.113018\",\"1970-01-01T01:17:46.375536\",\"1970-01-01T01:17:46.375536\",\"1970-01-01T01:17:46.375536\",\"1970-01-01T01:51:01.488555\",\"1970-01-01T01:51:01.488555\",\"1970-01-01T02:21:47.751072\",\"1970-01-01T02:21:47.751072\",\"1970-01-01T02:21:47.751072\"],\"y\":[\"truck18\",\"truck18\",\"truck18\",\"truck18\",null,\"truck18\",\"truck18\",\"truck18\",\"truck18\",null],\"type\":\"scatter\"},{\"connectgaps\":false,\"hoverinfo\":\"y+name\",\"line\":{\"color\":\"rgb(194,123,212)\",\"width\":10},\"mode\":\"lines\",\"name\":\"loading:truck18\",\"x\":[\"1970-01-01T00:46:10.113018\",\"1970-01-01T00:46:10.113018\",\"1970-01-01T00:47:00.113018\",\"1970-01-01T00:47:00.113018\",\"1970-01-01T00:47:00.113018\",\"1970-01-01T01:50:11.488555\",\"1970-01-01T01:50:11.488555\",\"1970-01-01T01:51:01.488555\",\"1970-01-01T01:51:01.488555\",\"1970-01-01T01:51:01.488555\"],\"y\":[\"truck18\",\"truck18\",\"truck18\",\"truck18\",null,\"truck18\",\"truck18\",\"truck18\",\"truck18\",null],\"type\":\"scatter\"},{\"connectgaps\":false,\"hoverinfo\":\"y+name\",\"line\":{\"color\":\"rgb(197,126,215)\",\"width\":10},\"mode\":\"lines\",\"name\":\"driving_empty:truck18\",\"x\":[\"1970-01-01T00:00:00\",\"1970-01-01T00:00:00\",\"1970-01-01T00:32:00.113018\",\"1970-01-01T00:32:00.113018\",\"1970-01-01T00:32:00.113018\",\"1970-01-01T01:18:11.375536\",\"1970-01-01T01:18:11.375536\",\"1970-01-01T01:50:11.488555\",\"1970-01-01T01:50:11.488555\",\"1970-01-01T01:50:11.488555\"],\"y\":[\"truck18\",\"truck18\",\"truck18\",\"truck18\",null,\"truck18\",\"truck18\",\"truck18\",\"truck18\",null],\"type\":\"scatter\"},{\"connectgaps\":false,\"hoverinfo\":\"y+name\",\"line\":{\"color\":\"rgb(200,129,218)\",\"width\":10},\"mode\":\"lines\",\"name\":\"driving_empty:truck19\",\"x\":[\"1970-01-01T00:00:00\",\"1970-01-01T00:00:00\",\"1970-01-01T00:32:00.113018\",\"1970-01-01T00:32:00.113018\",\"1970-01-01T00:32:00.113018\",\"1970-01-01T01:19:01.375536\",\"1970-01-01T01:19:01.375536\",\"1970-01-01T01:51:01.488555\",\"1970-01-01T01:51:01.488555\",\"1970-01-01T01:51:01.488555\"],\"y\":[\"truck19\",\"truck19\",\"truck19\",\"truck19\",null,\"truck19\",\"truck19\",\"truck19\",\"truck19\",null],\"type\":\"scatter\"},{\"connectgaps\":false,\"hoverinfo\":\"y+name\",\"line\":{\"color\":\"rgb(203,132,221)\",\"width\":10},\"mode\":\"lines\",\"name\":\"unloading:truck19\",\"x\":[\"1970-01-01T01:18:36.375536\",\"1970-01-01T01:18:36.375536\",\"1970-01-01T01:19:01.375536\",\"1970-01-01T01:19:01.375536\",\"1970-01-01T01:19:01.375536\",\"1970-01-01T02:22:37.751072\",\"1970-01-01T02:22:37.751072\",\"1970-01-01T02:23:02.751072\",\"1970-01-01T02:23:02.751072\",\"1970-01-01T02:23:02.751072\"],\"y\":[\"truck19\",\"truck19\",\"truck19\",\"truck19\",null,\"truck19\",\"truck19\",\"truck19\",\"truck19\",null],\"type\":\"scatter\"},{\"connectgaps\":false,\"hoverinfo\":\"y+name\",\"line\":{\"color\":\"rgb(206,135,224)\",\"width\":10},\"mode\":\"lines\",\"name\":\"driving_full:truck19\",\"x\":[\"1970-01-01T00:47:50.113018\",\"1970-01-01T00:47:50.113018\",\"1970-01-01T01:18:36.375536\",\"1970-01-01T01:18:36.375536\",\"1970-01-01T01:18:36.375536\",\"1970-01-01T01:51:51.488555\",\"1970-01-01T01:51:51.488555\",\"1970-01-01T02:22:37.751072\",\"1970-01-01T02:22:37.751072\",\"1970-01-01T02:22:37.751072\"],\"y\":[\"truck19\",\"truck19\",\"truck19\",\"truck19\",null,\"truck19\",\"truck19\",\"truck19\",\"truck19\",null],\"type\":\"scatter\"},{\"connectgaps\":false,\"hoverinfo\":\"y+name\",\"line\":{\"color\":\"rgb(209,138,227)\",\"width\":10},\"mode\":\"lines\",\"name\":\"loading:truck19\",\"x\":[\"1970-01-01T00:47:00.113018\",\"1970-01-01T00:47:00.113018\",\"1970-01-01T00:47:50.113018\",\"1970-01-01T00:47:50.113018\",\"1970-01-01T00:47:50.113018\",\"1970-01-01T01:51:01.488555\",\"1970-01-01T01:51:01.488555\",\"1970-01-01T01:51:51.488555\",\"1970-01-01T01:51:51.488555\",\"1970-01-01T01:51:51.488555\"],\"y\":[\"truck19\",\"truck19\",\"truck19\",\"truck19\",null,\"truck19\",\"truck19\",\"truck19\",\"truck19\",null],\"type\":\"scatter\"},{\"connectgaps\":false,\"hoverinfo\":\"y+name\",\"line\":{\"color\":\"rgb(212,141,230)\",\"width\":10},\"mode\":\"lines\",\"name\":\"driving_full:truck20\",\"x\":[\"1970-01-01T00:48:40.113018\",\"1970-01-01T00:48:40.113018\",\"1970-01-01T01:19:26.375536\",\"1970-01-01T01:19:26.375536\",\"1970-01-01T01:19:26.375536\",\"1970-01-01T01:52:41.488555\",\"1970-01-01T01:52:41.488555\",\"1970-01-01T02:23:27.751072\",\"1970-01-01T02:23:27.751072\",\"1970-01-01T02:23:27.751072\"],\"y\":[\"truck20\",\"truck20\",\"truck20\",\"truck20\",null,\"truck20\",\"truck20\",\"truck20\",\"truck20\",null],\"type\":\"scatter\"},{\"connectgaps\":false,\"hoverinfo\":\"y+name\",\"line\":{\"color\":\"rgb(215,144,233)\",\"width\":10},\"mode\":\"lines\",\"name\":\"unloading:truck20\",\"x\":[\"1970-01-01T01:19:26.375536\",\"1970-01-01T01:19:26.375536\",\"1970-01-01T01:19:51.375536\",\"1970-01-01T01:19:51.375536\",\"1970-01-01T01:19:51.375536\",\"1970-01-01T02:23:27.751072\",\"1970-01-01T02:23:27.751072\",\"1970-01-01T02:23:52.751072\",\"1970-01-01T02:23:52.751072\",\"1970-01-01T02:23:52.751072\"],\"y\":[\"truck20\",\"truck20\",\"truck20\",\"truck20\",null,\"truck20\",\"truck20\",\"truck20\",\"truck20\",null],\"type\":\"scatter\"},{\"connectgaps\":false,\"hoverinfo\":\"y+name\",\"line\":{\"color\":\"rgb(218,147,236)\",\"width\":10},\"mode\":\"lines\",\"name\":\"loading:truck20\",\"x\":[\"1970-01-01T00:47:50.113018\",\"1970-01-01T00:47:50.113018\",\"1970-01-01T00:48:40.113018\",\"1970-01-01T00:48:40.113018\",\"1970-01-01T00:48:40.113018\",\"1970-01-01T01:51:51.488555\",\"1970-01-01T01:51:51.488555\",\"1970-01-01T01:52:41.488555\",\"1970-01-01T01:52:41.488555\",\"1970-01-01T01:52:41.488555\"],\"y\":[\"truck20\",\"truck20\",\"truck20\",\"truck20\",null,\"truck20\",\"truck20\",\"truck20\",\"truck20\",null],\"type\":\"scatter\"},{\"connectgaps\":false,\"hoverinfo\":\"y+name\",\"line\":{\"color\":\"rgb(221,150,239)\",\"width\":10},\"mode\":\"lines\",\"name\":\"driving_empty:truck20\",\"x\":[\"1970-01-01T00:00:00\",\"1970-01-01T00:00:00\",\"1970-01-01T00:32:00.113018\",\"1970-01-01T00:32:00.113018\",\"1970-01-01T00:32:00.113018\",\"1970-01-01T01:19:51.375536\",\"1970-01-01T01:19:51.375536\",\"1970-01-01T01:51:51.488555\",\"1970-01-01T01:51:51.488555\",\"1970-01-01T01:51:51.488555\"],\"y\":[\"truck20\",\"truck20\",\"truck20\",\"truck20\",null,\"truck20\",\"truck20\",\"truck20\",\"truck20\",null],\"type\":\"scatter\"}],                        {\"hovermode\":\"closest\",\"legend\":{\"orientation\":\"h\",\"x\":0,\"y\":-0.2},\"template\":{\"data\":{\"barpolar\":[{\"marker\":{\"line\":{\"color\":\"#E5ECF6\",\"width\":0.5},\"pattern\":{\"fillmode\":\"overlay\",\"size\":10,\"solidity\":0.2}},\"type\":\"barpolar\"}],\"bar\":[{\"error_x\":{\"color\":\"#2a3f5f\"},\"error_y\":{\"color\":\"#2a3f5f\"},\"marker\":{\"line\":{\"color\":\"#E5ECF6\",\"width\":0.5},\"pattern\":{\"fillmode\":\"overlay\",\"size\":10,\"solidity\":0.2}},\"type\":\"bar\"}],\"carpet\":[{\"aaxis\":{\"endlinecolor\":\"#2a3f5f\",\"gridcolor\":\"white\",\"linecolor\":\"white\",\"minorgridcolor\":\"white\",\"startlinecolor\":\"#2a3f5f\"},\"baxis\":{\"endlinecolor\":\"#2a3f5f\",\"gridcolor\":\"white\",\"linecolor\":\"white\",\"minorgridcolor\":\"white\",\"startlinecolor\":\"#2a3f5f\"},\"type\":\"carpet\"}],\"choropleth\":[{\"colorbar\":{\"outlinewidth\":0,\"ticks\":\"\"},\"type\":\"choropleth\"}],\"contourcarpet\":[{\"colorbar\":{\"outlinewidth\":0,\"ticks\":\"\"},\"type\":\"contourcarpet\"}],\"contour\":[{\"colorbar\":{\"outlinewidth\":0,\"ticks\":\"\"},\"colorscale\":[[0.0,\"#0d0887\"],[0.1111111111111111,\"#46039f\"],[0.2222222222222222,\"#7201a8\"],[0.3333333333333333,\"#9c179e\"],[0.4444444444444444,\"#bd3786\"],[0.5555555555555556,\"#d8576b\"],[0.6666666666666666,\"#ed7953\"],[0.7777777777777778,\"#fb9f3a\"],[0.8888888888888888,\"#fdca26\"],[1.0,\"#f0f921\"]],\"type\":\"contour\"}],\"heatmapgl\":[{\"colorbar\":{\"outlinewidth\":0,\"ticks\":\"\"},\"colorscale\":[[0.0,\"#0d0887\"],[0.1111111111111111,\"#46039f\"],[0.2222222222222222,\"#7201a8\"],[0.3333333333333333,\"#9c179e\"],[0.4444444444444444,\"#bd3786\"],[0.5555555555555556,\"#d8576b\"],[0.6666666666666666,\"#ed7953\"],[0.7777777777777778,\"#fb9f3a\"],[0.8888888888888888,\"#fdca26\"],[1.0,\"#f0f921\"]],\"type\":\"heatmapgl\"}],\"heatmap\":[{\"colorbar\":{\"outlinewidth\":0,\"ticks\":\"\"},\"colorscale\":[[0.0,\"#0d0887\"],[0.1111111111111111,\"#46039f\"],[0.2222222222222222,\"#7201a8\"],[0.3333333333333333,\"#9c179e\"],[0.4444444444444444,\"#bd3786\"],[0.5555555555555556,\"#d8576b\"],[0.6666666666666666,\"#ed7953\"],[0.7777777777777778,\"#fb9f3a\"],[0.8888888888888888,\"#fdca26\"],[1.0,\"#f0f921\"]],\"type\":\"heatmap\"}],\"histogram2dcontour\":[{\"colorbar\":{\"outlinewidth\":0,\"ticks\":\"\"},\"colorscale\":[[0.0,\"#0d0887\"],[0.1111111111111111,\"#46039f\"],[0.2222222222222222,\"#7201a8\"],[0.3333333333333333,\"#9c179e\"],[0.4444444444444444,\"#bd3786\"],[0.5555555555555556,\"#d8576b\"],[0.6666666666666666,\"#ed7953\"],[0.7777777777777778,\"#fb9f3a\"],[0.8888888888888888,\"#fdca26\"],[1.0,\"#f0f921\"]],\"type\":\"histogram2dcontour\"}],\"histogram2d\":[{\"colorbar\":{\"outlinewidth\":0,\"ticks\":\"\"},\"colorscale\":[[0.0,\"#0d0887\"],[0.1111111111111111,\"#46039f\"],[0.2222222222222222,\"#7201a8\"],[0.3333333333333333,\"#9c179e\"],[0.4444444444444444,\"#bd3786\"],[0.5555555555555556,\"#d8576b\"],[0.6666666666666666,\"#ed7953\"],[0.7777777777777778,\"#fb9f3a\"],[0.8888888888888888,\"#fdca26\"],[1.0,\"#f0f921\"]],\"type\":\"histogram2d\"}],\"histogram\":[{\"marker\":{\"pattern\":{\"fillmode\":\"overlay\",\"size\":10,\"solidity\":0.2}},\"type\":\"histogram\"}],\"mesh3d\":[{\"colorbar\":{\"outlinewidth\":0,\"ticks\":\"\"},\"type\":\"mesh3d\"}],\"parcoords\":[{\"line\":{\"colorbar\":{\"outlinewidth\":0,\"ticks\":\"\"}},\"type\":\"parcoords\"}],\"pie\":[{\"automargin\":true,\"type\":\"pie\"}],\"scatter3d\":[{\"line\":{\"colorbar\":{\"outlinewidth\":0,\"ticks\":\"\"}},\"marker\":{\"colorbar\":{\"outlinewidth\":0,\"ticks\":\"\"}},\"type\":\"scatter3d\"}],\"scattercarpet\":[{\"marker\":{\"colorbar\":{\"outlinewidth\":0,\"ticks\":\"\"}},\"type\":\"scattercarpet\"}],\"scattergeo\":[{\"marker\":{\"colorbar\":{\"outlinewidth\":0,\"ticks\":\"\"}},\"type\":\"scattergeo\"}],\"scattergl\":[{\"marker\":{\"colorbar\":{\"outlinewidth\":0,\"ticks\":\"\"}},\"type\":\"scattergl\"}],\"scattermapbox\":[{\"marker\":{\"colorbar\":{\"outlinewidth\":0,\"ticks\":\"\"}},\"type\":\"scattermapbox\"}],\"scatterpolargl\":[{\"marker\":{\"colorbar\":{\"outlinewidth\":0,\"ticks\":\"\"}},\"type\":\"scatterpolargl\"}],\"scatterpolar\":[{\"marker\":{\"colorbar\":{\"outlinewidth\":0,\"ticks\":\"\"}},\"type\":\"scatterpolar\"}],\"scatter\":[{\"fillpattern\":{\"fillmode\":\"overlay\",\"size\":10,\"solidity\":0.2},\"type\":\"scatter\"}],\"scatterternary\":[{\"marker\":{\"colorbar\":{\"outlinewidth\":0,\"ticks\":\"\"}},\"type\":\"scatterternary\"}],\"surface\":[{\"colorbar\":{\"outlinewidth\":0,\"ticks\":\"\"},\"colorscale\":[[0.0,\"#0d0887\"],[0.1111111111111111,\"#46039f\"],[0.2222222222222222,\"#7201a8\"],[0.3333333333333333,\"#9c179e\"],[0.4444444444444444,\"#bd3786\"],[0.5555555555555556,\"#d8576b\"],[0.6666666666666666,\"#ed7953\"],[0.7777777777777778,\"#fb9f3a\"],[0.8888888888888888,\"#fdca26\"],[1.0,\"#f0f921\"]],\"type\":\"surface\"}],\"table\":[{\"cells\":{\"fill\":{\"color\":\"#EBF0F8\"},\"line\":{\"color\":\"white\"}},\"header\":{\"fill\":{\"color\":\"#C8D4E3\"},\"line\":{\"color\":\"white\"}},\"type\":\"table\"}]},\"layout\":{\"annotationdefaults\":{\"arrowcolor\":\"#2a3f5f\",\"arrowhead\":0,\"arrowwidth\":1},\"autotypenumbers\":\"strict\",\"coloraxis\":{\"colorbar\":{\"outlinewidth\":0,\"ticks\":\"\"}},\"colorscale\":{\"diverging\":[[0,\"#8e0152\"],[0.1,\"#c51b7d\"],[0.2,\"#de77ae\"],[0.3,\"#f1b6da\"],[0.4,\"#fde0ef\"],[0.5,\"#f7f7f7\"],[0.6,\"#e6f5d0\"],[0.7,\"#b8e186\"],[0.8,\"#7fbc41\"],[0.9,\"#4d9221\"],[1,\"#276419\"]],\"sequential\":[[0.0,\"#0d0887\"],[0.1111111111111111,\"#46039f\"],[0.2222222222222222,\"#7201a8\"],[0.3333333333333333,\"#9c179e\"],[0.4444444444444444,\"#bd3786\"],[0.5555555555555556,\"#d8576b\"],[0.6666666666666666,\"#ed7953\"],[0.7777777777777778,\"#fb9f3a\"],[0.8888888888888888,\"#fdca26\"],[1.0,\"#f0f921\"]],\"sequentialminus\":[[0.0,\"#0d0887\"],[0.1111111111111111,\"#46039f\"],[0.2222222222222222,\"#7201a8\"],[0.3333333333333333,\"#9c179e\"],[0.4444444444444444,\"#bd3786\"],[0.5555555555555556,\"#d8576b\"],[0.6666666666666666,\"#ed7953\"],[0.7777777777777778,\"#fb9f3a\"],[0.8888888888888888,\"#fdca26\"],[1.0,\"#f0f921\"]]},\"colorway\":[\"#636efa\",\"#EF553B\",\"#00cc96\",\"#ab63fa\",\"#FFA15A\",\"#19d3f3\",\"#FF6692\",\"#B6E880\",\"#FF97FF\",\"#FECB52\"],\"font\":{\"color\":\"#2a3f5f\"},\"geo\":{\"bgcolor\":\"white\",\"lakecolor\":\"white\",\"landcolor\":\"#E5ECF6\",\"showlakes\":true,\"showland\":true,\"subunitcolor\":\"white\"},\"hoverlabel\":{\"align\":\"left\"},\"hovermode\":\"closest\",\"mapbox\":{\"style\":\"light\"},\"paper_bgcolor\":\"white\",\"plot_bgcolor\":\"#E5ECF6\",\"polar\":{\"angularaxis\":{\"gridcolor\":\"white\",\"linecolor\":\"white\",\"ticks\":\"\"},\"bgcolor\":\"#E5ECF6\",\"radialaxis\":{\"gridcolor\":\"white\",\"linecolor\":\"white\",\"ticks\":\"\"}},\"scene\":{\"xaxis\":{\"backgroundcolor\":\"#E5ECF6\",\"gridcolor\":\"white\",\"gridwidth\":2,\"linecolor\":\"white\",\"showbackground\":true,\"ticks\":\"\",\"zerolinecolor\":\"white\"},\"yaxis\":{\"backgroundcolor\":\"#E5ECF6\",\"gridcolor\":\"white\",\"gridwidth\":2,\"linecolor\":\"white\",\"showbackground\":true,\"ticks\":\"\",\"zerolinecolor\":\"white\"},\"zaxis\":{\"backgroundcolor\":\"#E5ECF6\",\"gridcolor\":\"white\",\"gridwidth\":2,\"linecolor\":\"white\",\"showbackground\":true,\"ticks\":\"\",\"zerolinecolor\":\"white\"}},\"shapedefaults\":{\"line\":{\"color\":\"#2a3f5f\"}},\"ternary\":{\"aaxis\":{\"gridcolor\":\"white\",\"linecolor\":\"white\",\"ticks\":\"\"},\"baxis\":{\"gridcolor\":\"white\",\"linecolor\":\"white\",\"ticks\":\"\"},\"bgcolor\":\"#E5ECF6\",\"caxis\":{\"gridcolor\":\"white\",\"linecolor\":\"white\",\"ticks\":\"\"}},\"title\":{\"x\":0.05},\"xaxis\":{\"automargin\":true,\"gridcolor\":\"white\",\"linecolor\":\"white\",\"ticks\":\"\",\"title\":{\"standoff\":15},\"zerolinecolor\":\"white\",\"zerolinewidth\":2},\"yaxis\":{\"automargin\":true,\"gridcolor\":\"white\",\"linecolor\":\"white\",\"ticks\":\"\",\"title\":{\"standoff\":15},\"zerolinecolor\":\"white\",\"zerolinewidth\":2}}},\"title\":{\"text\":\"GANTT Chart\"},\"xaxis\":{\"range\":[\"1970-01-01T00:00:00\",\"1970-01-01T03:19:34.126609\"],\"title\":{\"font\":{\"color\":\"#7f7f7f\",\"family\":\"Courier New, monospace\",\"size\":18},\"text\":\"Time\"}},\"yaxis\":{\"title\":{\"font\":{\"color\":\"#7f7f7f\",\"family\":\"Courier New, monospace\",\"size\":18},\"text\":\"Activities\"}}},                        {\"responsive\": true}                    ).then(function(){\n",
       "                            \n",
       "var gd = document.getElementById('56b2ff2e-856b-48a7-be01-8640e05d1d77');\n",
       "var x = new MutationObserver(function (mutations, observer) {{\n",
       "        var display = window.getComputedStyle(gd).display;\n",
       "        if (!display || display === 'none') {{\n",
       "            console.log([gd, 'removed!']);\n",
       "            Plotly.purge(gd);\n",
       "            observer.disconnect();\n",
       "        }}\n",
       "}});\n",
       "\n",
       "// Listen for the removal of the full notebook cells\n",
       "var notebookContainer = gd.closest('#notebook-container');\n",
       "if (notebookContainer) {{\n",
       "    x.observe(notebookContainer, {childList: true});\n",
       "}}\n",
       "\n",
       "// Listen for the clearing of the current output cell\n",
       "var outputEl = gd.closest('.output');\n",
       "if (outputEl) {{\n",
       "    x.observe(outputEl, {childList: true});\n",
       "}}\n",
       "\n",
       "                        })                };                });            </script>        </div>"
      ]
     },
     "metadata": {},
     "output_type": "display_data"
    },
    {
     "data": {
      "image/png": "[encoded data removed]",
      "text/plain": [
       "<Figure size 1400x700 with 1 Axes>"
      ]
     },
     "metadata": {},
     "output_type": "display_data"
    }
   ],
   "source": [
    "# Plotting\n",
    "fig_gantt = plot.get_gantt_chart([*trucks.values()], id_map=[*activities_d_truck.values()])\n",
    "fig_step = plot.get_step_chart([source01, dump01])"
   ]
  },
  {
   "cell_type": "code",
   "execution_count": 7,
   "id": "98c5fce1-b66a-4733-9636-1b2f03a90c4d",
   "metadata": {},
   "outputs": [
    {
     "name": "stdout",
     "output_type": "stream",
     "text": [
      "[<openclsim.model.while_activity.WhileActivity object at 0x7f9bb89ba0d0>, <openclsim.model.while_activity.WhileActivity object at 0x7f9bb89ba4f0>, <openclsim.model.while_activity.WhileActivity object at 0x7f9bb89ba910>, <openclsim.model.while_activity.WhileActivity object at 0x7f9bb89bad30>]\n"
     ]
    }
   ],
   "source": [
    "# Example usage: \n",
    "res = run(500)\n",
    "trucks = res['trucks']\n",
    "activities_d_truck = res['activities_d_truck']\n",
    "source01 = res['source01']\n",
    "dump01 = res['dump01']\n",
    "total_trucks = res['total_trucks']  # Extracting total_trucks\n",
    "registry = res['registry']"
   ]
  },
  {
   "cell_type": "code",
   "execution_count": 8,
   "id": "5b386278-b901-4ddc-976d-02df91ecb5a9",
   "metadata": {},
   "outputs": [
    {
     "name": "stdout",
     "output_type": "stream",
     "text": [
      "2 [{'id': 'default', 'capacity': 500, 'level': 20}, {'id': 'default_reservations', 'capacity': 500, 'level': 20}]\n"
     ]
    }
   ],
   "source": [
    "print(source01.container.capacity, source01.container.items)"
   ]
  },
  {
   "cell_type": "code",
   "execution_count": 9,
   "id": "68586286-a7eb-4371-9bd4-9e06009f3a1d",
   "metadata": {},
   "outputs": [
    {
     "name": "stdout",
     "output_type": "stream",
     "text": [
      "20\n"
     ]
    }
   ],
   "source": [
    "print(source01.container.get_level())"
   ]
  },
  {
   "cell_type": "code",
   "execution_count": 10,
   "id": "affbd076-041a-4d25-9f0a-6846d6c81e26",
   "metadata": {},
   "outputs": [
    {
     "name": "stdout",
     "output_type": "stream",
     "text": [
      "2 [{'id': 'default', 'capacity': 500, 'level': 480}, {'id': 'default_reservations', 'capacity': 500, 'level': 480}]\n"
     ]
    }
   ],
   "source": [
    "print(dump01.container.capacity, dump01.container.items)"
   ]
  },
  {
   "cell_type": "code",
   "execution_count": null,
   "id": "ebef8777-466c-41eb-bd0d-d7fb66c41f22",
   "metadata": {},
   "outputs": [],
   "source": [
    "pd.DataFrame(dump01.logbook)"
   ]
  },
  {
   "cell_type": "code",
   "execution_count": 33,
   "id": "ead47ffd-913e-4401-8849-1abfb1208dd6",
   "metadata": {},
   "outputs": [
    {
     "ename": "NameError",
     "evalue": "name 'get_tree_as_list' is not defined",
     "output_type": "error",
     "traceback": [
      "\u001b[0;31m---------------------------------------------------------------------------\u001b[0m",
      "\u001b[0;31mNameError\u001b[0m                                 Traceback (most recent call last)",
      "Cell \u001b[0;32mIn[33], line 2\u001b[0m\n\u001b[1;32m      1\u001b[0m truck1 \u001b[38;5;241m=\u001b[39m trucks[\u001b[38;5;124m'\u001b[39m\u001b[38;5;124mtruck1\u001b[39m\u001b[38;5;124m'\u001b[39m]\n\u001b[0;32m----> 2\u001b[0m pd\u001b[38;5;241m.\u001b[39mDataFrame(\u001b[43mget_tree_as_list\u001b[49m(truck1\u001b[38;5;241m.\u001b[39mlogbook))\n\u001b[1;32m      3\u001b[0m \u001b[38;5;66;03m# display(plot.get_log_dataframe(truck1))\u001b[39;00m\n\u001b[1;32m      4\u001b[0m \n\u001b[1;32m      5\u001b[0m \u001b[38;5;66;03m# plot.get_log_dataframe(get_tree_as_list(truck1))\u001b[39;00m\n",
      "\u001b[0;31mNameError\u001b[0m: name 'get_tree_as_list' is not defined"
     ]
    }
   ],
   "source": [
    "truck1 = trucks['truck1']\n",
    "# display(plot.get_log_dataframe(truck1))\n",
    "\n",
    "# plot.get_log_dataframe(get_tree_as_list(truck1))\n"
   ]
  },
  {
   "cell_type": "code",
   "execution_count": null,
   "id": "363ee59c-875f-40bd-9fc8-99cdffe66be5",
   "metadata": {},
   "outputs": [],
   "source": []
  },
  {
   "cell_type": "code",
   "execution_count": 34,
   "id": "5f409b8b-b52e-4a1a-9081-d9802cd62b3e",
   "metadata": {},
   "outputs": [
    {
     "data": {
      "text/html": [
       "        <script type=\"text/javascript\">\n",
       "        window.PlotlyConfig = {MathJaxConfig: 'local'};\n",
       "        if (window.MathJax && window.MathJax.Hub && window.MathJax.Hub.Config) {window.MathJax.Hub.Config({SVG: {font: \"STIX-Web\"}});}\n",
       "        if (typeof require !== 'undefined') {\n",
       "        require.undef(\"plotly\");\n",
       "        requirejs.config({\n",
       "            paths: {\n",
       "                'plotly': ['https://cdn.plot.ly/plotly-2.24.1.min']\n",
       "            }\n",
       "        });\n",
       "        require(['plotly'], function(Plotly) {\n",
       "            window._Plotly = Plotly;\n",
       "        });\n",
       "        }\n",
       "        </script>\n",
       "        "
      ]
     },
     "metadata": {},
     "output_type": "display_data"
    },
    {
     "data": {
      "application/vnd.plotly.v1+json": {
       "config": {
        "linkText": "Export to plot.ly",
        "plotlyServerURL": "https://plot.ly",
        "showLink": false
       },
       "data": [
        {
         "connectgaps": false,
         "hoverinfo": "y+name",
         "line": {
          "color": "rgb(220,91,185)",
          "width": 10
         },
         "mode": "lines",
         "name": "unloading:truck1",
         "type": "scatter",
         "x": [
          "1970-01-01T01:03:36.375536",
          "1970-01-01T01:03:36.375536",
          "1970-01-01T01:04:01.375536",
          "1970-01-01T01:04:01.375536",
          "1970-01-01T01:04:01.375536",
          "1970-01-01T02:07:37.751072",
          "1970-01-01T02:07:37.751072",
          "1970-01-01T02:08:02.751072",
          "1970-01-01T02:08:02.751072",
          "1970-01-01T02:08:02.751072",
          "1970-01-01T03:11:39.126609",
          "1970-01-01T03:11:39.126609",
          "1970-01-01T03:12:04.126609",
          "1970-01-01T03:12:04.126609",
          "1970-01-01T03:12:04.126609"
         ],
         "y": [
          "truck1",
          "truck1",
          "truck1",
          "truck1",
          null,
          "truck1",
          "truck1",
          "truck1",
          "truck1",
          null,
          "truck1",
          "truck1",
          "truck1",
          "truck1",
          null
         ]
        },
        {
         "connectgaps": false,
         "hoverinfo": "y+name",
         "line": {
          "color": "rgb(223,94,188)",
          "width": 10
         },
         "mode": "lines",
         "name": "loading:truck1",
         "type": "scatter",
         "x": [
          "1970-01-01T00:32:00.113018",
          "1970-01-01T00:32:00.113018",
          "1970-01-01T00:32:50.113018",
          "1970-01-01T00:32:50.113018",
          "1970-01-01T00:32:50.113018",
          "1970-01-01T01:36:01.488555",
          "1970-01-01T01:36:01.488555",
          "1970-01-01T01:36:51.488555",
          "1970-01-01T01:36:51.488555",
          "1970-01-01T01:36:51.488555",
          "1970-01-01T02:40:02.864091",
          "1970-01-01T02:40:02.864091",
          "1970-01-01T02:40:52.864091",
          "1970-01-01T02:40:52.864091",
          "1970-01-01T02:40:52.864091"
         ],
         "y": [
          "truck1",
          "truck1",
          "truck1",
          "truck1",
          null,
          "truck1",
          "truck1",
          "truck1",
          "truck1",
          null,
          "truck1",
          "truck1",
          "truck1",
          "truck1",
          null
         ]
        },
        {
         "connectgaps": false,
         "hoverinfo": "y+name",
         "line": {
          "color": "rgb(226,97,191)",
          "width": 10
         },
         "mode": "lines",
         "name": "driving_full:truck1",
         "type": "scatter",
         "x": [
          "1970-01-01T00:32:50.113018",
          "1970-01-01T00:32:50.113018",
          "1970-01-01T01:03:36.375536",
          "1970-01-01T01:03:36.375536",
          "1970-01-01T01:03:36.375536",
          "1970-01-01T01:36:51.488555",
          "1970-01-01T01:36:51.488555",
          "1970-01-01T02:07:37.751072",
          "1970-01-01T02:07:37.751072",
          "1970-01-01T02:07:37.751072",
          "1970-01-01T02:40:52.864091",
          "1970-01-01T02:40:52.864091",
          "1970-01-01T03:11:39.126609",
          "1970-01-01T03:11:39.126609",
          "1970-01-01T03:11:39.126609"
         ],
         "y": [
          "truck1",
          "truck1",
          "truck1",
          "truck1",
          null,
          "truck1",
          "truck1",
          "truck1",
          "truck1",
          null,
          "truck1",
          "truck1",
          "truck1",
          "truck1",
          null
         ]
        },
        {
         "connectgaps": false,
         "hoverinfo": "y+name",
         "line": {
          "color": "rgb(229,100,194)",
          "width": 10
         },
         "mode": "lines",
         "name": "driving_empty:truck1",
         "type": "scatter",
         "x": [
          "1970-01-01T00:00:00",
          "1970-01-01T00:00:00",
          "1970-01-01T00:32:00.113018",
          "1970-01-01T00:32:00.113018",
          "1970-01-01T00:32:00.113018",
          "1970-01-01T01:04:01.375536",
          "1970-01-01T01:04:01.375536",
          "1970-01-01T01:36:01.488555",
          "1970-01-01T01:36:01.488555",
          "1970-01-01T01:36:01.488555",
          "1970-01-01T02:08:02.751072",
          "1970-01-01T02:08:02.751072",
          "1970-01-01T02:40:02.864091",
          "1970-01-01T02:40:02.864091",
          "1970-01-01T02:40:02.864091"
         ],
         "y": [
          "truck1",
          "truck1",
          "truck1",
          "truck1",
          null,
          "truck1",
          "truck1",
          "truck1",
          "truck1",
          null,
          "truck1",
          "truck1",
          "truck1",
          "truck1",
          null
         ]
        },
        {
         "connectgaps": false,
         "hoverinfo": "y+name",
         "line": {
          "color": "rgb(232,103,197)",
          "width": 10
         },
         "mode": "lines",
         "name": "loading:truck2",
         "type": "scatter",
         "x": [
          "1970-01-01T00:32:50.113018",
          "1970-01-01T00:32:50.113018",
          "1970-01-01T00:33:40.113018",
          "1970-01-01T00:33:40.113018",
          "1970-01-01T00:33:40.113018",
          "1970-01-01T01:36:51.488555",
          "1970-01-01T01:36:51.488555",
          "1970-01-01T01:37:41.488555",
          "1970-01-01T01:37:41.488555",
          "1970-01-01T01:37:41.488555",
          "1970-01-01T02:40:52.864091",
          "1970-01-01T02:40:52.864091",
          "1970-01-01T02:41:42.864091",
          "1970-01-01T02:41:42.864091",
          "1970-01-01T02:41:42.864091"
         ],
         "y": [
          "truck2",
          "truck2",
          "truck2",
          "truck2",
          null,
          "truck2",
          "truck2",
          "truck2",
          "truck2",
          null,
          "truck2",
          "truck2",
          "truck2",
          "truck2",
          null
         ]
        },
        {
         "connectgaps": false,
         "hoverinfo": "y+name",
         "line": {
          "color": "rgb(235,106,200)",
          "width": 10
         },
         "mode": "lines",
         "name": "driving_empty:truck2",
         "type": "scatter",
         "x": [
          "1970-01-01T00:00:00",
          "1970-01-01T00:00:00",
          "1970-01-01T00:32:00.113018",
          "1970-01-01T00:32:00.113018",
          "1970-01-01T00:32:00.113018",
          "1970-01-01T01:04:51.375536",
          "1970-01-01T01:04:51.375536",
          "1970-01-01T01:36:51.488555",
          "1970-01-01T01:36:51.488555",
          "1970-01-01T01:36:51.488555",
          "1970-01-01T02:08:52.751072",
          "1970-01-01T02:08:52.751072",
          "1970-01-01T02:40:52.864091",
          "1970-01-01T02:40:52.864091",
          "1970-01-01T02:40:52.864091"
         ],
         "y": [
          "truck2",
          "truck2",
          "truck2",
          "truck2",
          null,
          "truck2",
          "truck2",
          "truck2",
          "truck2",
          null,
          "truck2",
          "truck2",
          "truck2",
          "truck2",
          null
         ]
        },
        {
         "connectgaps": false,
         "hoverinfo": "y+name",
         "line": {
          "color": "rgb(238,109,203)",
          "width": 10
         },
         "mode": "lines",
         "name": "unloading:truck2",
         "type": "scatter",
         "x": [
          "1970-01-01T01:04:26.375536",
          "1970-01-01T01:04:26.375536",
          "1970-01-01T01:04:51.375536",
          "1970-01-01T01:04:51.375536",
          "1970-01-01T01:04:51.375536",
          "1970-01-01T02:08:27.751072",
          "1970-01-01T02:08:27.751072",
          "1970-01-01T02:08:52.751072",
          "1970-01-01T02:08:52.751072",
          "1970-01-01T02:08:52.751072",
          "1970-01-01T03:12:29.126609",
          "1970-01-01T03:12:29.126609",
          "1970-01-01T03:12:54.126609",
          "1970-01-01T03:12:54.126609",
          "1970-01-01T03:12:54.126609"
         ],
         "y": [
          "truck2",
          "truck2",
          "truck2",
          "truck2",
          null,
          "truck2",
          "truck2",
          "truck2",
          "truck2",
          null,
          "truck2",
          "truck2",
          "truck2",
          "truck2",
          null
         ]
        },
        {
         "connectgaps": false,
         "hoverinfo": "y+name",
         "line": {
          "color": "rgb(241,112,206)",
          "width": 10
         },
         "mode": "lines",
         "name": "driving_full:truck2",
         "type": "scatter",
         "x": [
          "1970-01-01T00:33:40.113018",
          "1970-01-01T00:33:40.113018",
          "1970-01-01T01:04:26.375536",
          "1970-01-01T01:04:26.375536",
          "1970-01-01T01:04:26.375536",
          "1970-01-01T01:37:41.488555",
          "1970-01-01T01:37:41.488555",
          "1970-01-01T02:08:27.751072",
          "1970-01-01T02:08:27.751072",
          "1970-01-01T02:08:27.751072",
          "1970-01-01T02:41:42.864091",
          "1970-01-01T02:41:42.864091",
          "1970-01-01T03:12:29.126609",
          "1970-01-01T03:12:29.126609",
          "1970-01-01T03:12:29.126609"
         ],
         "y": [
          "truck2",
          "truck2",
          "truck2",
          "truck2",
          null,
          "truck2",
          "truck2",
          "truck2",
          "truck2",
          null,
          "truck2",
          "truck2",
          "truck2",
          "truck2",
          null
         ]
        },
        {
         "connectgaps": false,
         "hoverinfo": "y+name",
         "line": {
          "color": "rgb(244,115,209)",
          "width": 10
         },
         "mode": "lines",
         "name": "driving_empty:truck3",
         "type": "scatter",
         "x": [
          "1970-01-01T00:00:00",
          "1970-01-01T00:00:00",
          "1970-01-01T00:32:00.113018",
          "1970-01-01T00:32:00.113018",
          "1970-01-01T00:32:00.113018",
          "1970-01-01T01:05:41.375536",
          "1970-01-01T01:05:41.375536",
          "1970-01-01T01:37:41.488555",
          "1970-01-01T01:37:41.488555",
          "1970-01-01T01:37:41.488555",
          "1970-01-01T02:09:42.751072",
          "1970-01-01T02:09:42.751072",
          "1970-01-01T02:41:42.864091",
          "1970-01-01T02:41:42.864091",
          "1970-01-01T02:41:42.864091"
         ],
         "y": [
          "truck3",
          "truck3",
          "truck3",
          "truck3",
          null,
          "truck3",
          "truck3",
          "truck3",
          "truck3",
          null,
          "truck3",
          "truck3",
          "truck3",
          "truck3",
          null
         ]
        },
        {
         "connectgaps": false,
         "hoverinfo": "y+name",
         "line": {
          "color": "rgb(247,118,212)",
          "width": 10
         },
         "mode": "lines",
         "name": "loading:truck3",
         "type": "scatter",
         "x": [
          "1970-01-01T00:33:40.113018",
          "1970-01-01T00:33:40.113018",
          "1970-01-01T00:34:30.113018",
          "1970-01-01T00:34:30.113018",
          "1970-01-01T00:34:30.113018",
          "1970-01-01T01:37:41.488555",
          "1970-01-01T01:37:41.488555",
          "1970-01-01T01:38:31.488555",
          "1970-01-01T01:38:31.488555",
          "1970-01-01T01:38:31.488555",
          "1970-01-01T02:41:42.864091",
          "1970-01-01T02:41:42.864091",
          "1970-01-01T02:42:32.864091",
          "1970-01-01T02:42:32.864091",
          "1970-01-01T02:42:32.864091"
         ],
         "y": [
          "truck3",
          "truck3",
          "truck3",
          "truck3",
          null,
          "truck3",
          "truck3",
          "truck3",
          "truck3",
          null,
          "truck3",
          "truck3",
          "truck3",
          "truck3",
          null
         ]
        },
        {
         "connectgaps": false,
         "hoverinfo": "y+name",
         "line": {
          "color": "rgb(250,121,215)",
          "width": 10
         },
         "mode": "lines",
         "name": "unloading:truck3",
         "type": "scatter",
         "x": [
          "1970-01-01T01:05:16.375536",
          "1970-01-01T01:05:16.375536",
          "1970-01-01T01:05:41.375536",
          "1970-01-01T01:05:41.375536",
          "1970-01-01T01:05:41.375536",
          "1970-01-01T02:09:17.751072",
          "1970-01-01T02:09:17.751072",
          "1970-01-01T02:09:42.751072",
          "1970-01-01T02:09:42.751072",
          "1970-01-01T02:09:42.751072",
          "1970-01-01T03:13:19.126609",
          "1970-01-01T03:13:19.126609",
          "1970-01-01T03:13:44.126609",
          "1970-01-01T03:13:44.126609",
          "1970-01-01T03:13:44.126609"
         ],
         "y": [
          "truck3",
          "truck3",
          "truck3",
          "truck3",
          null,
          "truck3",
          "truck3",
          "truck3",
          "truck3",
          null,
          "truck3",
          "truck3",
          "truck3",
          "truck3",
          null
         ]
        },
        {
         "connectgaps": false,
         "hoverinfo": "y+name",
         "line": {
          "color": "rgb(253,124,218)",
          "width": 10
         },
         "mode": "lines",
         "name": "driving_full:truck3",
         "type": "scatter",
         "x": [
          "1970-01-01T00:34:30.113018",
          "1970-01-01T00:34:30.113018",
          "1970-01-01T01:05:16.375536",
          "1970-01-01T01:05:16.375536",
          "1970-01-01T01:05:16.375536",
          "1970-01-01T01:38:31.488555",
          "1970-01-01T01:38:31.488555",
          "1970-01-01T02:09:17.751072",
          "1970-01-01T02:09:17.751072",
          "1970-01-01T02:09:17.751072",
          "1970-01-01T02:42:32.864091",
          "1970-01-01T02:42:32.864091",
          "1970-01-01T03:13:19.126609",
          "1970-01-01T03:13:19.126609",
          "1970-01-01T03:13:19.126609"
         ],
         "y": [
          "truck3",
          "truck3",
          "truck3",
          "truck3",
          null,
          "truck3",
          "truck3",
          "truck3",
          "truck3",
          null,
          "truck3",
          "truck3",
          "truck3",
          "truck3",
          null
         ]
        },
        {
         "connectgaps": false,
         "hoverinfo": "y+name",
         "line": {
          "color": "rgb(0,127,221)",
          "width": 10
         },
         "mode": "lines",
         "name": "loading:truck4",
         "type": "scatter",
         "x": [
          "1970-01-01T00:34:30.113018",
          "1970-01-01T00:34:30.113018",
          "1970-01-01T00:35:20.113018",
          "1970-01-01T00:35:20.113018",
          "1970-01-01T00:35:20.113018",
          "1970-01-01T01:38:31.488555",
          "1970-01-01T01:38:31.488555",
          "1970-01-01T01:39:21.488555",
          "1970-01-01T01:39:21.488555",
          "1970-01-01T01:39:21.488555",
          "1970-01-01T02:42:32.864091",
          "1970-01-01T02:42:32.864091",
          "1970-01-01T02:43:22.864091",
          "1970-01-01T02:43:22.864091",
          "1970-01-01T02:43:22.864091"
         ],
         "y": [
          "truck4",
          "truck4",
          "truck4",
          "truck4",
          null,
          "truck4",
          "truck4",
          "truck4",
          "truck4",
          null,
          "truck4",
          "truck4",
          "truck4",
          "truck4",
          null
         ]
        },
        {
         "connectgaps": false,
         "hoverinfo": "y+name",
         "line": {
          "color": "rgb(3,130,224)",
          "width": 10
         },
         "mode": "lines",
         "name": "unloading:truck4",
         "type": "scatter",
         "x": [
          "1970-01-01T01:06:06.375536",
          "1970-01-01T01:06:06.375536",
          "1970-01-01T01:06:31.375536",
          "1970-01-01T01:06:31.375536",
          "1970-01-01T01:06:31.375536",
          "1970-01-01T02:10:07.751072",
          "1970-01-01T02:10:07.751072",
          "1970-01-01T02:10:32.751072",
          "1970-01-01T02:10:32.751072",
          "1970-01-01T02:10:32.751072",
          "1970-01-01T03:14:09.126609",
          "1970-01-01T03:14:09.126609",
          "1970-01-01T03:14:34.126609",
          "1970-01-01T03:14:34.126609",
          "1970-01-01T03:14:34.126609"
         ],
         "y": [
          "truck4",
          "truck4",
          "truck4",
          "truck4",
          null,
          "truck4",
          "truck4",
          "truck4",
          "truck4",
          null,
          "truck4",
          "truck4",
          "truck4",
          "truck4",
          null
         ]
        },
        {
         "connectgaps": false,
         "hoverinfo": "y+name",
         "line": {
          "color": "rgb(6,133,227)",
          "width": 10
         },
         "mode": "lines",
         "name": "driving_full:truck4",
         "type": "scatter",
         "x": [
          "1970-01-01T00:35:20.113018",
          "1970-01-01T00:35:20.113018",
          "1970-01-01T01:06:06.375536",
          "1970-01-01T01:06:06.375536",
          "1970-01-01T01:06:06.375536",
          "1970-01-01T01:39:21.488555",
          "1970-01-01T01:39:21.488555",
          "1970-01-01T02:10:07.751072",
          "1970-01-01T02:10:07.751072",
          "1970-01-01T02:10:07.751072",
          "1970-01-01T02:43:22.864091",
          "1970-01-01T02:43:22.864091",
          "1970-01-01T03:14:09.126609",
          "1970-01-01T03:14:09.126609",
          "1970-01-01T03:14:09.126609"
         ],
         "y": [
          "truck4",
          "truck4",
          "truck4",
          "truck4",
          null,
          "truck4",
          "truck4",
          "truck4",
          "truck4",
          null,
          "truck4",
          "truck4",
          "truck4",
          "truck4",
          null
         ]
        },
        {
         "connectgaps": false,
         "hoverinfo": "y+name",
         "line": {
          "color": "rgb(9,136,230)",
          "width": 10
         },
         "mode": "lines",
         "name": "driving_empty:truck4",
         "type": "scatter",
         "x": [
          "1970-01-01T00:00:00",
          "1970-01-01T00:00:00",
          "1970-01-01T00:32:00.113018",
          "1970-01-01T00:32:00.113018",
          "1970-01-01T00:32:00.113018",
          "1970-01-01T01:06:31.375536",
          "1970-01-01T01:06:31.375536",
          "1970-01-01T01:38:31.488555",
          "1970-01-01T01:38:31.488555",
          "1970-01-01T01:38:31.488555",
          "1970-01-01T02:10:32.751072",
          "1970-01-01T02:10:32.751072",
          "1970-01-01T02:42:32.864091",
          "1970-01-01T02:42:32.864091",
          "1970-01-01T02:42:32.864091"
         ],
         "y": [
          "truck4",
          "truck4",
          "truck4",
          "truck4",
          null,
          "truck4",
          "truck4",
          "truck4",
          "truck4",
          null,
          "truck4",
          "truck4",
          "truck4",
          "truck4",
          null
         ]
        },
        {
         "connectgaps": false,
         "hoverinfo": "y+name",
         "line": {
          "color": "rgb(12,139,233)",
          "width": 10
         },
         "mode": "lines",
         "name": "driving_empty:truck5",
         "type": "scatter",
         "x": [
          "1970-01-01T00:00:00",
          "1970-01-01T00:00:00",
          "1970-01-01T00:32:00.113018",
          "1970-01-01T00:32:00.113018",
          "1970-01-01T00:32:00.113018",
          "1970-01-01T01:07:21.375536",
          "1970-01-01T01:07:21.375536",
          "1970-01-01T01:39:21.488555",
          "1970-01-01T01:39:21.488555",
          "1970-01-01T01:39:21.488555",
          "1970-01-01T02:11:22.751072",
          "1970-01-01T02:11:22.751072",
          "1970-01-01T02:43:22.864091",
          "1970-01-01T02:43:22.864091",
          "1970-01-01T02:43:22.864091"
         ],
         "y": [
          "truck5",
          "truck5",
          "truck5",
          "truck5",
          null,
          "truck5",
          "truck5",
          "truck5",
          "truck5",
          null,
          "truck5",
          "truck5",
          "truck5",
          "truck5",
          null
         ]
        },
        {
         "connectgaps": false,
         "hoverinfo": "y+name",
         "line": {
          "color": "rgb(15,142,236)",
          "width": 10
         },
         "mode": "lines",
         "name": "loading:truck5",
         "type": "scatter",
         "x": [
          "1970-01-01T00:35:20.113018",
          "1970-01-01T00:35:20.113018",
          "1970-01-01T00:36:10.113018",
          "1970-01-01T00:36:10.113018",
          "1970-01-01T00:36:10.113018",
          "1970-01-01T01:39:21.488555",
          "1970-01-01T01:39:21.488555",
          "1970-01-01T01:40:11.488555",
          "1970-01-01T01:40:11.488555",
          "1970-01-01T01:40:11.488555",
          "1970-01-01T02:43:22.864091",
          "1970-01-01T02:43:22.864091",
          "1970-01-01T02:44:12.864091",
          "1970-01-01T02:44:12.864091",
          "1970-01-01T02:44:12.864091"
         ],
         "y": [
          "truck5",
          "truck5",
          "truck5",
          "truck5",
          null,
          "truck5",
          "truck5",
          "truck5",
          "truck5",
          null,
          "truck5",
          "truck5",
          "truck5",
          "truck5",
          null
         ]
        },
        {
         "connectgaps": false,
         "hoverinfo": "y+name",
         "line": {
          "color": "rgb(18,145,239)",
          "width": 10
         },
         "mode": "lines",
         "name": "unloading:truck5",
         "type": "scatter",
         "x": [
          "1970-01-01T01:06:56.375536",
          "1970-01-01T01:06:56.375536",
          "1970-01-01T01:07:21.375536",
          "1970-01-01T01:07:21.375536",
          "1970-01-01T01:07:21.375536",
          "1970-01-01T02:10:57.751072",
          "1970-01-01T02:10:57.751072",
          "1970-01-01T02:11:22.751072",
          "1970-01-01T02:11:22.751072",
          "1970-01-01T02:11:22.751072",
          "1970-01-01T03:14:59.126609",
          "1970-01-01T03:14:59.126609",
          "1970-01-01T03:15:24.126609",
          "1970-01-01T03:15:24.126609",
          "1970-01-01T03:15:24.126609"
         ],
         "y": [
          "truck5",
          "truck5",
          "truck5",
          "truck5",
          null,
          "truck5",
          "truck5",
          "truck5",
          "truck5",
          null,
          "truck5",
          "truck5",
          "truck5",
          "truck5",
          null
         ]
        },
        {
         "connectgaps": false,
         "hoverinfo": "y+name",
         "line": {
          "color": "rgb(21,148,242)",
          "width": 10
         },
         "mode": "lines",
         "name": "driving_full:truck5",
         "type": "scatter",
         "x": [
          "1970-01-01T00:36:10.113018",
          "1970-01-01T00:36:10.113018",
          "1970-01-01T01:06:56.375536",
          "1970-01-01T01:06:56.375536",
          "1970-01-01T01:06:56.375536",
          "1970-01-01T01:40:11.488555",
          "1970-01-01T01:40:11.488555",
          "1970-01-01T02:10:57.751072",
          "1970-01-01T02:10:57.751072",
          "1970-01-01T02:10:57.751072",
          "1970-01-01T02:44:12.864091",
          "1970-01-01T02:44:12.864091",
          "1970-01-01T03:14:59.126609",
          "1970-01-01T03:14:59.126609",
          "1970-01-01T03:14:59.126609"
         ],
         "y": [
          "truck5",
          "truck5",
          "truck5",
          "truck5",
          null,
          "truck5",
          "truck5",
          "truck5",
          "truck5",
          null,
          "truck5",
          "truck5",
          "truck5",
          "truck5",
          null
         ]
        },
        {
         "connectgaps": false,
         "hoverinfo": "y+name",
         "line": {
          "color": "rgb(24,151,245)",
          "width": 10
         },
         "mode": "lines",
         "name": "loading:truck6",
         "type": "scatter",
         "x": [
          "1970-01-01T00:36:10.113018",
          "1970-01-01T00:36:10.113018",
          "1970-01-01T00:37:00.113018",
          "1970-01-01T00:37:00.113018",
          "1970-01-01T00:37:00.113018",
          "1970-01-01T01:40:11.488555",
          "1970-01-01T01:40:11.488555",
          "1970-01-01T01:41:01.488555",
          "1970-01-01T01:41:01.488555",
          "1970-01-01T01:41:01.488555",
          "1970-01-01T02:44:12.864091",
          "1970-01-01T02:44:12.864091",
          "1970-01-01T02:45:02.864091",
          "1970-01-01T02:45:02.864091",
          "1970-01-01T02:45:02.864091"
         ],
         "y": [
          "truck6",
          "truck6",
          "truck6",
          "truck6",
          null,
          "truck6",
          "truck6",
          "truck6",
          "truck6",
          null,
          "truck6",
          "truck6",
          "truck6",
          "truck6",
          null
         ]
        },
        {
         "connectgaps": false,
         "hoverinfo": "y+name",
         "line": {
          "color": "rgb(27,154,248)",
          "width": 10
         },
         "mode": "lines",
         "name": "driving_full:truck6",
         "type": "scatter",
         "x": [
          "1970-01-01T00:37:00.113018",
          "1970-01-01T00:37:00.113018",
          "1970-01-01T01:07:46.375536",
          "1970-01-01T01:07:46.375536",
          "1970-01-01T01:07:46.375536",
          "1970-01-01T01:41:01.488555",
          "1970-01-01T01:41:01.488555",
          "1970-01-01T02:11:47.751072",
          "1970-01-01T02:11:47.751072",
          "1970-01-01T02:11:47.751072",
          "1970-01-01T02:45:02.864091",
          "1970-01-01T02:45:02.864091",
          "1970-01-01T03:15:49.126609",
          "1970-01-01T03:15:49.126609",
          "1970-01-01T03:15:49.126609"
         ],
         "y": [
          "truck6",
          "truck6",
          "truck6",
          "truck6",
          null,
          "truck6",
          "truck6",
          "truck6",
          "truck6",
          null,
          "truck6",
          "truck6",
          "truck6",
          "truck6",
          null
         ]
        },
        {
         "connectgaps": false,
         "hoverinfo": "y+name",
         "line": {
          "color": "rgb(30,157,251)",
          "width": 10
         },
         "mode": "lines",
         "name": "driving_empty:truck6",
         "type": "scatter",
         "x": [
          "1970-01-01T00:00:00",
          "1970-01-01T00:00:00",
          "1970-01-01T00:32:00.113018",
          "1970-01-01T00:32:00.113018",
          "1970-01-01T00:32:00.113018",
          "1970-01-01T01:08:11.375536",
          "1970-01-01T01:08:11.375536",
          "1970-01-01T01:40:11.488555",
          "1970-01-01T01:40:11.488555",
          "1970-01-01T01:40:11.488555",
          "1970-01-01T02:12:12.751072",
          "1970-01-01T02:12:12.751072",
          "1970-01-01T02:44:12.864091",
          "1970-01-01T02:44:12.864091",
          "1970-01-01T02:44:12.864091"
         ],
         "y": [
          "truck6",
          "truck6",
          "truck6",
          "truck6",
          null,
          "truck6",
          "truck6",
          "truck6",
          "truck6",
          null,
          "truck6",
          "truck6",
          "truck6",
          "truck6",
          null
         ]
        },
        {
         "connectgaps": false,
         "hoverinfo": "y+name",
         "line": {
          "color": "rgb(33,160,254)",
          "width": 10
         },
         "mode": "lines",
         "name": "unloading:truck6",
         "type": "scatter",
         "x": [
          "1970-01-01T01:07:46.375536",
          "1970-01-01T01:07:46.375536",
          "1970-01-01T01:08:11.375536",
          "1970-01-01T01:08:11.375536",
          "1970-01-01T01:08:11.375536",
          "1970-01-01T02:11:47.751072",
          "1970-01-01T02:11:47.751072",
          "1970-01-01T02:12:12.751072",
          "1970-01-01T02:12:12.751072",
          "1970-01-01T02:12:12.751072",
          "1970-01-01T03:15:49.126609",
          "1970-01-01T03:15:49.126609",
          "1970-01-01T03:16:14.126609",
          "1970-01-01T03:16:14.126609",
          "1970-01-01T03:16:14.126609"
         ],
         "y": [
          "truck6",
          "truck6",
          "truck6",
          "truck6",
          null,
          "truck6",
          "truck6",
          "truck6",
          "truck6",
          null,
          "truck6",
          "truck6",
          "truck6",
          "truck6",
          null
         ]
        },
        {
         "connectgaps": false,
         "hoverinfo": "y+name",
         "line": {
          "color": "rgb(36,163,1)",
          "width": 10
         },
         "mode": "lines",
         "name": "driving_full:truck7",
         "type": "scatter",
         "x": [
          "1970-01-01T00:37:50.113018",
          "1970-01-01T00:37:50.113018",
          "1970-01-01T01:08:36.375536",
          "1970-01-01T01:08:36.375536",
          "1970-01-01T01:08:36.375536",
          "1970-01-01T01:41:51.488555",
          "1970-01-01T01:41:51.488555",
          "1970-01-01T02:12:37.751072",
          "1970-01-01T02:12:37.751072",
          "1970-01-01T02:12:37.751072",
          "1970-01-01T02:45:52.864091",
          "1970-01-01T02:45:52.864091",
          "1970-01-01T03:16:39.126609",
          "1970-01-01T03:16:39.126609",
          "1970-01-01T03:16:39.126609"
         ],
         "y": [
          "truck7",
          "truck7",
          "truck7",
          "truck7",
          null,
          "truck7",
          "truck7",
          "truck7",
          "truck7",
          null,
          "truck7",
          "truck7",
          "truck7",
          "truck7",
          null
         ]
        },
        {
         "connectgaps": false,
         "hoverinfo": "y+name",
         "line": {
          "color": "rgb(39,166,4)",
          "width": 10
         },
         "mode": "lines",
         "name": "unloading:truck7",
         "type": "scatter",
         "x": [
          "1970-01-01T01:08:36.375536",
          "1970-01-01T01:08:36.375536",
          "1970-01-01T01:09:01.375536",
          "1970-01-01T01:09:01.375536",
          "1970-01-01T01:09:01.375536",
          "1970-01-01T02:12:37.751072",
          "1970-01-01T02:12:37.751072",
          "1970-01-01T02:13:02.751072",
          "1970-01-01T02:13:02.751072",
          "1970-01-01T02:13:02.751072",
          "1970-01-01T03:16:39.126609",
          "1970-01-01T03:16:39.126609",
          "1970-01-01T03:17:04.126609",
          "1970-01-01T03:17:04.126609",
          "1970-01-01T03:17:04.126609"
         ],
         "y": [
          "truck7",
          "truck7",
          "truck7",
          "truck7",
          null,
          "truck7",
          "truck7",
          "truck7",
          "truck7",
          null,
          "truck7",
          "truck7",
          "truck7",
          "truck7",
          null
         ]
        },
        {
         "connectgaps": false,
         "hoverinfo": "y+name",
         "line": {
          "color": "rgb(42,169,7)",
          "width": 10
         },
         "mode": "lines",
         "name": "driving_empty:truck7",
         "type": "scatter",
         "x": [
          "1970-01-01T00:00:00",
          "1970-01-01T00:00:00",
          "1970-01-01T00:32:00.113018",
          "1970-01-01T00:32:00.113018",
          "1970-01-01T00:32:00.113018",
          "1970-01-01T01:09:01.375536",
          "1970-01-01T01:09:01.375536",
          "1970-01-01T01:41:01.488555",
          "1970-01-01T01:41:01.488555",
          "1970-01-01T01:41:01.488555",
          "1970-01-01T02:13:02.751072",
          "1970-01-01T02:13:02.751072",
          "1970-01-01T02:45:02.864091",
          "1970-01-01T02:45:02.864091",
          "1970-01-01T02:45:02.864091"
         ],
         "y": [
          "truck7",
          "truck7",
          "truck7",
          "truck7",
          null,
          "truck7",
          "truck7",
          "truck7",
          "truck7",
          null,
          "truck7",
          "truck7",
          "truck7",
          "truck7",
          null
         ]
        },
        {
         "connectgaps": false,
         "hoverinfo": "y+name",
         "line": {
          "color": "rgb(45,172,10)",
          "width": 10
         },
         "mode": "lines",
         "name": "loading:truck7",
         "type": "scatter",
         "x": [
          "1970-01-01T00:37:00.113018",
          "1970-01-01T00:37:00.113018",
          "1970-01-01T00:37:50.113018",
          "1970-01-01T00:37:50.113018",
          "1970-01-01T00:37:50.113018",
          "1970-01-01T01:41:01.488555",
          "1970-01-01T01:41:01.488555",
          "1970-01-01T01:41:51.488555",
          "1970-01-01T01:41:51.488555",
          "1970-01-01T01:41:51.488555",
          "1970-01-01T02:45:02.864091",
          "1970-01-01T02:45:02.864091",
          "1970-01-01T02:45:52.864091",
          "1970-01-01T02:45:52.864091",
          "1970-01-01T02:45:52.864091"
         ],
         "y": [
          "truck7",
          "truck7",
          "truck7",
          "truck7",
          null,
          "truck7",
          "truck7",
          "truck7",
          "truck7",
          null,
          "truck7",
          "truck7",
          "truck7",
          "truck7",
          null
         ]
        },
        {
         "connectgaps": false,
         "hoverinfo": "y+name",
         "line": {
          "color": "rgb(48,175,13)",
          "width": 10
         },
         "mode": "lines",
         "name": "driving_empty:truck8",
         "type": "scatter",
         "x": [
          "1970-01-01T00:00:00",
          "1970-01-01T00:00:00",
          "1970-01-01T00:32:00.113018",
          "1970-01-01T00:32:00.113018",
          "1970-01-01T00:32:00.113018",
          "1970-01-01T01:09:51.375536",
          "1970-01-01T01:09:51.375536",
          "1970-01-01T01:41:51.488555",
          "1970-01-01T01:41:51.488555",
          "1970-01-01T01:41:51.488555",
          "1970-01-01T02:13:52.751072",
          "1970-01-01T02:13:52.751072",
          "1970-01-01T02:45:52.864091",
          "1970-01-01T02:45:52.864091",
          "1970-01-01T02:45:52.864091"
         ],
         "y": [
          "truck8",
          "truck8",
          "truck8",
          "truck8",
          null,
          "truck8",
          "truck8",
          "truck8",
          "truck8",
          null,
          "truck8",
          "truck8",
          "truck8",
          "truck8",
          null
         ]
        },
        {
         "connectgaps": false,
         "hoverinfo": "y+name",
         "line": {
          "color": "rgb(51,178,16)",
          "width": 10
         },
         "mode": "lines",
         "name": "unloading:truck8",
         "type": "scatter",
         "x": [
          "1970-01-01T01:09:26.375536",
          "1970-01-01T01:09:26.375536",
          "1970-01-01T01:09:51.375536",
          "1970-01-01T01:09:51.375536",
          "1970-01-01T01:09:51.375536",
          "1970-01-01T02:13:27.751072",
          "1970-01-01T02:13:27.751072",
          "1970-01-01T02:13:52.751072",
          "1970-01-01T02:13:52.751072",
          "1970-01-01T02:13:52.751072",
          "1970-01-01T03:17:29.126609",
          "1970-01-01T03:17:29.126609",
          "1970-01-01T03:17:54.126609",
          "1970-01-01T03:17:54.126609",
          "1970-01-01T03:17:54.126609"
         ],
         "y": [
          "truck8",
          "truck8",
          "truck8",
          "truck8",
          null,
          "truck8",
          "truck8",
          "truck8",
          "truck8",
          null,
          "truck8",
          "truck8",
          "truck8",
          "truck8",
          null
         ]
        },
        {
         "connectgaps": false,
         "hoverinfo": "y+name",
         "line": {
          "color": "rgb(54,181,19)",
          "width": 10
         },
         "mode": "lines",
         "name": "driving_full:truck8",
         "type": "scatter",
         "x": [
          "1970-01-01T00:38:40.113018",
          "1970-01-01T00:38:40.113018",
          "1970-01-01T01:09:26.375536",
          "1970-01-01T01:09:26.375536",
          "1970-01-01T01:09:26.375536",
          "1970-01-01T01:42:41.488555",
          "1970-01-01T01:42:41.488555",
          "1970-01-01T02:13:27.751072",
          "1970-01-01T02:13:27.751072",
          "1970-01-01T02:13:27.751072",
          "1970-01-01T02:46:42.864091",
          "1970-01-01T02:46:42.864091",
          "1970-01-01T03:17:29.126609",
          "1970-01-01T03:17:29.126609",
          "1970-01-01T03:17:29.126609"
         ],
         "y": [
          "truck8",
          "truck8",
          "truck8",
          "truck8",
          null,
          "truck8",
          "truck8",
          "truck8",
          "truck8",
          null,
          "truck8",
          "truck8",
          "truck8",
          "truck8",
          null
         ]
        },
        {
         "connectgaps": false,
         "hoverinfo": "y+name",
         "line": {
          "color": "rgb(57,184,22)",
          "width": 10
         },
         "mode": "lines",
         "name": "loading:truck8",
         "type": "scatter",
         "x": [
          "1970-01-01T00:37:50.113018",
          "1970-01-01T00:37:50.113018",
          "1970-01-01T00:38:40.113018",
          "1970-01-01T00:38:40.113018",
          "1970-01-01T00:38:40.113018",
          "1970-01-01T01:41:51.488555",
          "1970-01-01T01:41:51.488555",
          "1970-01-01T01:42:41.488555",
          "1970-01-01T01:42:41.488555",
          "1970-01-01T01:42:41.488555",
          "1970-01-01T02:45:52.864091",
          "1970-01-01T02:45:52.864091",
          "1970-01-01T02:46:42.864091",
          "1970-01-01T02:46:42.864091",
          "1970-01-01T02:46:42.864091"
         ],
         "y": [
          "truck8",
          "truck8",
          "truck8",
          "truck8",
          null,
          "truck8",
          "truck8",
          "truck8",
          "truck8",
          null,
          "truck8",
          "truck8",
          "truck8",
          "truck8",
          null
         ]
        },
        {
         "connectgaps": false,
         "hoverinfo": "y+name",
         "line": {
          "color": "rgb(60,187,25)",
          "width": 10
         },
         "mode": "lines",
         "name": "unloading:truck9",
         "type": "scatter",
         "x": [
          "1970-01-01T01:10:16.375536",
          "1970-01-01T01:10:16.375536",
          "1970-01-01T01:10:41.375536",
          "1970-01-01T01:10:41.375536",
          "1970-01-01T01:10:41.375536",
          "1970-01-01T02:14:17.751072",
          "1970-01-01T02:14:17.751072",
          "1970-01-01T02:14:42.751072",
          "1970-01-01T02:14:42.751072",
          "1970-01-01T02:14:42.751072",
          "1970-01-01T03:18:19.126609",
          "1970-01-01T03:18:19.126609",
          "1970-01-01T03:18:44.126609",
          "1970-01-01T03:18:44.126609",
          "1970-01-01T03:18:44.126609"
         ],
         "y": [
          "truck9",
          "truck9",
          "truck9",
          "truck9",
          null,
          "truck9",
          "truck9",
          "truck9",
          "truck9",
          null,
          "truck9",
          "truck9",
          "truck9",
          "truck9",
          null
         ]
        },
        {
         "connectgaps": false,
         "hoverinfo": "y+name",
         "line": {
          "color": "rgb(63,190,28)",
          "width": 10
         },
         "mode": "lines",
         "name": "driving_full:truck9",
         "type": "scatter",
         "x": [
          "1970-01-01T00:39:30.113018",
          "1970-01-01T00:39:30.113018",
          "1970-01-01T01:10:16.375536",
          "1970-01-01T01:10:16.375536",
          "1970-01-01T01:10:16.375536",
          "1970-01-01T01:43:31.488555",
          "1970-01-01T01:43:31.488555",
          "1970-01-01T02:14:17.751072",
          "1970-01-01T02:14:17.751072",
          "1970-01-01T02:14:17.751072",
          "1970-01-01T02:47:32.864091",
          "1970-01-01T02:47:32.864091",
          "1970-01-01T03:18:19.126609",
          "1970-01-01T03:18:19.126609",
          "1970-01-01T03:18:19.126609"
         ],
         "y": [
          "truck9",
          "truck9",
          "truck9",
          "truck9",
          null,
          "truck9",
          "truck9",
          "truck9",
          "truck9",
          null,
          "truck9",
          "truck9",
          "truck9",
          "truck9",
          null
         ]
        },
        {
         "connectgaps": false,
         "hoverinfo": "y+name",
         "line": {
          "color": "rgb(66,193,31)",
          "width": 10
         },
         "mode": "lines",
         "name": "loading:truck9",
         "type": "scatter",
         "x": [
          "1970-01-01T00:38:40.113018",
          "1970-01-01T00:38:40.113018",
          "1970-01-01T00:39:30.113018",
          "1970-01-01T00:39:30.113018",
          "1970-01-01T00:39:30.113018",
          "1970-01-01T01:42:41.488555",
          "1970-01-01T01:42:41.488555",
          "1970-01-01T01:43:31.488555",
          "1970-01-01T01:43:31.488555",
          "1970-01-01T01:43:31.488555",
          "1970-01-01T02:46:42.864091",
          "1970-01-01T02:46:42.864091",
          "1970-01-01T02:47:32.864091",
          "1970-01-01T02:47:32.864091",
          "1970-01-01T02:47:32.864091"
         ],
         "y": [
          "truck9",
          "truck9",
          "truck9",
          "truck9",
          null,
          "truck9",
          "truck9",
          "truck9",
          "truck9",
          null,
          "truck9",
          "truck9",
          "truck9",
          "truck9",
          null
         ]
        },
        {
         "connectgaps": false,
         "hoverinfo": "y+name",
         "line": {
          "color": "rgb(69,196,34)",
          "width": 10
         },
         "mode": "lines",
         "name": "driving_empty:truck9",
         "type": "scatter",
         "x": [
          "1970-01-01T00:00:00",
          "1970-01-01T00:00:00",
          "1970-01-01T00:32:00.113018",
          "1970-01-01T00:32:00.113018",
          "1970-01-01T00:32:00.113018",
          "1970-01-01T01:10:41.375536",
          "1970-01-01T01:10:41.375536",
          "1970-01-01T01:42:41.488555",
          "1970-01-01T01:42:41.488555",
          "1970-01-01T01:42:41.488555",
          "1970-01-01T02:14:42.751072",
          "1970-01-01T02:14:42.751072",
          "1970-01-01T02:46:42.864091",
          "1970-01-01T02:46:42.864091",
          "1970-01-01T02:46:42.864091"
         ],
         "y": [
          "truck9",
          "truck9",
          "truck9",
          "truck9",
          null,
          "truck9",
          "truck9",
          "truck9",
          "truck9",
          null,
          "truck9",
          "truck9",
          "truck9",
          "truck9",
          null
         ]
        },
        {
         "connectgaps": false,
         "hoverinfo": "y+name",
         "line": {
          "color": "rgb(72,199,37)",
          "width": 10
         },
         "mode": "lines",
         "name": "unloading:truck10",
         "type": "scatter",
         "x": [
          "1970-01-01T01:11:06.375536",
          "1970-01-01T01:11:06.375536",
          "1970-01-01T01:11:31.375536",
          "1970-01-01T01:11:31.375536",
          "1970-01-01T01:11:31.375536",
          "1970-01-01T02:15:07.751072",
          "1970-01-01T02:15:07.751072",
          "1970-01-01T02:15:32.751072",
          "1970-01-01T02:15:32.751072",
          "1970-01-01T02:15:32.751072",
          "1970-01-01T03:19:09.126609",
          "1970-01-01T03:19:09.126609",
          "1970-01-01T03:19:34.126609",
          "1970-01-01T03:19:34.126609",
          "1970-01-01T03:19:34.126609"
         ],
         "y": [
          "truck10",
          "truck10",
          "truck10",
          "truck10",
          null,
          "truck10",
          "truck10",
          "truck10",
          "truck10",
          null,
          "truck10",
          "truck10",
          "truck10",
          "truck10",
          null
         ]
        },
        {
         "connectgaps": false,
         "hoverinfo": "y+name",
         "line": {
          "color": "rgb(75,202,40)",
          "width": 10
         },
         "mode": "lines",
         "name": "loading:truck10",
         "type": "scatter",
         "x": [
          "1970-01-01T00:39:30.113018",
          "1970-01-01T00:39:30.113018",
          "1970-01-01T00:40:20.113018",
          "1970-01-01T00:40:20.113018",
          "1970-01-01T00:40:20.113018",
          "1970-01-01T01:43:31.488555",
          "1970-01-01T01:43:31.488555",
          "1970-01-01T01:44:21.488555",
          "1970-01-01T01:44:21.488555",
          "1970-01-01T01:44:21.488555",
          "1970-01-01T02:47:32.864091",
          "1970-01-01T02:47:32.864091",
          "1970-01-01T02:48:22.864091",
          "1970-01-01T02:48:22.864091",
          "1970-01-01T02:48:22.864091"
         ],
         "y": [
          "truck10",
          "truck10",
          "truck10",
          "truck10",
          null,
          "truck10",
          "truck10",
          "truck10",
          "truck10",
          null,
          "truck10",
          "truck10",
          "truck10",
          "truck10",
          null
         ]
        },
        {
         "connectgaps": false,
         "hoverinfo": "y+name",
         "line": {
          "color": "rgb(78,205,43)",
          "width": 10
         },
         "mode": "lines",
         "name": "driving_full:truck10",
         "type": "scatter",
         "x": [
          "1970-01-01T00:40:20.113018",
          "1970-01-01T00:40:20.113018",
          "1970-01-01T01:11:06.375536",
          "1970-01-01T01:11:06.375536",
          "1970-01-01T01:11:06.375536",
          "1970-01-01T01:44:21.488555",
          "1970-01-01T01:44:21.488555",
          "1970-01-01T02:15:07.751072",
          "1970-01-01T02:15:07.751072",
          "1970-01-01T02:15:07.751072",
          "1970-01-01T02:48:22.864091",
          "1970-01-01T02:48:22.864091",
          "1970-01-01T03:19:09.126609",
          "1970-01-01T03:19:09.126609",
          "1970-01-01T03:19:09.126609"
         ],
         "y": [
          "truck10",
          "truck10",
          "truck10",
          "truck10",
          null,
          "truck10",
          "truck10",
          "truck10",
          "truck10",
          null,
          "truck10",
          "truck10",
          "truck10",
          "truck10",
          null
         ]
        },
        {
         "connectgaps": false,
         "hoverinfo": "y+name",
         "line": {
          "color": "rgb(81,208,46)",
          "width": 10
         },
         "mode": "lines",
         "name": "driving_empty:truck10",
         "type": "scatter",
         "x": [
          "1970-01-01T00:00:00",
          "1970-01-01T00:00:00",
          "1970-01-01T00:32:00.113018",
          "1970-01-01T00:32:00.113018",
          "1970-01-01T00:32:00.113018",
          "1970-01-01T01:11:31.375536",
          "1970-01-01T01:11:31.375536",
          "1970-01-01T01:43:31.488555",
          "1970-01-01T01:43:31.488555",
          "1970-01-01T01:43:31.488555",
          "1970-01-01T02:15:32.751072",
          "1970-01-01T02:15:32.751072",
          "1970-01-01T02:47:32.864091",
          "1970-01-01T02:47:32.864091",
          "1970-01-01T02:47:32.864091"
         ],
         "y": [
          "truck10",
          "truck10",
          "truck10",
          "truck10",
          null,
          "truck10",
          "truck10",
          "truck10",
          "truck10",
          null,
          "truck10",
          "truck10",
          "truck10",
          "truck10",
          null
         ]
        },
        {
         "connectgaps": false,
         "hoverinfo": "y+name",
         "line": {
          "color": "rgb(84,211,49)",
          "width": 10
         },
         "mode": "lines",
         "name": "driving_empty:truck11",
         "type": "scatter",
         "x": [
          "1970-01-01T00:00:00",
          "1970-01-01T00:00:00",
          "1970-01-01T00:32:00.113018",
          "1970-01-01T00:32:00.113018",
          "1970-01-01T00:32:00.113018",
          "1970-01-01T01:12:21.375536",
          "1970-01-01T01:12:21.375536",
          "1970-01-01T01:44:21.488555",
          "1970-01-01T01:44:21.488555",
          "1970-01-01T01:44:21.488555"
         ],
         "y": [
          "truck11",
          "truck11",
          "truck11",
          "truck11",
          null,
          "truck11",
          "truck11",
          "truck11",
          "truck11",
          null
         ]
        },
        {
         "connectgaps": false,
         "hoverinfo": "y+name",
         "line": {
          "color": "rgb(87,214,52)",
          "width": 10
         },
         "mode": "lines",
         "name": "loading:truck11",
         "type": "scatter",
         "x": [
          "1970-01-01T00:40:20.113018",
          "1970-01-01T00:40:20.113018",
          "1970-01-01T00:41:10.113018",
          "1970-01-01T00:41:10.113018",
          "1970-01-01T00:41:10.113018",
          "1970-01-01T01:44:21.488555",
          "1970-01-01T01:44:21.488555",
          "1970-01-01T01:45:11.488555",
          "1970-01-01T01:45:11.488555",
          "1970-01-01T01:45:11.488555"
         ],
         "y": [
          "truck11",
          "truck11",
          "truck11",
          "truck11",
          null,
          "truck11",
          "truck11",
          "truck11",
          "truck11",
          null
         ]
        },
        {
         "connectgaps": false,
         "hoverinfo": "y+name",
         "line": {
          "color": "rgb(90,217,55)",
          "width": 10
         },
         "mode": "lines",
         "name": "driving_full:truck11",
         "type": "scatter",
         "x": [
          "1970-01-01T00:41:10.113018",
          "1970-01-01T00:41:10.113018",
          "1970-01-01T01:11:56.375536",
          "1970-01-01T01:11:56.375536",
          "1970-01-01T01:11:56.375536",
          "1970-01-01T01:45:11.488555",
          "1970-01-01T01:45:11.488555",
          "1970-01-01T02:15:57.751072",
          "1970-01-01T02:15:57.751072",
          "1970-01-01T02:15:57.751072"
         ],
         "y": [
          "truck11",
          "truck11",
          "truck11",
          "truck11",
          null,
          "truck11",
          "truck11",
          "truck11",
          "truck11",
          null
         ]
        },
        {
         "connectgaps": false,
         "hoverinfo": "y+name",
         "line": {
          "color": "rgb(93,220,58)",
          "width": 10
         },
         "mode": "lines",
         "name": "unloading:truck11",
         "type": "scatter",
         "x": [
          "1970-01-01T01:11:56.375536",
          "1970-01-01T01:11:56.375536",
          "1970-01-01T01:12:21.375536",
          "1970-01-01T01:12:21.375536",
          "1970-01-01T01:12:21.375536",
          "1970-01-01T02:15:57.751072",
          "1970-01-01T02:15:57.751072",
          "1970-01-01T02:16:22.751072",
          "1970-01-01T02:16:22.751072",
          "1970-01-01T02:16:22.751072"
         ],
         "y": [
          "truck11",
          "truck11",
          "truck11",
          "truck11",
          null,
          "truck11",
          "truck11",
          "truck11",
          "truck11",
          null
         ]
        },
        {
         "connectgaps": false,
         "hoverinfo": "y+name",
         "line": {
          "color": "rgb(96,223,61)",
          "width": 10
         },
         "mode": "lines",
         "name": "driving_empty:truck12",
         "type": "scatter",
         "x": [
          "1970-01-01T00:00:00",
          "1970-01-01T00:00:00",
          "1970-01-01T00:32:00.113018",
          "1970-01-01T00:32:00.113018",
          "1970-01-01T00:32:00.113018",
          "1970-01-01T01:13:11.375536",
          "1970-01-01T01:13:11.375536",
          "1970-01-01T01:45:11.488555",
          "1970-01-01T01:45:11.488555",
          "1970-01-01T01:45:11.488555"
         ],
         "y": [
          "truck12",
          "truck12",
          "truck12",
          "truck12",
          null,
          "truck12",
          "truck12",
          "truck12",
          "truck12",
          null
         ]
        },
        {
         "connectgaps": false,
         "hoverinfo": "y+name",
         "line": {
          "color": "rgb(99,226,64)",
          "width": 10
         },
         "mode": "lines",
         "name": "unloading:truck12",
         "type": "scatter",
         "x": [
          "1970-01-01T01:12:46.375536",
          "1970-01-01T01:12:46.375536",
          "1970-01-01T01:13:11.375536",
          "1970-01-01T01:13:11.375536",
          "1970-01-01T01:13:11.375536",
          "1970-01-01T02:16:47.751072",
          "1970-01-01T02:16:47.751072",
          "1970-01-01T02:17:12.751072",
          "1970-01-01T02:17:12.751072",
          "1970-01-01T02:17:12.751072"
         ],
         "y": [
          "truck12",
          "truck12",
          "truck12",
          "truck12",
          null,
          "truck12",
          "truck12",
          "truck12",
          "truck12",
          null
         ]
        },
        {
         "connectgaps": false,
         "hoverinfo": "y+name",
         "line": {
          "color": "rgb(102,229,67)",
          "width": 10
         },
         "mode": "lines",
         "name": "driving_full:truck12",
         "type": "scatter",
         "x": [
          "1970-01-01T00:42:00.113018",
          "1970-01-01T00:42:00.113018",
          "1970-01-01T01:12:46.375536",
          "1970-01-01T01:12:46.375536",
          "1970-01-01T01:12:46.375536",
          "1970-01-01T01:46:01.488555",
          "1970-01-01T01:46:01.488555",
          "1970-01-01T02:16:47.751072",
          "1970-01-01T02:16:47.751072",
          "1970-01-01T02:16:47.751072"
         ],
         "y": [
          "truck12",
          "truck12",
          "truck12",
          "truck12",
          null,
          "truck12",
          "truck12",
          "truck12",
          "truck12",
          null
         ]
        },
        {
         "connectgaps": false,
         "hoverinfo": "y+name",
         "line": {
          "color": "rgb(105,232,70)",
          "width": 10
         },
         "mode": "lines",
         "name": "loading:truck12",
         "type": "scatter",
         "x": [
          "1970-01-01T00:41:10.113018",
          "1970-01-01T00:41:10.113018",
          "1970-01-01T00:42:00.113018",
          "1970-01-01T00:42:00.113018",
          "1970-01-01T00:42:00.113018",
          "1970-01-01T01:45:11.488555",
          "1970-01-01T01:45:11.488555",
          "1970-01-01T01:46:01.488555",
          "1970-01-01T01:46:01.488555",
          "1970-01-01T01:46:01.488555"
         ],
         "y": [
          "truck12",
          "truck12",
          "truck12",
          "truck12",
          null,
          "truck12",
          "truck12",
          "truck12",
          "truck12",
          null
         ]
        },
        {
         "connectgaps": false,
         "hoverinfo": "y+name",
         "line": {
          "color": "rgb(108,235,73)",
          "width": 10
         },
         "mode": "lines",
         "name": "driving_full:truck13",
         "type": "scatter",
         "x": [
          "1970-01-01T00:42:50.113018",
          "1970-01-01T00:42:50.113018",
          "1970-01-01T01:13:36.375536",
          "1970-01-01T01:13:36.375536",
          "1970-01-01T01:13:36.375536",
          "1970-01-01T01:46:51.488555",
          "1970-01-01T01:46:51.488555",
          "1970-01-01T02:17:37.751072",
          "1970-01-01T02:17:37.751072",
          "1970-01-01T02:17:37.751072"
         ],
         "y": [
          "truck13",
          "truck13",
          "truck13",
          "truck13",
          null,
          "truck13",
          "truck13",
          "truck13",
          "truck13",
          null
         ]
        },
        {
         "connectgaps": false,
         "hoverinfo": "y+name",
         "line": {
          "color": "rgb(111,238,76)",
          "width": 10
         },
         "mode": "lines",
         "name": "driving_empty:truck13",
         "type": "scatter",
         "x": [
          "1970-01-01T00:00:00",
          "1970-01-01T00:00:00",
          "1970-01-01T00:32:00.113018",
          "1970-01-01T00:32:00.113018",
          "1970-01-01T00:32:00.113018",
          "1970-01-01T01:14:01.375536",
          "1970-01-01T01:14:01.375536",
          "1970-01-01T01:46:01.488555",
          "1970-01-01T01:46:01.488555",
          "1970-01-01T01:46:01.488555"
         ],
         "y": [
          "truck13",
          "truck13",
          "truck13",
          "truck13",
          null,
          "truck13",
          "truck13",
          "truck13",
          "truck13",
          null
         ]
        },
        {
         "connectgaps": false,
         "hoverinfo": "y+name",
         "line": {
          "color": "rgb(114,241,79)",
          "width": 10
         },
         "mode": "lines",
         "name": "loading:truck13",
         "type": "scatter",
         "x": [
          "1970-01-01T00:42:00.113018",
          "1970-01-01T00:42:00.113018",
          "1970-01-01T00:42:50.113018",
          "1970-01-01T00:42:50.113018",
          "1970-01-01T00:42:50.113018",
          "1970-01-01T01:46:01.488555",
          "1970-01-01T01:46:01.488555",
          "1970-01-01T01:46:51.488555",
          "1970-01-01T01:46:51.488555",
          "1970-01-01T01:46:51.488555"
         ],
         "y": [
          "truck13",
          "truck13",
          "truck13",
          "truck13",
          null,
          "truck13",
          "truck13",
          "truck13",
          "truck13",
          null
         ]
        },
        {
         "connectgaps": false,
         "hoverinfo": "y+name",
         "line": {
          "color": "rgb(117,244,82)",
          "width": 10
         },
         "mode": "lines",
         "name": "unloading:truck13",
         "type": "scatter",
         "x": [
          "1970-01-01T01:13:36.375536",
          "1970-01-01T01:13:36.375536",
          "1970-01-01T01:14:01.375536",
          "1970-01-01T01:14:01.375536",
          "1970-01-01T01:14:01.375536",
          "1970-01-01T02:17:37.751072",
          "1970-01-01T02:17:37.751072",
          "1970-01-01T02:18:02.751072",
          "1970-01-01T02:18:02.751072",
          "1970-01-01T02:18:02.751072"
         ],
         "y": [
          "truck13",
          "truck13",
          "truck13",
          "truck13",
          null,
          "truck13",
          "truck13",
          "truck13",
          "truck13",
          null
         ]
        },
        {
         "connectgaps": false,
         "hoverinfo": "y+name",
         "line": {
          "color": "rgb(120,247,85)",
          "width": 10
         },
         "mode": "lines",
         "name": "loading:truck14",
         "type": "scatter",
         "x": [
          "1970-01-01T00:42:50.113018",
          "1970-01-01T00:42:50.113018",
          "1970-01-01T00:43:40.113018",
          "1970-01-01T00:43:40.113018",
          "1970-01-01T00:43:40.113018",
          "1970-01-01T01:46:51.488555",
          "1970-01-01T01:46:51.488555",
          "1970-01-01T01:47:41.488555",
          "1970-01-01T01:47:41.488555",
          "1970-01-01T01:47:41.488555"
         ],
         "y": [
          "truck14",
          "truck14",
          "truck14",
          "truck14",
          null,
          "truck14",
          "truck14",
          "truck14",
          "truck14",
          null
         ]
        },
        {
         "connectgaps": false,
         "hoverinfo": "y+name",
         "line": {
          "color": "rgb(123,250,88)",
          "width": 10
         },
         "mode": "lines",
         "name": "driving_empty:truck14",
         "type": "scatter",
         "x": [
          "1970-01-01T00:00:00",
          "1970-01-01T00:00:00",
          "1970-01-01T00:32:00.113018",
          "1970-01-01T00:32:00.113018",
          "1970-01-01T00:32:00.113018",
          "1970-01-01T01:14:51.375536",
          "1970-01-01T01:14:51.375536",
          "1970-01-01T01:46:51.488555",
          "1970-01-01T01:46:51.488555",
          "1970-01-01T01:46:51.488555"
         ],
         "y": [
          "truck14",
          "truck14",
          "truck14",
          "truck14",
          null,
          "truck14",
          "truck14",
          "truck14",
          "truck14",
          null
         ]
        },
        {
         "connectgaps": false,
         "hoverinfo": "y+name",
         "line": {
          "color": "rgb(126,253,91)",
          "width": 10
         },
         "mode": "lines",
         "name": "unloading:truck14",
         "type": "scatter",
         "x": [
          "1970-01-01T01:14:26.375536",
          "1970-01-01T01:14:26.375536",
          "1970-01-01T01:14:51.375536",
          "1970-01-01T01:14:51.375536",
          "1970-01-01T01:14:51.375536",
          "1970-01-01T02:18:27.751072",
          "1970-01-01T02:18:27.751072",
          "1970-01-01T02:18:52.751072",
          "1970-01-01T02:18:52.751072",
          "1970-01-01T02:18:52.751072"
         ],
         "y": [
          "truck14",
          "truck14",
          "truck14",
          "truck14",
          null,
          "truck14",
          "truck14",
          "truck14",
          "truck14",
          null
         ]
        },
        {
         "connectgaps": false,
         "hoverinfo": "y+name",
         "line": {
          "color": "rgb(129,0,94)",
          "width": 10
         },
         "mode": "lines",
         "name": "driving_full:truck14",
         "type": "scatter",
         "x": [
          "1970-01-01T00:43:40.113018",
          "1970-01-01T00:43:40.113018",
          "1970-01-01T01:14:26.375536",
          "1970-01-01T01:14:26.375536",
          "1970-01-01T01:14:26.375536",
          "1970-01-01T01:47:41.488555",
          "1970-01-01T01:47:41.488555",
          "1970-01-01T02:18:27.751072",
          "1970-01-01T02:18:27.751072",
          "1970-01-01T02:18:27.751072"
         ],
         "y": [
          "truck14",
          "truck14",
          "truck14",
          "truck14",
          null,
          "truck14",
          "truck14",
          "truck14",
          "truck14",
          null
         ]
        },
        {
         "connectgaps": false,
         "hoverinfo": "y+name",
         "line": {
          "color": "rgb(132,3,97)",
          "width": 10
         },
         "mode": "lines",
         "name": "unloading:truck15",
         "type": "scatter",
         "x": [
          "1970-01-01T01:15:16.375536",
          "1970-01-01T01:15:16.375536",
          "1970-01-01T01:15:41.375536",
          "1970-01-01T01:15:41.375536",
          "1970-01-01T01:15:41.375536",
          "1970-01-01T02:19:17.751072",
          "1970-01-01T02:19:17.751072",
          "1970-01-01T02:19:42.751072",
          "1970-01-01T02:19:42.751072",
          "1970-01-01T02:19:42.751072"
         ],
         "y": [
          "truck15",
          "truck15",
          "truck15",
          "truck15",
          null,
          "truck15",
          "truck15",
          "truck15",
          "truck15",
          null
         ]
        },
        {
         "connectgaps": false,
         "hoverinfo": "y+name",
         "line": {
          "color": "rgb(135,6,100)",
          "width": 10
         },
         "mode": "lines",
         "name": "driving_full:truck15",
         "type": "scatter",
         "x": [
          "1970-01-01T00:44:30.113018",
          "1970-01-01T00:44:30.113018",
          "1970-01-01T01:15:16.375536",
          "1970-01-01T01:15:16.375536",
          "1970-01-01T01:15:16.375536",
          "1970-01-01T01:48:31.488555",
          "1970-01-01T01:48:31.488555",
          "1970-01-01T02:19:17.751072",
          "1970-01-01T02:19:17.751072",
          "1970-01-01T02:19:17.751072"
         ],
         "y": [
          "truck15",
          "truck15",
          "truck15",
          "truck15",
          null,
          "truck15",
          "truck15",
          "truck15",
          "truck15",
          null
         ]
        },
        {
         "connectgaps": false,
         "hoverinfo": "y+name",
         "line": {
          "color": "rgb(138,9,103)",
          "width": 10
         },
         "mode": "lines",
         "name": "loading:truck15",
         "type": "scatter",
         "x": [
          "1970-01-01T00:43:40.113018",
          "1970-01-01T00:43:40.113018",
          "1970-01-01T00:44:30.113018",
          "1970-01-01T00:44:30.113018",
          "1970-01-01T00:44:30.113018",
          "1970-01-01T01:47:41.488555",
          "1970-01-01T01:47:41.488555",
          "1970-01-01T01:48:31.488555",
          "1970-01-01T01:48:31.488555",
          "1970-01-01T01:48:31.488555"
         ],
         "y": [
          "truck15",
          "truck15",
          "truck15",
          "truck15",
          null,
          "truck15",
          "truck15",
          "truck15",
          "truck15",
          null
         ]
        },
        {
         "connectgaps": false,
         "hoverinfo": "y+name",
         "line": {
          "color": "rgb(141,12,106)",
          "width": 10
         },
         "mode": "lines",
         "name": "driving_empty:truck15",
         "type": "scatter",
         "x": [
          "1970-01-01T00:00:00",
          "1970-01-01T00:00:00",
          "1970-01-01T00:32:00.113018",
          "1970-01-01T00:32:00.113018",
          "1970-01-01T00:32:00.113018",
          "1970-01-01T01:15:41.375536",
          "1970-01-01T01:15:41.375536",
          "1970-01-01T01:47:41.488555",
          "1970-01-01T01:47:41.488555",
          "1970-01-01T01:47:41.488555"
         ],
         "y": [
          "truck15",
          "truck15",
          "truck15",
          "truck15",
          null,
          "truck15",
          "truck15",
          "truck15",
          "truck15",
          null
         ]
        },
        {
         "connectgaps": false,
         "hoverinfo": "y+name",
         "line": {
          "color": "rgb(144,15,109)",
          "width": 10
         },
         "mode": "lines",
         "name": "driving_full:truck16",
         "type": "scatter",
         "x": [
          "1970-01-01T00:45:20.113018",
          "1970-01-01T00:45:20.113018",
          "1970-01-01T01:16:06.375536",
          "1970-01-01T01:16:06.375536",
          "1970-01-01T01:16:06.375536",
          "1970-01-01T01:49:21.488555",
          "1970-01-01T01:49:21.488555",
          "1970-01-01T02:20:07.751072",
          "1970-01-01T02:20:07.751072",
          "1970-01-01T02:20:07.751072"
         ],
         "y": [
          "truck16",
          "truck16",
          "truck16",
          "truck16",
          null,
          "truck16",
          "truck16",
          "truck16",
          "truck16",
          null
         ]
        },
        {
         "connectgaps": false,
         "hoverinfo": "y+name",
         "line": {
          "color": "rgb(147,18,112)",
          "width": 10
         },
         "mode": "lines",
         "name": "driving_empty:truck16",
         "type": "scatter",
         "x": [
          "1970-01-01T00:00:00",
          "1970-01-01T00:00:00",
          "1970-01-01T00:32:00.113018",
          "1970-01-01T00:32:00.113018",
          "1970-01-01T00:32:00.113018",
          "1970-01-01T01:16:31.375536",
          "1970-01-01T01:16:31.375536",
          "1970-01-01T01:48:31.488555",
          "1970-01-01T01:48:31.488555",
          "1970-01-01T01:48:31.488555"
         ],
         "y": [
          "truck16",
          "truck16",
          "truck16",
          "truck16",
          null,
          "truck16",
          "truck16",
          "truck16",
          "truck16",
          null
         ]
        },
        {
         "connectgaps": false,
         "hoverinfo": "y+name",
         "line": {
          "color": "rgb(150,21,115)",
          "width": 10
         },
         "mode": "lines",
         "name": "loading:truck16",
         "type": "scatter",
         "x": [
          "1970-01-01T00:44:30.113018",
          "1970-01-01T00:44:30.113018",
          "1970-01-01T00:45:20.113018",
          "1970-01-01T00:45:20.113018",
          "1970-01-01T00:45:20.113018",
          "1970-01-01T01:48:31.488555",
          "1970-01-01T01:48:31.488555",
          "1970-01-01T01:49:21.488555",
          "1970-01-01T01:49:21.488555",
          "1970-01-01T01:49:21.488555"
         ],
         "y": [
          "truck16",
          "truck16",
          "truck16",
          "truck16",
          null,
          "truck16",
          "truck16",
          "truck16",
          "truck16",
          null
         ]
        },
        {
         "connectgaps": false,
         "hoverinfo": "y+name",
         "line": {
          "color": "rgb(153,24,118)",
          "width": 10
         },
         "mode": "lines",
         "name": "unloading:truck16",
         "type": "scatter",
         "x": [
          "1970-01-01T01:16:06.375536",
          "1970-01-01T01:16:06.375536",
          "1970-01-01T01:16:31.375536",
          "1970-01-01T01:16:31.375536",
          "1970-01-01T01:16:31.375536",
          "1970-01-01T02:20:07.751072",
          "1970-01-01T02:20:07.751072",
          "1970-01-01T02:20:32.751072",
          "1970-01-01T02:20:32.751072",
          "1970-01-01T02:20:32.751072"
         ],
         "y": [
          "truck16",
          "truck16",
          "truck16",
          "truck16",
          null,
          "truck16",
          "truck16",
          "truck16",
          "truck16",
          null
         ]
        },
        {
         "connectgaps": false,
         "hoverinfo": "y+name",
         "line": {
          "color": "rgb(156,27,121)",
          "width": 10
         },
         "mode": "lines",
         "name": "loading:truck17",
         "type": "scatter",
         "x": [
          "1970-01-01T00:45:20.113018",
          "1970-01-01T00:45:20.113018",
          "1970-01-01T00:46:10.113018",
          "1970-01-01T00:46:10.113018",
          "1970-01-01T00:46:10.113018",
          "1970-01-01T01:49:21.488555",
          "1970-01-01T01:49:21.488555",
          "1970-01-01T01:50:11.488555",
          "1970-01-01T01:50:11.488555",
          "1970-01-01T01:50:11.488555"
         ],
         "y": [
          "truck17",
          "truck17",
          "truck17",
          "truck17",
          null,
          "truck17",
          "truck17",
          "truck17",
          "truck17",
          null
         ]
        },
        {
         "connectgaps": false,
         "hoverinfo": "y+name",
         "line": {
          "color": "rgb(159,30,124)",
          "width": 10
         },
         "mode": "lines",
         "name": "driving_empty:truck17",
         "type": "scatter",
         "x": [
          "1970-01-01T00:00:00",
          "1970-01-01T00:00:00",
          "1970-01-01T00:32:00.113018",
          "1970-01-01T00:32:00.113018",
          "1970-01-01T00:32:00.113018",
          "1970-01-01T01:17:21.375536",
          "1970-01-01T01:17:21.375536",
          "1970-01-01T01:49:21.488555",
          "1970-01-01T01:49:21.488555",
          "1970-01-01T01:49:21.488555"
         ],
         "y": [
          "truck17",
          "truck17",
          "truck17",
          "truck17",
          null,
          "truck17",
          "truck17",
          "truck17",
          "truck17",
          null
         ]
        },
        {
         "connectgaps": false,
         "hoverinfo": "y+name",
         "line": {
          "color": "rgb(162,33,127)",
          "width": 10
         },
         "mode": "lines",
         "name": "driving_full:truck17",
         "type": "scatter",
         "x": [
          "1970-01-01T00:46:10.113018",
          "1970-01-01T00:46:10.113018",
          "1970-01-01T01:16:56.375536",
          "1970-01-01T01:16:56.375536",
          "1970-01-01T01:16:56.375536",
          "1970-01-01T01:50:11.488555",
          "1970-01-01T01:50:11.488555",
          "1970-01-01T02:20:57.751072",
          "1970-01-01T02:20:57.751072",
          "1970-01-01T02:20:57.751072"
         ],
         "y": [
          "truck17",
          "truck17",
          "truck17",
          "truck17",
          null,
          "truck17",
          "truck17",
          "truck17",
          "truck17",
          null
         ]
        },
        {
         "connectgaps": false,
         "hoverinfo": "y+name",
         "line": {
          "color": "rgb(165,36,130)",
          "width": 10
         },
         "mode": "lines",
         "name": "unloading:truck17",
         "type": "scatter",
         "x": [
          "1970-01-01T01:16:56.375536",
          "1970-01-01T01:16:56.375536",
          "1970-01-01T01:17:21.375536",
          "1970-01-01T01:17:21.375536",
          "1970-01-01T01:17:21.375536",
          "1970-01-01T02:20:57.751072",
          "1970-01-01T02:20:57.751072",
          "1970-01-01T02:21:22.751072",
          "1970-01-01T02:21:22.751072",
          "1970-01-01T02:21:22.751072"
         ],
         "y": [
          "truck17",
          "truck17",
          "truck17",
          "truck17",
          null,
          "truck17",
          "truck17",
          "truck17",
          "truck17",
          null
         ]
        },
        {
         "connectgaps": false,
         "hoverinfo": "y+name",
         "line": {
          "color": "rgb(168,39,133)",
          "width": 10
         },
         "mode": "lines",
         "name": "unloading:truck18",
         "type": "scatter",
         "x": [
          "1970-01-01T01:17:46.375536",
          "1970-01-01T01:17:46.375536",
          "1970-01-01T01:18:11.375536",
          "1970-01-01T01:18:11.375536",
          "1970-01-01T01:18:11.375536",
          "1970-01-01T02:21:47.751072",
          "1970-01-01T02:21:47.751072",
          "1970-01-01T02:22:12.751072",
          "1970-01-01T02:22:12.751072",
          "1970-01-01T02:22:12.751072"
         ],
         "y": [
          "truck18",
          "truck18",
          "truck18",
          "truck18",
          null,
          "truck18",
          "truck18",
          "truck18",
          "truck18",
          null
         ]
        },
        {
         "connectgaps": false,
         "hoverinfo": "y+name",
         "line": {
          "color": "rgb(171,42,136)",
          "width": 10
         },
         "mode": "lines",
         "name": "driving_full:truck18",
         "type": "scatter",
         "x": [
          "1970-01-01T00:47:00.113018",
          "1970-01-01T00:47:00.113018",
          "1970-01-01T01:17:46.375536",
          "1970-01-01T01:17:46.375536",
          "1970-01-01T01:17:46.375536",
          "1970-01-01T01:51:01.488555",
          "1970-01-01T01:51:01.488555",
          "1970-01-01T02:21:47.751072",
          "1970-01-01T02:21:47.751072",
          "1970-01-01T02:21:47.751072"
         ],
         "y": [
          "truck18",
          "truck18",
          "truck18",
          "truck18",
          null,
          "truck18",
          "truck18",
          "truck18",
          "truck18",
          null
         ]
        },
        {
         "connectgaps": false,
         "hoverinfo": "y+name",
         "line": {
          "color": "rgb(174,45,139)",
          "width": 10
         },
         "mode": "lines",
         "name": "loading:truck18",
         "type": "scatter",
         "x": [
          "1970-01-01T00:46:10.113018",
          "1970-01-01T00:46:10.113018",
          "1970-01-01T00:47:00.113018",
          "1970-01-01T00:47:00.113018",
          "1970-01-01T00:47:00.113018",
          "1970-01-01T01:50:11.488555",
          "1970-01-01T01:50:11.488555",
          "1970-01-01T01:51:01.488555",
          "1970-01-01T01:51:01.488555",
          "1970-01-01T01:51:01.488555"
         ],
         "y": [
          "truck18",
          "truck18",
          "truck18",
          "truck18",
          null,
          "truck18",
          "truck18",
          "truck18",
          "truck18",
          null
         ]
        },
        {
         "connectgaps": false,
         "hoverinfo": "y+name",
         "line": {
          "color": "rgb(177,48,142)",
          "width": 10
         },
         "mode": "lines",
         "name": "driving_empty:truck18",
         "type": "scatter",
         "x": [
          "1970-01-01T00:00:00",
          "1970-01-01T00:00:00",
          "1970-01-01T00:32:00.113018",
          "1970-01-01T00:32:00.113018",
          "1970-01-01T00:32:00.113018",
          "1970-01-01T01:18:11.375536",
          "1970-01-01T01:18:11.375536",
          "1970-01-01T01:50:11.488555",
          "1970-01-01T01:50:11.488555",
          "1970-01-01T01:50:11.488555"
         ],
         "y": [
          "truck18",
          "truck18",
          "truck18",
          "truck18",
          null,
          "truck18",
          "truck18",
          "truck18",
          "truck18",
          null
         ]
        },
        {
         "connectgaps": false,
         "hoverinfo": "y+name",
         "line": {
          "color": "rgb(180,51,145)",
          "width": 10
         },
         "mode": "lines",
         "name": "driving_empty:truck19",
         "type": "scatter",
         "x": [
          "1970-01-01T00:00:00",
          "1970-01-01T00:00:00",
          "1970-01-01T00:32:00.113018",
          "1970-01-01T00:32:00.113018",
          "1970-01-01T00:32:00.113018",
          "1970-01-01T01:19:01.375536",
          "1970-01-01T01:19:01.375536",
          "1970-01-01T01:51:01.488555",
          "1970-01-01T01:51:01.488555",
          "1970-01-01T01:51:01.488555"
         ],
         "y": [
          "truck19",
          "truck19",
          "truck19",
          "truck19",
          null,
          "truck19",
          "truck19",
          "truck19",
          "truck19",
          null
         ]
        },
        {
         "connectgaps": false,
         "hoverinfo": "y+name",
         "line": {
          "color": "rgb(183,54,148)",
          "width": 10
         },
         "mode": "lines",
         "name": "unloading:truck19",
         "type": "scatter",
         "x": [
          "1970-01-01T01:18:36.375536",
          "1970-01-01T01:18:36.375536",
          "1970-01-01T01:19:01.375536",
          "1970-01-01T01:19:01.375536",
          "1970-01-01T01:19:01.375536",
          "1970-01-01T02:22:37.751072",
          "1970-01-01T02:22:37.751072",
          "1970-01-01T02:23:02.751072",
          "1970-01-01T02:23:02.751072",
          "1970-01-01T02:23:02.751072"
         ],
         "y": [
          "truck19",
          "truck19",
          "truck19",
          "truck19",
          null,
          "truck19",
          "truck19",
          "truck19",
          "truck19",
          null
         ]
        },
        {
         "connectgaps": false,
         "hoverinfo": "y+name",
         "line": {
          "color": "rgb(186,57,151)",
          "width": 10
         },
         "mode": "lines",
         "name": "driving_full:truck19",
         "type": "scatter",
         "x": [
          "1970-01-01T00:47:50.113018",
          "1970-01-01T00:47:50.113018",
          "1970-01-01T01:18:36.375536",
          "1970-01-01T01:18:36.375536",
          "1970-01-01T01:18:36.375536",
          "1970-01-01T01:51:51.488555",
          "1970-01-01T01:51:51.488555",
          "1970-01-01T02:22:37.751072",
          "1970-01-01T02:22:37.751072",
          "1970-01-01T02:22:37.751072"
         ],
         "y": [
          "truck19",
          "truck19",
          "truck19",
          "truck19",
          null,
          "truck19",
          "truck19",
          "truck19",
          "truck19",
          null
         ]
        },
        {
         "connectgaps": false,
         "hoverinfo": "y+name",
         "line": {
          "color": "rgb(189,60,154)",
          "width": 10
         },
         "mode": "lines",
         "name": "loading:truck19",
         "type": "scatter",
         "x": [
          "1970-01-01T00:47:00.113018",
          "1970-01-01T00:47:00.113018",
          "1970-01-01T00:47:50.113018",
          "1970-01-01T00:47:50.113018",
          "1970-01-01T00:47:50.113018",
          "1970-01-01T01:51:01.488555",
          "1970-01-01T01:51:01.488555",
          "1970-01-01T01:51:51.488555",
          "1970-01-01T01:51:51.488555",
          "1970-01-01T01:51:51.488555"
         ],
         "y": [
          "truck19",
          "truck19",
          "truck19",
          "truck19",
          null,
          "truck19",
          "truck19",
          "truck19",
          "truck19",
          null
         ]
        },
        {
         "connectgaps": false,
         "hoverinfo": "y+name",
         "line": {
          "color": "rgb(192,63,157)",
          "width": 10
         },
         "mode": "lines",
         "name": "driving_full:truck20",
         "type": "scatter",
         "x": [
          "1970-01-01T00:48:40.113018",
          "1970-01-01T00:48:40.113018",
          "1970-01-01T01:19:26.375536",
          "1970-01-01T01:19:26.375536",
          "1970-01-01T01:19:26.375536",
          "1970-01-01T01:52:41.488555",
          "1970-01-01T01:52:41.488555",
          "1970-01-01T02:23:27.751072",
          "1970-01-01T02:23:27.751072",
          "1970-01-01T02:23:27.751072"
         ],
         "y": [
          "truck20",
          "truck20",
          "truck20",
          "truck20",
          null,
          "truck20",
          "truck20",
          "truck20",
          "truck20",
          null
         ]
        },
        {
         "connectgaps": false,
         "hoverinfo": "y+name",
         "line": {
          "color": "rgb(195,66,160)",
          "width": 10
         },
         "mode": "lines",
         "name": "unloading:truck20",
         "type": "scatter",
         "x": [
          "1970-01-01T01:19:26.375536",
          "1970-01-01T01:19:26.375536",
          "1970-01-01T01:19:51.375536",
          "1970-01-01T01:19:51.375536",
          "1970-01-01T01:19:51.375536",
          "1970-01-01T02:23:27.751072",
          "1970-01-01T02:23:27.751072",
          "1970-01-01T02:23:52.751072",
          "1970-01-01T02:23:52.751072",
          "1970-01-01T02:23:52.751072"
         ],
         "y": [
          "truck20",
          "truck20",
          "truck20",
          "truck20",
          null,
          "truck20",
          "truck20",
          "truck20",
          "truck20",
          null
         ]
        },
        {
         "connectgaps": false,
         "hoverinfo": "y+name",
         "line": {
          "color": "rgb(198,69,163)",
          "width": 10
         },
         "mode": "lines",
         "name": "loading:truck20",
         "type": "scatter",
         "x": [
          "1970-01-01T00:47:50.113018",
          "1970-01-01T00:47:50.113018",
          "1970-01-01T00:48:40.113018",
          "1970-01-01T00:48:40.113018",
          "1970-01-01T00:48:40.113018",
          "1970-01-01T01:51:51.488555",
          "1970-01-01T01:51:51.488555",
          "1970-01-01T01:52:41.488555",
          "1970-01-01T01:52:41.488555",
          "1970-01-01T01:52:41.488555"
         ],
         "y": [
          "truck20",
          "truck20",
          "truck20",
          "truck20",
          null,
          "truck20",
          "truck20",
          "truck20",
          "truck20",
          null
         ]
        },
        {
         "connectgaps": false,
         "hoverinfo": "y+name",
         "line": {
          "color": "rgb(201,72,166)",
          "width": 10
         },
         "mode": "lines",
         "name": "driving_empty:truck20",
         "type": "scatter",
         "x": [
          "1970-01-01T00:00:00",
          "1970-01-01T00:00:00",
          "1970-01-01T00:32:00.113018",
          "1970-01-01T00:32:00.113018",
          "1970-01-01T00:32:00.113018",
          "1970-01-01T01:19:51.375536",
          "1970-01-01T01:19:51.375536",
          "1970-01-01T01:51:51.488555",
          "1970-01-01T01:51:51.488555",
          "1970-01-01T01:51:51.488555"
         ],
         "y": [
          "truck20",
          "truck20",
          "truck20",
          "truck20",
          null,
          "truck20",
          "truck20",
          "truck20",
          "truck20",
          null
         ]
        }
       ],
       "layout": {
        "autosize": true,
        "hovermode": "closest",
        "legend": {
         "orientation": "h",
         "x": 0,
         "y": -0.2
        },
        "template": {
         "data": {
          "bar": [
           {
            "error_x": {
             "color": "#2a3f5f"
            },
            "error_y": {
             "color": "#2a3f5f"
            },
            "marker": {
             "line": {
              "color": "#E5ECF6",
              "width": 0.5
             },
             "pattern": {
              "fillmode": "overlay",
              "size": 10,
              "solidity": 0.2
             }
            },
            "type": "bar"
           }
          ],
          "barpolar": [
           {
            "marker": {
             "line": {
              "color": "#E5ECF6",
              "width": 0.5
             },
             "pattern": {
              "fillmode": "overlay",
              "size": 10,
              "solidity": 0.2
             }
            },
            "type": "barpolar"
           }
          ],
          "carpet": [
           {
            "aaxis": {
             "endlinecolor": "#2a3f5f",
             "gridcolor": "white",
             "linecolor": "white",
             "minorgridcolor": "white",
             "startlinecolor": "#2a3f5f"
            },
            "baxis": {
             "endlinecolor": "#2a3f5f",
             "gridcolor": "white",
             "linecolor": "white",
             "minorgridcolor": "white",
             "startlinecolor": "#2a3f5f"
            },
            "type": "carpet"
           }
          ],
          "choropleth": [
           {
            "colorbar": {
             "outlinewidth": 0,
             "ticks": ""
            },
            "type": "choropleth"
           }
          ],
          "contour": [
           {
            "colorbar": {
             "outlinewidth": 0,
             "ticks": ""
            },
            "colorscale": [
             [
              0,
              "#0d0887"
             ],
             [
              0.1111111111111111,
              "#46039f"
             ],
             [
              0.2222222222222222,
              "#7201a8"
             ],
             [
              0.3333333333333333,
              "#9c179e"
             ],
             [
              0.4444444444444444,
              "#bd3786"
             ],
             [
              0.5555555555555556,
              "#d8576b"
             ],
             [
              0.6666666666666666,
              "#ed7953"
             ],
             [
              0.7777777777777778,
              "#fb9f3a"
             ],
             [
              0.8888888888888888,
              "#fdca26"
             ],
             [
              1,
              "#f0f921"
             ]
            ],
            "type": "contour"
           }
          ],
          "contourcarpet": [
           {
            "colorbar": {
             "outlinewidth": 0,
             "ticks": ""
            },
            "type": "contourcarpet"
           }
          ],
          "heatmap": [
           {
            "colorbar": {
             "outlinewidth": 0,
             "ticks": ""
            },
            "colorscale": [
             [
              0,
              "#0d0887"
             ],
             [
              0.1111111111111111,
              "#46039f"
             ],
             [
              0.2222222222222222,
              "#7201a8"
             ],
             [
              0.3333333333333333,
              "#9c179e"
             ],
             [
              0.4444444444444444,
              "#bd3786"
             ],
             [
              0.5555555555555556,
              "#d8576b"
             ],
             [
              0.6666666666666666,
              "#ed7953"
             ],
             [
              0.7777777777777778,
              "#fb9f3a"
             ],
             [
              0.8888888888888888,
              "#fdca26"
             ],
             [
              1,
              "#f0f921"
             ]
            ],
            "type": "heatmap"
           }
          ],
          "heatmapgl": [
           {
            "colorbar": {
             "outlinewidth": 0,
             "ticks": ""
            },
            "colorscale": [
             [
              0,
              "#0d0887"
             ],
             [
              0.1111111111111111,
              "#46039f"
             ],
             [
              0.2222222222222222,
              "#7201a8"
             ],
             [
              0.3333333333333333,
              "#9c179e"
             ],
             [
              0.4444444444444444,
              "#bd3786"
             ],
             [
              0.5555555555555556,
              "#d8576b"
             ],
             [
              0.6666666666666666,
              "#ed7953"
             ],
             [
              0.7777777777777778,
              "#fb9f3a"
             ],
             [
              0.8888888888888888,
              "#fdca26"
             ],
             [
              1,
              "#f0f921"
             ]
            ],
            "type": "heatmapgl"
           }
          ],
          "histogram": [
           {
            "marker": {
             "pattern": {
              "fillmode": "overlay",
              "size": 10,
              "solidity": 0.2
             }
            },
            "type": "histogram"
           }
          ],
          "histogram2d": [
           {
            "colorbar": {
             "outlinewidth": 0,
             "ticks": ""
            },
            "colorscale": [
             [
              0,
              "#0d0887"
             ],
             [
              0.1111111111111111,
              "#46039f"
             ],
             [
              0.2222222222222222,
              "#7201a8"
             ],
             [
              0.3333333333333333,
              "#9c179e"
             ],
             [
              0.4444444444444444,
              "#bd3786"
             ],
             [
              0.5555555555555556,
              "#d8576b"
             ],
             [
              0.6666666666666666,
              "#ed7953"
             ],
             [
              0.7777777777777778,
              "#fb9f3a"
             ],
             [
              0.8888888888888888,
              "#fdca26"
             ],
             [
              1,
              "#f0f921"
             ]
            ],
            "type": "histogram2d"
           }
          ],
          "histogram2dcontour": [
           {
            "colorbar": {
             "outlinewidth": 0,
             "ticks": ""
            },
            "colorscale": [
             [
              0,
              "#0d0887"
             ],
             [
              0.1111111111111111,
              "#46039f"
             ],
             [
              0.2222222222222222,
              "#7201a8"
             ],
             [
              0.3333333333333333,
              "#9c179e"
             ],
             [
              0.4444444444444444,
              "#bd3786"
             ],
             [
              0.5555555555555556,
              "#d8576b"
             ],
             [
              0.6666666666666666,
              "#ed7953"
             ],
             [
              0.7777777777777778,
              "#fb9f3a"
             ],
             [
              0.8888888888888888,
              "#fdca26"
             ],
             [
              1,
              "#f0f921"
             ]
            ],
            "type": "histogram2dcontour"
           }
          ],
          "mesh3d": [
           {
            "colorbar": {
             "outlinewidth": 0,
             "ticks": ""
            },
            "type": "mesh3d"
           }
          ],
          "parcoords": [
           {
            "line": {
             "colorbar": {
              "outlinewidth": 0,
              "ticks": ""
             }
            },
            "type": "parcoords"
           }
          ],
          "pie": [
           {
            "automargin": true,
            "type": "pie"
           }
          ],
          "scatter": [
           {
            "fillpattern": {
             "fillmode": "overlay",
             "size": 10,
             "solidity": 0.2
            },
            "type": "scatter"
           }
          ],
          "scatter3d": [
           {
            "line": {
             "colorbar": {
              "outlinewidth": 0,
              "ticks": ""
             }
            },
            "marker": {
             "colorbar": {
              "outlinewidth": 0,
              "ticks": ""
             }
            },
            "type": "scatter3d"
           }
          ],
          "scattercarpet": [
           {
            "marker": {
             "colorbar": {
              "outlinewidth": 0,
              "ticks": ""
             }
            },
            "type": "scattercarpet"
           }
          ],
          "scattergeo": [
           {
            "marker": {
             "colorbar": {
              "outlinewidth": 0,
              "ticks": ""
             }
            },
            "type": "scattergeo"
           }
          ],
          "scattergl": [
           {
            "marker": {
             "colorbar": {
              "outlinewidth": 0,
              "ticks": ""
             }
            },
            "type": "scattergl"
           }
          ],
          "scattermapbox": [
           {
            "marker": {
             "colorbar": {
              "outlinewidth": 0,
              "ticks": ""
             }
            },
            "type": "scattermapbox"
           }
          ],
          "scatterpolar": [
           {
            "marker": {
             "colorbar": {
              "outlinewidth": 0,
              "ticks": ""
             }
            },
            "type": "scatterpolar"
           }
          ],
          "scatterpolargl": [
           {
            "marker": {
             "colorbar": {
              "outlinewidth": 0,
              "ticks": ""
             }
            },
            "type": "scatterpolargl"
           }
          ],
          "scatterternary": [
           {
            "marker": {
             "colorbar": {
              "outlinewidth": 0,
              "ticks": ""
             }
            },
            "type": "scatterternary"
           }
          ],
          "surface": [
           {
            "colorbar": {
             "outlinewidth": 0,
             "ticks": ""
            },
            "colorscale": [
             [
              0,
              "#0d0887"
             ],
             [
              0.1111111111111111,
              "#46039f"
             ],
             [
              0.2222222222222222,
              "#7201a8"
             ],
             [
              0.3333333333333333,
              "#9c179e"
             ],
             [
              0.4444444444444444,
              "#bd3786"
             ],
             [
              0.5555555555555556,
              "#d8576b"
             ],
             [
              0.6666666666666666,
              "#ed7953"
             ],
             [
              0.7777777777777778,
              "#fb9f3a"
             ],
             [
              0.8888888888888888,
              "#fdca26"
             ],
             [
              1,
              "#f0f921"
             ]
            ],
            "type": "surface"
           }
          ],
          "table": [
           {
            "cells": {
             "fill": {
              "color": "#EBF0F8"
             },
             "line": {
              "color": "white"
             }
            },
            "header": {
             "fill": {
              "color": "#C8D4E3"
             },
             "line": {
              "color": "white"
             }
            },
            "type": "table"
           }
          ]
         },
         "layout": {
          "annotationdefaults": {
           "arrowcolor": "#2a3f5f",
           "arrowhead": 0,
           "arrowwidth": 1
          },
          "autotypenumbers": "strict",
          "coloraxis": {
           "colorbar": {
            "outlinewidth": 0,
            "ticks": ""
           }
          },
          "colorscale": {
           "diverging": [
            [
             0,
             "#8e0152"
            ],
            [
             0.1,
             "#c51b7d"
            ],
            [
             0.2,
             "#de77ae"
            ],
            [
             0.3,
             "#f1b6da"
            ],
            [
             0.4,
             "#fde0ef"
            ],
            [
             0.5,
             "#f7f7f7"
            ],
            [
             0.6,
             "#e6f5d0"
            ],
            [
             0.7,
             "#b8e186"
            ],
            [
             0.8,
             "#7fbc41"
            ],
            [
             0.9,
             "#4d9221"
            ],
            [
             1,
             "#276419"
            ]
           ],
           "sequential": [
            [
             0,
             "#0d0887"
            ],
            [
             0.1111111111111111,
             "#46039f"
            ],
            [
             0.2222222222222222,
             "#7201a8"
            ],
            [
             0.3333333333333333,
             "#9c179e"
            ],
            [
             0.4444444444444444,
             "#bd3786"
            ],
            [
             0.5555555555555556,
             "#d8576b"
            ],
            [
             0.6666666666666666,
             "#ed7953"
            ],
            [
             0.7777777777777778,
             "#fb9f3a"
            ],
            [
             0.8888888888888888,
             "#fdca26"
            ],
            [
             1,
             "#f0f921"
            ]
           ],
           "sequentialminus": [
            [
             0,
             "#0d0887"
            ],
            [
             0.1111111111111111,
             "#46039f"
            ],
            [
             0.2222222222222222,
             "#7201a8"
            ],
            [
             0.3333333333333333,
             "#9c179e"
            ],
            [
             0.4444444444444444,
             "#bd3786"
            ],
            [
             0.5555555555555556,
             "#d8576b"
            ],
            [
             0.6666666666666666,
             "#ed7953"
            ],
            [
             0.7777777777777778,
             "#fb9f3a"
            ],
            [
             0.8888888888888888,
             "#fdca26"
            ],
            [
             1,
             "#f0f921"
            ]
           ]
          },
          "colorway": [
           "#636efa",
           "#EF553B",
           "#00cc96",
           "#ab63fa",
           "#FFA15A",
           "#19d3f3",
           "#FF6692",
           "#B6E880",
           "#FF97FF",
           "#FECB52"
          ],
          "font": {
           "color": "#2a3f5f"
          },
          "geo": {
           "bgcolor": "white",
           "lakecolor": "white",
           "landcolor": "#E5ECF6",
           "showlakes": true,
           "showland": true,
           "subunitcolor": "white"
          },
          "hoverlabel": {
           "align": "left"
          },
          "hovermode": "closest",
          "mapbox": {
           "style": "light"
          },
          "paper_bgcolor": "white",
          "plot_bgcolor": "#E5ECF6",
          "polar": {
           "angularaxis": {
            "gridcolor": "white",
            "linecolor": "white",
            "ticks": ""
           },
           "bgcolor": "#E5ECF6",
           "radialaxis": {
            "gridcolor": "white",
            "linecolor": "white",
            "ticks": ""
           }
          },
          "scene": {
           "xaxis": {
            "backgroundcolor": "#E5ECF6",
            "gridcolor": "white",
            "gridwidth": 2,
            "linecolor": "white",
            "showbackground": true,
            "ticks": "",
            "zerolinecolor": "white"
           },
           "yaxis": {
            "backgroundcolor": "#E5ECF6",
            "gridcolor": "white",
            "gridwidth": 2,
            "linecolor": "white",
            "showbackground": true,
            "ticks": "",
            "zerolinecolor": "white"
           },
           "zaxis": {
            "backgroundcolor": "#E5ECF6",
            "gridcolor": "white",
            "gridwidth": 2,
            "linecolor": "white",
            "showbackground": true,
            "ticks": "",
            "zerolinecolor": "white"
           }
          },
          "shapedefaults": {
           "line": {
            "color": "#2a3f5f"
           }
          },
          "ternary": {
           "aaxis": {
            "gridcolor": "white",
            "linecolor": "white",
            "ticks": ""
           },
           "baxis": {
            "gridcolor": "white",
            "linecolor": "white",
            "ticks": ""
           },
           "bgcolor": "#E5ECF6",
           "caxis": {
            "gridcolor": "white",
            "linecolor": "white",
            "ticks": ""
           }
          },
          "title": {
           "x": 0.05
          },
          "xaxis": {
           "automargin": true,
           "gridcolor": "white",
           "linecolor": "white",
           "ticks": "",
           "title": {
            "standoff": 15
           },
           "zerolinecolor": "white",
           "zerolinewidth": 2
          },
          "yaxis": {
           "automargin": true,
           "gridcolor": "white",
           "linecolor": "white",
           "ticks": "",
           "title": {
            "standoff": 15
           },
           "zerolinecolor": "white",
           "zerolinewidth": 2
          }
         }
        },
        "title": {
         "text": "GANTT Chart"
        },
        "xaxis": {
         "range": [
          "1970-01-01T00:00:00",
          "1970-01-01T03:19:34.126609"
         ],
         "title": {
          "font": {
           "color": "#7f7f7f",
           "family": "Courier New, monospace",
           "size": 18
          },
          "text": "Time"
         },
         "type": "date"
        },
        "yaxis": {
         "autorange": true,
         "range": [
          -1.0555555555555558,
          20.055555555555557
         ],
         "title": {
          "font": {
           "color": "#7f7f7f",
           "family": "Courier New, monospace",
           "size": 18
          },
          "text": "Activities"
         },
         "type": "category"
        }
       }
      },
      "text/html": [
       "<div>                            <div id=\"e0598e94-bae1-4f5f-bde4-2af43488007c\" class=\"plotly-graph-div\" style=\"height:525px; width:100%;\"></div>            <script type=\"text/javascript\">                require([\"plotly\"], function(Plotly) {                    window.PLOTLYENV=window.PLOTLYENV || {};                                    if (document.getElementById(\"e0598e94-bae1-4f5f-bde4-2af43488007c\")) {                    Plotly.newPlot(                        \"e0598e94-bae1-4f5f-bde4-2af43488007c\",                        [{\"connectgaps\":false,\"hoverinfo\":\"y+name\",\"line\":{\"color\":\"rgb(220,91,185)\",\"width\":10},\"mode\":\"lines\",\"name\":\"unloading:truck1\",\"x\":[\"1970-01-01T01:03:36.375536\",\"1970-01-01T01:03:36.375536\",\"1970-01-01T01:04:01.375536\",\"1970-01-01T01:04:01.375536\",\"1970-01-01T01:04:01.375536\",\"1970-01-01T02:07:37.751072\",\"1970-01-01T02:07:37.751072\",\"1970-01-01T02:08:02.751072\",\"1970-01-01T02:08:02.751072\",\"1970-01-01T02:08:02.751072\",\"1970-01-01T03:11:39.126609\",\"1970-01-01T03:11:39.126609\",\"1970-01-01T03:12:04.126609\",\"1970-01-01T03:12:04.126609\",\"1970-01-01T03:12:04.126609\"],\"y\":[\"truck1\",\"truck1\",\"truck1\",\"truck1\",null,\"truck1\",\"truck1\",\"truck1\",\"truck1\",null,\"truck1\",\"truck1\",\"truck1\",\"truck1\",null],\"type\":\"scatter\"},{\"connectgaps\":false,\"hoverinfo\":\"y+name\",\"line\":{\"color\":\"rgb(223,94,188)\",\"width\":10},\"mode\":\"lines\",\"name\":\"loading:truck1\",\"x\":[\"1970-01-01T00:32:00.113018\",\"1970-01-01T00:32:00.113018\",\"1970-01-01T00:32:50.113018\",\"1970-01-01T00:32:50.113018\",\"1970-01-01T00:32:50.113018\",\"1970-01-01T01:36:01.488555\",\"1970-01-01T01:36:01.488555\",\"1970-01-01T01:36:51.488555\",\"1970-01-01T01:36:51.488555\",\"1970-01-01T01:36:51.488555\",\"1970-01-01T02:40:02.864091\",\"1970-01-01T02:40:02.864091\",\"1970-01-01T02:40:52.864091\",\"1970-01-01T02:40:52.864091\",\"1970-01-01T02:40:52.864091\"],\"y\":[\"truck1\",\"truck1\",\"truck1\",\"truck1\",null,\"truck1\",\"truck1\",\"truck1\",\"truck1\",null,\"truck1\",\"truck1\",\"truck1\",\"truck1\",null],\"type\":\"scatter\"},{\"connectgaps\":false,\"hoverinfo\":\"y+name\",\"line\":{\"color\":\"rgb(226,97,191)\",\"width\":10},\"mode\":\"lines\",\"name\":\"driving_full:truck1\",\"x\":[\"1970-01-01T00:32:50.113018\",\"1970-01-01T00:32:50.113018\",\"1970-01-01T01:03:36.375536\",\"1970-01-01T01:03:36.375536\",\"1970-01-01T01:03:36.375536\",\"1970-01-01T01:36:51.488555\",\"1970-01-01T01:36:51.488555\",\"1970-01-01T02:07:37.751072\",\"1970-01-01T02:07:37.751072\",\"1970-01-01T02:07:37.751072\",\"1970-01-01T02:40:52.864091\",\"1970-01-01T02:40:52.864091\",\"1970-01-01T03:11:39.126609\",\"1970-01-01T03:11:39.126609\",\"1970-01-01T03:11:39.126609\"],\"y\":[\"truck1\",\"truck1\",\"truck1\",\"truck1\",null,\"truck1\",\"truck1\",\"truck1\",\"truck1\",null,\"truck1\",\"truck1\",\"truck1\",\"truck1\",null],\"type\":\"scatter\"},{\"connectgaps\":false,\"hoverinfo\":\"y+name\",\"line\":{\"color\":\"rgb(229,100,194)\",\"width\":10},\"mode\":\"lines\",\"name\":\"driving_empty:truck1\",\"x\":[\"1970-01-01T00:00:00\",\"1970-01-01T00:00:00\",\"1970-01-01T00:32:00.113018\",\"1970-01-01T00:32:00.113018\",\"1970-01-01T00:32:00.113018\",\"1970-01-01T01:04:01.375536\",\"1970-01-01T01:04:01.375536\",\"1970-01-01T01:36:01.488555\",\"1970-01-01T01:36:01.488555\",\"1970-01-01T01:36:01.488555\",\"1970-01-01T02:08:02.751072\",\"1970-01-01T02:08:02.751072\",\"1970-01-01T02:40:02.864091\",\"1970-01-01T02:40:02.864091\",\"1970-01-01T02:40:02.864091\"],\"y\":[\"truck1\",\"truck1\",\"truck1\",\"truck1\",null,\"truck1\",\"truck1\",\"truck1\",\"truck1\",null,\"truck1\",\"truck1\",\"truck1\",\"truck1\",null],\"type\":\"scatter\"},{\"connectgaps\":false,\"hoverinfo\":\"y+name\",\"line\":{\"color\":\"rgb(232,103,197)\",\"width\":10},\"mode\":\"lines\",\"name\":\"loading:truck2\",\"x\":[\"1970-01-01T00:32:50.113018\",\"1970-01-01T00:32:50.113018\",\"1970-01-01T00:33:40.113018\",\"1970-01-01T00:33:40.113018\",\"1970-01-01T00:33:40.113018\",\"1970-01-01T01:36:51.488555\",\"1970-01-01T01:36:51.488555\",\"1970-01-01T01:37:41.488555\",\"1970-01-01T01:37:41.488555\",\"1970-01-01T01:37:41.488555\",\"1970-01-01T02:40:52.864091\",\"1970-01-01T02:40:52.864091\",\"1970-01-01T02:41:42.864091\",\"1970-01-01T02:41:42.864091\",\"1970-01-01T02:41:42.864091\"],\"y\":[\"truck2\",\"truck2\",\"truck2\",\"truck2\",null,\"truck2\",\"truck2\",\"truck2\",\"truck2\",null,\"truck2\",\"truck2\",\"truck2\",\"truck2\",null],\"type\":\"scatter\"},{\"connectgaps\":false,\"hoverinfo\":\"y+name\",\"line\":{\"color\":\"rgb(235,106,200)\",\"width\":10},\"mode\":\"lines\",\"name\":\"driving_empty:truck2\",\"x\":[\"1970-01-01T00:00:00\",\"1970-01-01T00:00:00\",\"1970-01-01T00:32:00.113018\",\"1970-01-01T00:32:00.113018\",\"1970-01-01T00:32:00.113018\",\"1970-01-01T01:04:51.375536\",\"1970-01-01T01:04:51.375536\",\"1970-01-01T01:36:51.488555\",\"1970-01-01T01:36:51.488555\",\"1970-01-01T01:36:51.488555\",\"1970-01-01T02:08:52.751072\",\"1970-01-01T02:08:52.751072\",\"1970-01-01T02:40:52.864091\",\"1970-01-01T02:40:52.864091\",\"1970-01-01T02:40:52.864091\"],\"y\":[\"truck2\",\"truck2\",\"truck2\",\"truck2\",null,\"truck2\",\"truck2\",\"truck2\",\"truck2\",null,\"truck2\",\"truck2\",\"truck2\",\"truck2\",null],\"type\":\"scatter\"},{\"connectgaps\":false,\"hoverinfo\":\"y+name\",\"line\":{\"color\":\"rgb(238,109,203)\",\"width\":10},\"mode\":\"lines\",\"name\":\"unloading:truck2\",\"x\":[\"1970-01-01T01:04:26.375536\",\"1970-01-01T01:04:26.375536\",\"1970-01-01T01:04:51.375536\",\"1970-01-01T01:04:51.375536\",\"1970-01-01T01:04:51.375536\",\"1970-01-01T02:08:27.751072\",\"1970-01-01T02:08:27.751072\",\"1970-01-01T02:08:52.751072\",\"1970-01-01T02:08:52.751072\",\"1970-01-01T02:08:52.751072\",\"1970-01-01T03:12:29.126609\",\"1970-01-01T03:12:29.126609\",\"1970-01-01T03:12:54.126609\",\"1970-01-01T03:12:54.126609\",\"1970-01-01T03:12:54.126609\"],\"y\":[\"truck2\",\"truck2\",\"truck2\",\"truck2\",null,\"truck2\",\"truck2\",\"truck2\",\"truck2\",null,\"truck2\",\"truck2\",\"truck2\",\"truck2\",null],\"type\":\"scatter\"},{\"connectgaps\":false,\"hoverinfo\":\"y+name\",\"line\":{\"color\":\"rgb(241,112,206)\",\"width\":10},\"mode\":\"lines\",\"name\":\"driving_full:truck2\",\"x\":[\"1970-01-01T00:33:40.113018\",\"1970-01-01T00:33:40.113018\",\"1970-01-01T01:04:26.375536\",\"1970-01-01T01:04:26.375536\",\"1970-01-01T01:04:26.375536\",\"1970-01-01T01:37:41.488555\",\"1970-01-01T01:37:41.488555\",\"1970-01-01T02:08:27.751072\",\"1970-01-01T02:08:27.751072\",\"1970-01-01T02:08:27.751072\",\"1970-01-01T02:41:42.864091\",\"1970-01-01T02:41:42.864091\",\"1970-01-01T03:12:29.126609\",\"1970-01-01T03:12:29.126609\",\"1970-01-01T03:12:29.126609\"],\"y\":[\"truck2\",\"truck2\",\"truck2\",\"truck2\",null,\"truck2\",\"truck2\",\"truck2\",\"truck2\",null,\"truck2\",\"truck2\",\"truck2\",\"truck2\",null],\"type\":\"scatter\"},{\"connectgaps\":false,\"hoverinfo\":\"y+name\",\"line\":{\"color\":\"rgb(244,115,209)\",\"width\":10},\"mode\":\"lines\",\"name\":\"driving_empty:truck3\",\"x\":[\"1970-01-01T00:00:00\",\"1970-01-01T00:00:00\",\"1970-01-01T00:32:00.113018\",\"1970-01-01T00:32:00.113018\",\"1970-01-01T00:32:00.113018\",\"1970-01-01T01:05:41.375536\",\"1970-01-01T01:05:41.375536\",\"1970-01-01T01:37:41.488555\",\"1970-01-01T01:37:41.488555\",\"1970-01-01T01:37:41.488555\",\"1970-01-01T02:09:42.751072\",\"1970-01-01T02:09:42.751072\",\"1970-01-01T02:41:42.864091\",\"1970-01-01T02:41:42.864091\",\"1970-01-01T02:41:42.864091\"],\"y\":[\"truck3\",\"truck3\",\"truck3\",\"truck3\",null,\"truck3\",\"truck3\",\"truck3\",\"truck3\",null,\"truck3\",\"truck3\",\"truck3\",\"truck3\",null],\"type\":\"scatter\"},{\"connectgaps\":false,\"hoverinfo\":\"y+name\",\"line\":{\"color\":\"rgb(247,118,212)\",\"width\":10},\"mode\":\"lines\",\"name\":\"loading:truck3\",\"x\":[\"1970-01-01T00:33:40.113018\",\"1970-01-01T00:33:40.113018\",\"1970-01-01T00:34:30.113018\",\"1970-01-01T00:34:30.113018\",\"1970-01-01T00:34:30.113018\",\"1970-01-01T01:37:41.488555\",\"1970-01-01T01:37:41.488555\",\"1970-01-01T01:38:31.488555\",\"1970-01-01T01:38:31.488555\",\"1970-01-01T01:38:31.488555\",\"1970-01-01T02:41:42.864091\",\"1970-01-01T02:41:42.864091\",\"1970-01-01T02:42:32.864091\",\"1970-01-01T02:42:32.864091\",\"1970-01-01T02:42:32.864091\"],\"y\":[\"truck3\",\"truck3\",\"truck3\",\"truck3\",null,\"truck3\",\"truck3\",\"truck3\",\"truck3\",null,\"truck3\",\"truck3\",\"truck3\",\"truck3\",null],\"type\":\"scatter\"},{\"connectgaps\":false,\"hoverinfo\":\"y+name\",\"line\":{\"color\":\"rgb(250,121,215)\",\"width\":10},\"mode\":\"lines\",\"name\":\"unloading:truck3\",\"x\":[\"1970-01-01T01:05:16.375536\",\"1970-01-01T01:05:16.375536\",\"1970-01-01T01:05:41.375536\",\"1970-01-01T01:05:41.375536\",\"1970-01-01T01:05:41.375536\",\"1970-01-01T02:09:17.751072\",\"1970-01-01T02:09:17.751072\",\"1970-01-01T02:09:42.751072\",\"1970-01-01T02:09:42.751072\",\"1970-01-01T02:09:42.751072\",\"1970-01-01T03:13:19.126609\",\"1970-01-01T03:13:19.126609\",\"1970-01-01T03:13:44.126609\",\"1970-01-01T03:13:44.126609\",\"1970-01-01T03:13:44.126609\"],\"y\":[\"truck3\",\"truck3\",\"truck3\",\"truck3\",null,\"truck3\",\"truck3\",\"truck3\",\"truck3\",null,\"truck3\",\"truck3\",\"truck3\",\"truck3\",null],\"type\":\"scatter\"},{\"connectgaps\":false,\"hoverinfo\":\"y+name\",\"line\":{\"color\":\"rgb(253,124,218)\",\"width\":10},\"mode\":\"lines\",\"name\":\"driving_full:truck3\",\"x\":[\"1970-01-01T00:34:30.113018\",\"1970-01-01T00:34:30.113018\",\"1970-01-01T01:05:16.375536\",\"1970-01-01T01:05:16.375536\",\"1970-01-01T01:05:16.375536\",\"1970-01-01T01:38:31.488555\",\"1970-01-01T01:38:31.488555\",\"1970-01-01T02:09:17.751072\",\"1970-01-01T02:09:17.751072\",\"1970-01-01T02:09:17.751072\",\"1970-01-01T02:42:32.864091\",\"1970-01-01T02:42:32.864091\",\"1970-01-01T03:13:19.126609\",\"1970-01-01T03:13:19.126609\",\"1970-01-01T03:13:19.126609\"],\"y\":[\"truck3\",\"truck3\",\"truck3\",\"truck3\",null,\"truck3\",\"truck3\",\"truck3\",\"truck3\",null,\"truck3\",\"truck3\",\"truck3\",\"truck3\",null],\"type\":\"scatter\"},{\"connectgaps\":false,\"hoverinfo\":\"y+name\",\"line\":{\"color\":\"rgb(0,127,221)\",\"width\":10},\"mode\":\"lines\",\"name\":\"loading:truck4\",\"x\":[\"1970-01-01T00:34:30.113018\",\"1970-01-01T00:34:30.113018\",\"1970-01-01T00:35:20.113018\",\"1970-01-01T00:35:20.113018\",\"1970-01-01T00:35:20.113018\",\"1970-01-01T01:38:31.488555\",\"1970-01-01T01:38:31.488555\",\"1970-01-01T01:39:21.488555\",\"1970-01-01T01:39:21.488555\",\"1970-01-01T01:39:21.488555\",\"1970-01-01T02:42:32.864091\",\"1970-01-01T02:42:32.864091\",\"1970-01-01T02:43:22.864091\",\"1970-01-01T02:43:22.864091\",\"1970-01-01T02:43:22.864091\"],\"y\":[\"truck4\",\"truck4\",\"truck4\",\"truck4\",null,\"truck4\",\"truck4\",\"truck4\",\"truck4\",null,\"truck4\",\"truck4\",\"truck4\",\"truck4\",null],\"type\":\"scatter\"},{\"connectgaps\":false,\"hoverinfo\":\"y+name\",\"line\":{\"color\":\"rgb(3,130,224)\",\"width\":10},\"mode\":\"lines\",\"name\":\"unloading:truck4\",\"x\":[\"1970-01-01T01:06:06.375536\",\"1970-01-01T01:06:06.375536\",\"1970-01-01T01:06:31.375536\",\"1970-01-01T01:06:31.375536\",\"1970-01-01T01:06:31.375536\",\"1970-01-01T02:10:07.751072\",\"1970-01-01T02:10:07.751072\",\"1970-01-01T02:10:32.751072\",\"1970-01-01T02:10:32.751072\",\"1970-01-01T02:10:32.751072\",\"1970-01-01T03:14:09.126609\",\"1970-01-01T03:14:09.126609\",\"1970-01-01T03:14:34.126609\",\"1970-01-01T03:14:34.126609\",\"1970-01-01T03:14:34.126609\"],\"y\":[\"truck4\",\"truck4\",\"truck4\",\"truck4\",null,\"truck4\",\"truck4\",\"truck4\",\"truck4\",null,\"truck4\",\"truck4\",\"truck4\",\"truck4\",null],\"type\":\"scatter\"},{\"connectgaps\":false,\"hoverinfo\":\"y+name\",\"line\":{\"color\":\"rgb(6,133,227)\",\"width\":10},\"mode\":\"lines\",\"name\":\"driving_full:truck4\",\"x\":[\"1970-01-01T00:35:20.113018\",\"1970-01-01T00:35:20.113018\",\"1970-01-01T01:06:06.375536\",\"1970-01-01T01:06:06.375536\",\"1970-01-01T01:06:06.375536\",\"1970-01-01T01:39:21.488555\",\"1970-01-01T01:39:21.488555\",\"1970-01-01T02:10:07.751072\",\"1970-01-01T02:10:07.751072\",\"1970-01-01T02:10:07.751072\",\"1970-01-01T02:43:22.864091\",\"1970-01-01T02:43:22.864091\",\"1970-01-01T03:14:09.126609\",\"1970-01-01T03:14:09.126609\",\"1970-01-01T03:14:09.126609\"],\"y\":[\"truck4\",\"truck4\",\"truck4\",\"truck4\",null,\"truck4\",\"truck4\",\"truck4\",\"truck4\",null,\"truck4\",\"truck4\",\"truck4\",\"truck4\",null],\"type\":\"scatter\"},{\"connectgaps\":false,\"hoverinfo\":\"y+name\",\"line\":{\"color\":\"rgb(9,136,230)\",\"width\":10},\"mode\":\"lines\",\"name\":\"driving_empty:truck4\",\"x\":[\"1970-01-01T00:00:00\",\"1970-01-01T00:00:00\",\"1970-01-01T00:32:00.113018\",\"1970-01-01T00:32:00.113018\",\"1970-01-01T00:32:00.113018\",\"1970-01-01T01:06:31.375536\",\"1970-01-01T01:06:31.375536\",\"1970-01-01T01:38:31.488555\",\"1970-01-01T01:38:31.488555\",\"1970-01-01T01:38:31.488555\",\"1970-01-01T02:10:32.751072\",\"1970-01-01T02:10:32.751072\",\"1970-01-01T02:42:32.864091\",\"1970-01-01T02:42:32.864091\",\"1970-01-01T02:42:32.864091\"],\"y\":[\"truck4\",\"truck4\",\"truck4\",\"truck4\",null,\"truck4\",\"truck4\",\"truck4\",\"truck4\",null,\"truck4\",\"truck4\",\"truck4\",\"truck4\",null],\"type\":\"scatter\"},{\"connectgaps\":false,\"hoverinfo\":\"y+name\",\"line\":{\"color\":\"rgb(12,139,233)\",\"width\":10},\"mode\":\"lines\",\"name\":\"driving_empty:truck5\",\"x\":[\"1970-01-01T00:00:00\",\"1970-01-01T00:00:00\",\"1970-01-01T00:32:00.113018\",\"1970-01-01T00:32:00.113018\",\"1970-01-01T00:32:00.113018\",\"1970-01-01T01:07:21.375536\",\"1970-01-01T01:07:21.375536\",\"1970-01-01T01:39:21.488555\",\"1970-01-01T01:39:21.488555\",\"1970-01-01T01:39:21.488555\",\"1970-01-01T02:11:22.751072\",\"1970-01-01T02:11:22.751072\",\"1970-01-01T02:43:22.864091\",\"1970-01-01T02:43:22.864091\",\"1970-01-01T02:43:22.864091\"],\"y\":[\"truck5\",\"truck5\",\"truck5\",\"truck5\",null,\"truck5\",\"truck5\",\"truck5\",\"truck5\",null,\"truck5\",\"truck5\",\"truck5\",\"truck5\",null],\"type\":\"scatter\"},{\"connectgaps\":false,\"hoverinfo\":\"y+name\",\"line\":{\"color\":\"rgb(15,142,236)\",\"width\":10},\"mode\":\"lines\",\"name\":\"loading:truck5\",\"x\":[\"1970-01-01T00:35:20.113018\",\"1970-01-01T00:35:20.113018\",\"1970-01-01T00:36:10.113018\",\"1970-01-01T00:36:10.113018\",\"1970-01-01T00:36:10.113018\",\"1970-01-01T01:39:21.488555\",\"1970-01-01T01:39:21.488555\",\"1970-01-01T01:40:11.488555\",\"1970-01-01T01:40:11.488555\",\"1970-01-01T01:40:11.488555\",\"1970-01-01T02:43:22.864091\",\"1970-01-01T02:43:22.864091\",\"1970-01-01T02:44:12.864091\",\"1970-01-01T02:44:12.864091\",\"1970-01-01T02:44:12.864091\"],\"y\":[\"truck5\",\"truck5\",\"truck5\",\"truck5\",null,\"truck5\",\"truck5\",\"truck5\",\"truck5\",null,\"truck5\",\"truck5\",\"truck5\",\"truck5\",null],\"type\":\"scatter\"},{\"connectgaps\":false,\"hoverinfo\":\"y+name\",\"line\":{\"color\":\"rgb(18,145,239)\",\"width\":10},\"mode\":\"lines\",\"name\":\"unloading:truck5\",\"x\":[\"1970-01-01T01:06:56.375536\",\"1970-01-01T01:06:56.375536\",\"1970-01-01T01:07:21.375536\",\"1970-01-01T01:07:21.375536\",\"1970-01-01T01:07:21.375536\",\"1970-01-01T02:10:57.751072\",\"1970-01-01T02:10:57.751072\",\"1970-01-01T02:11:22.751072\",\"1970-01-01T02:11:22.751072\",\"1970-01-01T02:11:22.751072\",\"1970-01-01T03:14:59.126609\",\"1970-01-01T03:14:59.126609\",\"1970-01-01T03:15:24.126609\",\"1970-01-01T03:15:24.126609\",\"1970-01-01T03:15:24.126609\"],\"y\":[\"truck5\",\"truck5\",\"truck5\",\"truck5\",null,\"truck5\",\"truck5\",\"truck5\",\"truck5\",null,\"truck5\",\"truck5\",\"truck5\",\"truck5\",null],\"type\":\"scatter\"},{\"connectgaps\":false,\"hoverinfo\":\"y+name\",\"line\":{\"color\":\"rgb(21,148,242)\",\"width\":10},\"mode\":\"lines\",\"name\":\"driving_full:truck5\",\"x\":[\"1970-01-01T00:36:10.113018\",\"1970-01-01T00:36:10.113018\",\"1970-01-01T01:06:56.375536\",\"1970-01-01T01:06:56.375536\",\"1970-01-01T01:06:56.375536\",\"1970-01-01T01:40:11.488555\",\"1970-01-01T01:40:11.488555\",\"1970-01-01T02:10:57.751072\",\"1970-01-01T02:10:57.751072\",\"1970-01-01T02:10:57.751072\",\"1970-01-01T02:44:12.864091\",\"1970-01-01T02:44:12.864091\",\"1970-01-01T03:14:59.126609\",\"1970-01-01T03:14:59.126609\",\"1970-01-01T03:14:59.126609\"],\"y\":[\"truck5\",\"truck5\",\"truck5\",\"truck5\",null,\"truck5\",\"truck5\",\"truck5\",\"truck5\",null,\"truck5\",\"truck5\",\"truck5\",\"truck5\",null],\"type\":\"scatter\"},{\"connectgaps\":false,\"hoverinfo\":\"y+name\",\"line\":{\"color\":\"rgb(24,151,245)\",\"width\":10},\"mode\":\"lines\",\"name\":\"loading:truck6\",\"x\":[\"1970-01-01T00:36:10.113018\",\"1970-01-01T00:36:10.113018\",\"1970-01-01T00:37:00.113018\",\"1970-01-01T00:37:00.113018\",\"1970-01-01T00:37:00.113018\",\"1970-01-01T01:40:11.488555\",\"1970-01-01T01:40:11.488555\",\"1970-01-01T01:41:01.488555\",\"1970-01-01T01:41:01.488555\",\"1970-01-01T01:41:01.488555\",\"1970-01-01T02:44:12.864091\",\"1970-01-01T02:44:12.864091\",\"1970-01-01T02:45:02.864091\",\"1970-01-01T02:45:02.864091\",\"1970-01-01T02:45:02.864091\"],\"y\":[\"truck6\",\"truck6\",\"truck6\",\"truck6\",null,\"truck6\",\"truck6\",\"truck6\",\"truck6\",null,\"truck6\",\"truck6\",\"truck6\",\"truck6\",null],\"type\":\"scatter\"},{\"connectgaps\":false,\"hoverinfo\":\"y+name\",\"line\":{\"color\":\"rgb(27,154,248)\",\"width\":10},\"mode\":\"lines\",\"name\":\"driving_full:truck6\",\"x\":[\"1970-01-01T00:37:00.113018\",\"1970-01-01T00:37:00.113018\",\"1970-01-01T01:07:46.375536\",\"1970-01-01T01:07:46.375536\",\"1970-01-01T01:07:46.375536\",\"1970-01-01T01:41:01.488555\",\"1970-01-01T01:41:01.488555\",\"1970-01-01T02:11:47.751072\",\"1970-01-01T02:11:47.751072\",\"1970-01-01T02:11:47.751072\",\"1970-01-01T02:45:02.864091\",\"1970-01-01T02:45:02.864091\",\"1970-01-01T03:15:49.126609\",\"1970-01-01T03:15:49.126609\",\"1970-01-01T03:15:49.126609\"],\"y\":[\"truck6\",\"truck6\",\"truck6\",\"truck6\",null,\"truck6\",\"truck6\",\"truck6\",\"truck6\",null,\"truck6\",\"truck6\",\"truck6\",\"truck6\",null],\"type\":\"scatter\"},{\"connectgaps\":false,\"hoverinfo\":\"y+name\",\"line\":{\"color\":\"rgb(30,157,251)\",\"width\":10},\"mode\":\"lines\",\"name\":\"driving_empty:truck6\",\"x\":[\"1970-01-01T00:00:00\",\"1970-01-01T00:00:00\",\"1970-01-01T00:32:00.113018\",\"1970-01-01T00:32:00.113018\",\"1970-01-01T00:32:00.113018\",\"1970-01-01T01:08:11.375536\",\"1970-01-01T01:08:11.375536\",\"1970-01-01T01:40:11.488555\",\"1970-01-01T01:40:11.488555\",\"1970-01-01T01:40:11.488555\",\"1970-01-01T02:12:12.751072\",\"1970-01-01T02:12:12.751072\",\"1970-01-01T02:44:12.864091\",\"1970-01-01T02:44:12.864091\",\"1970-01-01T02:44:12.864091\"],\"y\":[\"truck6\",\"truck6\",\"truck6\",\"truck6\",null,\"truck6\",\"truck6\",\"truck6\",\"truck6\",null,\"truck6\",\"truck6\",\"truck6\",\"truck6\",null],\"type\":\"scatter\"},{\"connectgaps\":false,\"hoverinfo\":\"y+name\",\"line\":{\"color\":\"rgb(33,160,254)\",\"width\":10},\"mode\":\"lines\",\"name\":\"unloading:truck6\",\"x\":[\"1970-01-01T01:07:46.375536\",\"1970-01-01T01:07:46.375536\",\"1970-01-01T01:08:11.375536\",\"1970-01-01T01:08:11.375536\",\"1970-01-01T01:08:11.375536\",\"1970-01-01T02:11:47.751072\",\"1970-01-01T02:11:47.751072\",\"1970-01-01T02:12:12.751072\",\"1970-01-01T02:12:12.751072\",\"1970-01-01T02:12:12.751072\",\"1970-01-01T03:15:49.126609\",\"1970-01-01T03:15:49.126609\",\"1970-01-01T03:16:14.126609\",\"1970-01-01T03:16:14.126609\",\"1970-01-01T03:16:14.126609\"],\"y\":[\"truck6\",\"truck6\",\"truck6\",\"truck6\",null,\"truck6\",\"truck6\",\"truck6\",\"truck6\",null,\"truck6\",\"truck6\",\"truck6\",\"truck6\",null],\"type\":\"scatter\"},{\"connectgaps\":false,\"hoverinfo\":\"y+name\",\"line\":{\"color\":\"rgb(36,163,1)\",\"width\":10},\"mode\":\"lines\",\"name\":\"driving_full:truck7\",\"x\":[\"1970-01-01T00:37:50.113018\",\"1970-01-01T00:37:50.113018\",\"1970-01-01T01:08:36.375536\",\"1970-01-01T01:08:36.375536\",\"1970-01-01T01:08:36.375536\",\"1970-01-01T01:41:51.488555\",\"1970-01-01T01:41:51.488555\",\"1970-01-01T02:12:37.751072\",\"1970-01-01T02:12:37.751072\",\"1970-01-01T02:12:37.751072\",\"1970-01-01T02:45:52.864091\",\"1970-01-01T02:45:52.864091\",\"1970-01-01T03:16:39.126609\",\"1970-01-01T03:16:39.126609\",\"1970-01-01T03:16:39.126609\"],\"y\":[\"truck7\",\"truck7\",\"truck7\",\"truck7\",null,\"truck7\",\"truck7\",\"truck7\",\"truck7\",null,\"truck7\",\"truck7\",\"truck7\",\"truck7\",null],\"type\":\"scatter\"},{\"connectgaps\":false,\"hoverinfo\":\"y+name\",\"line\":{\"color\":\"rgb(39,166,4)\",\"width\":10},\"mode\":\"lines\",\"name\":\"unloading:truck7\",\"x\":[\"1970-01-01T01:08:36.375536\",\"1970-01-01T01:08:36.375536\",\"1970-01-01T01:09:01.375536\",\"1970-01-01T01:09:01.375536\",\"1970-01-01T01:09:01.375536\",\"1970-01-01T02:12:37.751072\",\"1970-01-01T02:12:37.751072\",\"1970-01-01T02:13:02.751072\",\"1970-01-01T02:13:02.751072\",\"1970-01-01T02:13:02.751072\",\"1970-01-01T03:16:39.126609\",\"1970-01-01T03:16:39.126609\",\"1970-01-01T03:17:04.126609\",\"1970-01-01T03:17:04.126609\",\"1970-01-01T03:17:04.126609\"],\"y\":[\"truck7\",\"truck7\",\"truck7\",\"truck7\",null,\"truck7\",\"truck7\",\"truck7\",\"truck7\",null,\"truck7\",\"truck7\",\"truck7\",\"truck7\",null],\"type\":\"scatter\"},{\"connectgaps\":false,\"hoverinfo\":\"y+name\",\"line\":{\"color\":\"rgb(42,169,7)\",\"width\":10},\"mode\":\"lines\",\"name\":\"driving_empty:truck7\",\"x\":[\"1970-01-01T00:00:00\",\"1970-01-01T00:00:00\",\"1970-01-01T00:32:00.113018\",\"1970-01-01T00:32:00.113018\",\"1970-01-01T00:32:00.113018\",\"1970-01-01T01:09:01.375536\",\"1970-01-01T01:09:01.375536\",\"1970-01-01T01:41:01.488555\",\"1970-01-01T01:41:01.488555\",\"1970-01-01T01:41:01.488555\",\"1970-01-01T02:13:02.751072\",\"1970-01-01T02:13:02.751072\",\"1970-01-01T02:45:02.864091\",\"1970-01-01T02:45:02.864091\",\"1970-01-01T02:45:02.864091\"],\"y\":[\"truck7\",\"truck7\",\"truck7\",\"truck7\",null,\"truck7\",\"truck7\",\"truck7\",\"truck7\",null,\"truck7\",\"truck7\",\"truck7\",\"truck7\",null],\"type\":\"scatter\"},{\"connectgaps\":false,\"hoverinfo\":\"y+name\",\"line\":{\"color\":\"rgb(45,172,10)\",\"width\":10},\"mode\":\"lines\",\"name\":\"loading:truck7\",\"x\":[\"1970-01-01T00:37:00.113018\",\"1970-01-01T00:37:00.113018\",\"1970-01-01T00:37:50.113018\",\"1970-01-01T00:37:50.113018\",\"1970-01-01T00:37:50.113018\",\"1970-01-01T01:41:01.488555\",\"1970-01-01T01:41:01.488555\",\"1970-01-01T01:41:51.488555\",\"1970-01-01T01:41:51.488555\",\"1970-01-01T01:41:51.488555\",\"1970-01-01T02:45:02.864091\",\"1970-01-01T02:45:02.864091\",\"1970-01-01T02:45:52.864091\",\"1970-01-01T02:45:52.864091\",\"1970-01-01T02:45:52.864091\"],\"y\":[\"truck7\",\"truck7\",\"truck7\",\"truck7\",null,\"truck7\",\"truck7\",\"truck7\",\"truck7\",null,\"truck7\",\"truck7\",\"truck7\",\"truck7\",null],\"type\":\"scatter\"},{\"connectgaps\":false,\"hoverinfo\":\"y+name\",\"line\":{\"color\":\"rgb(48,175,13)\",\"width\":10},\"mode\":\"lines\",\"name\":\"driving_empty:truck8\",\"x\":[\"1970-01-01T00:00:00\",\"1970-01-01T00:00:00\",\"1970-01-01T00:32:00.113018\",\"1970-01-01T00:32:00.113018\",\"1970-01-01T00:32:00.113018\",\"1970-01-01T01:09:51.375536\",\"1970-01-01T01:09:51.375536\",\"1970-01-01T01:41:51.488555\",\"1970-01-01T01:41:51.488555\",\"1970-01-01T01:41:51.488555\",\"1970-01-01T02:13:52.751072\",\"1970-01-01T02:13:52.751072\",\"1970-01-01T02:45:52.864091\",\"1970-01-01T02:45:52.864091\",\"1970-01-01T02:45:52.864091\"],\"y\":[\"truck8\",\"truck8\",\"truck8\",\"truck8\",null,\"truck8\",\"truck8\",\"truck8\",\"truck8\",null,\"truck8\",\"truck8\",\"truck8\",\"truck8\",null],\"type\":\"scatter\"},{\"connectgaps\":false,\"hoverinfo\":\"y+name\",\"line\":{\"color\":\"rgb(51,178,16)\",\"width\":10},\"mode\":\"lines\",\"name\":\"unloading:truck8\",\"x\":[\"1970-01-01T01:09:26.375536\",\"1970-01-01T01:09:26.375536\",\"1970-01-01T01:09:51.375536\",\"1970-01-01T01:09:51.375536\",\"1970-01-01T01:09:51.375536\",\"1970-01-01T02:13:27.751072\",\"1970-01-01T02:13:27.751072\",\"1970-01-01T02:13:52.751072\",\"1970-01-01T02:13:52.751072\",\"1970-01-01T02:13:52.751072\",\"1970-01-01T03:17:29.126609\",\"1970-01-01T03:17:29.126609\",\"1970-01-01T03:17:54.126609\",\"1970-01-01T03:17:54.126609\",\"1970-01-01T03:17:54.126609\"],\"y\":[\"truck8\",\"truck8\",\"truck8\",\"truck8\",null,\"truck8\",\"truck8\",\"truck8\",\"truck8\",null,\"truck8\",\"truck8\",\"truck8\",\"truck8\",null],\"type\":\"scatter\"},{\"connectgaps\":false,\"hoverinfo\":\"y+name\",\"line\":{\"color\":\"rgb(54,181,19)\",\"width\":10},\"mode\":\"lines\",\"name\":\"driving_full:truck8\",\"x\":[\"1970-01-01T00:38:40.113018\",\"1970-01-01T00:38:40.113018\",\"1970-01-01T01:09:26.375536\",\"1970-01-01T01:09:26.375536\",\"1970-01-01T01:09:26.375536\",\"1970-01-01T01:42:41.488555\",\"1970-01-01T01:42:41.488555\",\"1970-01-01T02:13:27.751072\",\"1970-01-01T02:13:27.751072\",\"1970-01-01T02:13:27.751072\",\"1970-01-01T02:46:42.864091\",\"1970-01-01T02:46:42.864091\",\"1970-01-01T03:17:29.126609\",\"1970-01-01T03:17:29.126609\",\"1970-01-01T03:17:29.126609\"],\"y\":[\"truck8\",\"truck8\",\"truck8\",\"truck8\",null,\"truck8\",\"truck8\",\"truck8\",\"truck8\",null,\"truck8\",\"truck8\",\"truck8\",\"truck8\",null],\"type\":\"scatter\"},{\"connectgaps\":false,\"hoverinfo\":\"y+name\",\"line\":{\"color\":\"rgb(57,184,22)\",\"width\":10},\"mode\":\"lines\",\"name\":\"loading:truck8\",\"x\":[\"1970-01-01T00:37:50.113018\",\"1970-01-01T00:37:50.113018\",\"1970-01-01T00:38:40.113018\",\"1970-01-01T00:38:40.113018\",\"1970-01-01T00:38:40.113018\",\"1970-01-01T01:41:51.488555\",\"1970-01-01T01:41:51.488555\",\"1970-01-01T01:42:41.488555\",\"1970-01-01T01:42:41.488555\",\"1970-01-01T01:42:41.488555\",\"1970-01-01T02:45:52.864091\",\"1970-01-01T02:45:52.864091\",\"1970-01-01T02:46:42.864091\",\"1970-01-01T02:46:42.864091\",\"1970-01-01T02:46:42.864091\"],\"y\":[\"truck8\",\"truck8\",\"truck8\",\"truck8\",null,\"truck8\",\"truck8\",\"truck8\",\"truck8\",null,\"truck8\",\"truck8\",\"truck8\",\"truck8\",null],\"type\":\"scatter\"},{\"connectgaps\":false,\"hoverinfo\":\"y+name\",\"line\":{\"color\":\"rgb(60,187,25)\",\"width\":10},\"mode\":\"lines\",\"name\":\"unloading:truck9\",\"x\":[\"1970-01-01T01:10:16.375536\",\"1970-01-01T01:10:16.375536\",\"1970-01-01T01:10:41.375536\",\"1970-01-01T01:10:41.375536\",\"1970-01-01T01:10:41.375536\",\"1970-01-01T02:14:17.751072\",\"1970-01-01T02:14:17.751072\",\"1970-01-01T02:14:42.751072\",\"1970-01-01T02:14:42.751072\",\"1970-01-01T02:14:42.751072\",\"1970-01-01T03:18:19.126609\",\"1970-01-01T03:18:19.126609\",\"1970-01-01T03:18:44.126609\",\"1970-01-01T03:18:44.126609\",\"1970-01-01T03:18:44.126609\"],\"y\":[\"truck9\",\"truck9\",\"truck9\",\"truck9\",null,\"truck9\",\"truck9\",\"truck9\",\"truck9\",null,\"truck9\",\"truck9\",\"truck9\",\"truck9\",null],\"type\":\"scatter\"},{\"connectgaps\":false,\"hoverinfo\":\"y+name\",\"line\":{\"color\":\"rgb(63,190,28)\",\"width\":10},\"mode\":\"lines\",\"name\":\"driving_full:truck9\",\"x\":[\"1970-01-01T00:39:30.113018\",\"1970-01-01T00:39:30.113018\",\"1970-01-01T01:10:16.375536\",\"1970-01-01T01:10:16.375536\",\"1970-01-01T01:10:16.375536\",\"1970-01-01T01:43:31.488555\",\"1970-01-01T01:43:31.488555\",\"1970-01-01T02:14:17.751072\",\"1970-01-01T02:14:17.751072\",\"1970-01-01T02:14:17.751072\",\"1970-01-01T02:47:32.864091\",\"1970-01-01T02:47:32.864091\",\"1970-01-01T03:18:19.126609\",\"1970-01-01T03:18:19.126609\",\"1970-01-01T03:18:19.126609\"],\"y\":[\"truck9\",\"truck9\",\"truck9\",\"truck9\",null,\"truck9\",\"truck9\",\"truck9\",\"truck9\",null,\"truck9\",\"truck9\",\"truck9\",\"truck9\",null],\"type\":\"scatter\"},{\"connectgaps\":false,\"hoverinfo\":\"y+name\",\"line\":{\"color\":\"rgb(66,193,31)\",\"width\":10},\"mode\":\"lines\",\"name\":\"loading:truck9\",\"x\":[\"1970-01-01T00:38:40.113018\",\"1970-01-01T00:38:40.113018\",\"1970-01-01T00:39:30.113018\",\"1970-01-01T00:39:30.113018\",\"1970-01-01T00:39:30.113018\",\"1970-01-01T01:42:41.488555\",\"1970-01-01T01:42:41.488555\",\"1970-01-01T01:43:31.488555\",\"1970-01-01T01:43:31.488555\",\"1970-01-01T01:43:31.488555\",\"1970-01-01T02:46:42.864091\",\"1970-01-01T02:46:42.864091\",\"1970-01-01T02:47:32.864091\",\"1970-01-01T02:47:32.864091\",\"1970-01-01T02:47:32.864091\"],\"y\":[\"truck9\",\"truck9\",\"truck9\",\"truck9\",null,\"truck9\",\"truck9\",\"truck9\",\"truck9\",null,\"truck9\",\"truck9\",\"truck9\",\"truck9\",null],\"type\":\"scatter\"},{\"connectgaps\":false,\"hoverinfo\":\"y+name\",\"line\":{\"color\":\"rgb(69,196,34)\",\"width\":10},\"mode\":\"lines\",\"name\":\"driving_empty:truck9\",\"x\":[\"1970-01-01T00:00:00\",\"1970-01-01T00:00:00\",\"1970-01-01T00:32:00.113018\",\"1970-01-01T00:32:00.113018\",\"1970-01-01T00:32:00.113018\",\"1970-01-01T01:10:41.375536\",\"1970-01-01T01:10:41.375536\",\"1970-01-01T01:42:41.488555\",\"1970-01-01T01:42:41.488555\",\"1970-01-01T01:42:41.488555\",\"1970-01-01T02:14:42.751072\",\"1970-01-01T02:14:42.751072\",\"1970-01-01T02:46:42.864091\",\"1970-01-01T02:46:42.864091\",\"1970-01-01T02:46:42.864091\"],\"y\":[\"truck9\",\"truck9\",\"truck9\",\"truck9\",null,\"truck9\",\"truck9\",\"truck9\",\"truck9\",null,\"truck9\",\"truck9\",\"truck9\",\"truck9\",null],\"type\":\"scatter\"},{\"connectgaps\":false,\"hoverinfo\":\"y+name\",\"line\":{\"color\":\"rgb(72,199,37)\",\"width\":10},\"mode\":\"lines\",\"name\":\"unloading:truck10\",\"x\":[\"1970-01-01T01:11:06.375536\",\"1970-01-01T01:11:06.375536\",\"1970-01-01T01:11:31.375536\",\"1970-01-01T01:11:31.375536\",\"1970-01-01T01:11:31.375536\",\"1970-01-01T02:15:07.751072\",\"1970-01-01T02:15:07.751072\",\"1970-01-01T02:15:32.751072\",\"1970-01-01T02:15:32.751072\",\"1970-01-01T02:15:32.751072\",\"1970-01-01T03:19:09.126609\",\"1970-01-01T03:19:09.126609\",\"1970-01-01T03:19:34.126609\",\"1970-01-01T03:19:34.126609\",\"1970-01-01T03:19:34.126609\"],\"y\":[\"truck10\",\"truck10\",\"truck10\",\"truck10\",null,\"truck10\",\"truck10\",\"truck10\",\"truck10\",null,\"truck10\",\"truck10\",\"truck10\",\"truck10\",null],\"type\":\"scatter\"},{\"connectgaps\":false,\"hoverinfo\":\"y+name\",\"line\":{\"color\":\"rgb(75,202,40)\",\"width\":10},\"mode\":\"lines\",\"name\":\"loading:truck10\",\"x\":[\"1970-01-01T00:39:30.113018\",\"1970-01-01T00:39:30.113018\",\"1970-01-01T00:40:20.113018\",\"1970-01-01T00:40:20.113018\",\"1970-01-01T00:40:20.113018\",\"1970-01-01T01:43:31.488555\",\"1970-01-01T01:43:31.488555\",\"1970-01-01T01:44:21.488555\",\"1970-01-01T01:44:21.488555\",\"1970-01-01T01:44:21.488555\",\"1970-01-01T02:47:32.864091\",\"1970-01-01T02:47:32.864091\",\"1970-01-01T02:48:22.864091\",\"1970-01-01T02:48:22.864091\",\"1970-01-01T02:48:22.864091\"],\"y\":[\"truck10\",\"truck10\",\"truck10\",\"truck10\",null,\"truck10\",\"truck10\",\"truck10\",\"truck10\",null,\"truck10\",\"truck10\",\"truck10\",\"truck10\",null],\"type\":\"scatter\"},{\"connectgaps\":false,\"hoverinfo\":\"y+name\",\"line\":{\"color\":\"rgb(78,205,43)\",\"width\":10},\"mode\":\"lines\",\"name\":\"driving_full:truck10\",\"x\":[\"1970-01-01T00:40:20.113018\",\"1970-01-01T00:40:20.113018\",\"1970-01-01T01:11:06.375536\",\"1970-01-01T01:11:06.375536\",\"1970-01-01T01:11:06.375536\",\"1970-01-01T01:44:21.488555\",\"1970-01-01T01:44:21.488555\",\"1970-01-01T02:15:07.751072\",\"1970-01-01T02:15:07.751072\",\"1970-01-01T02:15:07.751072\",\"1970-01-01T02:48:22.864091\",\"1970-01-01T02:48:22.864091\",\"1970-01-01T03:19:09.126609\",\"1970-01-01T03:19:09.126609\",\"1970-01-01T03:19:09.126609\"],\"y\":[\"truck10\",\"truck10\",\"truck10\",\"truck10\",null,\"truck10\",\"truck10\",\"truck10\",\"truck10\",null,\"truck10\",\"truck10\",\"truck10\",\"truck10\",null],\"type\":\"scatter\"},{\"connectgaps\":false,\"hoverinfo\":\"y+name\",\"line\":{\"color\":\"rgb(81,208,46)\",\"width\":10},\"mode\":\"lines\",\"name\":\"driving_empty:truck10\",\"x\":[\"1970-01-01T00:00:00\",\"1970-01-01T00:00:00\",\"1970-01-01T00:32:00.113018\",\"1970-01-01T00:32:00.113018\",\"1970-01-01T00:32:00.113018\",\"1970-01-01T01:11:31.375536\",\"1970-01-01T01:11:31.375536\",\"1970-01-01T01:43:31.488555\",\"1970-01-01T01:43:31.488555\",\"1970-01-01T01:43:31.488555\",\"1970-01-01T02:15:32.751072\",\"1970-01-01T02:15:32.751072\",\"1970-01-01T02:47:32.864091\",\"1970-01-01T02:47:32.864091\",\"1970-01-01T02:47:32.864091\"],\"y\":[\"truck10\",\"truck10\",\"truck10\",\"truck10\",null,\"truck10\",\"truck10\",\"truck10\",\"truck10\",null,\"truck10\",\"truck10\",\"truck10\",\"truck10\",null],\"type\":\"scatter\"},{\"connectgaps\":false,\"hoverinfo\":\"y+name\",\"line\":{\"color\":\"rgb(84,211,49)\",\"width\":10},\"mode\":\"lines\",\"name\":\"driving_empty:truck11\",\"x\":[\"1970-01-01T00:00:00\",\"1970-01-01T00:00:00\",\"1970-01-01T00:32:00.113018\",\"1970-01-01T00:32:00.113018\",\"1970-01-01T00:32:00.113018\",\"1970-01-01T01:12:21.375536\",\"1970-01-01T01:12:21.375536\",\"1970-01-01T01:44:21.488555\",\"1970-01-01T01:44:21.488555\",\"1970-01-01T01:44:21.488555\"],\"y\":[\"truck11\",\"truck11\",\"truck11\",\"truck11\",null,\"truck11\",\"truck11\",\"truck11\",\"truck11\",null],\"type\":\"scatter\"},{\"connectgaps\":false,\"hoverinfo\":\"y+name\",\"line\":{\"color\":\"rgb(87,214,52)\",\"width\":10},\"mode\":\"lines\",\"name\":\"loading:truck11\",\"x\":[\"1970-01-01T00:40:20.113018\",\"1970-01-01T00:40:20.113018\",\"1970-01-01T00:41:10.113018\",\"1970-01-01T00:41:10.113018\",\"1970-01-01T00:41:10.113018\",\"1970-01-01T01:44:21.488555\",\"1970-01-01T01:44:21.488555\",\"1970-01-01T01:45:11.488555\",\"1970-01-01T01:45:11.488555\",\"1970-01-01T01:45:11.488555\"],\"y\":[\"truck11\",\"truck11\",\"truck11\",\"truck11\",null,\"truck11\",\"truck11\",\"truck11\",\"truck11\",null],\"type\":\"scatter\"},{\"connectgaps\":false,\"hoverinfo\":\"y+name\",\"line\":{\"color\":\"rgb(90,217,55)\",\"width\":10},\"mode\":\"lines\",\"name\":\"driving_full:truck11\",\"x\":[\"1970-01-01T00:41:10.113018\",\"1970-01-01T00:41:10.113018\",\"1970-01-01T01:11:56.375536\",\"1970-01-01T01:11:56.375536\",\"1970-01-01T01:11:56.375536\",\"1970-01-01T01:45:11.488555\",\"1970-01-01T01:45:11.488555\",\"1970-01-01T02:15:57.751072\",\"1970-01-01T02:15:57.751072\",\"1970-01-01T02:15:57.751072\"],\"y\":[\"truck11\",\"truck11\",\"truck11\",\"truck11\",null,\"truck11\",\"truck11\",\"truck11\",\"truck11\",null],\"type\":\"scatter\"},{\"connectgaps\":false,\"hoverinfo\":\"y+name\",\"line\":{\"color\":\"rgb(93,220,58)\",\"width\":10},\"mode\":\"lines\",\"name\":\"unloading:truck11\",\"x\":[\"1970-01-01T01:11:56.375536\",\"1970-01-01T01:11:56.375536\",\"1970-01-01T01:12:21.375536\",\"1970-01-01T01:12:21.375536\",\"1970-01-01T01:12:21.375536\",\"1970-01-01T02:15:57.751072\",\"1970-01-01T02:15:57.751072\",\"1970-01-01T02:16:22.751072\",\"1970-01-01T02:16:22.751072\",\"1970-01-01T02:16:22.751072\"],\"y\":[\"truck11\",\"truck11\",\"truck11\",\"truck11\",null,\"truck11\",\"truck11\",\"truck11\",\"truck11\",null],\"type\":\"scatter\"},{\"connectgaps\":false,\"hoverinfo\":\"y+name\",\"line\":{\"color\":\"rgb(96,223,61)\",\"width\":10},\"mode\":\"lines\",\"name\":\"driving_empty:truck12\",\"x\":[\"1970-01-01T00:00:00\",\"1970-01-01T00:00:00\",\"1970-01-01T00:32:00.113018\",\"1970-01-01T00:32:00.113018\",\"1970-01-01T00:32:00.113018\",\"1970-01-01T01:13:11.375536\",\"1970-01-01T01:13:11.375536\",\"1970-01-01T01:45:11.488555\",\"1970-01-01T01:45:11.488555\",\"1970-01-01T01:45:11.488555\"],\"y\":[\"truck12\",\"truck12\",\"truck12\",\"truck12\",null,\"truck12\",\"truck12\",\"truck12\",\"truck12\",null],\"type\":\"scatter\"},{\"connectgaps\":false,\"hoverinfo\":\"y+name\",\"line\":{\"color\":\"rgb(99,226,64)\",\"width\":10},\"mode\":\"lines\",\"name\":\"unloading:truck12\",\"x\":[\"1970-01-01T01:12:46.375536\",\"1970-01-01T01:12:46.375536\",\"1970-01-01T01:13:11.375536\",\"1970-01-01T01:13:11.375536\",\"1970-01-01T01:13:11.375536\",\"1970-01-01T02:16:47.751072\",\"1970-01-01T02:16:47.751072\",\"1970-01-01T02:17:12.751072\",\"1970-01-01T02:17:12.751072\",\"1970-01-01T02:17:12.751072\"],\"y\":[\"truck12\",\"truck12\",\"truck12\",\"truck12\",null,\"truck12\",\"truck12\",\"truck12\",\"truck12\",null],\"type\":\"scatter\"},{\"connectgaps\":false,\"hoverinfo\":\"y+name\",\"line\":{\"color\":\"rgb(102,229,67)\",\"width\":10},\"mode\":\"lines\",\"name\":\"driving_full:truck12\",\"x\":[\"1970-01-01T00:42:00.113018\",\"1970-01-01T00:42:00.113018\",\"1970-01-01T01:12:46.375536\",\"1970-01-01T01:12:46.375536\",\"1970-01-01T01:12:46.375536\",\"1970-01-01T01:46:01.488555\",\"1970-01-01T01:46:01.488555\",\"1970-01-01T02:16:47.751072\",\"1970-01-01T02:16:47.751072\",\"1970-01-01T02:16:47.751072\"],\"y\":[\"truck12\",\"truck12\",\"truck12\",\"truck12\",null,\"truck12\",\"truck12\",\"truck12\",\"truck12\",null],\"type\":\"scatter\"},{\"connectgaps\":false,\"hoverinfo\":\"y+name\",\"line\":{\"color\":\"rgb(105,232,70)\",\"width\":10},\"mode\":\"lines\",\"name\":\"loading:truck12\",\"x\":[\"1970-01-01T00:41:10.113018\",\"1970-01-01T00:41:10.113018\",\"1970-01-01T00:42:00.113018\",\"1970-01-01T00:42:00.113018\",\"1970-01-01T00:42:00.113018\",\"1970-01-01T01:45:11.488555\",\"1970-01-01T01:45:11.488555\",\"1970-01-01T01:46:01.488555\",\"1970-01-01T01:46:01.488555\",\"1970-01-01T01:46:01.488555\"],\"y\":[\"truck12\",\"truck12\",\"truck12\",\"truck12\",null,\"truck12\",\"truck12\",\"truck12\",\"truck12\",null],\"type\":\"scatter\"},{\"connectgaps\":false,\"hoverinfo\":\"y+name\",\"line\":{\"color\":\"rgb(108,235,73)\",\"width\":10},\"mode\":\"lines\",\"name\":\"driving_full:truck13\",\"x\":[\"1970-01-01T00:42:50.113018\",\"1970-01-01T00:42:50.113018\",\"1970-01-01T01:13:36.375536\",\"1970-01-01T01:13:36.375536\",\"1970-01-01T01:13:36.375536\",\"1970-01-01T01:46:51.488555\",\"1970-01-01T01:46:51.488555\",\"1970-01-01T02:17:37.751072\",\"1970-01-01T02:17:37.751072\",\"1970-01-01T02:17:37.751072\"],\"y\":[\"truck13\",\"truck13\",\"truck13\",\"truck13\",null,\"truck13\",\"truck13\",\"truck13\",\"truck13\",null],\"type\":\"scatter\"},{\"connectgaps\":false,\"hoverinfo\":\"y+name\",\"line\":{\"color\":\"rgb(111,238,76)\",\"width\":10},\"mode\":\"lines\",\"name\":\"driving_empty:truck13\",\"x\":[\"1970-01-01T00:00:00\",\"1970-01-01T00:00:00\",\"1970-01-01T00:32:00.113018\",\"1970-01-01T00:32:00.113018\",\"1970-01-01T00:32:00.113018\",\"1970-01-01T01:14:01.375536\",\"1970-01-01T01:14:01.375536\",\"1970-01-01T01:46:01.488555\",\"1970-01-01T01:46:01.488555\",\"1970-01-01T01:46:01.488555\"],\"y\":[\"truck13\",\"truck13\",\"truck13\",\"truck13\",null,\"truck13\",\"truck13\",\"truck13\",\"truck13\",null],\"type\":\"scatter\"},{\"connectgaps\":false,\"hoverinfo\":\"y+name\",\"line\":{\"color\":\"rgb(114,241,79)\",\"width\":10},\"mode\":\"lines\",\"name\":\"loading:truck13\",\"x\":[\"1970-01-01T00:42:00.113018\",\"1970-01-01T00:42:00.113018\",\"1970-01-01T00:42:50.113018\",\"1970-01-01T00:42:50.113018\",\"1970-01-01T00:42:50.113018\",\"1970-01-01T01:46:01.488555\",\"1970-01-01T01:46:01.488555\",\"1970-01-01T01:46:51.488555\",\"1970-01-01T01:46:51.488555\",\"1970-01-01T01:46:51.488555\"],\"y\":[\"truck13\",\"truck13\",\"truck13\",\"truck13\",null,\"truck13\",\"truck13\",\"truck13\",\"truck13\",null],\"type\":\"scatter\"},{\"connectgaps\":false,\"hoverinfo\":\"y+name\",\"line\":{\"color\":\"rgb(117,244,82)\",\"width\":10},\"mode\":\"lines\",\"name\":\"unloading:truck13\",\"x\":[\"1970-01-01T01:13:36.375536\",\"1970-01-01T01:13:36.375536\",\"1970-01-01T01:14:01.375536\",\"1970-01-01T01:14:01.375536\",\"1970-01-01T01:14:01.375536\",\"1970-01-01T02:17:37.751072\",\"1970-01-01T02:17:37.751072\",\"1970-01-01T02:18:02.751072\",\"1970-01-01T02:18:02.751072\",\"1970-01-01T02:18:02.751072\"],\"y\":[\"truck13\",\"truck13\",\"truck13\",\"truck13\",null,\"truck13\",\"truck13\",\"truck13\",\"truck13\",null],\"type\":\"scatter\"},{\"connectgaps\":false,\"hoverinfo\":\"y+name\",\"line\":{\"color\":\"rgb(120,247,85)\",\"width\":10},\"mode\":\"lines\",\"name\":\"loading:truck14\",\"x\":[\"1970-01-01T00:42:50.113018\",\"1970-01-01T00:42:50.113018\",\"1970-01-01T00:43:40.113018\",\"1970-01-01T00:43:40.113018\",\"1970-01-01T00:43:40.113018\",\"1970-01-01T01:46:51.488555\",\"1970-01-01T01:46:51.488555\",\"1970-01-01T01:47:41.488555\",\"1970-01-01T01:47:41.488555\",\"1970-01-01T01:47:41.488555\"],\"y\":[\"truck14\",\"truck14\",\"truck14\",\"truck14\",null,\"truck14\",\"truck14\",\"truck14\",\"truck14\",null],\"type\":\"scatter\"},{\"connectgaps\":false,\"hoverinfo\":\"y+name\",\"line\":{\"color\":\"rgb(123,250,88)\",\"width\":10},\"mode\":\"lines\",\"name\":\"driving_empty:truck14\",\"x\":[\"1970-01-01T00:00:00\",\"1970-01-01T00:00:00\",\"1970-01-01T00:32:00.113018\",\"1970-01-01T00:32:00.113018\",\"1970-01-01T00:32:00.113018\",\"1970-01-01T01:14:51.375536\",\"1970-01-01T01:14:51.375536\",\"1970-01-01T01:46:51.488555\",\"1970-01-01T01:46:51.488555\",\"1970-01-01T01:46:51.488555\"],\"y\":[\"truck14\",\"truck14\",\"truck14\",\"truck14\",null,\"truck14\",\"truck14\",\"truck14\",\"truck14\",null],\"type\":\"scatter\"},{\"connectgaps\":false,\"hoverinfo\":\"y+name\",\"line\":{\"color\":\"rgb(126,253,91)\",\"width\":10},\"mode\":\"lines\",\"name\":\"unloading:truck14\",\"x\":[\"1970-01-01T01:14:26.375536\",\"1970-01-01T01:14:26.375536\",\"1970-01-01T01:14:51.375536\",\"1970-01-01T01:14:51.375536\",\"1970-01-01T01:14:51.375536\",\"1970-01-01T02:18:27.751072\",\"1970-01-01T02:18:27.751072\",\"1970-01-01T02:18:52.751072\",\"1970-01-01T02:18:52.751072\",\"1970-01-01T02:18:52.751072\"],\"y\":[\"truck14\",\"truck14\",\"truck14\",\"truck14\",null,\"truck14\",\"truck14\",\"truck14\",\"truck14\",null],\"type\":\"scatter\"},{\"connectgaps\":false,\"hoverinfo\":\"y+name\",\"line\":{\"color\":\"rgb(129,0,94)\",\"width\":10},\"mode\":\"lines\",\"name\":\"driving_full:truck14\",\"x\":[\"1970-01-01T00:43:40.113018\",\"1970-01-01T00:43:40.113018\",\"1970-01-01T01:14:26.375536\",\"1970-01-01T01:14:26.375536\",\"1970-01-01T01:14:26.375536\",\"1970-01-01T01:47:41.488555\",\"1970-01-01T01:47:41.488555\",\"1970-01-01T02:18:27.751072\",\"1970-01-01T02:18:27.751072\",\"1970-01-01T02:18:27.751072\"],\"y\":[\"truck14\",\"truck14\",\"truck14\",\"truck14\",null,\"truck14\",\"truck14\",\"truck14\",\"truck14\",null],\"type\":\"scatter\"},{\"connectgaps\":false,\"hoverinfo\":\"y+name\",\"line\":{\"color\":\"rgb(132,3,97)\",\"width\":10},\"mode\":\"lines\",\"name\":\"unloading:truck15\",\"x\":[\"1970-01-01T01:15:16.375536\",\"1970-01-01T01:15:16.375536\",\"1970-01-01T01:15:41.375536\",\"1970-01-01T01:15:41.375536\",\"1970-01-01T01:15:41.375536\",\"1970-01-01T02:19:17.751072\",\"1970-01-01T02:19:17.751072\",\"1970-01-01T02:19:42.751072\",\"1970-01-01T02:19:42.751072\",\"1970-01-01T02:19:42.751072\"],\"y\":[\"truck15\",\"truck15\",\"truck15\",\"truck15\",null,\"truck15\",\"truck15\",\"truck15\",\"truck15\",null],\"type\":\"scatter\"},{\"connectgaps\":false,\"hoverinfo\":\"y+name\",\"line\":{\"color\":\"rgb(135,6,100)\",\"width\":10},\"mode\":\"lines\",\"name\":\"driving_full:truck15\",\"x\":[\"1970-01-01T00:44:30.113018\",\"1970-01-01T00:44:30.113018\",\"1970-01-01T01:15:16.375536\",\"1970-01-01T01:15:16.375536\",\"1970-01-01T01:15:16.375536\",\"1970-01-01T01:48:31.488555\",\"1970-01-01T01:48:31.488555\",\"1970-01-01T02:19:17.751072\",\"1970-01-01T02:19:17.751072\",\"1970-01-01T02:19:17.751072\"],\"y\":[\"truck15\",\"truck15\",\"truck15\",\"truck15\",null,\"truck15\",\"truck15\",\"truck15\",\"truck15\",null],\"type\":\"scatter\"},{\"connectgaps\":false,\"hoverinfo\":\"y+name\",\"line\":{\"color\":\"rgb(138,9,103)\",\"width\":10},\"mode\":\"lines\",\"name\":\"loading:truck15\",\"x\":[\"1970-01-01T00:43:40.113018\",\"1970-01-01T00:43:40.113018\",\"1970-01-01T00:44:30.113018\",\"1970-01-01T00:44:30.113018\",\"1970-01-01T00:44:30.113018\",\"1970-01-01T01:47:41.488555\",\"1970-01-01T01:47:41.488555\",\"1970-01-01T01:48:31.488555\",\"1970-01-01T01:48:31.488555\",\"1970-01-01T01:48:31.488555\"],\"y\":[\"truck15\",\"truck15\",\"truck15\",\"truck15\",null,\"truck15\",\"truck15\",\"truck15\",\"truck15\",null],\"type\":\"scatter\"},{\"connectgaps\":false,\"hoverinfo\":\"y+name\",\"line\":{\"color\":\"rgb(141,12,106)\",\"width\":10},\"mode\":\"lines\",\"name\":\"driving_empty:truck15\",\"x\":[\"1970-01-01T00:00:00\",\"1970-01-01T00:00:00\",\"1970-01-01T00:32:00.113018\",\"1970-01-01T00:32:00.113018\",\"1970-01-01T00:32:00.113018\",\"1970-01-01T01:15:41.375536\",\"1970-01-01T01:15:41.375536\",\"1970-01-01T01:47:41.488555\",\"1970-01-01T01:47:41.488555\",\"1970-01-01T01:47:41.488555\"],\"y\":[\"truck15\",\"truck15\",\"truck15\",\"truck15\",null,\"truck15\",\"truck15\",\"truck15\",\"truck15\",null],\"type\":\"scatter\"},{\"connectgaps\":false,\"hoverinfo\":\"y+name\",\"line\":{\"color\":\"rgb(144,15,109)\",\"width\":10},\"mode\":\"lines\",\"name\":\"driving_full:truck16\",\"x\":[\"1970-01-01T00:45:20.113018\",\"1970-01-01T00:45:20.113018\",\"1970-01-01T01:16:06.375536\",\"1970-01-01T01:16:06.375536\",\"1970-01-01T01:16:06.375536\",\"1970-01-01T01:49:21.488555\",\"1970-01-01T01:49:21.488555\",\"1970-01-01T02:20:07.751072\",\"1970-01-01T02:20:07.751072\",\"1970-01-01T02:20:07.751072\"],\"y\":[\"truck16\",\"truck16\",\"truck16\",\"truck16\",null,\"truck16\",\"truck16\",\"truck16\",\"truck16\",null],\"type\":\"scatter\"},{\"connectgaps\":false,\"hoverinfo\":\"y+name\",\"line\":{\"color\":\"rgb(147,18,112)\",\"width\":10},\"mode\":\"lines\",\"name\":\"driving_empty:truck16\",\"x\":[\"1970-01-01T00:00:00\",\"1970-01-01T00:00:00\",\"1970-01-01T00:32:00.113018\",\"1970-01-01T00:32:00.113018\",\"1970-01-01T00:32:00.113018\",\"1970-01-01T01:16:31.375536\",\"1970-01-01T01:16:31.375536\",\"1970-01-01T01:48:31.488555\",\"1970-01-01T01:48:31.488555\",\"1970-01-01T01:48:31.488555\"],\"y\":[\"truck16\",\"truck16\",\"truck16\",\"truck16\",null,\"truck16\",\"truck16\",\"truck16\",\"truck16\",null],\"type\":\"scatter\"},{\"connectgaps\":false,\"hoverinfo\":\"y+name\",\"line\":{\"color\":\"rgb(150,21,115)\",\"width\":10},\"mode\":\"lines\",\"name\":\"loading:truck16\",\"x\":[\"1970-01-01T00:44:30.113018\",\"1970-01-01T00:44:30.113018\",\"1970-01-01T00:45:20.113018\",\"1970-01-01T00:45:20.113018\",\"1970-01-01T00:45:20.113018\",\"1970-01-01T01:48:31.488555\",\"1970-01-01T01:48:31.488555\",\"1970-01-01T01:49:21.488555\",\"1970-01-01T01:49:21.488555\",\"1970-01-01T01:49:21.488555\"],\"y\":[\"truck16\",\"truck16\",\"truck16\",\"truck16\",null,\"truck16\",\"truck16\",\"truck16\",\"truck16\",null],\"type\":\"scatter\"},{\"connectgaps\":false,\"hoverinfo\":\"y+name\",\"line\":{\"color\":\"rgb(153,24,118)\",\"width\":10},\"mode\":\"lines\",\"name\":\"unloading:truck16\",\"x\":[\"1970-01-01T01:16:06.375536\",\"1970-01-01T01:16:06.375536\",\"1970-01-01T01:16:31.375536\",\"1970-01-01T01:16:31.375536\",\"1970-01-01T01:16:31.375536\",\"1970-01-01T02:20:07.751072\",\"1970-01-01T02:20:07.751072\",\"1970-01-01T02:20:32.751072\",\"1970-01-01T02:20:32.751072\",\"1970-01-01T02:20:32.751072\"],\"y\":[\"truck16\",\"truck16\",\"truck16\",\"truck16\",null,\"truck16\",\"truck16\",\"truck16\",\"truck16\",null],\"type\":\"scatter\"},{\"connectgaps\":false,\"hoverinfo\":\"y+name\",\"line\":{\"color\":\"rgb(156,27,121)\",\"width\":10},\"mode\":\"lines\",\"name\":\"loading:truck17\",\"x\":[\"1970-01-01T00:45:20.113018\",\"1970-01-01T00:45:20.113018\",\"1970-01-01T00:46:10.113018\",\"1970-01-01T00:46:10.113018\",\"1970-01-01T00:46:10.113018\",\"1970-01-01T01:49:21.488555\",\"1970-01-01T01:49:21.488555\",\"1970-01-01T01:50:11.488555\",\"1970-01-01T01:50:11.488555\",\"1970-01-01T01:50:11.488555\"],\"y\":[\"truck17\",\"truck17\",\"truck17\",\"truck17\",null,\"truck17\",\"truck17\",\"truck17\",\"truck17\",null],\"type\":\"scatter\"},{\"connectgaps\":false,\"hoverinfo\":\"y+name\",\"line\":{\"color\":\"rgb(159,30,124)\",\"width\":10},\"mode\":\"lines\",\"name\":\"driving_empty:truck17\",\"x\":[\"1970-01-01T00:00:00\",\"1970-01-01T00:00:00\",\"1970-01-01T00:32:00.113018\",\"1970-01-01T00:32:00.113018\",\"1970-01-01T00:32:00.113018\",\"1970-01-01T01:17:21.375536\",\"1970-01-01T01:17:21.375536\",\"1970-01-01T01:49:21.488555\",\"1970-01-01T01:49:21.488555\",\"1970-01-01T01:49:21.488555\"],\"y\":[\"truck17\",\"truck17\",\"truck17\",\"truck17\",null,\"truck17\",\"truck17\",\"truck17\",\"truck17\",null],\"type\":\"scatter\"},{\"connectgaps\":false,\"hoverinfo\":\"y+name\",\"line\":{\"color\":\"rgb(162,33,127)\",\"width\":10},\"mode\":\"lines\",\"name\":\"driving_full:truck17\",\"x\":[\"1970-01-01T00:46:10.113018\",\"1970-01-01T00:46:10.113018\",\"1970-01-01T01:16:56.375536\",\"1970-01-01T01:16:56.375536\",\"1970-01-01T01:16:56.375536\",\"1970-01-01T01:50:11.488555\",\"1970-01-01T01:50:11.488555\",\"1970-01-01T02:20:57.751072\",\"1970-01-01T02:20:57.751072\",\"1970-01-01T02:20:57.751072\"],\"y\":[\"truck17\",\"truck17\",\"truck17\",\"truck17\",null,\"truck17\",\"truck17\",\"truck17\",\"truck17\",null],\"type\":\"scatter\"},{\"connectgaps\":false,\"hoverinfo\":\"y+name\",\"line\":{\"color\":\"rgb(165,36,130)\",\"width\":10},\"mode\":\"lines\",\"name\":\"unloading:truck17\",\"x\":[\"1970-01-01T01:16:56.375536\",\"1970-01-01T01:16:56.375536\",\"1970-01-01T01:17:21.375536\",\"1970-01-01T01:17:21.375536\",\"1970-01-01T01:17:21.375536\",\"1970-01-01T02:20:57.751072\",\"1970-01-01T02:20:57.751072\",\"1970-01-01T02:21:22.751072\",\"1970-01-01T02:21:22.751072\",\"1970-01-01T02:21:22.751072\"],\"y\":[\"truck17\",\"truck17\",\"truck17\",\"truck17\",null,\"truck17\",\"truck17\",\"truck17\",\"truck17\",null],\"type\":\"scatter\"},{\"connectgaps\":false,\"hoverinfo\":\"y+name\",\"line\":{\"color\":\"rgb(168,39,133)\",\"width\":10},\"mode\":\"lines\",\"name\":\"unloading:truck18\",\"x\":[\"1970-01-01T01:17:46.375536\",\"1970-01-01T01:17:46.375536\",\"1970-01-01T01:18:11.375536\",\"1970-01-01T01:18:11.375536\",\"1970-01-01T01:18:11.375536\",\"1970-01-01T02:21:47.751072\",\"1970-01-01T02:21:47.751072\",\"1970-01-01T02:22:12.751072\",\"1970-01-01T02:22:12.751072\",\"1970-01-01T02:22:12.751072\"],\"y\":[\"truck18\",\"truck18\",\"truck18\",\"truck18\",null,\"truck18\",\"truck18\",\"truck18\",\"truck18\",null],\"type\":\"scatter\"},{\"connectgaps\":false,\"hoverinfo\":\"y+name\",\"line\":{\"color\":\"rgb(171,42,136)\",\"width\":10},\"mode\":\"lines\",\"name\":\"driving_full:truck18\",\"x\":[\"1970-01-01T00:47:00.113018\",\"1970-01-01T00:47:00.113018\",\"1970-01-01T01:17:46.375536\",\"1970-01-01T01:17:46.375536\",\"1970-01-01T01:17:46.375536\",\"1970-01-01T01:51:01.488555\",\"1970-01-01T01:51:01.488555\",\"1970-01-01T02:21:47.751072\",\"1970-01-01T02:21:47.751072\",\"1970-01-01T02:21:47.751072\"],\"y\":[\"truck18\",\"truck18\",\"truck18\",\"truck18\",null,\"truck18\",\"truck18\",\"truck18\",\"truck18\",null],\"type\":\"scatter\"},{\"connectgaps\":false,\"hoverinfo\":\"y+name\",\"line\":{\"color\":\"rgb(174,45,139)\",\"width\":10},\"mode\":\"lines\",\"name\":\"loading:truck18\",\"x\":[\"1970-01-01T00:46:10.113018\",\"1970-01-01T00:46:10.113018\",\"1970-01-01T00:47:00.113018\",\"1970-01-01T00:47:00.113018\",\"1970-01-01T00:47:00.113018\",\"1970-01-01T01:50:11.488555\",\"1970-01-01T01:50:11.488555\",\"1970-01-01T01:51:01.488555\",\"1970-01-01T01:51:01.488555\",\"1970-01-01T01:51:01.488555\"],\"y\":[\"truck18\",\"truck18\",\"truck18\",\"truck18\",null,\"truck18\",\"truck18\",\"truck18\",\"truck18\",null],\"type\":\"scatter\"},{\"connectgaps\":false,\"hoverinfo\":\"y+name\",\"line\":{\"color\":\"rgb(177,48,142)\",\"width\":10},\"mode\":\"lines\",\"name\":\"driving_empty:truck18\",\"x\":[\"1970-01-01T00:00:00\",\"1970-01-01T00:00:00\",\"1970-01-01T00:32:00.113018\",\"1970-01-01T00:32:00.113018\",\"1970-01-01T00:32:00.113018\",\"1970-01-01T01:18:11.375536\",\"1970-01-01T01:18:11.375536\",\"1970-01-01T01:50:11.488555\",\"1970-01-01T01:50:11.488555\",\"1970-01-01T01:50:11.488555\"],\"y\":[\"truck18\",\"truck18\",\"truck18\",\"truck18\",null,\"truck18\",\"truck18\",\"truck18\",\"truck18\",null],\"type\":\"scatter\"},{\"connectgaps\":false,\"hoverinfo\":\"y+name\",\"line\":{\"color\":\"rgb(180,51,145)\",\"width\":10},\"mode\":\"lines\",\"name\":\"driving_empty:truck19\",\"x\":[\"1970-01-01T00:00:00\",\"1970-01-01T00:00:00\",\"1970-01-01T00:32:00.113018\",\"1970-01-01T00:32:00.113018\",\"1970-01-01T00:32:00.113018\",\"1970-01-01T01:19:01.375536\",\"1970-01-01T01:19:01.375536\",\"1970-01-01T01:51:01.488555\",\"1970-01-01T01:51:01.488555\",\"1970-01-01T01:51:01.488555\"],\"y\":[\"truck19\",\"truck19\",\"truck19\",\"truck19\",null,\"truck19\",\"truck19\",\"truck19\",\"truck19\",null],\"type\":\"scatter\"},{\"connectgaps\":false,\"hoverinfo\":\"y+name\",\"line\":{\"color\":\"rgb(183,54,148)\",\"width\":10},\"mode\":\"lines\",\"name\":\"unloading:truck19\",\"x\":[\"1970-01-01T01:18:36.375536\",\"1970-01-01T01:18:36.375536\",\"1970-01-01T01:19:01.375536\",\"1970-01-01T01:19:01.375536\",\"1970-01-01T01:19:01.375536\",\"1970-01-01T02:22:37.751072\",\"1970-01-01T02:22:37.751072\",\"1970-01-01T02:23:02.751072\",\"1970-01-01T02:23:02.751072\",\"1970-01-01T02:23:02.751072\"],\"y\":[\"truck19\",\"truck19\",\"truck19\",\"truck19\",null,\"truck19\",\"truck19\",\"truck19\",\"truck19\",null],\"type\":\"scatter\"},{\"connectgaps\":false,\"hoverinfo\":\"y+name\",\"line\":{\"color\":\"rgb(186,57,151)\",\"width\":10},\"mode\":\"lines\",\"name\":\"driving_full:truck19\",\"x\":[\"1970-01-01T00:47:50.113018\",\"1970-01-01T00:47:50.113018\",\"1970-01-01T01:18:36.375536\",\"1970-01-01T01:18:36.375536\",\"1970-01-01T01:18:36.375536\",\"1970-01-01T01:51:51.488555\",\"1970-01-01T01:51:51.488555\",\"1970-01-01T02:22:37.751072\",\"1970-01-01T02:22:37.751072\",\"1970-01-01T02:22:37.751072\"],\"y\":[\"truck19\",\"truck19\",\"truck19\",\"truck19\",null,\"truck19\",\"truck19\",\"truck19\",\"truck19\",null],\"type\":\"scatter\"},{\"connectgaps\":false,\"hoverinfo\":\"y+name\",\"line\":{\"color\":\"rgb(189,60,154)\",\"width\":10},\"mode\":\"lines\",\"name\":\"loading:truck19\",\"x\":[\"1970-01-01T00:47:00.113018\",\"1970-01-01T00:47:00.113018\",\"1970-01-01T00:47:50.113018\",\"1970-01-01T00:47:50.113018\",\"1970-01-01T00:47:50.113018\",\"1970-01-01T01:51:01.488555\",\"1970-01-01T01:51:01.488555\",\"1970-01-01T01:51:51.488555\",\"1970-01-01T01:51:51.488555\",\"1970-01-01T01:51:51.488555\"],\"y\":[\"truck19\",\"truck19\",\"truck19\",\"truck19\",null,\"truck19\",\"truck19\",\"truck19\",\"truck19\",null],\"type\":\"scatter\"},{\"connectgaps\":false,\"hoverinfo\":\"y+name\",\"line\":{\"color\":\"rgb(192,63,157)\",\"width\":10},\"mode\":\"lines\",\"name\":\"driving_full:truck20\",\"x\":[\"1970-01-01T00:48:40.113018\",\"1970-01-01T00:48:40.113018\",\"1970-01-01T01:19:26.375536\",\"1970-01-01T01:19:26.375536\",\"1970-01-01T01:19:26.375536\",\"1970-01-01T01:52:41.488555\",\"1970-01-01T01:52:41.488555\",\"1970-01-01T02:23:27.751072\",\"1970-01-01T02:23:27.751072\",\"1970-01-01T02:23:27.751072\"],\"y\":[\"truck20\",\"truck20\",\"truck20\",\"truck20\",null,\"truck20\",\"truck20\",\"truck20\",\"truck20\",null],\"type\":\"scatter\"},{\"connectgaps\":false,\"hoverinfo\":\"y+name\",\"line\":{\"color\":\"rgb(195,66,160)\",\"width\":10},\"mode\":\"lines\",\"name\":\"unloading:truck20\",\"x\":[\"1970-01-01T01:19:26.375536\",\"1970-01-01T01:19:26.375536\",\"1970-01-01T01:19:51.375536\",\"1970-01-01T01:19:51.375536\",\"1970-01-01T01:19:51.375536\",\"1970-01-01T02:23:27.751072\",\"1970-01-01T02:23:27.751072\",\"1970-01-01T02:23:52.751072\",\"1970-01-01T02:23:52.751072\",\"1970-01-01T02:23:52.751072\"],\"y\":[\"truck20\",\"truck20\",\"truck20\",\"truck20\",null,\"truck20\",\"truck20\",\"truck20\",\"truck20\",null],\"type\":\"scatter\"},{\"connectgaps\":false,\"hoverinfo\":\"y+name\",\"line\":{\"color\":\"rgb(198,69,163)\",\"width\":10},\"mode\":\"lines\",\"name\":\"loading:truck20\",\"x\":[\"1970-01-01T00:47:50.113018\",\"1970-01-01T00:47:50.113018\",\"1970-01-01T00:48:40.113018\",\"1970-01-01T00:48:40.113018\",\"1970-01-01T00:48:40.113018\",\"1970-01-01T01:51:51.488555\",\"1970-01-01T01:51:51.488555\",\"1970-01-01T01:52:41.488555\",\"1970-01-01T01:52:41.488555\",\"1970-01-01T01:52:41.488555\"],\"y\":[\"truck20\",\"truck20\",\"truck20\",\"truck20\",null,\"truck20\",\"truck20\",\"truck20\",\"truck20\",null],\"type\":\"scatter\"},{\"connectgaps\":false,\"hoverinfo\":\"y+name\",\"line\":{\"color\":\"rgb(201,72,166)\",\"width\":10},\"mode\":\"lines\",\"name\":\"driving_empty:truck20\",\"x\":[\"1970-01-01T00:00:00\",\"1970-01-01T00:00:00\",\"1970-01-01T00:32:00.113018\",\"1970-01-01T00:32:00.113018\",\"1970-01-01T00:32:00.113018\",\"1970-01-01T01:19:51.375536\",\"1970-01-01T01:19:51.375536\",\"1970-01-01T01:51:51.488555\",\"1970-01-01T01:51:51.488555\",\"1970-01-01T01:51:51.488555\"],\"y\":[\"truck20\",\"truck20\",\"truck20\",\"truck20\",null,\"truck20\",\"truck20\",\"truck20\",\"truck20\",null],\"type\":\"scatter\"}],                        {\"hovermode\":\"closest\",\"legend\":{\"orientation\":\"h\",\"x\":0,\"y\":-0.2},\"template\":{\"data\":{\"barpolar\":[{\"marker\":{\"line\":{\"color\":\"#E5ECF6\",\"width\":0.5},\"pattern\":{\"fillmode\":\"overlay\",\"size\":10,\"solidity\":0.2}},\"type\":\"barpolar\"}],\"bar\":[{\"error_x\":{\"color\":\"#2a3f5f\"},\"error_y\":{\"color\":\"#2a3f5f\"},\"marker\":{\"line\":{\"color\":\"#E5ECF6\",\"width\":0.5},\"pattern\":{\"fillmode\":\"overlay\",\"size\":10,\"solidity\":0.2}},\"type\":\"bar\"}],\"carpet\":[{\"aaxis\":{\"endlinecolor\":\"#2a3f5f\",\"gridcolor\":\"white\",\"linecolor\":\"white\",\"minorgridcolor\":\"white\",\"startlinecolor\":\"#2a3f5f\"},\"baxis\":{\"endlinecolor\":\"#2a3f5f\",\"gridcolor\":\"white\",\"linecolor\":\"white\",\"minorgridcolor\":\"white\",\"startlinecolor\":\"#2a3f5f\"},\"type\":\"carpet\"}],\"choropleth\":[{\"colorbar\":{\"outlinewidth\":0,\"ticks\":\"\"},\"type\":\"choropleth\"}],\"contourcarpet\":[{\"colorbar\":{\"outlinewidth\":0,\"ticks\":\"\"},\"type\":\"contourcarpet\"}],\"contour\":[{\"colorbar\":{\"outlinewidth\":0,\"ticks\":\"\"},\"colorscale\":[[0.0,\"#0d0887\"],[0.1111111111111111,\"#46039f\"],[0.2222222222222222,\"#7201a8\"],[0.3333333333333333,\"#9c179e\"],[0.4444444444444444,\"#bd3786\"],[0.5555555555555556,\"#d8576b\"],[0.6666666666666666,\"#ed7953\"],[0.7777777777777778,\"#fb9f3a\"],[0.8888888888888888,\"#fdca26\"],[1.0,\"#f0f921\"]],\"type\":\"contour\"}],\"heatmapgl\":[{\"colorbar\":{\"outlinewidth\":0,\"ticks\":\"\"},\"colorscale\":[[0.0,\"#0d0887\"],[0.1111111111111111,\"#46039f\"],[0.2222222222222222,\"#7201a8\"],[0.3333333333333333,\"#9c179e\"],[0.4444444444444444,\"#bd3786\"],[0.5555555555555556,\"#d8576b\"],[0.6666666666666666,\"#ed7953\"],[0.7777777777777778,\"#fb9f3a\"],[0.8888888888888888,\"#fdca26\"],[1.0,\"#f0f921\"]],\"type\":\"heatmapgl\"}],\"heatmap\":[{\"colorbar\":{\"outlinewidth\":0,\"ticks\":\"\"},\"colorscale\":[[0.0,\"#0d0887\"],[0.1111111111111111,\"#46039f\"],[0.2222222222222222,\"#7201a8\"],[0.3333333333333333,\"#9c179e\"],[0.4444444444444444,\"#bd3786\"],[0.5555555555555556,\"#d8576b\"],[0.6666666666666666,\"#ed7953\"],[0.7777777777777778,\"#fb9f3a\"],[0.8888888888888888,\"#fdca26\"],[1.0,\"#f0f921\"]],\"type\":\"heatmap\"}],\"histogram2dcontour\":[{\"colorbar\":{\"outlinewidth\":0,\"ticks\":\"\"},\"colorscale\":[[0.0,\"#0d0887\"],[0.1111111111111111,\"#46039f\"],[0.2222222222222222,\"#7201a8\"],[0.3333333333333333,\"#9c179e\"],[0.4444444444444444,\"#bd3786\"],[0.5555555555555556,\"#d8576b\"],[0.6666666666666666,\"#ed7953\"],[0.7777777777777778,\"#fb9f3a\"],[0.8888888888888888,\"#fdca26\"],[1.0,\"#f0f921\"]],\"type\":\"histogram2dcontour\"}],\"histogram2d\":[{\"colorbar\":{\"outlinewidth\":0,\"ticks\":\"\"},\"colorscale\":[[0.0,\"#0d0887\"],[0.1111111111111111,\"#46039f\"],[0.2222222222222222,\"#7201a8\"],[0.3333333333333333,\"#9c179e\"],[0.4444444444444444,\"#bd3786\"],[0.5555555555555556,\"#d8576b\"],[0.6666666666666666,\"#ed7953\"],[0.7777777777777778,\"#fb9f3a\"],[0.8888888888888888,\"#fdca26\"],[1.0,\"#f0f921\"]],\"type\":\"histogram2d\"}],\"histogram\":[{\"marker\":{\"pattern\":{\"fillmode\":\"overlay\",\"size\":10,\"solidity\":0.2}},\"type\":\"histogram\"}],\"mesh3d\":[{\"colorbar\":{\"outlinewidth\":0,\"ticks\":\"\"},\"type\":\"mesh3d\"}],\"parcoords\":[{\"line\":{\"colorbar\":{\"outlinewidth\":0,\"ticks\":\"\"}},\"type\":\"parcoords\"}],\"pie\":[{\"automargin\":true,\"type\":\"pie\"}],\"scatter3d\":[{\"line\":{\"colorbar\":{\"outlinewidth\":0,\"ticks\":\"\"}},\"marker\":{\"colorbar\":{\"outlinewidth\":0,\"ticks\":\"\"}},\"type\":\"scatter3d\"}],\"scattercarpet\":[{\"marker\":{\"colorbar\":{\"outlinewidth\":0,\"ticks\":\"\"}},\"type\":\"scattercarpet\"}],\"scattergeo\":[{\"marker\":{\"colorbar\":{\"outlinewidth\":0,\"ticks\":\"\"}},\"type\":\"scattergeo\"}],\"scattergl\":[{\"marker\":{\"colorbar\":{\"outlinewidth\":0,\"ticks\":\"\"}},\"type\":\"scattergl\"}],\"scattermapbox\":[{\"marker\":{\"colorbar\":{\"outlinewidth\":0,\"ticks\":\"\"}},\"type\":\"scattermapbox\"}],\"scatterpolargl\":[{\"marker\":{\"colorbar\":{\"outlinewidth\":0,\"ticks\":\"\"}},\"type\":\"scatterpolargl\"}],\"scatterpolar\":[{\"marker\":{\"colorbar\":{\"outlinewidth\":0,\"ticks\":\"\"}},\"type\":\"scatterpolar\"}],\"scatter\":[{\"fillpattern\":{\"fillmode\":\"overlay\",\"size\":10,\"solidity\":0.2},\"type\":\"scatter\"}],\"scatterternary\":[{\"marker\":{\"colorbar\":{\"outlinewidth\":0,\"ticks\":\"\"}},\"type\":\"scatterternary\"}],\"surface\":[{\"colorbar\":{\"outlinewidth\":0,\"ticks\":\"\"},\"colorscale\":[[0.0,\"#0d0887\"],[0.1111111111111111,\"#46039f\"],[0.2222222222222222,\"#7201a8\"],[0.3333333333333333,\"#9c179e\"],[0.4444444444444444,\"#bd3786\"],[0.5555555555555556,\"#d8576b\"],[0.6666666666666666,\"#ed7953\"],[0.7777777777777778,\"#fb9f3a\"],[0.8888888888888888,\"#fdca26\"],[1.0,\"#f0f921\"]],\"type\":\"surface\"}],\"table\":[{\"cells\":{\"fill\":{\"color\":\"#EBF0F8\"},\"line\":{\"color\":\"white\"}},\"header\":{\"fill\":{\"color\":\"#C8D4E3\"},\"line\":{\"color\":\"white\"}},\"type\":\"table\"}]},\"layout\":{\"annotationdefaults\":{\"arrowcolor\":\"#2a3f5f\",\"arrowhead\":0,\"arrowwidth\":1},\"autotypenumbers\":\"strict\",\"coloraxis\":{\"colorbar\":{\"outlinewidth\":0,\"ticks\":\"\"}},\"colorscale\":{\"diverging\":[[0,\"#8e0152\"],[0.1,\"#c51b7d\"],[0.2,\"#de77ae\"],[0.3,\"#f1b6da\"],[0.4,\"#fde0ef\"],[0.5,\"#f7f7f7\"],[0.6,\"#e6f5d0\"],[0.7,\"#b8e186\"],[0.8,\"#7fbc41\"],[0.9,\"#4d9221\"],[1,\"#276419\"]],\"sequential\":[[0.0,\"#0d0887\"],[0.1111111111111111,\"#46039f\"],[0.2222222222222222,\"#7201a8\"],[0.3333333333333333,\"#9c179e\"],[0.4444444444444444,\"#bd3786\"],[0.5555555555555556,\"#d8576b\"],[0.6666666666666666,\"#ed7953\"],[0.7777777777777778,\"#fb9f3a\"],[0.8888888888888888,\"#fdca26\"],[1.0,\"#f0f921\"]],\"sequentialminus\":[[0.0,\"#0d0887\"],[0.1111111111111111,\"#46039f\"],[0.2222222222222222,\"#7201a8\"],[0.3333333333333333,\"#9c179e\"],[0.4444444444444444,\"#bd3786\"],[0.5555555555555556,\"#d8576b\"],[0.6666666666666666,\"#ed7953\"],[0.7777777777777778,\"#fb9f3a\"],[0.8888888888888888,\"#fdca26\"],[1.0,\"#f0f921\"]]},\"colorway\":[\"#636efa\",\"#EF553B\",\"#00cc96\",\"#ab63fa\",\"#FFA15A\",\"#19d3f3\",\"#FF6692\",\"#B6E880\",\"#FF97FF\",\"#FECB52\"],\"font\":{\"color\":\"#2a3f5f\"},\"geo\":{\"bgcolor\":\"white\",\"lakecolor\":\"white\",\"landcolor\":\"#E5ECF6\",\"showlakes\":true,\"showland\":true,\"subunitcolor\":\"white\"},\"hoverlabel\":{\"align\":\"left\"},\"hovermode\":\"closest\",\"mapbox\":{\"style\":\"light\"},\"paper_bgcolor\":\"white\",\"plot_bgcolor\":\"#E5ECF6\",\"polar\":{\"angularaxis\":{\"gridcolor\":\"white\",\"linecolor\":\"white\",\"ticks\":\"\"},\"bgcolor\":\"#E5ECF6\",\"radialaxis\":{\"gridcolor\":\"white\",\"linecolor\":\"white\",\"ticks\":\"\"}},\"scene\":{\"xaxis\":{\"backgroundcolor\":\"#E5ECF6\",\"gridcolor\":\"white\",\"gridwidth\":2,\"linecolor\":\"white\",\"showbackground\":true,\"ticks\":\"\",\"zerolinecolor\":\"white\"},\"yaxis\":{\"backgroundcolor\":\"#E5ECF6\",\"gridcolor\":\"white\",\"gridwidth\":2,\"linecolor\":\"white\",\"showbackground\":true,\"ticks\":\"\",\"zerolinecolor\":\"white\"},\"zaxis\":{\"backgroundcolor\":\"#E5ECF6\",\"gridcolor\":\"white\",\"gridwidth\":2,\"linecolor\":\"white\",\"showbackground\":true,\"ticks\":\"\",\"zerolinecolor\":\"white\"}},\"shapedefaults\":{\"line\":{\"color\":\"#2a3f5f\"}},\"ternary\":{\"aaxis\":{\"gridcolor\":\"white\",\"linecolor\":\"white\",\"ticks\":\"\"},\"baxis\":{\"gridcolor\":\"white\",\"linecolor\":\"white\",\"ticks\":\"\"},\"bgcolor\":\"#E5ECF6\",\"caxis\":{\"gridcolor\":\"white\",\"linecolor\":\"white\",\"ticks\":\"\"}},\"title\":{\"x\":0.05},\"xaxis\":{\"automargin\":true,\"gridcolor\":\"white\",\"linecolor\":\"white\",\"ticks\":\"\",\"title\":{\"standoff\":15},\"zerolinecolor\":\"white\",\"zerolinewidth\":2},\"yaxis\":{\"automargin\":true,\"gridcolor\":\"white\",\"linecolor\":\"white\",\"ticks\":\"\",\"title\":{\"standoff\":15},\"zerolinecolor\":\"white\",\"zerolinewidth\":2}}},\"title\":{\"text\":\"GANTT Chart\"},\"xaxis\":{\"range\":[\"1970-01-01T00:00:00\",\"1970-01-01T03:19:34.126609\"],\"title\":{\"font\":{\"color\":\"#7f7f7f\",\"family\":\"Courier New, monospace\",\"size\":18},\"text\":\"Time\"}},\"yaxis\":{\"title\":{\"font\":{\"color\":\"#7f7f7f\",\"family\":\"Courier New, monospace\",\"size\":18},\"text\":\"Activities\"}}},                        {\"responsive\": true}                    ).then(function(){\n",
       "                            \n",
       "var gd = document.getElementById('e0598e94-bae1-4f5f-bde4-2af43488007c');\n",
       "var x = new MutationObserver(function (mutations, observer) {{\n",
       "        var display = window.getComputedStyle(gd).display;\n",
       "        if (!display || display === 'none') {{\n",
       "            console.log([gd, 'removed!']);\n",
       "            Plotly.purge(gd);\n",
       "            observer.disconnect();\n",
       "        }}\n",
       "}});\n",
       "\n",
       "// Listen for the removal of the full notebook cells\n",
       "var notebookContainer = gd.closest('#notebook-container');\n",
       "if (notebookContainer) {{\n",
       "    x.observe(notebookContainer, {childList: true});\n",
       "}}\n",
       "\n",
       "// Listen for the clearing of the current output cell\n",
       "var outputEl = gd.closest('.output');\n",
       "if (outputEl) {{\n",
       "    x.observe(outputEl, {childList: true});\n",
       "}}\n",
       "\n",
       "                        })                };                });            </script>        </div>"
      ]
     },
     "metadata": {},
     "output_type": "display_data"
    },
    {
     "data": {
      "image/png": "[encoded data removed]",
      "text/plain": [
       "<Figure size 1400x700 with 1 Axes>"
      ]
     },
     "metadata": {},
     "output_type": "display_data"
    }
   ],
   "source": [
    "# Plotting\n",
    "fig_gantt = plot.get_gantt_chart([*trucks.values()], id_map=[*activities_d_truck.values()])\n",
    "fig_step = plot.get_step_chart([source01, dump01])\n"
   ]
  },
  {
   "cell_type": "code",
   "execution_count": 16,
   "id": "ccd998ff-d253-4d82-88a3-02f3d425c199",
   "metadata": {},
   "outputs": [],
   "source": [
    "# Create an empty dictionary to store truck dataframes\n",
    "truck_dfs = {}\n",
    "\n",
    "# Iterate over the range from 1 to total_trucks\n",
    "for i in range(1, total_trucks + 1):\n",
    "    # Dynamically access truck object using trucks dictionary\n",
    "    truck_obj = trucks[f\"truck{i}\"]\n",
    "    \n",
    "    # Create DataFrame for truck logbook and store it in the dictionary\n",
    "    truck_dfs[f\"truck{i}_df\"] = pd.DataFrame(truck_obj.logbook)\n",
    "\n",
    "\n"
   ]
  },
  {
   "cell_type": "code",
   "execution_count": 19,
   "id": "dfae0bcc-d0b6-49e7-851a-5344b691b9e9",
   "metadata": {},
   "outputs": [
    {
     "name": "stdout",
     "output_type": "stream",
     "text": [
      "                    Timestamp                            ActivityID  \\\n",
      "0  1970-01-01 00:00:00.000000  ab5b08bd-4e6e-4f4d-8cd6-d051767a1dc1   \n",
      "1  1970-01-01 00:32:00.113018  ab5b08bd-4e6e-4f4d-8cd6-d051767a1dc1   \n",
      "2  1970-01-01 00:32:50.113018  aa3b1b82-082d-4efb-9545-4afa2d35643f   \n",
      "3  1970-01-01 00:33:40.113018  aa3b1b82-082d-4efb-9545-4afa2d35643f   \n",
      "4  1970-01-01 00:33:40.113018  b8ae235e-adac-48cc-a2ae-8b9c98eec7c6   \n",
      "5  1970-01-01 01:04:26.375536  b8ae235e-adac-48cc-a2ae-8b9c98eec7c6   \n",
      "6  1970-01-01 01:04:26.375536  7efe9eaa-c93a-494b-be8b-586dc9945f00   \n",
      "7  1970-01-01 01:04:51.375536  7efe9eaa-c93a-494b-be8b-586dc9945f00   \n",
      "8  1970-01-01 01:04:51.375536  ab5b08bd-4e6e-4f4d-8cd6-d051767a1dc1   \n",
      "9  1970-01-01 01:36:51.488555  ab5b08bd-4e6e-4f4d-8cd6-d051767a1dc1   \n",
      "10 1970-01-01 01:36:51.488555  aa3b1b82-082d-4efb-9545-4afa2d35643f   \n",
      "11 1970-01-01 01:37:41.488555  aa3b1b82-082d-4efb-9545-4afa2d35643f   \n",
      "12 1970-01-01 01:37:41.488555  b8ae235e-adac-48cc-a2ae-8b9c98eec7c6   \n",
      "13 1970-01-01 02:08:27.751072  b8ae235e-adac-48cc-a2ae-8b9c98eec7c6   \n",
      "14 1970-01-01 02:08:27.751072  7efe9eaa-c93a-494b-be8b-586dc9945f00   \n",
      "15 1970-01-01 02:08:52.751072  7efe9eaa-c93a-494b-be8b-586dc9945f00   \n",
      "16 1970-01-01 02:08:52.751072  ab5b08bd-4e6e-4f4d-8cd6-d051767a1dc1   \n",
      "17 1970-01-01 02:40:52.864091  ab5b08bd-4e6e-4f4d-8cd6-d051767a1dc1   \n",
      "18 1970-01-01 02:40:52.864091  aa3b1b82-082d-4efb-9545-4afa2d35643f   \n",
      "19 1970-01-01 02:41:42.864091  aa3b1b82-082d-4efb-9545-4afa2d35643f   \n",
      "20 1970-01-01 02:41:42.864091  b8ae235e-adac-48cc-a2ae-8b9c98eec7c6   \n",
      "21 1970-01-01 03:12:29.126609  b8ae235e-adac-48cc-a2ae-8b9c98eec7c6   \n",
      "22 1970-01-01 03:12:29.126609  7efe9eaa-c93a-494b-be8b-586dc9945f00   \n",
      "23 1970-01-01 03:12:54.126609  7efe9eaa-c93a-494b-be8b-586dc9945f00   \n",
      "24 1970-01-01 03:12:54.126609  ab5b08bd-4e6e-4f4d-8cd6-d051767a1dc1   \n",
      "25 1970-01-01 03:44:54.239627  ab5b08bd-4e6e-4f4d-8cd6-d051767a1dc1   \n",
      "26 1970-01-01 03:44:54.239627  aa3b1b82-082d-4efb-9545-4afa2d35643f   \n",
      "27 1970-01-01 03:45:44.239627  aa3b1b82-082d-4efb-9545-4afa2d35643f   \n",
      "28 1970-01-01 03:45:44.239627  b8ae235e-adac-48cc-a2ae-8b9c98eec7c6   \n",
      "29 1970-01-01 04:16:30.502145  b8ae235e-adac-48cc-a2ae-8b9c98eec7c6   \n",
      "30 1970-01-01 04:16:30.502145  7efe9eaa-c93a-494b-be8b-586dc9945f00   \n",
      "31 1970-01-01 04:16:55.502145  7efe9eaa-c93a-494b-be8b-586dc9945f00   \n",
      "32 1970-01-01 04:16:55.502145  ab5b08bd-4e6e-4f4d-8cd6-d051767a1dc1   \n",
      "33 1970-01-01 04:48:55.615163  ab5b08bd-4e6e-4f4d-8cd6-d051767a1dc1   \n",
      "34 1970-01-01 04:48:55.615163  aa3b1b82-082d-4efb-9545-4afa2d35643f   \n",
      "35 1970-01-01 04:49:45.615163  aa3b1b82-082d-4efb-9545-4afa2d35643f   \n",
      "36 1970-01-01 04:49:45.615163  b8ae235e-adac-48cc-a2ae-8b9c98eec7c6   \n",
      "37 1970-01-01 05:20:31.877681  b8ae235e-adac-48cc-a2ae-8b9c98eec7c6   \n",
      "38 1970-01-01 05:20:31.877681  7efe9eaa-c93a-494b-be8b-586dc9945f00   \n",
      "39 1970-01-01 05:20:56.877681  7efe9eaa-c93a-494b-be8b-586dc9945f00   \n",
      "40 1970-01-01 05:20:56.877681  ab5b08bd-4e6e-4f4d-8cd6-d051767a1dc1   \n",
      "41 1970-01-01 05:52:56.990699  ab5b08bd-4e6e-4f4d-8cd6-d051767a1dc1   \n",
      "42 1970-01-01 05:52:56.990699  aa3b1b82-082d-4efb-9545-4afa2d35643f   \n",
      "43 1970-01-01 05:53:46.990699  aa3b1b82-082d-4efb-9545-4afa2d35643f   \n",
      "44 1970-01-01 05:53:46.990699  b8ae235e-adac-48cc-a2ae-8b9c98eec7c6   \n",
      "45 1970-01-01 06:24:33.253217  b8ae235e-adac-48cc-a2ae-8b9c98eec7c6   \n",
      "46 1970-01-01 06:24:33.253217  7efe9eaa-c93a-494b-be8b-586dc9945f00   \n",
      "47 1970-01-01 06:24:58.253217  7efe9eaa-c93a-494b-be8b-586dc9945f00   \n",
      "\n",
      "   ActivityState                                        ObjectState  \\\n",
      "0          START  {'container level': 0.0, 'geometry': POINT (4....   \n",
      "1           STOP  {'container level': 0.0, 'geometry': POINT (4....   \n",
      "2          START  {'container level': 0.0, 'geometry': POINT (4....   \n",
      "3           STOP  {'container level': 20.0, 'geometry': POINT (4...   \n",
      "4          START  {'container level': 20.0, 'geometry': POINT (4...   \n",
      "5           STOP  {'container level': 20.0, 'geometry': POINT (4...   \n",
      "6          START  {'container level': 20.0, 'geometry': POINT (4...   \n",
      "7           STOP  {'container level': 0.0, 'geometry': POINT (4....   \n",
      "8          START  {'container level': 0.0, 'geometry': POINT (4....   \n",
      "9           STOP  {'container level': 0.0, 'geometry': POINT (4....   \n",
      "10         START  {'container level': 0.0, 'geometry': POINT (4....   \n",
      "11          STOP  {'container level': 20.0, 'geometry': POINT (4...   \n",
      "12         START  {'container level': 20.0, 'geometry': POINT (4...   \n",
      "13          STOP  {'container level': 20.0, 'geometry': POINT (4...   \n",
      "14         START  {'container level': 20.0, 'geometry': POINT (4...   \n",
      "15          STOP  {'container level': 0.0, 'geometry': POINT (4....   \n",
      "16         START  {'container level': 0.0, 'geometry': POINT (4....   \n",
      "17          STOP  {'container level': 0.0, 'geometry': POINT (4....   \n",
      "18         START  {'container level': 0.0, 'geometry': POINT (4....   \n",
      "19          STOP  {'container level': 20.0, 'geometry': POINT (4...   \n",
      "20         START  {'container level': 20.0, 'geometry': POINT (4...   \n",
      "21          STOP  {'container level': 20.0, 'geometry': POINT (4...   \n",
      "22         START  {'container level': 20.0, 'geometry': POINT (4...   \n",
      "23          STOP  {'container level': 0.0, 'geometry': POINT (4....   \n",
      "24         START  {'container level': 0.0, 'geometry': POINT (4....   \n",
      "25          STOP  {'container level': 0.0, 'geometry': POINT (4....   \n",
      "26         START  {'container level': 0.0, 'geometry': POINT (4....   \n",
      "27          STOP  {'container level': 20.0, 'geometry': POINT (4...   \n",
      "28         START  {'container level': 20.0, 'geometry': POINT (4...   \n",
      "29          STOP  {'container level': 20.0, 'geometry': POINT (4...   \n",
      "30         START  {'container level': 20.0, 'geometry': POINT (4...   \n",
      "31          STOP  {'container level': 0.0, 'geometry': POINT (4....   \n",
      "32         START  {'container level': 0.0, 'geometry': POINT (4....   \n",
      "33          STOP  {'container level': 0.0, 'geometry': POINT (4....   \n",
      "34         START  {'container level': 0.0, 'geometry': POINT (4....   \n",
      "35          STOP  {'container level': 20.0, 'geometry': POINT (4...   \n",
      "36         START  {'container level': 20.0, 'geometry': POINT (4...   \n",
      "37          STOP  {'container level': 20.0, 'geometry': POINT (4...   \n",
      "38         START  {'container level': 20.0, 'geometry': POINT (4...   \n",
      "39          STOP  {'container level': 0.0, 'geometry': POINT (4....   \n",
      "40         START  {'container level': 0.0, 'geometry': POINT (4....   \n",
      "41          STOP  {'container level': 0.0, 'geometry': POINT (4....   \n",
      "42         START  {'container level': 0.0, 'geometry': POINT (4....   \n",
      "43          STOP  {'container level': 20.0, 'geometry': POINT (4...   \n",
      "44         START  {'container level': 20.0, 'geometry': POINT (4...   \n",
      "45          STOP  {'container level': 20.0, 'geometry': POINT (4...   \n",
      "46         START  {'container level': 20.0, 'geometry': POINT (4...   \n",
      "47          STOP  {'container level': 0.0, 'geometry': POINT (4....   \n",
      "\n",
      "   ActivityLabel  \n",
      "0             {}  \n",
      "1             {}  \n",
      "2             {}  \n",
      "3             {}  \n",
      "4             {}  \n",
      "5             {}  \n",
      "6             {}  \n",
      "7             {}  \n",
      "8             {}  \n",
      "9             {}  \n",
      "10            {}  \n",
      "11            {}  \n",
      "12            {}  \n",
      "13            {}  \n",
      "14            {}  \n",
      "15            {}  \n",
      "16            {}  \n",
      "17            {}  \n",
      "18            {}  \n",
      "19            {}  \n",
      "20            {}  \n",
      "21            {}  \n",
      "22            {}  \n",
      "23            {}  \n",
      "24            {}  \n",
      "25            {}  \n",
      "26            {}  \n",
      "27            {}  \n",
      "28            {}  \n",
      "29            {}  \n",
      "30            {}  \n",
      "31            {}  \n",
      "32            {}  \n",
      "33            {}  \n",
      "34            {}  \n",
      "35            {}  \n",
      "36            {}  \n",
      "37            {}  \n",
      "38            {}  \n",
      "39            {}  \n",
      "40            {}  \n",
      "41            {}  \n",
      "42            {}  \n",
      "43            {}  \n",
      "44            {}  \n",
      "45            {}  \n",
      "46            {}  \n",
      "47            {}  \n"
     ]
    }
   ],
   "source": [
    "print(truck_dfs[\"truck2_df\"])\n"
   ]
  },
  {
   "cell_type": "code",
   "execution_count": null,
   "id": "c6a44195-b7e1-4103-aeaf-084eba0fcb76",
   "metadata": {},
   "outputs": [],
   "source": [
    "truck1 = trucks['truck1']\n",
    "pd.DataFrame(truck1.logbook)"
   ]
  }
 ],
 "metadata": {
  "kernelspec": {
   "display_name": "Python 3 (ipykernel)",
   "language": "python",
   "name": "python3"
  },
  "language_info": {
   "codemirror_mode": {
    "name": "ipython",
    "version": 3
   },
   "file_extension": ".py",
   "mimetype": "text/x-python",
   "name": "python",
   "nbconvert_exporter": "python",
   "pygments_lexer": "ipython3",
   "version": "3.9.16"
  }
 },
 "nbformat": 4,
 "nbformat_minor": 5
}
