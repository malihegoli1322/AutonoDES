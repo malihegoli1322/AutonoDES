{
 "cells": [
  {
   "cell_type": "markdown",
   "id": "24df7327-cf29-4449-ba60-60e59dd7081e",
   "metadata": {
    "tags": []
   },
   "source": [
    "# Hauling Opeartion Simulation\n",
    "This Notebook models and simulates the hauling operation using the OpenCLSim package, incorporating:\n",
    "\n",
    "- Hauling Cycle: Drive empty-load-drive full-unload\n",
    "- Queuing at source and destination\n",
    "- One type of material (Waste) \n",
    "- Importing the number of trucks, truck-shovel allocations, and hauling scenarios from designated files"
   ]
  },
  {
   "cell_type": "code",
   "execution_count": 52,
   "id": "04d02c6d-17c8-4bfe-b6e6-d25a874ba78c",
   "metadata": {
    "tags": []
   },
   "outputs": [],
   "source": [
    "import networkx as nx  \n",
    "import shapely.geometry\n",
    "import pyproj\n",
    "\n",
    "\n",
    "import datetime as dt\n",
    "import time\n",
    "import simpy\n",
    "import openclsim.core as core\n",
    "import openclsim.model as model\n",
    "import openclsim.plot as plot\n",
    "import opentnsim\n",
    "\n",
    "import pandas as pd\n",
    "import numpy as np\n",
    "\n",
    "import matplotlib.pyplot as plt\n",
    "import folium\n",
    "import logging"
   ]
  },
  {
   "cell_type": "code",
   "execution_count": 81,
   "id": "f9f375bf-794f-46db-87c1-443e3677a892",
   "metadata": {},
   "outputs": [],
   "source": [
    "def run(total_waste):\n",
    "    # Read the CSV file\n",
    "    file_path = 'HaulageOperation_TruckDetails.csv'\n",
    "    df = pd.read_csv(file_path)\n",
    "\n",
    "    # Create an empty list to store information about each truck\n",
    "    truck_list = []\n",
    "\n",
    "    # Initialize a counter for overall truck numbering\n",
    "    overall_truck_counter = 1\n",
    "\n",
    "    # Iterate through rows and repeat based on the number of trucks\n",
    "    for index, row in df.iterrows():\n",
    "        # Convert 'Number of trucks' to integer\n",
    "        num_trucks = int(row['Number of Trucks'])\n",
    "\n",
    "        for truck_num in range(num_trucks):\n",
    "            # Create a dictionary for each truck\n",
    "            truck_info = {\n",
    "                'ID': row['ID'],\n",
    "                'Name of the trucks': f'truck{overall_truck_counter}',\n",
    "                'Type': row['Type'],\n",
    "                'Payload (Ton)': row['Payload (Ton)'],\n",
    "                'Minimum Speed (Mile/Hour)': row['Minimum Speed (Mile/Hour)'],\n",
    "                'Maximum Speed (Mile/Hour)': row['Maximum Speed (Mile/Hour)'],\n",
    "                'Unloading Time (Minute)': row['Unloading Time (Minute)'],\n",
    "                'Param 1': row['Param 1'],\n",
    "                'Param 2': row['Param 2']\n",
    "            }\n",
    "            # Increment the overall truck counter\n",
    "            overall_truck_counter += 1\n",
    "\n",
    "            # Append the truck information to the list\n",
    "            truck_list.append(truck_info)\n",
    "\n",
    "    # Create a new data frame from the list\n",
    "    df_result = pd.DataFrame(truck_list)\n",
    "\n",
    "    # Calculate the total number of trucks as an integer\n",
    "    # total_trucks = int(df['Number of Trucks'].sum())\n",
    "    total_trucks = 2\n",
    "    # create a Site object based on desired mixin classes\n",
    "    Site = type('Site',\n",
    "                (core.Identifiable,\n",
    "                 core.Log,\n",
    "                 core.Locatable,\n",
    "                 core.HasContainer,\n",
    "                 core.HasResource,), {})\n",
    "\n",
    "    # create a TransportProcessingResource object based on desired mixin classes\n",
    "    TransportProcessingResource = type(\n",
    "        \"TransportProcessingResource\",\n",
    "        (\n",
    "         core.ContainerDependentMovable,\n",
    "         core.Processor,\n",
    "         core.HasResource,\n",
    "         core.LoadingFunction,\n",
    "         core.UnloadingFunction,\n",
    "         core.Identifiable,\n",
    "         core.Log,\n",
    "        ),\n",
    "        {},\n",
    "    )\n",
    "    \n",
    "    simulation_start = 0\n",
    "    my_env = simpy.Environment(initial_time=simulation_start)\n",
    "    registry = {}\n",
    "\n",
    "    # prepare input data for source\n",
    "    location_source01 = shapely.geometry.Point(4.062705498083785, 51.95909715255291)\n",
    "    data_source01 = {\"env\": my_env,\n",
    "                     \"name\": \"source01\",\n",
    "                     \"geometry\": location_source01,\n",
    "                     \"capacity\": total_waste,\n",
    "                     \"level\": total_waste\n",
    "                   # \"nr_resources\": 1\n",
    "                    }\n",
    "    source01 = Site(**data_source01)\n",
    "    \n",
    "    # prepare input data for dump\n",
    "    location_dump01 = shapely.geometry.Point(4.1795229742823, 52.11590591837503)\n",
    "    data_dump01 = {\"env\": my_env,\n",
    "                   \"name\": \"dump01\",\n",
    "                   \"geometry\": location_dump01,\n",
    "                   \"capacity\": total_waste,\n",
    "                   \"level\": 0\n",
    "                  }\n",
    "    dump01 = Site(**data_dump01)\n",
    "\n",
    "    # create truck objects\n",
    "    trucks = {}\n",
    "\n",
    "    for i in range(1, total_trucks + 1):\n",
    "        # Extract information from the truck list\n",
    "        truck_info = df_result[df_result['Name of the trucks'] == f'truck{i}'].iloc[0]\n",
    "\n",
    "        # Extract unloading time distribution parameters\n",
    "        mean_unloading_time = truck_info['Param 1']\n",
    "        std_dev_unloading_time = truck_info['Param 2']\n",
    "        # Generate random unloading time from the specified distribution\n",
    "        unloading_rate = np.random.normal(loc=mean_unloading_time, scale=std_dev_unloading_time)\n",
    "\n",
    "        # Create an instance of TransportProcessingResource\n",
    "        trucks[f\"truck{i}\"] = TransportProcessingResource(\n",
    "            env=my_env,\n",
    "            name=f\"truck{i}\",\n",
    "            geometry=location_dump01,\n",
    "            # level=0,\n",
    "            loading_rate=1,\n",
    "            unloading_rate=unloading_rate,\n",
    "            capacity= truck_info['Payload (Ton)'],\n",
    "            compute_v=lambda x: 10 + 2 * x,\n",
    "        )\n",
    "\n",
    "   # Create activity objects\n",
    "    activities_d_truck = {}\n",
    "\n",
    "    for i in range(1, total_trucks + 1):\n",
    "        # requested_resources = {}\n",
    "        truck = trucks[f\"truck{i}\"]\n",
    "        d_subprocesses = [\n",
    "            model.MoveActivity(\n",
    "                env=my_env,\n",
    "                name=f\"driving_empty:\" + trucks[f\"truck{i}\"].name,\n",
    "                registry=registry,\n",
    "                mover=trucks[f\"truck{i}\"],\n",
    "                destination=source01,\n",
    "                # duration=20,\n",
    "            ),\n",
    "            model.ShiftAmountActivity(\n",
    "                env=my_env,\n",
    "                name=f\"loading:\" + trucks[f\"truck{i}\"].name,\n",
    "                registry=registry,\n",
    "                processor=trucks[f\"truck{i}\"],\n",
    "                origin=source01,\n",
    "                destination=trucks[f\"truck{i}\"],\n",
    "                amount=20,\n",
    "                duration=50,\n",
    "                # id_=\"waste\",\n",
    "            ),\n",
    "            model.MoveActivity(\n",
    "                env=my_env,\n",
    "                name=f\"driving_full:\" + trucks[f\"truck{i}\"].name,\n",
    "                registry=registry,\n",
    "                mover=trucks[f\"truck{i}\"],\n",
    "                destination=dump01,\n",
    "                # duration=15,\n",
    "            ),\n",
    "            model.ShiftAmountActivity(\n",
    "                env=my_env,\n",
    "                name=f\"unloading:\" + trucks[f\"truck{i}\"].name,\n",
    "                registry=registry,\n",
    "                processor=trucks[f\"truck{i}\"],\n",
    "                origin=trucks[f\"truck{i}\"],\n",
    "                destination=dump01,\n",
    "                amount=20,\n",
    "                duration=25,\n",
    "                # id_=\"waste\",\n",
    "            )\n",
    "        ]\n",
    "        activities_d_truck[f\"activities_d_truck{i}\"] = model.WhileActivity(\n",
    "            env=my_env,\n",
    "            name=f\"while_sequential_activity_d_truck{i}\",\n",
    "            registry=registry,\n",
    "            sub_processes=[model.SequentialActivity(\n",
    "                env=my_env,\n",
    "                name=f\"sequential_activity_d_truck{i}\",\n",
    "                registry=registry,\n",
    "                sub_processes=d_subprocesses\n",
    "            )],\n",
    "            condition_event=[{\"type\": \"container\",\n",
    "                              \"concept\": dump01,\n",
    "                              \"state\": \"gt\", \"level\":460}\n",
    "                             ]\n",
    "        )\n",
    "    \n",
    "    processes=[*activities_d_truck.values()]\n",
    "    print(processes)\n",
    "    model.register_processes(processes)\n",
    "    try: \n",
    "        my_env.run()\n",
    "    except:\n",
    "        logging.exception('run did not succeed')\n",
    "        \n",
    "    return {\n",
    "        \"trucks\": trucks,\n",
    "        \"activities_d_truck\": activities_d_truck,\n",
    "        \"source01\": source01,\n",
    "        \"dump01\": dump01,\n",
    "        \"total_trucks\": total_trucks,  # Adding total_trucks to the returned dictionary\n",
    "        \"registry\": registry,\n",
    "    }"
   ]
  },
  {
   "cell_type": "code",
   "execution_count": 82,
   "id": "98c5fce1-b66a-4733-9636-1b2f03a90c4d",
   "metadata": {},
   "outputs": [
    {
     "name": "stdout",
     "output_type": "stream",
     "text": [
      "[<openclsim.model.while_activity.WhileActivity object at 0x7f9d38a40e50>, <openclsim.model.while_activity.WhileActivity object at 0x7f9d38a40d00>]\n"
     ]
    }
   ],
   "source": [
    "# Example usage: \n",
    "res = run(500)\n",
    "trucks = res['trucks']\n",
    "activities_d_truck = res['activities_d_truck']\n",
    "source01 = res['source01']\n",
    "dump01 = res['dump01']\n",
    "total_trucks = res['total_trucks']  # Extracting total_trucks\n",
    "registry = res['registry']"
   ]
  },
  {
   "cell_type": "code",
   "execution_count": 83,
   "id": "5b386278-b901-4ddc-976d-02df91ecb5a9",
   "metadata": {},
   "outputs": [
    {
     "name": "stdout",
     "output_type": "stream",
     "text": [
      "2 [{'id': 'default', 'capacity': 500, 'level': 0}, {'id': 'default_reservations', 'capacity': 500, 'level': 0}]\n"
     ]
    }
   ],
   "source": [
    "print(source01.container.capacity, source01.container.items)"
   ]
  },
  {
   "cell_type": "code",
   "execution_count": 84,
   "id": "68586286-a7eb-4371-9bd4-9e06009f3a1d",
   "metadata": {},
   "outputs": [
    {
     "name": "stdout",
     "output_type": "stream",
     "text": [
      "0\n"
     ]
    }
   ],
   "source": [
    "print(source01.container.get_level())"
   ]
  },
  {
   "cell_type": "code",
   "execution_count": 85,
   "id": "affbd076-041a-4d25-9f0a-6846d6c81e26",
   "metadata": {},
   "outputs": [
    {
     "name": "stdout",
     "output_type": "stream",
     "text": [
      "2 [{'id': 'default', 'capacity': 500, 'level': 500}, {'id': 'default_reservations', 'capacity': 500, 'level': 500}]\n"
     ]
    }
   ],
   "source": [
    "print(dump01.container.capacity, dump01.container.items)"
   ]
  },
  {
   "cell_type": "code",
   "execution_count": 68,
   "id": "ead47ffd-913e-4401-8849-1abfb1208dd6",
   "metadata": {},
   "outputs": [
    {
     "data": {
      "text/html": [
       "<div>\n",
       "<style scoped>\n",
       "    .dataframe tbody tr th:only-of-type {\n",
       "        vertical-align: middle;\n",
       "    }\n",
       "\n",
       "    .dataframe tbody tr th {\n",
       "        vertical-align: top;\n",
       "    }\n",
       "\n",
       "    .dataframe thead th {\n",
       "        text-align: right;\n",
       "    }\n",
       "</style>\n",
       "<table border=\"1\" class=\"dataframe\">\n",
       "  <thead>\n",
       "    <tr style=\"text-align: right;\">\n",
       "      <th></th>\n",
       "      <th>Timestamp</th>\n",
       "      <th>ActivityID</th>\n",
       "      <th>ActivityState</th>\n",
       "      <th>ObjectState</th>\n",
       "      <th>ActivityLabel</th>\n",
       "    </tr>\n",
       "  </thead>\n",
       "  <tbody>\n",
       "    <tr>\n",
       "      <th>0</th>\n",
       "      <td>1970-01-01 01:03:36.375536</td>\n",
       "      <td>434475ae-fd7f-478b-95a4-c00a12914b31</td>\n",
       "      <td>START</td>\n",
       "      <td>{'container level': 0, 'geometry': POINT (4.17...</td>\n",
       "      <td>{}</td>\n",
       "    </tr>\n",
       "    <tr>\n",
       "      <th>1</th>\n",
       "      <td>1970-01-01 01:04:01.375536</td>\n",
       "      <td>434475ae-fd7f-478b-95a4-c00a12914b31</td>\n",
       "      <td>STOP</td>\n",
       "      <td>{'container level': 20, 'geometry': POINT (4.1...</td>\n",
       "      <td>{}</td>\n",
       "    </tr>\n",
       "    <tr>\n",
       "      <th>2</th>\n",
       "      <td>1970-01-01 01:04:26.375536</td>\n",
       "      <td>7c57a886-5181-4570-bd66-74f21da1a188</td>\n",
       "      <td>START</td>\n",
       "      <td>{'container level': 20, 'geometry': POINT (4.1...</td>\n",
       "      <td>{}</td>\n",
       "    </tr>\n",
       "    <tr>\n",
       "      <th>3</th>\n",
       "      <td>1970-01-01 01:04:51.375536</td>\n",
       "      <td>7c57a886-5181-4570-bd66-74f21da1a188</td>\n",
       "      <td>STOP</td>\n",
       "      <td>{'container level': 40, 'geometry': POINT (4.1...</td>\n",
       "      <td>{}</td>\n",
       "    </tr>\n",
       "  </tbody>\n",
       "</table>\n",
       "</div>"
      ],
      "text/plain": [
       "                   Timestamp                            ActivityID  \\\n",
       "0 1970-01-01 01:03:36.375536  434475ae-fd7f-478b-95a4-c00a12914b31   \n",
       "1 1970-01-01 01:04:01.375536  434475ae-fd7f-478b-95a4-c00a12914b31   \n",
       "2 1970-01-01 01:04:26.375536  7c57a886-5181-4570-bd66-74f21da1a188   \n",
       "3 1970-01-01 01:04:51.375536  7c57a886-5181-4570-bd66-74f21da1a188   \n",
       "\n",
       "  ActivityState                                        ObjectState  \\\n",
       "0         START  {'container level': 0, 'geometry': POINT (4.17...   \n",
       "1          STOP  {'container level': 20, 'geometry': POINT (4.1...   \n",
       "2         START  {'container level': 20, 'geometry': POINT (4.1...   \n",
       "3          STOP  {'container level': 40, 'geometry': POINT (4.1...   \n",
       "\n",
       "  ActivityLabel  \n",
       "0            {}  \n",
       "1            {}  \n",
       "2            {}  \n",
       "3            {}  "
      ]
     },
     "execution_count": 68,
     "metadata": {},
     "output_type": "execute_result"
    }
   ],
   "source": [
    "truck1 = trucks['truck1']\n",
    "pd.DataFrame(truck1.logbook)\n",
    "pd.DataFrame(dump01.logbook)\n"
   ]
  },
  {
   "cell_type": "code",
   "execution_count": 86,
   "id": "5f409b8b-b52e-4a1a-9081-d9802cd62b3e",
   "metadata": {},
   "outputs": [
    {
     "data": {
      "text/html": [
       "        <script type=\"text/javascript\">\n",
       "        window.PlotlyConfig = {MathJaxConfig: 'local'};\n",
       "        if (window.MathJax && window.MathJax.Hub && window.MathJax.Hub.Config) {window.MathJax.Hub.Config({SVG: {font: \"STIX-Web\"}});}\n",
       "        if (typeof require !== 'undefined') {\n",
       "        require.undef(\"plotly\");\n",
       "        requirejs.config({\n",
       "            paths: {\n",
       "                'plotly': ['https://cdn.plot.ly/plotly-2.24.1.min']\n",
       "            }\n",
       "        });\n",
       "        require(['plotly'], function(Plotly) {\n",
       "            window._Plotly = Plotly;\n",
       "        });\n",
       "        }\n",
       "        </script>\n",
       "        "
      ]
     },
     "metadata": {},
     "output_type": "display_data"
    },
    {
     "data": {
      "application/vnd.plotly.v1+json": {
       "config": {
        "linkText": "Export to plot.ly",
        "plotlyServerURL": "https://plot.ly",
        "showLink": false
       },
       "data": [
        {
         "connectgaps": false,
         "hoverinfo": "y+name",
         "line": {
          "color": "rgb(18,124,111)",
          "width": 10
         },
         "mode": "lines",
         "name": "driving_full:truck1",
         "type": "scatter",
         "x": [
          "1970-01-01T00:32:50.113018",
          "1970-01-01T00:32:50.113018",
          "1970-01-01T01:03:36.375536",
          "1970-01-01T01:03:36.375536",
          "1970-01-01T01:03:36.375536",
          "1970-01-01T01:36:51.488555",
          "1970-01-01T01:36:51.488555",
          "1970-01-01T02:07:37.751072",
          "1970-01-01T02:07:37.751072",
          "1970-01-01T02:07:37.751072",
          "1970-01-01T02:40:52.864091",
          "1970-01-01T02:40:52.864091",
          "1970-01-01T03:11:39.126609",
          "1970-01-01T03:11:39.126609",
          "1970-01-01T03:11:39.126609",
          "1970-01-01T03:44:54.239627",
          "1970-01-01T03:44:54.239627",
          "1970-01-01T04:15:40.502145",
          "1970-01-01T04:15:40.502145",
          "1970-01-01T04:15:40.502145",
          "1970-01-01T04:48:55.615163",
          "1970-01-01T04:48:55.615163",
          "1970-01-01T05:19:41.877681",
          "1970-01-01T05:19:41.877681",
          "1970-01-01T05:19:41.877681",
          "1970-01-01T05:52:56.990699",
          "1970-01-01T05:52:56.990699",
          "1970-01-01T06:23:43.253217",
          "1970-01-01T06:23:43.253217",
          "1970-01-01T06:23:43.253217",
          "1970-01-01T06:56:58.366235",
          "1970-01-01T06:56:58.366235",
          "1970-01-01T07:27:44.628753",
          "1970-01-01T07:27:44.628753",
          "1970-01-01T07:27:44.628753",
          "1970-01-01T08:00:59.741772",
          "1970-01-01T08:00:59.741772",
          "1970-01-01T08:31:46.004289",
          "1970-01-01T08:31:46.004289",
          "1970-01-01T08:31:46.004289",
          "1970-01-01T09:05:01.117308",
          "1970-01-01T09:05:01.117308",
          "1970-01-01T09:35:47.379826",
          "1970-01-01T09:35:47.379826",
          "1970-01-01T09:35:47.379826",
          "1970-01-01T10:09:02.492844",
          "1970-01-01T10:09:02.492844",
          "1970-01-01T10:39:48.755362",
          "1970-01-01T10:39:48.755362",
          "1970-01-01T10:39:48.755362",
          "1970-01-01T11:13:03.868380",
          "1970-01-01T11:13:03.868380",
          "1970-01-01T11:43:50.130898",
          "1970-01-01T11:43:50.130898",
          "1970-01-01T11:43:50.130898",
          "1970-01-01T12:17:05.243916",
          "1970-01-01T12:17:05.243916",
          "1970-01-01T12:47:51.506434",
          "1970-01-01T12:47:51.506434",
          "1970-01-01T12:47:51.506434",
          "1970-01-01T13:21:06.619452",
          "1970-01-01T13:21:06.619452",
          "1970-01-01T13:51:52.881970",
          "1970-01-01T13:51:52.881970",
          "1970-01-01T13:51:52.881970"
         ],
         "y": [
          "truck1",
          "truck1",
          "truck1",
          "truck1",
          null,
          "truck1",
          "truck1",
          "truck1",
          "truck1",
          null,
          "truck1",
          "truck1",
          "truck1",
          "truck1",
          null,
          "truck1",
          "truck1",
          "truck1",
          "truck1",
          null,
          "truck1",
          "truck1",
          "truck1",
          "truck1",
          null,
          "truck1",
          "truck1",
          "truck1",
          "truck1",
          null,
          "truck1",
          "truck1",
          "truck1",
          "truck1",
          null,
          "truck1",
          "truck1",
          "truck1",
          "truck1",
          null,
          "truck1",
          "truck1",
          "truck1",
          "truck1",
          null,
          "truck1",
          "truck1",
          "truck1",
          "truck1",
          null,
          "truck1",
          "truck1",
          "truck1",
          "truck1",
          null,
          "truck1",
          "truck1",
          "truck1",
          "truck1",
          null,
          "truck1",
          "truck1",
          "truck1",
          "truck1",
          null
         ]
        },
        {
         "connectgaps": false,
         "hoverinfo": "y+name",
         "line": {
          "color": "rgb(50,156,143)",
          "width": 10
         },
         "mode": "lines",
         "name": "unloading:truck1",
         "type": "scatter",
         "x": [
          "1970-01-01T01:03:36.375536",
          "1970-01-01T01:03:36.375536",
          "1970-01-01T01:04:01.375536",
          "1970-01-01T01:04:01.375536",
          "1970-01-01T01:04:01.375536",
          "1970-01-01T02:07:37.751072",
          "1970-01-01T02:07:37.751072",
          "1970-01-01T02:08:02.751072",
          "1970-01-01T02:08:02.751072",
          "1970-01-01T02:08:02.751072",
          "1970-01-01T03:11:39.126609",
          "1970-01-01T03:11:39.126609",
          "1970-01-01T03:12:04.126609",
          "1970-01-01T03:12:04.126609",
          "1970-01-01T03:12:04.126609",
          "1970-01-01T04:15:40.502145",
          "1970-01-01T04:15:40.502145",
          "1970-01-01T04:16:05.502145",
          "1970-01-01T04:16:05.502145",
          "1970-01-01T04:16:05.502145",
          "1970-01-01T05:19:41.877681",
          "1970-01-01T05:19:41.877681",
          "1970-01-01T05:20:06.877681",
          "1970-01-01T05:20:06.877681",
          "1970-01-01T05:20:06.877681",
          "1970-01-01T06:23:43.253217",
          "1970-01-01T06:23:43.253217",
          "1970-01-01T06:24:08.253217",
          "1970-01-01T06:24:08.253217",
          "1970-01-01T06:24:08.253217",
          "1970-01-01T07:27:44.628753",
          "1970-01-01T07:27:44.628753",
          "1970-01-01T07:28:09.628753",
          "1970-01-01T07:28:09.628753",
          "1970-01-01T07:28:09.628753",
          "1970-01-01T08:31:46.004289",
          "1970-01-01T08:31:46.004289",
          "1970-01-01T08:32:11.004289",
          "1970-01-01T08:32:11.004289",
          "1970-01-01T08:32:11.004289",
          "1970-01-01T09:35:47.379826",
          "1970-01-01T09:35:47.379826",
          "1970-01-01T09:36:12.379826",
          "1970-01-01T09:36:12.379826",
          "1970-01-01T09:36:12.379826",
          "1970-01-01T10:39:48.755362",
          "1970-01-01T10:39:48.755362",
          "1970-01-01T10:40:13.755362",
          "1970-01-01T10:40:13.755362",
          "1970-01-01T10:40:13.755362",
          "1970-01-01T11:43:50.130898",
          "1970-01-01T11:43:50.130898",
          "1970-01-01T11:44:15.130898",
          "1970-01-01T11:44:15.130898",
          "1970-01-01T11:44:15.130898",
          "1970-01-01T12:47:51.506434",
          "1970-01-01T12:47:51.506434",
          "1970-01-01T12:48:16.506434",
          "1970-01-01T12:48:16.506434",
          "1970-01-01T12:48:16.506434",
          "1970-01-01T13:51:52.881970",
          "1970-01-01T13:51:52.881970",
          "1970-01-01T13:52:17.881970",
          "1970-01-01T13:52:17.881970",
          "1970-01-01T13:52:17.881970"
         ],
         "y": [
          "truck1",
          "truck1",
          "truck1",
          "truck1",
          null,
          "truck1",
          "truck1",
          "truck1",
          "truck1",
          null,
          "truck1",
          "truck1",
          "truck1",
          "truck1",
          null,
          "truck1",
          "truck1",
          "truck1",
          "truck1",
          null,
          "truck1",
          "truck1",
          "truck1",
          "truck1",
          null,
          "truck1",
          "truck1",
          "truck1",
          "truck1",
          null,
          "truck1",
          "truck1",
          "truck1",
          "truck1",
          null,
          "truck1",
          "truck1",
          "truck1",
          "truck1",
          null,
          "truck1",
          "truck1",
          "truck1",
          "truck1",
          null,
          "truck1",
          "truck1",
          "truck1",
          "truck1",
          null,
          "truck1",
          "truck1",
          "truck1",
          "truck1",
          null,
          "truck1",
          "truck1",
          "truck1",
          "truck1",
          null,
          "truck1",
          "truck1",
          "truck1",
          "truck1",
          null
         ]
        },
        {
         "connectgaps": false,
         "hoverinfo": "y+name",
         "line": {
          "color": "rgb(82,188,175)",
          "width": 10
         },
         "mode": "lines",
         "name": "loading:truck1",
         "type": "scatter",
         "x": [
          "1970-01-01T00:32:00.113018",
          "1970-01-01T00:32:00.113018",
          "1970-01-01T00:32:50.113018",
          "1970-01-01T00:32:50.113018",
          "1970-01-01T00:32:50.113018",
          "1970-01-01T01:36:01.488555",
          "1970-01-01T01:36:01.488555",
          "1970-01-01T01:36:51.488555",
          "1970-01-01T01:36:51.488555",
          "1970-01-01T01:36:51.488555",
          "1970-01-01T02:40:02.864091",
          "1970-01-01T02:40:02.864091",
          "1970-01-01T02:40:52.864091",
          "1970-01-01T02:40:52.864091",
          "1970-01-01T02:40:52.864091",
          "1970-01-01T03:44:04.239627",
          "1970-01-01T03:44:04.239627",
          "1970-01-01T03:44:54.239627",
          "1970-01-01T03:44:54.239627",
          "1970-01-01T03:44:54.239627",
          "1970-01-01T04:48:05.615163",
          "1970-01-01T04:48:05.615163",
          "1970-01-01T04:48:55.615163",
          "1970-01-01T04:48:55.615163",
          "1970-01-01T04:48:55.615163",
          "1970-01-01T05:52:06.990699",
          "1970-01-01T05:52:06.990699",
          "1970-01-01T05:52:56.990699",
          "1970-01-01T05:52:56.990699",
          "1970-01-01T05:52:56.990699",
          "1970-01-01T06:56:08.366235",
          "1970-01-01T06:56:08.366235",
          "1970-01-01T06:56:58.366235",
          "1970-01-01T06:56:58.366235",
          "1970-01-01T06:56:58.366235",
          "1970-01-01T08:00:09.741772",
          "1970-01-01T08:00:09.741772",
          "1970-01-01T08:00:59.741772",
          "1970-01-01T08:00:59.741772",
          "1970-01-01T08:00:59.741772",
          "1970-01-01T09:04:11.117308",
          "1970-01-01T09:04:11.117308",
          "1970-01-01T09:05:01.117308",
          "1970-01-01T09:05:01.117308",
          "1970-01-01T09:05:01.117308",
          "1970-01-01T10:08:12.492844",
          "1970-01-01T10:08:12.492844",
          "1970-01-01T10:09:02.492844",
          "1970-01-01T10:09:02.492844",
          "1970-01-01T10:09:02.492844",
          "1970-01-01T11:12:13.868380",
          "1970-01-01T11:12:13.868380",
          "1970-01-01T11:13:03.868380",
          "1970-01-01T11:13:03.868380",
          "1970-01-01T11:13:03.868380",
          "1970-01-01T12:16:15.243916",
          "1970-01-01T12:16:15.243916",
          "1970-01-01T12:17:05.243916",
          "1970-01-01T12:17:05.243916",
          "1970-01-01T12:17:05.243916",
          "1970-01-01T13:20:16.619452",
          "1970-01-01T13:20:16.619452",
          "1970-01-01T13:21:06.619452",
          "1970-01-01T13:21:06.619452",
          "1970-01-01T13:21:06.619452"
         ],
         "y": [
          "truck1",
          "truck1",
          "truck1",
          "truck1",
          null,
          "truck1",
          "truck1",
          "truck1",
          "truck1",
          null,
          "truck1",
          "truck1",
          "truck1",
          "truck1",
          null,
          "truck1",
          "truck1",
          "truck1",
          "truck1",
          null,
          "truck1",
          "truck1",
          "truck1",
          "truck1",
          null,
          "truck1",
          "truck1",
          "truck1",
          "truck1",
          null,
          "truck1",
          "truck1",
          "truck1",
          "truck1",
          null,
          "truck1",
          "truck1",
          "truck1",
          "truck1",
          null,
          "truck1",
          "truck1",
          "truck1",
          "truck1",
          null,
          "truck1",
          "truck1",
          "truck1",
          "truck1",
          null,
          "truck1",
          "truck1",
          "truck1",
          "truck1",
          null,
          "truck1",
          "truck1",
          "truck1",
          "truck1",
          null,
          "truck1",
          "truck1",
          "truck1",
          "truck1",
          null
         ]
        },
        {
         "connectgaps": false,
         "hoverinfo": "y+name",
         "line": {
          "color": "rgb(114,220,207)",
          "width": 10
         },
         "mode": "lines",
         "name": "driving_empty:truck1",
         "type": "scatter",
         "x": [
          "1970-01-01T00:00:00",
          "1970-01-01T00:00:00",
          "1970-01-01T00:32:00.113018",
          "1970-01-01T00:32:00.113018",
          "1970-01-01T00:32:00.113018",
          "1970-01-01T01:04:01.375536",
          "1970-01-01T01:04:01.375536",
          "1970-01-01T01:36:01.488555",
          "1970-01-01T01:36:01.488555",
          "1970-01-01T01:36:01.488555",
          "1970-01-01T02:08:02.751072",
          "1970-01-01T02:08:02.751072",
          "1970-01-01T02:40:02.864091",
          "1970-01-01T02:40:02.864091",
          "1970-01-01T02:40:02.864091",
          "1970-01-01T03:12:04.126609",
          "1970-01-01T03:12:04.126609",
          "1970-01-01T03:44:04.239627",
          "1970-01-01T03:44:04.239627",
          "1970-01-01T03:44:04.239627",
          "1970-01-01T04:16:05.502145",
          "1970-01-01T04:16:05.502145",
          "1970-01-01T04:48:05.615163",
          "1970-01-01T04:48:05.615163",
          "1970-01-01T04:48:05.615163",
          "1970-01-01T05:20:06.877681",
          "1970-01-01T05:20:06.877681",
          "1970-01-01T05:52:06.990699",
          "1970-01-01T05:52:06.990699",
          "1970-01-01T05:52:06.990699",
          "1970-01-01T06:24:08.253217",
          "1970-01-01T06:24:08.253217",
          "1970-01-01T06:56:08.366235",
          "1970-01-01T06:56:08.366235",
          "1970-01-01T06:56:08.366235",
          "1970-01-01T07:28:09.628753",
          "1970-01-01T07:28:09.628753",
          "1970-01-01T08:00:09.741772",
          "1970-01-01T08:00:09.741772",
          "1970-01-01T08:00:09.741772",
          "1970-01-01T08:32:11.004289",
          "1970-01-01T08:32:11.004289",
          "1970-01-01T09:04:11.117308",
          "1970-01-01T09:04:11.117308",
          "1970-01-01T09:04:11.117308",
          "1970-01-01T09:36:12.379826",
          "1970-01-01T09:36:12.379826",
          "1970-01-01T10:08:12.492844",
          "1970-01-01T10:08:12.492844",
          "1970-01-01T10:08:12.492844",
          "1970-01-01T10:40:13.755362",
          "1970-01-01T10:40:13.755362",
          "1970-01-01T11:12:13.868380",
          "1970-01-01T11:12:13.868380",
          "1970-01-01T11:12:13.868380",
          "1970-01-01T11:44:15.130898",
          "1970-01-01T11:44:15.130898",
          "1970-01-01T12:16:15.243916",
          "1970-01-01T12:16:15.243916",
          "1970-01-01T12:16:15.243916",
          "1970-01-01T12:48:16.506434",
          "1970-01-01T12:48:16.506434",
          "1970-01-01T13:20:16.619452",
          "1970-01-01T13:20:16.619452",
          "1970-01-01T13:20:16.619452"
         ],
         "y": [
          "truck1",
          "truck1",
          "truck1",
          "truck1",
          null,
          "truck1",
          "truck1",
          "truck1",
          "truck1",
          null,
          "truck1",
          "truck1",
          "truck1",
          "truck1",
          null,
          "truck1",
          "truck1",
          "truck1",
          "truck1",
          null,
          "truck1",
          "truck1",
          "truck1",
          "truck1",
          null,
          "truck1",
          "truck1",
          "truck1",
          "truck1",
          null,
          "truck1",
          "truck1",
          "truck1",
          "truck1",
          null,
          "truck1",
          "truck1",
          "truck1",
          "truck1",
          null,
          "truck1",
          "truck1",
          "truck1",
          "truck1",
          null,
          "truck1",
          "truck1",
          "truck1",
          "truck1",
          null,
          "truck1",
          "truck1",
          "truck1",
          "truck1",
          null,
          "truck1",
          "truck1",
          "truck1",
          "truck1",
          null,
          "truck1",
          "truck1",
          "truck1",
          "truck1",
          null
         ]
        },
        {
         "connectgaps": false,
         "hoverinfo": "y+name",
         "line": {
          "color": "rgb(146,252,239)",
          "width": 10
         },
         "mode": "lines",
         "name": "driving_full:truck2",
         "type": "scatter",
         "x": [
          "1970-01-01T00:33:40.113018",
          "1970-01-01T00:33:40.113018",
          "1970-01-01T01:04:26.375536",
          "1970-01-01T01:04:26.375536",
          "1970-01-01T01:04:26.375536",
          "1970-01-01T01:37:41.488555",
          "1970-01-01T01:37:41.488555",
          "1970-01-01T02:08:27.751072",
          "1970-01-01T02:08:27.751072",
          "1970-01-01T02:08:27.751072",
          "1970-01-01T02:41:42.864091",
          "1970-01-01T02:41:42.864091",
          "1970-01-01T03:12:29.126609",
          "1970-01-01T03:12:29.126609",
          "1970-01-01T03:12:29.126609",
          "1970-01-01T03:45:44.239627",
          "1970-01-01T03:45:44.239627",
          "1970-01-01T04:16:30.502145",
          "1970-01-01T04:16:30.502145",
          "1970-01-01T04:16:30.502145",
          "1970-01-01T04:49:45.615163",
          "1970-01-01T04:49:45.615163",
          "1970-01-01T05:20:31.877681",
          "1970-01-01T05:20:31.877681",
          "1970-01-01T05:20:31.877681",
          "1970-01-01T05:53:46.990699",
          "1970-01-01T05:53:46.990699",
          "1970-01-01T06:24:33.253217",
          "1970-01-01T06:24:33.253217",
          "1970-01-01T06:24:33.253217",
          "1970-01-01T06:57:48.366235",
          "1970-01-01T06:57:48.366235",
          "1970-01-01T07:28:34.628753",
          "1970-01-01T07:28:34.628753",
          "1970-01-01T07:28:34.628753",
          "1970-01-01T08:01:49.741772",
          "1970-01-01T08:01:49.741772",
          "1970-01-01T08:32:36.004289",
          "1970-01-01T08:32:36.004289",
          "1970-01-01T08:32:36.004289",
          "1970-01-01T09:05:51.117308",
          "1970-01-01T09:05:51.117308",
          "1970-01-01T09:36:37.379826",
          "1970-01-01T09:36:37.379826",
          "1970-01-01T09:36:37.379826",
          "1970-01-01T10:09:52.492844",
          "1970-01-01T10:09:52.492844",
          "1970-01-01T10:40:38.755362",
          "1970-01-01T10:40:38.755362",
          "1970-01-01T10:40:38.755362",
          "1970-01-01T11:13:53.868380",
          "1970-01-01T11:13:53.868380",
          "1970-01-01T11:44:40.130898",
          "1970-01-01T11:44:40.130898",
          "1970-01-01T11:44:40.130898",
          "1970-01-01T12:17:55.243916",
          "1970-01-01T12:17:55.243916",
          "1970-01-01T12:48:41.506434",
          "1970-01-01T12:48:41.506434",
          "1970-01-01T12:48:41.506434"
         ],
         "y": [
          "truck2",
          "truck2",
          "truck2",
          "truck2",
          null,
          "truck2",
          "truck2",
          "truck2",
          "truck2",
          null,
          "truck2",
          "truck2",
          "truck2",
          "truck2",
          null,
          "truck2",
          "truck2",
          "truck2",
          "truck2",
          null,
          "truck2",
          "truck2",
          "truck2",
          "truck2",
          null,
          "truck2",
          "truck2",
          "truck2",
          "truck2",
          null,
          "truck2",
          "truck2",
          "truck2",
          "truck2",
          null,
          "truck2",
          "truck2",
          "truck2",
          "truck2",
          null,
          "truck2",
          "truck2",
          "truck2",
          "truck2",
          null,
          "truck2",
          "truck2",
          "truck2",
          "truck2",
          null,
          "truck2",
          "truck2",
          "truck2",
          "truck2",
          null,
          "truck2",
          "truck2",
          "truck2",
          "truck2",
          null
         ]
        },
        {
         "connectgaps": false,
         "hoverinfo": "y+name",
         "line": {
          "color": "rgb(178,28,15)",
          "width": 10
         },
         "mode": "lines",
         "name": "loading:truck2",
         "type": "scatter",
         "x": [
          "1970-01-01T00:32:50.113018",
          "1970-01-01T00:32:50.113018",
          "1970-01-01T00:33:40.113018",
          "1970-01-01T00:33:40.113018",
          "1970-01-01T00:33:40.113018",
          "1970-01-01T01:36:51.488555",
          "1970-01-01T01:36:51.488555",
          "1970-01-01T01:37:41.488555",
          "1970-01-01T01:37:41.488555",
          "1970-01-01T01:37:41.488555",
          "1970-01-01T02:40:52.864091",
          "1970-01-01T02:40:52.864091",
          "1970-01-01T02:41:42.864091",
          "1970-01-01T02:41:42.864091",
          "1970-01-01T02:41:42.864091",
          "1970-01-01T03:44:54.239627",
          "1970-01-01T03:44:54.239627",
          "1970-01-01T03:45:44.239627",
          "1970-01-01T03:45:44.239627",
          "1970-01-01T03:45:44.239627",
          "1970-01-01T04:48:55.615163",
          "1970-01-01T04:48:55.615163",
          "1970-01-01T04:49:45.615163",
          "1970-01-01T04:49:45.615163",
          "1970-01-01T04:49:45.615163",
          "1970-01-01T05:52:56.990699",
          "1970-01-01T05:52:56.990699",
          "1970-01-01T05:53:46.990699",
          "1970-01-01T05:53:46.990699",
          "1970-01-01T05:53:46.990699",
          "1970-01-01T06:56:58.366235",
          "1970-01-01T06:56:58.366235",
          "1970-01-01T06:57:48.366235",
          "1970-01-01T06:57:48.366235",
          "1970-01-01T06:57:48.366235",
          "1970-01-01T08:00:59.741772",
          "1970-01-01T08:00:59.741772",
          "1970-01-01T08:01:49.741772",
          "1970-01-01T08:01:49.741772",
          "1970-01-01T08:01:49.741772",
          "1970-01-01T09:05:01.117308",
          "1970-01-01T09:05:01.117308",
          "1970-01-01T09:05:51.117308",
          "1970-01-01T09:05:51.117308",
          "1970-01-01T09:05:51.117308",
          "1970-01-01T10:09:02.492844",
          "1970-01-01T10:09:02.492844",
          "1970-01-01T10:09:52.492844",
          "1970-01-01T10:09:52.492844",
          "1970-01-01T10:09:52.492844",
          "1970-01-01T11:13:03.868380",
          "1970-01-01T11:13:03.868380",
          "1970-01-01T11:13:53.868380",
          "1970-01-01T11:13:53.868380",
          "1970-01-01T11:13:53.868380",
          "1970-01-01T12:17:05.243916",
          "1970-01-01T12:17:05.243916",
          "1970-01-01T12:17:55.243916",
          "1970-01-01T12:17:55.243916",
          "1970-01-01T12:17:55.243916"
         ],
         "y": [
          "truck2",
          "truck2",
          "truck2",
          "truck2",
          null,
          "truck2",
          "truck2",
          "truck2",
          "truck2",
          null,
          "truck2",
          "truck2",
          "truck2",
          "truck2",
          null,
          "truck2",
          "truck2",
          "truck2",
          "truck2",
          null,
          "truck2",
          "truck2",
          "truck2",
          "truck2",
          null,
          "truck2",
          "truck2",
          "truck2",
          "truck2",
          null,
          "truck2",
          "truck2",
          "truck2",
          "truck2",
          null,
          "truck2",
          "truck2",
          "truck2",
          "truck2",
          null,
          "truck2",
          "truck2",
          "truck2",
          "truck2",
          null,
          "truck2",
          "truck2",
          "truck2",
          "truck2",
          null,
          "truck2",
          "truck2",
          "truck2",
          "truck2",
          null,
          "truck2",
          "truck2",
          "truck2",
          "truck2",
          null
         ]
        },
        {
         "connectgaps": false,
         "hoverinfo": "y+name",
         "line": {
          "color": "rgb(210,60,47)",
          "width": 10
         },
         "mode": "lines",
         "name": "unloading:truck2",
         "type": "scatter",
         "x": [
          "1970-01-01T01:04:26.375536",
          "1970-01-01T01:04:26.375536",
          "1970-01-01T01:04:51.375536",
          "1970-01-01T01:04:51.375536",
          "1970-01-01T01:04:51.375536",
          "1970-01-01T02:08:27.751072",
          "1970-01-01T02:08:27.751072",
          "1970-01-01T02:08:52.751072",
          "1970-01-01T02:08:52.751072",
          "1970-01-01T02:08:52.751072",
          "1970-01-01T03:12:29.126609",
          "1970-01-01T03:12:29.126609",
          "1970-01-01T03:12:54.126609",
          "1970-01-01T03:12:54.126609",
          "1970-01-01T03:12:54.126609",
          "1970-01-01T04:16:30.502145",
          "1970-01-01T04:16:30.502145",
          "1970-01-01T04:16:55.502145",
          "1970-01-01T04:16:55.502145",
          "1970-01-01T04:16:55.502145",
          "1970-01-01T05:20:31.877681",
          "1970-01-01T05:20:31.877681",
          "1970-01-01T05:20:56.877681",
          "1970-01-01T05:20:56.877681",
          "1970-01-01T05:20:56.877681",
          "1970-01-01T06:24:33.253217",
          "1970-01-01T06:24:33.253217",
          "1970-01-01T06:24:58.253217",
          "1970-01-01T06:24:58.253217",
          "1970-01-01T06:24:58.253217",
          "1970-01-01T07:28:34.628753",
          "1970-01-01T07:28:34.628753",
          "1970-01-01T07:28:59.628753",
          "1970-01-01T07:28:59.628753",
          "1970-01-01T07:28:59.628753",
          "1970-01-01T08:32:36.004289",
          "1970-01-01T08:32:36.004289",
          "1970-01-01T08:33:01.004289",
          "1970-01-01T08:33:01.004289",
          "1970-01-01T08:33:01.004289",
          "1970-01-01T09:36:37.379826",
          "1970-01-01T09:36:37.379826",
          "1970-01-01T09:37:02.379826",
          "1970-01-01T09:37:02.379826",
          "1970-01-01T09:37:02.379826",
          "1970-01-01T10:40:38.755362",
          "1970-01-01T10:40:38.755362",
          "1970-01-01T10:41:03.755362",
          "1970-01-01T10:41:03.755362",
          "1970-01-01T10:41:03.755362",
          "1970-01-01T11:44:40.130898",
          "1970-01-01T11:44:40.130898",
          "1970-01-01T11:45:05.130898",
          "1970-01-01T11:45:05.130898",
          "1970-01-01T11:45:05.130898",
          "1970-01-01T12:48:41.506434",
          "1970-01-01T12:48:41.506434",
          "1970-01-01T12:49:06.506434",
          "1970-01-01T12:49:06.506434",
          "1970-01-01T12:49:06.506434"
         ],
         "y": [
          "truck2",
          "truck2",
          "truck2",
          "truck2",
          null,
          "truck2",
          "truck2",
          "truck2",
          "truck2",
          null,
          "truck2",
          "truck2",
          "truck2",
          "truck2",
          null,
          "truck2",
          "truck2",
          "truck2",
          "truck2",
          null,
          "truck2",
          "truck2",
          "truck2",
          "truck2",
          null,
          "truck2",
          "truck2",
          "truck2",
          "truck2",
          null,
          "truck2",
          "truck2",
          "truck2",
          "truck2",
          null,
          "truck2",
          "truck2",
          "truck2",
          "truck2",
          null,
          "truck2",
          "truck2",
          "truck2",
          "truck2",
          null,
          "truck2",
          "truck2",
          "truck2",
          "truck2",
          null,
          "truck2",
          "truck2",
          "truck2",
          "truck2",
          null,
          "truck2",
          "truck2",
          "truck2",
          "truck2",
          null
         ]
        },
        {
         "connectgaps": false,
         "hoverinfo": "y+name",
         "line": {
          "color": "rgb(242,92,79)",
          "width": 10
         },
         "mode": "lines",
         "name": "driving_empty:truck2",
         "type": "scatter",
         "x": [
          "1970-01-01T00:00:00",
          "1970-01-01T00:00:00",
          "1970-01-01T00:32:00.113018",
          "1970-01-01T00:32:00.113018",
          "1970-01-01T00:32:00.113018",
          "1970-01-01T01:04:51.375536",
          "1970-01-01T01:04:51.375536",
          "1970-01-01T01:36:51.488555",
          "1970-01-01T01:36:51.488555",
          "1970-01-01T01:36:51.488555",
          "1970-01-01T02:08:52.751072",
          "1970-01-01T02:08:52.751072",
          "1970-01-01T02:40:52.864091",
          "1970-01-01T02:40:52.864091",
          "1970-01-01T02:40:52.864091",
          "1970-01-01T03:12:54.126609",
          "1970-01-01T03:12:54.126609",
          "1970-01-01T03:44:54.239627",
          "1970-01-01T03:44:54.239627",
          "1970-01-01T03:44:54.239627",
          "1970-01-01T04:16:55.502145",
          "1970-01-01T04:16:55.502145",
          "1970-01-01T04:48:55.615163",
          "1970-01-01T04:48:55.615163",
          "1970-01-01T04:48:55.615163",
          "1970-01-01T05:20:56.877681",
          "1970-01-01T05:20:56.877681",
          "1970-01-01T05:52:56.990699",
          "1970-01-01T05:52:56.990699",
          "1970-01-01T05:52:56.990699",
          "1970-01-01T06:24:58.253217",
          "1970-01-01T06:24:58.253217",
          "1970-01-01T06:56:58.366235",
          "1970-01-01T06:56:58.366235",
          "1970-01-01T06:56:58.366235",
          "1970-01-01T07:28:59.628753",
          "1970-01-01T07:28:59.628753",
          "1970-01-01T08:00:59.741772",
          "1970-01-01T08:00:59.741772",
          "1970-01-01T08:00:59.741772",
          "1970-01-01T08:33:01.004289",
          "1970-01-01T08:33:01.004289",
          "1970-01-01T09:05:01.117308",
          "1970-01-01T09:05:01.117308",
          "1970-01-01T09:05:01.117308",
          "1970-01-01T09:37:02.379826",
          "1970-01-01T09:37:02.379826",
          "1970-01-01T10:09:02.492844",
          "1970-01-01T10:09:02.492844",
          "1970-01-01T10:09:02.492844",
          "1970-01-01T10:41:03.755362",
          "1970-01-01T10:41:03.755362",
          "1970-01-01T11:13:03.868380",
          "1970-01-01T11:13:03.868380",
          "1970-01-01T11:13:03.868380",
          "1970-01-01T11:45:05.130898",
          "1970-01-01T11:45:05.130898",
          "1970-01-01T12:17:05.243916",
          "1970-01-01T12:17:05.243916",
          "1970-01-01T12:17:05.243916"
         ],
         "y": [
          "truck2",
          "truck2",
          "truck2",
          "truck2",
          null,
          "truck2",
          "truck2",
          "truck2",
          "truck2",
          null,
          "truck2",
          "truck2",
          "truck2",
          "truck2",
          null,
          "truck2",
          "truck2",
          "truck2",
          "truck2",
          null,
          "truck2",
          "truck2",
          "truck2",
          "truck2",
          null,
          "truck2",
          "truck2",
          "truck2",
          "truck2",
          null,
          "truck2",
          "truck2",
          "truck2",
          "truck2",
          null,
          "truck2",
          "truck2",
          "truck2",
          "truck2",
          null,
          "truck2",
          "truck2",
          "truck2",
          "truck2",
          null,
          "truck2",
          "truck2",
          "truck2",
          "truck2",
          null,
          "truck2",
          "truck2",
          "truck2",
          "truck2",
          null,
          "truck2",
          "truck2",
          "truck2",
          "truck2",
          null
         ]
        }
       ],
       "layout": {
        "autosize": true,
        "hovermode": "closest",
        "legend": {
         "orientation": "h",
         "x": 0,
         "y": -0.2
        },
        "template": {
         "data": {
          "bar": [
           {
            "error_x": {
             "color": "#2a3f5f"
            },
            "error_y": {
             "color": "#2a3f5f"
            },
            "marker": {
             "line": {
              "color": "#E5ECF6",
              "width": 0.5
             },
             "pattern": {
              "fillmode": "overlay",
              "size": 10,
              "solidity": 0.2
             }
            },
            "type": "bar"
           }
          ],
          "barpolar": [
           {
            "marker": {
             "line": {
              "color": "#E5ECF6",
              "width": 0.5
             },
             "pattern": {
              "fillmode": "overlay",
              "size": 10,
              "solidity": 0.2
             }
            },
            "type": "barpolar"
           }
          ],
          "carpet": [
           {
            "aaxis": {
             "endlinecolor": "#2a3f5f",
             "gridcolor": "white",
             "linecolor": "white",
             "minorgridcolor": "white",
             "startlinecolor": "#2a3f5f"
            },
            "baxis": {
             "endlinecolor": "#2a3f5f",
             "gridcolor": "white",
             "linecolor": "white",
             "minorgridcolor": "white",
             "startlinecolor": "#2a3f5f"
            },
            "type": "carpet"
           }
          ],
          "choropleth": [
           {
            "colorbar": {
             "outlinewidth": 0,
             "ticks": ""
            },
            "type": "choropleth"
           }
          ],
          "contour": [
           {
            "colorbar": {
             "outlinewidth": 0,
             "ticks": ""
            },
            "colorscale": [
             [
              0,
              "#0d0887"
             ],
             [
              0.1111111111111111,
              "#46039f"
             ],
             [
              0.2222222222222222,
              "#7201a8"
             ],
             [
              0.3333333333333333,
              "#9c179e"
             ],
             [
              0.4444444444444444,
              "#bd3786"
             ],
             [
              0.5555555555555556,
              "#d8576b"
             ],
             [
              0.6666666666666666,
              "#ed7953"
             ],
             [
              0.7777777777777778,
              "#fb9f3a"
             ],
             [
              0.8888888888888888,
              "#fdca26"
             ],
             [
              1,
              "#f0f921"
             ]
            ],
            "type": "contour"
           }
          ],
          "contourcarpet": [
           {
            "colorbar": {
             "outlinewidth": 0,
             "ticks": ""
            },
            "type": "contourcarpet"
           }
          ],
          "heatmap": [
           {
            "colorbar": {
             "outlinewidth": 0,
             "ticks": ""
            },
            "colorscale": [
             [
              0,
              "#0d0887"
             ],
             [
              0.1111111111111111,
              "#46039f"
             ],
             [
              0.2222222222222222,
              "#7201a8"
             ],
             [
              0.3333333333333333,
              "#9c179e"
             ],
             [
              0.4444444444444444,
              "#bd3786"
             ],
             [
              0.5555555555555556,
              "#d8576b"
             ],
             [
              0.6666666666666666,
              "#ed7953"
             ],
             [
              0.7777777777777778,
              "#fb9f3a"
             ],
             [
              0.8888888888888888,
              "#fdca26"
             ],
             [
              1,
              "#f0f921"
             ]
            ],
            "type": "heatmap"
           }
          ],
          "heatmapgl": [
           {
            "colorbar": {
             "outlinewidth": 0,
             "ticks": ""
            },
            "colorscale": [
             [
              0,
              "#0d0887"
             ],
             [
              0.1111111111111111,
              "#46039f"
             ],
             [
              0.2222222222222222,
              "#7201a8"
             ],
             [
              0.3333333333333333,
              "#9c179e"
             ],
             [
              0.4444444444444444,
              "#bd3786"
             ],
             [
              0.5555555555555556,
              "#d8576b"
             ],
             [
              0.6666666666666666,
              "#ed7953"
             ],
             [
              0.7777777777777778,
              "#fb9f3a"
             ],
             [
              0.8888888888888888,
              "#fdca26"
             ],
             [
              1,
              "#f0f921"
             ]
            ],
            "type": "heatmapgl"
           }
          ],
          "histogram": [
           {
            "marker": {
             "pattern": {
              "fillmode": "overlay",
              "size": 10,
              "solidity": 0.2
             }
            },
            "type": "histogram"
           }
          ],
          "histogram2d": [
           {
            "colorbar": {
             "outlinewidth": 0,
             "ticks": ""
            },
            "colorscale": [
             [
              0,
              "#0d0887"
             ],
             [
              0.1111111111111111,
              "#46039f"
             ],
             [
              0.2222222222222222,
              "#7201a8"
             ],
             [
              0.3333333333333333,
              "#9c179e"
             ],
             [
              0.4444444444444444,
              "#bd3786"
             ],
             [
              0.5555555555555556,
              "#d8576b"
             ],
             [
              0.6666666666666666,
              "#ed7953"
             ],
             [
              0.7777777777777778,
              "#fb9f3a"
             ],
             [
              0.8888888888888888,
              "#fdca26"
             ],
             [
              1,
              "#f0f921"
             ]
            ],
            "type": "histogram2d"
           }
          ],
          "histogram2dcontour": [
           {
            "colorbar": {
             "outlinewidth": 0,
             "ticks": ""
            },
            "colorscale": [
             [
              0,
              "#0d0887"
             ],
             [
              0.1111111111111111,
              "#46039f"
             ],
             [
              0.2222222222222222,
              "#7201a8"
             ],
             [
              0.3333333333333333,
              "#9c179e"
             ],
             [
              0.4444444444444444,
              "#bd3786"
             ],
             [
              0.5555555555555556,
              "#d8576b"
             ],
             [
              0.6666666666666666,
              "#ed7953"
             ],
             [
              0.7777777777777778,
              "#fb9f3a"
             ],
             [
              0.8888888888888888,
              "#fdca26"
             ],
             [
              1,
              "#f0f921"
             ]
            ],
            "type": "histogram2dcontour"
           }
          ],
          "mesh3d": [
           {
            "colorbar": {
             "outlinewidth": 0,
             "ticks": ""
            },
            "type": "mesh3d"
           }
          ],
          "parcoords": [
           {
            "line": {
             "colorbar": {
              "outlinewidth": 0,
              "ticks": ""
             }
            },
            "type": "parcoords"
           }
          ],
          "pie": [
           {
            "automargin": true,
            "type": "pie"
           }
          ],
          "scatter": [
           {
            "fillpattern": {
             "fillmode": "overlay",
             "size": 10,
             "solidity": 0.2
            },
            "type": "scatter"
           }
          ],
          "scatter3d": [
           {
            "line": {
             "colorbar": {
              "outlinewidth": 0,
              "ticks": ""
             }
            },
            "marker": {
             "colorbar": {
              "outlinewidth": 0,
              "ticks": ""
             }
            },
            "type": "scatter3d"
           }
          ],
          "scattercarpet": [
           {
            "marker": {
             "colorbar": {
              "outlinewidth": 0,
              "ticks": ""
             }
            },
            "type": "scattercarpet"
           }
          ],
          "scattergeo": [
           {
            "marker": {
             "colorbar": {
              "outlinewidth": 0,
              "ticks": ""
             }
            },
            "type": "scattergeo"
           }
          ],
          "scattergl": [
           {
            "marker": {
             "colorbar": {
              "outlinewidth": 0,
              "ticks": ""
             }
            },
            "type": "scattergl"
           }
          ],
          "scattermapbox": [
           {
            "marker": {
             "colorbar": {
              "outlinewidth": 0,
              "ticks": ""
             }
            },
            "type": "scattermapbox"
           }
          ],
          "scatterpolar": [
           {
            "marker": {
             "colorbar": {
              "outlinewidth": 0,
              "ticks": ""
             }
            },
            "type": "scatterpolar"
           }
          ],
          "scatterpolargl": [
           {
            "marker": {
             "colorbar": {
              "outlinewidth": 0,
              "ticks": ""
             }
            },
            "type": "scatterpolargl"
           }
          ],
          "scatterternary": [
           {
            "marker": {
             "colorbar": {
              "outlinewidth": 0,
              "ticks": ""
             }
            },
            "type": "scatterternary"
           }
          ],
          "surface": [
           {
            "colorbar": {
             "outlinewidth": 0,
             "ticks": ""
            },
            "colorscale": [
             [
              0,
              "#0d0887"
             ],
             [
              0.1111111111111111,
              "#46039f"
             ],
             [
              0.2222222222222222,
              "#7201a8"
             ],
             [
              0.3333333333333333,
              "#9c179e"
             ],
             [
              0.4444444444444444,
              "#bd3786"
             ],
             [
              0.5555555555555556,
              "#d8576b"
             ],
             [
              0.6666666666666666,
              "#ed7953"
             ],
             [
              0.7777777777777778,
              "#fb9f3a"
             ],
             [
              0.8888888888888888,
              "#fdca26"
             ],
             [
              1,
              "#f0f921"
             ]
            ],
            "type": "surface"
           }
          ],
          "table": [
           {
            "cells": {
             "fill": {
              "color": "#EBF0F8"
             },
             "line": {
              "color": "white"
             }
            },
            "header": {
             "fill": {
              "color": "#C8D4E3"
             },
             "line": {
              "color": "white"
             }
            },
            "type": "table"
           }
          ]
         },
         "layout": {
          "annotationdefaults": {
           "arrowcolor": "#2a3f5f",
           "arrowhead": 0,
           "arrowwidth": 1
          },
          "autotypenumbers": "strict",
          "coloraxis": {
           "colorbar": {
            "outlinewidth": 0,
            "ticks": ""
           }
          },
          "colorscale": {
           "diverging": [
            [
             0,
             "#8e0152"
            ],
            [
             0.1,
             "#c51b7d"
            ],
            [
             0.2,
             "#de77ae"
            ],
            [
             0.3,
             "#f1b6da"
            ],
            [
             0.4,
             "#fde0ef"
            ],
            [
             0.5,
             "#f7f7f7"
            ],
            [
             0.6,
             "#e6f5d0"
            ],
            [
             0.7,
             "#b8e186"
            ],
            [
             0.8,
             "#7fbc41"
            ],
            [
             0.9,
             "#4d9221"
            ],
            [
             1,
             "#276419"
            ]
           ],
           "sequential": [
            [
             0,
             "#0d0887"
            ],
            [
             0.1111111111111111,
             "#46039f"
            ],
            [
             0.2222222222222222,
             "#7201a8"
            ],
            [
             0.3333333333333333,
             "#9c179e"
            ],
            [
             0.4444444444444444,
             "#bd3786"
            ],
            [
             0.5555555555555556,
             "#d8576b"
            ],
            [
             0.6666666666666666,
             "#ed7953"
            ],
            [
             0.7777777777777778,
             "#fb9f3a"
            ],
            [
             0.8888888888888888,
             "#fdca26"
            ],
            [
             1,
             "#f0f921"
            ]
           ],
           "sequentialminus": [
            [
             0,
             "#0d0887"
            ],
            [
             0.1111111111111111,
             "#46039f"
            ],
            [
             0.2222222222222222,
             "#7201a8"
            ],
            [
             0.3333333333333333,
             "#9c179e"
            ],
            [
             0.4444444444444444,
             "#bd3786"
            ],
            [
             0.5555555555555556,
             "#d8576b"
            ],
            [
             0.6666666666666666,
             "#ed7953"
            ],
            [
             0.7777777777777778,
             "#fb9f3a"
            ],
            [
             0.8888888888888888,
             "#fdca26"
            ],
            [
             1,
             "#f0f921"
            ]
           ]
          },
          "colorway": [
           "#636efa",
           "#EF553B",
           "#00cc96",
           "#ab63fa",
           "#FFA15A",
           "#19d3f3",
           "#FF6692",
           "#B6E880",
           "#FF97FF",
           "#FECB52"
          ],
          "font": {
           "color": "#2a3f5f"
          },
          "geo": {
           "bgcolor": "white",
           "lakecolor": "white",
           "landcolor": "#E5ECF6",
           "showlakes": true,
           "showland": true,
           "subunitcolor": "white"
          },
          "hoverlabel": {
           "align": "left"
          },
          "hovermode": "closest",
          "mapbox": {
           "style": "light"
          },
          "paper_bgcolor": "white",
          "plot_bgcolor": "#E5ECF6",
          "polar": {
           "angularaxis": {
            "gridcolor": "white",
            "linecolor": "white",
            "ticks": ""
           },
           "bgcolor": "#E5ECF6",
           "radialaxis": {
            "gridcolor": "white",
            "linecolor": "white",
            "ticks": ""
           }
          },
          "scene": {
           "xaxis": {
            "backgroundcolor": "#E5ECF6",
            "gridcolor": "white",
            "gridwidth": 2,
            "linecolor": "white",
            "showbackground": true,
            "ticks": "",
            "zerolinecolor": "white"
           },
           "yaxis": {
            "backgroundcolor": "#E5ECF6",
            "gridcolor": "white",
            "gridwidth": 2,
            "linecolor": "white",
            "showbackground": true,
            "ticks": "",
            "zerolinecolor": "white"
           },
           "zaxis": {
            "backgroundcolor": "#E5ECF6",
            "gridcolor": "white",
            "gridwidth": 2,
            "linecolor": "white",
            "showbackground": true,
            "ticks": "",
            "zerolinecolor": "white"
           }
          },
          "shapedefaults": {
           "line": {
            "color": "#2a3f5f"
           }
          },
          "ternary": {
           "aaxis": {
            "gridcolor": "white",
            "linecolor": "white",
            "ticks": ""
           },
           "baxis": {
            "gridcolor": "white",
            "linecolor": "white",
            "ticks": ""
           },
           "bgcolor": "#E5ECF6",
           "caxis": {
            "gridcolor": "white",
            "linecolor": "white",
            "ticks": ""
           }
          },
          "title": {
           "x": 0.05
          },
          "xaxis": {
           "automargin": true,
           "gridcolor": "white",
           "linecolor": "white",
           "ticks": "",
           "title": {
            "standoff": 15
           },
           "zerolinecolor": "white",
           "zerolinewidth": 2
          },
          "yaxis": {
           "automargin": true,
           "gridcolor": "white",
           "linecolor": "white",
           "ticks": "",
           "title": {
            "standoff": 15
           },
           "zerolinecolor": "white",
           "zerolinewidth": 2
          }
         }
        },
        "title": {
         "text": "GANTT Chart"
        },
        "xaxis": {
         "range": [
          "1970-01-01T00:00:00",
          "1970-01-01T13:52:17.881970"
         ],
         "title": {
          "font": {
           "color": "#7f7f7f",
           "family": "Courier New, monospace",
           "size": 18
          },
          "text": "Time"
         },
         "type": "date"
        },
        "yaxis": {
         "autorange": true,
         "range": [
          -0.05555555555555556,
          1.0555555555555556
         ],
         "title": {
          "font": {
           "color": "#7f7f7f",
           "family": "Courier New, monospace",
           "size": 18
          },
          "text": "Activities"
         },
         "type": "category"
        }
       }
      },
      "image/png": "[encoded data removed]",
      "text/html": [
       "<div>                            <div id=\"08e00f92-bb08-40d4-b393-7e32919e40b8\" class=\"plotly-graph-div\" style=\"height:525px; width:100%;\"></div>            <script type=\"text/javascript\">                require([\"plotly\"], function(Plotly) {                    window.PLOTLYENV=window.PLOTLYENV || {};                                    if (document.getElementById(\"08e00f92-bb08-40d4-b393-7e32919e40b8\")) {                    Plotly.newPlot(                        \"08e00f92-bb08-40d4-b393-7e32919e40b8\",                        [{\"connectgaps\":false,\"hoverinfo\":\"y+name\",\"line\":{\"color\":\"rgb(18,124,111)\",\"width\":10},\"mode\":\"lines\",\"name\":\"driving_full:truck1\",\"x\":[\"1970-01-01T00:32:50.113018\",\"1970-01-01T00:32:50.113018\",\"1970-01-01T01:03:36.375536\",\"1970-01-01T01:03:36.375536\",\"1970-01-01T01:03:36.375536\",\"1970-01-01T01:36:51.488555\",\"1970-01-01T01:36:51.488555\",\"1970-01-01T02:07:37.751072\",\"1970-01-01T02:07:37.751072\",\"1970-01-01T02:07:37.751072\",\"1970-01-01T02:40:52.864091\",\"1970-01-01T02:40:52.864091\",\"1970-01-01T03:11:39.126609\",\"1970-01-01T03:11:39.126609\",\"1970-01-01T03:11:39.126609\",\"1970-01-01T03:44:54.239627\",\"1970-01-01T03:44:54.239627\",\"1970-01-01T04:15:40.502145\",\"1970-01-01T04:15:40.502145\",\"1970-01-01T04:15:40.502145\",\"1970-01-01T04:48:55.615163\",\"1970-01-01T04:48:55.615163\",\"1970-01-01T05:19:41.877681\",\"1970-01-01T05:19:41.877681\",\"1970-01-01T05:19:41.877681\",\"1970-01-01T05:52:56.990699\",\"1970-01-01T05:52:56.990699\",\"1970-01-01T06:23:43.253217\",\"1970-01-01T06:23:43.253217\",\"1970-01-01T06:23:43.253217\",\"1970-01-01T06:56:58.366235\",\"1970-01-01T06:56:58.366235\",\"1970-01-01T07:27:44.628753\",\"1970-01-01T07:27:44.628753\",\"1970-01-01T07:27:44.628753\",\"1970-01-01T08:00:59.741772\",\"1970-01-01T08:00:59.741772\",\"1970-01-01T08:31:46.004289\",\"1970-01-01T08:31:46.004289\",\"1970-01-01T08:31:46.004289\",\"1970-01-01T09:05:01.117308\",\"1970-01-01T09:05:01.117308\",\"1970-01-01T09:35:47.379826\",\"1970-01-01T09:35:47.379826\",\"1970-01-01T09:35:47.379826\",\"1970-01-01T10:09:02.492844\",\"1970-01-01T10:09:02.492844\",\"1970-01-01T10:39:48.755362\",\"1970-01-01T10:39:48.755362\",\"1970-01-01T10:39:48.755362\",\"1970-01-01T11:13:03.868380\",\"1970-01-01T11:13:03.868380\",\"1970-01-01T11:43:50.130898\",\"1970-01-01T11:43:50.130898\",\"1970-01-01T11:43:50.130898\",\"1970-01-01T12:17:05.243916\",\"1970-01-01T12:17:05.243916\",\"1970-01-01T12:47:51.506434\",\"1970-01-01T12:47:51.506434\",\"1970-01-01T12:47:51.506434\",\"1970-01-01T13:21:06.619452\",\"1970-01-01T13:21:06.619452\",\"1970-01-01T13:51:52.881970\",\"1970-01-01T13:51:52.881970\",\"1970-01-01T13:51:52.881970\"],\"y\":[\"truck1\",\"truck1\",\"truck1\",\"truck1\",null,\"truck1\",\"truck1\",\"truck1\",\"truck1\",null,\"truck1\",\"truck1\",\"truck1\",\"truck1\",null,\"truck1\",\"truck1\",\"truck1\",\"truck1\",null,\"truck1\",\"truck1\",\"truck1\",\"truck1\",null,\"truck1\",\"truck1\",\"truck1\",\"truck1\",null,\"truck1\",\"truck1\",\"truck1\",\"truck1\",null,\"truck1\",\"truck1\",\"truck1\",\"truck1\",null,\"truck1\",\"truck1\",\"truck1\",\"truck1\",null,\"truck1\",\"truck1\",\"truck1\",\"truck1\",null,\"truck1\",\"truck1\",\"truck1\",\"truck1\",null,\"truck1\",\"truck1\",\"truck1\",\"truck1\",null,\"truck1\",\"truck1\",\"truck1\",\"truck1\",null],\"type\":\"scatter\"},{\"connectgaps\":false,\"hoverinfo\":\"y+name\",\"line\":{\"color\":\"rgb(50,156,143)\",\"width\":10},\"mode\":\"lines\",\"name\":\"unloading:truck1\",\"x\":[\"1970-01-01T01:03:36.375536\",\"1970-01-01T01:03:36.375536\",\"1970-01-01T01:04:01.375536\",\"1970-01-01T01:04:01.375536\",\"1970-01-01T01:04:01.375536\",\"1970-01-01T02:07:37.751072\",\"1970-01-01T02:07:37.751072\",\"1970-01-01T02:08:02.751072\",\"1970-01-01T02:08:02.751072\",\"1970-01-01T02:08:02.751072\",\"1970-01-01T03:11:39.126609\",\"1970-01-01T03:11:39.126609\",\"1970-01-01T03:12:04.126609\",\"1970-01-01T03:12:04.126609\",\"1970-01-01T03:12:04.126609\",\"1970-01-01T04:15:40.502145\",\"1970-01-01T04:15:40.502145\",\"1970-01-01T04:16:05.502145\",\"1970-01-01T04:16:05.502145\",\"1970-01-01T04:16:05.502145\",\"1970-01-01T05:19:41.877681\",\"1970-01-01T05:19:41.877681\",\"1970-01-01T05:20:06.877681\",\"1970-01-01T05:20:06.877681\",\"1970-01-01T05:20:06.877681\",\"1970-01-01T06:23:43.253217\",\"1970-01-01T06:23:43.253217\",\"1970-01-01T06:24:08.253217\",\"1970-01-01T06:24:08.253217\",\"1970-01-01T06:24:08.253217\",\"1970-01-01T07:27:44.628753\",\"1970-01-01T07:27:44.628753\",\"1970-01-01T07:28:09.628753\",\"1970-01-01T07:28:09.628753\",\"1970-01-01T07:28:09.628753\",\"1970-01-01T08:31:46.004289\",\"1970-01-01T08:31:46.004289\",\"1970-01-01T08:32:11.004289\",\"1970-01-01T08:32:11.004289\",\"1970-01-01T08:32:11.004289\",\"1970-01-01T09:35:47.379826\",\"1970-01-01T09:35:47.379826\",\"1970-01-01T09:36:12.379826\",\"1970-01-01T09:36:12.379826\",\"1970-01-01T09:36:12.379826\",\"1970-01-01T10:39:48.755362\",\"1970-01-01T10:39:48.755362\",\"1970-01-01T10:40:13.755362\",\"1970-01-01T10:40:13.755362\",\"1970-01-01T10:40:13.755362\",\"1970-01-01T11:43:50.130898\",\"1970-01-01T11:43:50.130898\",\"1970-01-01T11:44:15.130898\",\"1970-01-01T11:44:15.130898\",\"1970-01-01T11:44:15.130898\",\"1970-01-01T12:47:51.506434\",\"1970-01-01T12:47:51.506434\",\"1970-01-01T12:48:16.506434\",\"1970-01-01T12:48:16.506434\",\"1970-01-01T12:48:16.506434\",\"1970-01-01T13:51:52.881970\",\"1970-01-01T13:51:52.881970\",\"1970-01-01T13:52:17.881970\",\"1970-01-01T13:52:17.881970\",\"1970-01-01T13:52:17.881970\"],\"y\":[\"truck1\",\"truck1\",\"truck1\",\"truck1\",null,\"truck1\",\"truck1\",\"truck1\",\"truck1\",null,\"truck1\",\"truck1\",\"truck1\",\"truck1\",null,\"truck1\",\"truck1\",\"truck1\",\"truck1\",null,\"truck1\",\"truck1\",\"truck1\",\"truck1\",null,\"truck1\",\"truck1\",\"truck1\",\"truck1\",null,\"truck1\",\"truck1\",\"truck1\",\"truck1\",null,\"truck1\",\"truck1\",\"truck1\",\"truck1\",null,\"truck1\",\"truck1\",\"truck1\",\"truck1\",null,\"truck1\",\"truck1\",\"truck1\",\"truck1\",null,\"truck1\",\"truck1\",\"truck1\",\"truck1\",null,\"truck1\",\"truck1\",\"truck1\",\"truck1\",null,\"truck1\",\"truck1\",\"truck1\",\"truck1\",null],\"type\":\"scatter\"},{\"connectgaps\":false,\"hoverinfo\":\"y+name\",\"line\":{\"color\":\"rgb(82,188,175)\",\"width\":10},\"mode\":\"lines\",\"name\":\"loading:truck1\",\"x\":[\"1970-01-01T00:32:00.113018\",\"1970-01-01T00:32:00.113018\",\"1970-01-01T00:32:50.113018\",\"1970-01-01T00:32:50.113018\",\"1970-01-01T00:32:50.113018\",\"1970-01-01T01:36:01.488555\",\"1970-01-01T01:36:01.488555\",\"1970-01-01T01:36:51.488555\",\"1970-01-01T01:36:51.488555\",\"1970-01-01T01:36:51.488555\",\"1970-01-01T02:40:02.864091\",\"1970-01-01T02:40:02.864091\",\"1970-01-01T02:40:52.864091\",\"1970-01-01T02:40:52.864091\",\"1970-01-01T02:40:52.864091\",\"1970-01-01T03:44:04.239627\",\"1970-01-01T03:44:04.239627\",\"1970-01-01T03:44:54.239627\",\"1970-01-01T03:44:54.239627\",\"1970-01-01T03:44:54.239627\",\"1970-01-01T04:48:05.615163\",\"1970-01-01T04:48:05.615163\",\"1970-01-01T04:48:55.615163\",\"1970-01-01T04:48:55.615163\",\"1970-01-01T04:48:55.615163\",\"1970-01-01T05:52:06.990699\",\"1970-01-01T05:52:06.990699\",\"1970-01-01T05:52:56.990699\",\"1970-01-01T05:52:56.990699\",\"1970-01-01T05:52:56.990699\",\"1970-01-01T06:56:08.366235\",\"1970-01-01T06:56:08.366235\",\"1970-01-01T06:56:58.366235\",\"1970-01-01T06:56:58.366235\",\"1970-01-01T06:56:58.366235\",\"1970-01-01T08:00:09.741772\",\"1970-01-01T08:00:09.741772\",\"1970-01-01T08:00:59.741772\",\"1970-01-01T08:00:59.741772\",\"1970-01-01T08:00:59.741772\",\"1970-01-01T09:04:11.117308\",\"1970-01-01T09:04:11.117308\",\"1970-01-01T09:05:01.117308\",\"1970-01-01T09:05:01.117308\",\"1970-01-01T09:05:01.117308\",\"1970-01-01T10:08:12.492844\",\"1970-01-01T10:08:12.492844\",\"1970-01-01T10:09:02.492844\",\"1970-01-01T10:09:02.492844\",\"1970-01-01T10:09:02.492844\",\"1970-01-01T11:12:13.868380\",\"1970-01-01T11:12:13.868380\",\"1970-01-01T11:13:03.868380\",\"1970-01-01T11:13:03.868380\",\"1970-01-01T11:13:03.868380\",\"1970-01-01T12:16:15.243916\",\"1970-01-01T12:16:15.243916\",\"1970-01-01T12:17:05.243916\",\"1970-01-01T12:17:05.243916\",\"1970-01-01T12:17:05.243916\",\"1970-01-01T13:20:16.619452\",\"1970-01-01T13:20:16.619452\",\"1970-01-01T13:21:06.619452\",\"1970-01-01T13:21:06.619452\",\"1970-01-01T13:21:06.619452\"],\"y\":[\"truck1\",\"truck1\",\"truck1\",\"truck1\",null,\"truck1\",\"truck1\",\"truck1\",\"truck1\",null,\"truck1\",\"truck1\",\"truck1\",\"truck1\",null,\"truck1\",\"truck1\",\"truck1\",\"truck1\",null,\"truck1\",\"truck1\",\"truck1\",\"truck1\",null,\"truck1\",\"truck1\",\"truck1\",\"truck1\",null,\"truck1\",\"truck1\",\"truck1\",\"truck1\",null,\"truck1\",\"truck1\",\"truck1\",\"truck1\",null,\"truck1\",\"truck1\",\"truck1\",\"truck1\",null,\"truck1\",\"truck1\",\"truck1\",\"truck1\",null,\"truck1\",\"truck1\",\"truck1\",\"truck1\",null,\"truck1\",\"truck1\",\"truck1\",\"truck1\",null,\"truck1\",\"truck1\",\"truck1\",\"truck1\",null],\"type\":\"scatter\"},{\"connectgaps\":false,\"hoverinfo\":\"y+name\",\"line\":{\"color\":\"rgb(114,220,207)\",\"width\":10},\"mode\":\"lines\",\"name\":\"driving_empty:truck1\",\"x\":[\"1970-01-01T00:00:00\",\"1970-01-01T00:00:00\",\"1970-01-01T00:32:00.113018\",\"1970-01-01T00:32:00.113018\",\"1970-01-01T00:32:00.113018\",\"1970-01-01T01:04:01.375536\",\"1970-01-01T01:04:01.375536\",\"1970-01-01T01:36:01.488555\",\"1970-01-01T01:36:01.488555\",\"1970-01-01T01:36:01.488555\",\"1970-01-01T02:08:02.751072\",\"1970-01-01T02:08:02.751072\",\"1970-01-01T02:40:02.864091\",\"1970-01-01T02:40:02.864091\",\"1970-01-01T02:40:02.864091\",\"1970-01-01T03:12:04.126609\",\"1970-01-01T03:12:04.126609\",\"1970-01-01T03:44:04.239627\",\"1970-01-01T03:44:04.239627\",\"1970-01-01T03:44:04.239627\",\"1970-01-01T04:16:05.502145\",\"1970-01-01T04:16:05.502145\",\"1970-01-01T04:48:05.615163\",\"1970-01-01T04:48:05.615163\",\"1970-01-01T04:48:05.615163\",\"1970-01-01T05:20:06.877681\",\"1970-01-01T05:20:06.877681\",\"1970-01-01T05:52:06.990699\",\"1970-01-01T05:52:06.990699\",\"1970-01-01T05:52:06.990699\",\"1970-01-01T06:24:08.253217\",\"1970-01-01T06:24:08.253217\",\"1970-01-01T06:56:08.366235\",\"1970-01-01T06:56:08.366235\",\"1970-01-01T06:56:08.366235\",\"1970-01-01T07:28:09.628753\",\"1970-01-01T07:28:09.628753\",\"1970-01-01T08:00:09.741772\",\"1970-01-01T08:00:09.741772\",\"1970-01-01T08:00:09.741772\",\"1970-01-01T08:32:11.004289\",\"1970-01-01T08:32:11.004289\",\"1970-01-01T09:04:11.117308\",\"1970-01-01T09:04:11.117308\",\"1970-01-01T09:04:11.117308\",\"1970-01-01T09:36:12.379826\",\"1970-01-01T09:36:12.379826\",\"1970-01-01T10:08:12.492844\",\"1970-01-01T10:08:12.492844\",\"1970-01-01T10:08:12.492844\",\"1970-01-01T10:40:13.755362\",\"1970-01-01T10:40:13.755362\",\"1970-01-01T11:12:13.868380\",\"1970-01-01T11:12:13.868380\",\"1970-01-01T11:12:13.868380\",\"1970-01-01T11:44:15.130898\",\"1970-01-01T11:44:15.130898\",\"1970-01-01T12:16:15.243916\",\"1970-01-01T12:16:15.243916\",\"1970-01-01T12:16:15.243916\",\"1970-01-01T12:48:16.506434\",\"1970-01-01T12:48:16.506434\",\"1970-01-01T13:20:16.619452\",\"1970-01-01T13:20:16.619452\",\"1970-01-01T13:20:16.619452\"],\"y\":[\"truck1\",\"truck1\",\"truck1\",\"truck1\",null,\"truck1\",\"truck1\",\"truck1\",\"truck1\",null,\"truck1\",\"truck1\",\"truck1\",\"truck1\",null,\"truck1\",\"truck1\",\"truck1\",\"truck1\",null,\"truck1\",\"truck1\",\"truck1\",\"truck1\",null,\"truck1\",\"truck1\",\"truck1\",\"truck1\",null,\"truck1\",\"truck1\",\"truck1\",\"truck1\",null,\"truck1\",\"truck1\",\"truck1\",\"truck1\",null,\"truck1\",\"truck1\",\"truck1\",\"truck1\",null,\"truck1\",\"truck1\",\"truck1\",\"truck1\",null,\"truck1\",\"truck1\",\"truck1\",\"truck1\",null,\"truck1\",\"truck1\",\"truck1\",\"truck1\",null,\"truck1\",\"truck1\",\"truck1\",\"truck1\",null],\"type\":\"scatter\"},{\"connectgaps\":false,\"hoverinfo\":\"y+name\",\"line\":{\"color\":\"rgb(146,252,239)\",\"width\":10},\"mode\":\"lines\",\"name\":\"driving_full:truck2\",\"x\":[\"1970-01-01T00:33:40.113018\",\"1970-01-01T00:33:40.113018\",\"1970-01-01T01:04:26.375536\",\"1970-01-01T01:04:26.375536\",\"1970-01-01T01:04:26.375536\",\"1970-01-01T01:37:41.488555\",\"1970-01-01T01:37:41.488555\",\"1970-01-01T02:08:27.751072\",\"1970-01-01T02:08:27.751072\",\"1970-01-01T02:08:27.751072\",\"1970-01-01T02:41:42.864091\",\"1970-01-01T02:41:42.864091\",\"1970-01-01T03:12:29.126609\",\"1970-01-01T03:12:29.126609\",\"1970-01-01T03:12:29.126609\",\"1970-01-01T03:45:44.239627\",\"1970-01-01T03:45:44.239627\",\"1970-01-01T04:16:30.502145\",\"1970-01-01T04:16:30.502145\",\"1970-01-01T04:16:30.502145\",\"1970-01-01T04:49:45.615163\",\"1970-01-01T04:49:45.615163\",\"1970-01-01T05:20:31.877681\",\"1970-01-01T05:20:31.877681\",\"1970-01-01T05:20:31.877681\",\"1970-01-01T05:53:46.990699\",\"1970-01-01T05:53:46.990699\",\"1970-01-01T06:24:33.253217\",\"1970-01-01T06:24:33.253217\",\"1970-01-01T06:24:33.253217\",\"1970-01-01T06:57:48.366235\",\"1970-01-01T06:57:48.366235\",\"1970-01-01T07:28:34.628753\",\"1970-01-01T07:28:34.628753\",\"1970-01-01T07:28:34.628753\",\"1970-01-01T08:01:49.741772\",\"1970-01-01T08:01:49.741772\",\"1970-01-01T08:32:36.004289\",\"1970-01-01T08:32:36.004289\",\"1970-01-01T08:32:36.004289\",\"1970-01-01T09:05:51.117308\",\"1970-01-01T09:05:51.117308\",\"1970-01-01T09:36:37.379826\",\"1970-01-01T09:36:37.379826\",\"1970-01-01T09:36:37.379826\",\"1970-01-01T10:09:52.492844\",\"1970-01-01T10:09:52.492844\",\"1970-01-01T10:40:38.755362\",\"1970-01-01T10:40:38.755362\",\"1970-01-01T10:40:38.755362\",\"1970-01-01T11:13:53.868380\",\"1970-01-01T11:13:53.868380\",\"1970-01-01T11:44:40.130898\",\"1970-01-01T11:44:40.130898\",\"1970-01-01T11:44:40.130898\",\"1970-01-01T12:17:55.243916\",\"1970-01-01T12:17:55.243916\",\"1970-01-01T12:48:41.506434\",\"1970-01-01T12:48:41.506434\",\"1970-01-01T12:48:41.506434\"],\"y\":[\"truck2\",\"truck2\",\"truck2\",\"truck2\",null,\"truck2\",\"truck2\",\"truck2\",\"truck2\",null,\"truck2\",\"truck2\",\"truck2\",\"truck2\",null,\"truck2\",\"truck2\",\"truck2\",\"truck2\",null,\"truck2\",\"truck2\",\"truck2\",\"truck2\",null,\"truck2\",\"truck2\",\"truck2\",\"truck2\",null,\"truck2\",\"truck2\",\"truck2\",\"truck2\",null,\"truck2\",\"truck2\",\"truck2\",\"truck2\",null,\"truck2\",\"truck2\",\"truck2\",\"truck2\",null,\"truck2\",\"truck2\",\"truck2\",\"truck2\",null,\"truck2\",\"truck2\",\"truck2\",\"truck2\",null,\"truck2\",\"truck2\",\"truck2\",\"truck2\",null],\"type\":\"scatter\"},{\"connectgaps\":false,\"hoverinfo\":\"y+name\",\"line\":{\"color\":\"rgb(178,28,15)\",\"width\":10},\"mode\":\"lines\",\"name\":\"loading:truck2\",\"x\":[\"1970-01-01T00:32:50.113018\",\"1970-01-01T00:32:50.113018\",\"1970-01-01T00:33:40.113018\",\"1970-01-01T00:33:40.113018\",\"1970-01-01T00:33:40.113018\",\"1970-01-01T01:36:51.488555\",\"1970-01-01T01:36:51.488555\",\"1970-01-01T01:37:41.488555\",\"1970-01-01T01:37:41.488555\",\"1970-01-01T01:37:41.488555\",\"1970-01-01T02:40:52.864091\",\"1970-01-01T02:40:52.864091\",\"1970-01-01T02:41:42.864091\",\"1970-01-01T02:41:42.864091\",\"1970-01-01T02:41:42.864091\",\"1970-01-01T03:44:54.239627\",\"1970-01-01T03:44:54.239627\",\"1970-01-01T03:45:44.239627\",\"1970-01-01T03:45:44.239627\",\"1970-01-01T03:45:44.239627\",\"1970-01-01T04:48:55.615163\",\"1970-01-01T04:48:55.615163\",\"1970-01-01T04:49:45.615163\",\"1970-01-01T04:49:45.615163\",\"1970-01-01T04:49:45.615163\",\"1970-01-01T05:52:56.990699\",\"1970-01-01T05:52:56.990699\",\"1970-01-01T05:53:46.990699\",\"1970-01-01T05:53:46.990699\",\"1970-01-01T05:53:46.990699\",\"1970-01-01T06:56:58.366235\",\"1970-01-01T06:56:58.366235\",\"1970-01-01T06:57:48.366235\",\"1970-01-01T06:57:48.366235\",\"1970-01-01T06:57:48.366235\",\"1970-01-01T08:00:59.741772\",\"1970-01-01T08:00:59.741772\",\"1970-01-01T08:01:49.741772\",\"1970-01-01T08:01:49.741772\",\"1970-01-01T08:01:49.741772\",\"1970-01-01T09:05:01.117308\",\"1970-01-01T09:05:01.117308\",\"1970-01-01T09:05:51.117308\",\"1970-01-01T09:05:51.117308\",\"1970-01-01T09:05:51.117308\",\"1970-01-01T10:09:02.492844\",\"1970-01-01T10:09:02.492844\",\"1970-01-01T10:09:52.492844\",\"1970-01-01T10:09:52.492844\",\"1970-01-01T10:09:52.492844\",\"1970-01-01T11:13:03.868380\",\"1970-01-01T11:13:03.868380\",\"1970-01-01T11:13:53.868380\",\"1970-01-01T11:13:53.868380\",\"1970-01-01T11:13:53.868380\",\"1970-01-01T12:17:05.243916\",\"1970-01-01T12:17:05.243916\",\"1970-01-01T12:17:55.243916\",\"1970-01-01T12:17:55.243916\",\"1970-01-01T12:17:55.243916\"],\"y\":[\"truck2\",\"truck2\",\"truck2\",\"truck2\",null,\"truck2\",\"truck2\",\"truck2\",\"truck2\",null,\"truck2\",\"truck2\",\"truck2\",\"truck2\",null,\"truck2\",\"truck2\",\"truck2\",\"truck2\",null,\"truck2\",\"truck2\",\"truck2\",\"truck2\",null,\"truck2\",\"truck2\",\"truck2\",\"truck2\",null,\"truck2\",\"truck2\",\"truck2\",\"truck2\",null,\"truck2\",\"truck2\",\"truck2\",\"truck2\",null,\"truck2\",\"truck2\",\"truck2\",\"truck2\",null,\"truck2\",\"truck2\",\"truck2\",\"truck2\",null,\"truck2\",\"truck2\",\"truck2\",\"truck2\",null,\"truck2\",\"truck2\",\"truck2\",\"truck2\",null],\"type\":\"scatter\"},{\"connectgaps\":false,\"hoverinfo\":\"y+name\",\"line\":{\"color\":\"rgb(210,60,47)\",\"width\":10},\"mode\":\"lines\",\"name\":\"unloading:truck2\",\"x\":[\"1970-01-01T01:04:26.375536\",\"1970-01-01T01:04:26.375536\",\"1970-01-01T01:04:51.375536\",\"1970-01-01T01:04:51.375536\",\"1970-01-01T01:04:51.375536\",\"1970-01-01T02:08:27.751072\",\"1970-01-01T02:08:27.751072\",\"1970-01-01T02:08:52.751072\",\"1970-01-01T02:08:52.751072\",\"1970-01-01T02:08:52.751072\",\"1970-01-01T03:12:29.126609\",\"1970-01-01T03:12:29.126609\",\"1970-01-01T03:12:54.126609\",\"1970-01-01T03:12:54.126609\",\"1970-01-01T03:12:54.126609\",\"1970-01-01T04:16:30.502145\",\"1970-01-01T04:16:30.502145\",\"1970-01-01T04:16:55.502145\",\"1970-01-01T04:16:55.502145\",\"1970-01-01T04:16:55.502145\",\"1970-01-01T05:20:31.877681\",\"1970-01-01T05:20:31.877681\",\"1970-01-01T05:20:56.877681\",\"1970-01-01T05:20:56.877681\",\"1970-01-01T05:20:56.877681\",\"1970-01-01T06:24:33.253217\",\"1970-01-01T06:24:33.253217\",\"1970-01-01T06:24:58.253217\",\"1970-01-01T06:24:58.253217\",\"1970-01-01T06:24:58.253217\",\"1970-01-01T07:28:34.628753\",\"1970-01-01T07:28:34.628753\",\"1970-01-01T07:28:59.628753\",\"1970-01-01T07:28:59.628753\",\"1970-01-01T07:28:59.628753\",\"1970-01-01T08:32:36.004289\",\"1970-01-01T08:32:36.004289\",\"1970-01-01T08:33:01.004289\",\"1970-01-01T08:33:01.004289\",\"1970-01-01T08:33:01.004289\",\"1970-01-01T09:36:37.379826\",\"1970-01-01T09:36:37.379826\",\"1970-01-01T09:37:02.379826\",\"1970-01-01T09:37:02.379826\",\"1970-01-01T09:37:02.379826\",\"1970-01-01T10:40:38.755362\",\"1970-01-01T10:40:38.755362\",\"1970-01-01T10:41:03.755362\",\"1970-01-01T10:41:03.755362\",\"1970-01-01T10:41:03.755362\",\"1970-01-01T11:44:40.130898\",\"1970-01-01T11:44:40.130898\",\"1970-01-01T11:45:05.130898\",\"1970-01-01T11:45:05.130898\",\"1970-01-01T11:45:05.130898\",\"1970-01-01T12:48:41.506434\",\"1970-01-01T12:48:41.506434\",\"1970-01-01T12:49:06.506434\",\"1970-01-01T12:49:06.506434\",\"1970-01-01T12:49:06.506434\"],\"y\":[\"truck2\",\"truck2\",\"truck2\",\"truck2\",null,\"truck2\",\"truck2\",\"truck2\",\"truck2\",null,\"truck2\",\"truck2\",\"truck2\",\"truck2\",null,\"truck2\",\"truck2\",\"truck2\",\"truck2\",null,\"truck2\",\"truck2\",\"truck2\",\"truck2\",null,\"truck2\",\"truck2\",\"truck2\",\"truck2\",null,\"truck2\",\"truck2\",\"truck2\",\"truck2\",null,\"truck2\",\"truck2\",\"truck2\",\"truck2\",null,\"truck2\",\"truck2\",\"truck2\",\"truck2\",null,\"truck2\",\"truck2\",\"truck2\",\"truck2\",null,\"truck2\",\"truck2\",\"truck2\",\"truck2\",null,\"truck2\",\"truck2\",\"truck2\",\"truck2\",null],\"type\":\"scatter\"},{\"connectgaps\":false,\"hoverinfo\":\"y+name\",\"line\":{\"color\":\"rgb(242,92,79)\",\"width\":10},\"mode\":\"lines\",\"name\":\"driving_empty:truck2\",\"x\":[\"1970-01-01T00:00:00\",\"1970-01-01T00:00:00\",\"1970-01-01T00:32:00.113018\",\"1970-01-01T00:32:00.113018\",\"1970-01-01T00:32:00.113018\",\"1970-01-01T01:04:51.375536\",\"1970-01-01T01:04:51.375536\",\"1970-01-01T01:36:51.488555\",\"1970-01-01T01:36:51.488555\",\"1970-01-01T01:36:51.488555\",\"1970-01-01T02:08:52.751072\",\"1970-01-01T02:08:52.751072\",\"1970-01-01T02:40:52.864091\",\"1970-01-01T02:40:52.864091\",\"1970-01-01T02:40:52.864091\",\"1970-01-01T03:12:54.126609\",\"1970-01-01T03:12:54.126609\",\"1970-01-01T03:44:54.239627\",\"1970-01-01T03:44:54.239627\",\"1970-01-01T03:44:54.239627\",\"1970-01-01T04:16:55.502145\",\"1970-01-01T04:16:55.502145\",\"1970-01-01T04:48:55.615163\",\"1970-01-01T04:48:55.615163\",\"1970-01-01T04:48:55.615163\",\"1970-01-01T05:20:56.877681\",\"1970-01-01T05:20:56.877681\",\"1970-01-01T05:52:56.990699\",\"1970-01-01T05:52:56.990699\",\"1970-01-01T05:52:56.990699\",\"1970-01-01T06:24:58.253217\",\"1970-01-01T06:24:58.253217\",\"1970-01-01T06:56:58.366235\",\"1970-01-01T06:56:58.366235\",\"1970-01-01T06:56:58.366235\",\"1970-01-01T07:28:59.628753\",\"1970-01-01T07:28:59.628753\",\"1970-01-01T08:00:59.741772\",\"1970-01-01T08:00:59.741772\",\"1970-01-01T08:00:59.741772\",\"1970-01-01T08:33:01.004289\",\"1970-01-01T08:33:01.004289\",\"1970-01-01T09:05:01.117308\",\"1970-01-01T09:05:01.117308\",\"1970-01-01T09:05:01.117308\",\"1970-01-01T09:37:02.379826\",\"1970-01-01T09:37:02.379826\",\"1970-01-01T10:09:02.492844\",\"1970-01-01T10:09:02.492844\",\"1970-01-01T10:09:02.492844\",\"1970-01-01T10:41:03.755362\",\"1970-01-01T10:41:03.755362\",\"1970-01-01T11:13:03.868380\",\"1970-01-01T11:13:03.868380\",\"1970-01-01T11:13:03.868380\",\"1970-01-01T11:45:05.130898\",\"1970-01-01T11:45:05.130898\",\"1970-01-01T12:17:05.243916\",\"1970-01-01T12:17:05.243916\",\"1970-01-01T12:17:05.243916\"],\"y\":[\"truck2\",\"truck2\",\"truck2\",\"truck2\",null,\"truck2\",\"truck2\",\"truck2\",\"truck2\",null,\"truck2\",\"truck2\",\"truck2\",\"truck2\",null,\"truck2\",\"truck2\",\"truck2\",\"truck2\",null,\"truck2\",\"truck2\",\"truck2\",\"truck2\",null,\"truck2\",\"truck2\",\"truck2\",\"truck2\",null,\"truck2\",\"truck2\",\"truck2\",\"truck2\",null,\"truck2\",\"truck2\",\"truck2\",\"truck2\",null,\"truck2\",\"truck2\",\"truck2\",\"truck2\",null,\"truck2\",\"truck2\",\"truck2\",\"truck2\",null,\"truck2\",\"truck2\",\"truck2\",\"truck2\",null,\"truck2\",\"truck2\",\"truck2\",\"truck2\",null],\"type\":\"scatter\"}],                        {\"hovermode\":\"closest\",\"legend\":{\"orientation\":\"h\",\"x\":0,\"y\":-0.2},\"template\":{\"data\":{\"barpolar\":[{\"marker\":{\"line\":{\"color\":\"#E5ECF6\",\"width\":0.5},\"pattern\":{\"fillmode\":\"overlay\",\"size\":10,\"solidity\":0.2}},\"type\":\"barpolar\"}],\"bar\":[{\"error_x\":{\"color\":\"#2a3f5f\"},\"error_y\":{\"color\":\"#2a3f5f\"},\"marker\":{\"line\":{\"color\":\"#E5ECF6\",\"width\":0.5},\"pattern\":{\"fillmode\":\"overlay\",\"size\":10,\"solidity\":0.2}},\"type\":\"bar\"}],\"carpet\":[{\"aaxis\":{\"endlinecolor\":\"#2a3f5f\",\"gridcolor\":\"white\",\"linecolor\":\"white\",\"minorgridcolor\":\"white\",\"startlinecolor\":\"#2a3f5f\"},\"baxis\":{\"endlinecolor\":\"#2a3f5f\",\"gridcolor\":\"white\",\"linecolor\":\"white\",\"minorgridcolor\":\"white\",\"startlinecolor\":\"#2a3f5f\"},\"type\":\"carpet\"}],\"choropleth\":[{\"colorbar\":{\"outlinewidth\":0,\"ticks\":\"\"},\"type\":\"choropleth\"}],\"contourcarpet\":[{\"colorbar\":{\"outlinewidth\":0,\"ticks\":\"\"},\"type\":\"contourcarpet\"}],\"contour\":[{\"colorbar\":{\"outlinewidth\":0,\"ticks\":\"\"},\"colorscale\":[[0.0,\"#0d0887\"],[0.1111111111111111,\"#46039f\"],[0.2222222222222222,\"#7201a8\"],[0.3333333333333333,\"#9c179e\"],[0.4444444444444444,\"#bd3786\"],[0.5555555555555556,\"#d8576b\"],[0.6666666666666666,\"#ed7953\"],[0.7777777777777778,\"#fb9f3a\"],[0.8888888888888888,\"#fdca26\"],[1.0,\"#f0f921\"]],\"type\":\"contour\"}],\"heatmapgl\":[{\"colorbar\":{\"outlinewidth\":0,\"ticks\":\"\"},\"colorscale\":[[0.0,\"#0d0887\"],[0.1111111111111111,\"#46039f\"],[0.2222222222222222,\"#7201a8\"],[0.3333333333333333,\"#9c179e\"],[0.4444444444444444,\"#bd3786\"],[0.5555555555555556,\"#d8576b\"],[0.6666666666666666,\"#ed7953\"],[0.7777777777777778,\"#fb9f3a\"],[0.8888888888888888,\"#fdca26\"],[1.0,\"#f0f921\"]],\"type\":\"heatmapgl\"}],\"heatmap\":[{\"colorbar\":{\"outlinewidth\":0,\"ticks\":\"\"},\"colorscale\":[[0.0,\"#0d0887\"],[0.1111111111111111,\"#46039f\"],[0.2222222222222222,\"#7201a8\"],[0.3333333333333333,\"#9c179e\"],[0.4444444444444444,\"#bd3786\"],[0.5555555555555556,\"#d8576b\"],[0.6666666666666666,\"#ed7953\"],[0.7777777777777778,\"#fb9f3a\"],[0.8888888888888888,\"#fdca26\"],[1.0,\"#f0f921\"]],\"type\":\"heatmap\"}],\"histogram2dcontour\":[{\"colorbar\":{\"outlinewidth\":0,\"ticks\":\"\"},\"colorscale\":[[0.0,\"#0d0887\"],[0.1111111111111111,\"#46039f\"],[0.2222222222222222,\"#7201a8\"],[0.3333333333333333,\"#9c179e\"],[0.4444444444444444,\"#bd3786\"],[0.5555555555555556,\"#d8576b\"],[0.6666666666666666,\"#ed7953\"],[0.7777777777777778,\"#fb9f3a\"],[0.8888888888888888,\"#fdca26\"],[1.0,\"#f0f921\"]],\"type\":\"histogram2dcontour\"}],\"histogram2d\":[{\"colorbar\":{\"outlinewidth\":0,\"ticks\":\"\"},\"colorscale\":[[0.0,\"#0d0887\"],[0.1111111111111111,\"#46039f\"],[0.2222222222222222,\"#7201a8\"],[0.3333333333333333,\"#9c179e\"],[0.4444444444444444,\"#bd3786\"],[0.5555555555555556,\"#d8576b\"],[0.6666666666666666,\"#ed7953\"],[0.7777777777777778,\"#fb9f3a\"],[0.8888888888888888,\"#fdca26\"],[1.0,\"#f0f921\"]],\"type\":\"histogram2d\"}],\"histogram\":[{\"marker\":{\"pattern\":{\"fillmode\":\"overlay\",\"size\":10,\"solidity\":0.2}},\"type\":\"histogram\"}],\"mesh3d\":[{\"colorbar\":{\"outlinewidth\":0,\"ticks\":\"\"},\"type\":\"mesh3d\"}],\"parcoords\":[{\"line\":{\"colorbar\":{\"outlinewidth\":0,\"ticks\":\"\"}},\"type\":\"parcoords\"}],\"pie\":[{\"automargin\":true,\"type\":\"pie\"}],\"scatter3d\":[{\"line\":{\"colorbar\":{\"outlinewidth\":0,\"ticks\":\"\"}},\"marker\":{\"colorbar\":{\"outlinewidth\":0,\"ticks\":\"\"}},\"type\":\"scatter3d\"}],\"scattercarpet\":[{\"marker\":{\"colorbar\":{\"outlinewidth\":0,\"ticks\":\"\"}},\"type\":\"scattercarpet\"}],\"scattergeo\":[{\"marker\":{\"colorbar\":{\"outlinewidth\":0,\"ticks\":\"\"}},\"type\":\"scattergeo\"}],\"scattergl\":[{\"marker\":{\"colorbar\":{\"outlinewidth\":0,\"ticks\":\"\"}},\"type\":\"scattergl\"}],\"scattermapbox\":[{\"marker\":{\"colorbar\":{\"outlinewidth\":0,\"ticks\":\"\"}},\"type\":\"scattermapbox\"}],\"scatterpolargl\":[{\"marker\":{\"colorbar\":{\"outlinewidth\":0,\"ticks\":\"\"}},\"type\":\"scatterpolargl\"}],\"scatterpolar\":[{\"marker\":{\"colorbar\":{\"outlinewidth\":0,\"ticks\":\"\"}},\"type\":\"scatterpolar\"}],\"scatter\":[{\"fillpattern\":{\"fillmode\":\"overlay\",\"size\":10,\"solidity\":0.2},\"type\":\"scatter\"}],\"scatterternary\":[{\"marker\":{\"colorbar\":{\"outlinewidth\":0,\"ticks\":\"\"}},\"type\":\"scatterternary\"}],\"surface\":[{\"colorbar\":{\"outlinewidth\":0,\"ticks\":\"\"},\"colorscale\":[[0.0,\"#0d0887\"],[0.1111111111111111,\"#46039f\"],[0.2222222222222222,\"#7201a8\"],[0.3333333333333333,\"#9c179e\"],[0.4444444444444444,\"#bd3786\"],[0.5555555555555556,\"#d8576b\"],[0.6666666666666666,\"#ed7953\"],[0.7777777777777778,\"#fb9f3a\"],[0.8888888888888888,\"#fdca26\"],[1.0,\"#f0f921\"]],\"type\":\"surface\"}],\"table\":[{\"cells\":{\"fill\":{\"color\":\"#EBF0F8\"},\"line\":{\"color\":\"white\"}},\"header\":{\"fill\":{\"color\":\"#C8D4E3\"},\"line\":{\"color\":\"white\"}},\"type\":\"table\"}]},\"layout\":{\"annotationdefaults\":{\"arrowcolor\":\"#2a3f5f\",\"arrowhead\":0,\"arrowwidth\":1},\"autotypenumbers\":\"strict\",\"coloraxis\":{\"colorbar\":{\"outlinewidth\":0,\"ticks\":\"\"}},\"colorscale\":{\"diverging\":[[0,\"#8e0152\"],[0.1,\"#c51b7d\"],[0.2,\"#de77ae\"],[0.3,\"#f1b6da\"],[0.4,\"#fde0ef\"],[0.5,\"#f7f7f7\"],[0.6,\"#e6f5d0\"],[0.7,\"#b8e186\"],[0.8,\"#7fbc41\"],[0.9,\"#4d9221\"],[1,\"#276419\"]],\"sequential\":[[0.0,\"#0d0887\"],[0.1111111111111111,\"#46039f\"],[0.2222222222222222,\"#7201a8\"],[0.3333333333333333,\"#9c179e\"],[0.4444444444444444,\"#bd3786\"],[0.5555555555555556,\"#d8576b\"],[0.6666666666666666,\"#ed7953\"],[0.7777777777777778,\"#fb9f3a\"],[0.8888888888888888,\"#fdca26\"],[1.0,\"#f0f921\"]],\"sequentialminus\":[[0.0,\"#0d0887\"],[0.1111111111111111,\"#46039f\"],[0.2222222222222222,\"#7201a8\"],[0.3333333333333333,\"#9c179e\"],[0.4444444444444444,\"#bd3786\"],[0.5555555555555556,\"#d8576b\"],[0.6666666666666666,\"#ed7953\"],[0.7777777777777778,\"#fb9f3a\"],[0.8888888888888888,\"#fdca26\"],[1.0,\"#f0f921\"]]},\"colorway\":[\"#636efa\",\"#EF553B\",\"#00cc96\",\"#ab63fa\",\"#FFA15A\",\"#19d3f3\",\"#FF6692\",\"#B6E880\",\"#FF97FF\",\"#FECB52\"],\"font\":{\"color\":\"#2a3f5f\"},\"geo\":{\"bgcolor\":\"white\",\"lakecolor\":\"white\",\"landcolor\":\"#E5ECF6\",\"showlakes\":true,\"showland\":true,\"subunitcolor\":\"white\"},\"hoverlabel\":{\"align\":\"left\"},\"hovermode\":\"closest\",\"mapbox\":{\"style\":\"light\"},\"paper_bgcolor\":\"white\",\"plot_bgcolor\":\"#E5ECF6\",\"polar\":{\"angularaxis\":{\"gridcolor\":\"white\",\"linecolor\":\"white\",\"ticks\":\"\"},\"bgcolor\":\"#E5ECF6\",\"radialaxis\":{\"gridcolor\":\"white\",\"linecolor\":\"white\",\"ticks\":\"\"}},\"scene\":{\"xaxis\":{\"backgroundcolor\":\"#E5ECF6\",\"gridcolor\":\"white\",\"gridwidth\":2,\"linecolor\":\"white\",\"showbackground\":true,\"ticks\":\"\",\"zerolinecolor\":\"white\"},\"yaxis\":{\"backgroundcolor\":\"#E5ECF6\",\"gridcolor\":\"white\",\"gridwidth\":2,\"linecolor\":\"white\",\"showbackground\":true,\"ticks\":\"\",\"zerolinecolor\":\"white\"},\"zaxis\":{\"backgroundcolor\":\"#E5ECF6\",\"gridcolor\":\"white\",\"gridwidth\":2,\"linecolor\":\"white\",\"showbackground\":true,\"ticks\":\"\",\"zerolinecolor\":\"white\"}},\"shapedefaults\":{\"line\":{\"color\":\"#2a3f5f\"}},\"ternary\":{\"aaxis\":{\"gridcolor\":\"white\",\"linecolor\":\"white\",\"ticks\":\"\"},\"baxis\":{\"gridcolor\":\"white\",\"linecolor\":\"white\",\"ticks\":\"\"},\"bgcolor\":\"#E5ECF6\",\"caxis\":{\"gridcolor\":\"white\",\"linecolor\":\"white\",\"ticks\":\"\"}},\"title\":{\"x\":0.05},\"xaxis\":{\"automargin\":true,\"gridcolor\":\"white\",\"linecolor\":\"white\",\"ticks\":\"\",\"title\":{\"standoff\":15},\"zerolinecolor\":\"white\",\"zerolinewidth\":2},\"yaxis\":{\"automargin\":true,\"gridcolor\":\"white\",\"linecolor\":\"white\",\"ticks\":\"\",\"title\":{\"standoff\":15},\"zerolinecolor\":\"white\",\"zerolinewidth\":2}}},\"title\":{\"text\":\"GANTT Chart\"},\"xaxis\":{\"range\":[\"1970-01-01T00:00:00\",\"1970-01-01T13:52:17.881970\"],\"title\":{\"font\":{\"color\":\"#7f7f7f\",\"family\":\"Courier New, monospace\",\"size\":18},\"text\":\"Time\"}},\"yaxis\":{\"title\":{\"font\":{\"color\":\"#7f7f7f\",\"family\":\"Courier New, monospace\",\"size\":18},\"text\":\"Activities\"}}},                        {\"responsive\": true}                    ).then(function(){\n",
       "                            \n",
       "var gd = document.getElementById('08e00f92-bb08-40d4-b393-7e32919e40b8');\n",
       "var x = new MutationObserver(function (mutations, observer) {{\n",
       "        var display = window.getComputedStyle(gd).display;\n",
       "        if (!display || display === 'none') {{\n",
       "            console.log([gd, 'removed!']);\n",
       "            Plotly.purge(gd);\n",
       "            observer.disconnect();\n",
       "        }}\n",
       "}});\n",
       "\n",
       "// Listen for the removal of the full notebook cells\n",
       "var notebookContainer = gd.closest('#notebook-container');\n",
       "if (notebookContainer) {{\n",
       "    x.observe(notebookContainer, {childList: true});\n",
       "}}\n",
       "\n",
       "// Listen for the clearing of the current output cell\n",
       "var outputEl = gd.closest('.output');\n",
       "if (outputEl) {{\n",
       "    x.observe(outputEl, {childList: true});\n",
       "}}\n",
       "\n",
       "                        })                };                });            </script>        </div>"
      ]
     },
     "metadata": {},
     "output_type": "display_data"
    },
    {
     "data": {
      "image/png": "[encoded data removed]",
      "text/plain": [
       "<Figure size 1400x700 with 1 Axes>"
      ]
     },
     "metadata": {},
     "output_type": "display_data"
    }
   ],
   "source": [
    "# Plotting\n",
    "fig_gantt = plot.get_gantt_chart([*trucks.values()], id_map=[*activities_d_truck.values()])\n",
    "fig_step = plot.get_step_chart([source01, dump01])\n"
   ]
  },
  {
   "cell_type": "code",
   "execution_count": null,
   "id": "ccd998ff-d253-4d82-88a3-02f3d425c199",
   "metadata": {},
   "outputs": [],
   "source": []
  },
  {
   "cell_type": "code",
   "execution_count": null,
   "id": "dfae0bcc-d0b6-49e7-851a-5344b691b9e9",
   "metadata": {},
   "outputs": [],
   "source": []
  }
 ],
 "metadata": {
  "kernelspec": {
   "display_name": "Python 3 (ipykernel)",
   "language": "python",
   "name": "python3"
  },
  "language_info": {
   "codemirror_mode": {
    "name": "ipython",
    "version": 3
   },
   "file_extension": ".py",
   "mimetype": "text/x-python",
   "name": "python",
   "nbconvert_exporter": "python",
   "pygments_lexer": "ipython3",
   "version": "3.9.16"
  }
 },
 "nbformat": 4,
 "nbformat_minor": 5
}
