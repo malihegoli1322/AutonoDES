{
 "cells": [
  {
   "cell_type": "code",
   "execution_count": 49,
   "id": "84fba176-40d4-4288-b350-1e8993293ea0",
   "metadata": {
    "tags": []
   },
   "outputs": [],
   "source": [
    "import pandas as pd\n",
    "import numpy as np\n",
    "import matplotlib.pyplot as plt"
   ]
  },
  {
   "cell_type": "code",
   "execution_count": 50,
   "id": "63781d13-d761-4d17-b76c-af8a618e1eb4",
   "metadata": {
    "tags": []
   },
   "outputs": [],
   "source": [
    "# Read the CSV files\n",
    "trcuk_file = 'HaulageOperation_TruckDetails.csv'\n",
    "df_tr = pd.read_csv(trcuk_file)"
   ]
  },
  {
   "cell_type": "code",
   "execution_count": 51,
   "id": "de3fe002-c60d-4c58-b331-452a14d931fc",
   "metadata": {
    "tags": []
   },
   "outputs": [
    {
     "name": "stdout",
     "output_type": "stream",
     "text": [
      "    ID Name of the trucks    Type  Payload (Ton)  Minimum Speed (Mile/Hour)  \\\n",
      "0  1.0             truck1  HD-785          100.0                        5.0   \n",
      "1  1.0             truck2  HD-785          100.0                        5.0   \n",
      "2  1.0             truck3  HD-785          100.0                        5.0   \n",
      "3  1.0             truck4  HD-785          100.0                        5.0   \n",
      "4  1.0             truck5  HD-785          100.0                        5.0   \n",
      "\n",
      "   Maximum Speed (Mile/Hour) Unloading Time (Minute)  Param 1  Param 2  \n",
      "0                       25.0                  Normal     45.0      5.0  \n",
      "1                       25.0                  Normal     45.0      5.0  \n",
      "2                       25.0                  Normal     45.0      5.0  \n",
      "3                       25.0                  Normal     45.0      5.0  \n",
      "4                       25.0                  Normal     45.0      5.0  \n"
     ]
    }
   ],
   "source": [
    "# Create an empty list to store information about each truck\n",
    "truck_list = []\n",
    "\n",
    "# Initialize a counter for overall truck numbering\n",
    "overall_truck_counter = 1\n",
    "\n",
    "# Iterate through rows and repeat based on the number of trucks\n",
    "for index, row in df_tr.iterrows():\n",
    "    # Convert 'Number of trucks' to integer\n",
    "    num_trucks = int(row['Number of Trucks'])\n",
    "    for truck_num in range(num_trucks):\n",
    "        # Create a dictionary for each truck\n",
    "        truck_info = {\n",
    "            'ID': row['ID'],\n",
    "            'Name of the trucks': f'truck{overall_truck_counter}',\n",
    "            'Type': row['Type'],\n",
    "            'Payload (Ton)': row['Payload (Ton)'],\n",
    "            'Minimum Speed (Mile/Hour)': row['Minimum Speed (Mile/Hour)'],\n",
    "            'Maximum Speed (Mile/Hour)': row['Maximum Speed (Mile/Hour)'],\n",
    "            'Unloading Time (Minute)': row['Unloading Time (Minute)'],\n",
    "            'Param 1': row['Param 1'],\n",
    "            'Param 2': row['Param 2']\n",
    "        }\n",
    "        # Increment the overall truck counter\n",
    "        overall_truck_counter += 1\n",
    "        \n",
    "        # Append the truck information to the list\n",
    "        truck_list.append(truck_info)\n",
    "\n",
    "# Create a new data frame from the list\n",
    "df_tr_result = pd.DataFrame(truck_list)\n",
    "\n",
    "# Calculate the total number of trucks as an integer\n",
    "total_trucks = int(df_tr['Number of Trucks'].sum())\n",
    "\n",
    "print(df_tr_result.head(5))"
   ]
  },
  {
   "cell_type": "code",
   "execution_count": 52,
   "id": "57eb821d-4551-4aaf-ba3c-780c9b3d6102",
   "metadata": {
    "tags": []
   },
   "outputs": [],
   "source": [
    "# Read the Shovel_Truck_Allocation.csv file\n",
    "allocation_file_path = 'Shovel_Truck_Allocation.csv'\n",
    "allocation_df = pd.read_csv(allocation_file_path)"
   ]
  },
  {
   "cell_type": "code",
   "execution_count": 53,
   "id": "6cf7587d-c9da-447a-bbe8-f361bb647003",
   "metadata": {
    "tags": []
   },
   "outputs": [
    {
     "name": "stdout",
     "output_type": "stream",
     "text": [
      "        Truck Type     Source Destination\n",
      "0   Komatsu HD-785  Source 02     Dump 03\n",
      "1   Komatsu HD-785  Source 02     Dump 03\n",
      "2   Komatsu HD-785  Source 01     Dump 01\n",
      "3   Komatsu HD-785  Source 01     Dump 01\n",
      "4   Komatsu HD-785  Source 01     Dump 01\n",
      "5   Komatsu HD-785  Source 01     Dump 01\n",
      "6   Komatsu HD-325  Source 01     Dump 01\n",
      "7   Komatsu HD-325  Source 01     Dump 01\n",
      "8   Komatsu HD-325  Source 01     Dump 01\n",
      "9   Komatsu HD-325  Source 01     Dump 01\n",
      "10  Komatsu HD-325  Source 01     Dump 01\n",
      "11  Komatsu HD-325  Source 01     Dump 01\n",
      "12  Komatsu HD-325  Source 01     Dump 01\n",
      "13  Komatsu HD-325  Source 01     Dump 01\n",
      "14  Komatsu HD-325  Source 01     Dump 01\n",
      "15  Komatsu HD-325  Source 01     Dump 01\n",
      "16  Komatsu HD-785  Source 01     Dump 01\n",
      "17  Komatsu HD-785  Source 01     Dump 01\n",
      "18  Komatsu HD-785  Source 01     Dump 01\n",
      "19  Komatsu HD-785  Source 01     Dump 01\n",
      "Length of the DataFrame: 20\n"
     ]
    }
   ],
   "source": [
    "updated_allocation_list = []\n",
    "\n",
    "\n",
    "# Iterate through rows of allocation_df\n",
    "for allocation_index, allocation_row in allocation_df.iterrows():\n",
    "    # Repeat each row based on the number of trucks\n",
    "    for _ in range(allocation_row['Number of Trucks']):\n",
    "        # Create a new DataFrame row with the same information as the original row\n",
    "        updated_allocation_row = allocation_row.copy()\n",
    "        # Append the updated allocation row to the list\n",
    "        updated_allocation_list.append(updated_allocation_row)\n",
    "\n",
    "# Create a new DataFrame from the updated allocation list\n",
    "updated_df_allocation = pd.DataFrame(updated_allocation_list)\n",
    "\n",
    "# Drop the 'Number of Trucks' column\n",
    "updated_df_allocation.drop(columns=['Number of Trucks'], inplace=True)\n",
    "\n",
    "# Reset the index of the DataFrame to be incremental\n",
    "updated_df_allocation.reset_index(drop=True, inplace=True)\n",
    "\n",
    "# Display the updated DataFrame\n",
    "print(updated_df_allocation)\n",
    "\n",
    "# Export to CSV file\n",
    "updated_df_allocation.to_csv('updated_allocation.csv', index=False)\n",
    "\n",
    "# Display the length of the DataFrame\n",
    "print(\"Length of the DataFrame:\", len(updated_df_allocation))\n"
   ]
  },
  {
   "cell_type": "code",
   "execution_count": 54,
   "id": "241f6841-72a7-452a-be6d-cc7606d1a48c",
   "metadata": {
    "tags": []
   },
   "outputs": [
    {
     "name": "stdout",
     "output_type": "stream",
     "text": [
      "     ID Name of the trucks    Type  Payload (Ton)  Minimum Speed (Mile/Hour)  \\\n",
      "0   1.0             truck1  HD-785          100.0                        5.0   \n",
      "1   1.0             truck2  HD-785          100.0                        5.0   \n",
      "2   1.0             truck3  HD-785          100.0                        5.0   \n",
      "3   1.0             truck4  HD-785          100.0                        5.0   \n",
      "4   1.0             truck5  HD-785          100.0                        5.0   \n",
      "5   1.0             truck6  HD-785          100.0                        5.0   \n",
      "6   1.0             truck7  HD-785          100.0                        5.0   \n",
      "7   1.0             truck8  HD-785          100.0                        5.0   \n",
      "8   1.0             truck9  HD-785          100.0                        5.0   \n",
      "9   1.0            truck10  HD-785          100.0                        5.0   \n",
      "10  2.0            truck11  HD-325          100.0                        5.0   \n",
      "11  2.0            truck12  HD-325          100.0                        5.0   \n",
      "12  2.0            truck13  HD-325          100.0                        5.0   \n",
      "13  2.0            truck14  HD-325          100.0                        5.0   \n",
      "14  2.0            truck15  HD-325          100.0                        5.0   \n",
      "15  2.0            truck16  HD-325          100.0                        5.0   \n",
      "16  2.0            truck17  HD-325          100.0                        5.0   \n",
      "17  2.0            truck18  HD-325          100.0                        5.0   \n",
      "18  2.0            truck19  HD-325          100.0                        5.0   \n",
      "19  2.0            truck20  HD-325          100.0                        5.0   \n",
      "\n",
      "    Maximum Speed (Mile/Hour) Unloading Time (Minute)  Param 1  Param 2  \\\n",
      "0                        25.0                  Normal     45.0      5.0   \n",
      "1                        25.0                  Normal     45.0      5.0   \n",
      "2                        25.0                  Normal     45.0      5.0   \n",
      "3                        25.0                  Normal     45.0      5.0   \n",
      "4                        25.0                  Normal     45.0      5.0   \n",
      "5                        25.0                  Normal     45.0      5.0   \n",
      "6                        25.0                  Normal     45.0      5.0   \n",
      "7                        25.0                  Normal     45.0      5.0   \n",
      "8                        25.0                  Normal     45.0      5.0   \n",
      "9                        25.0                  Normal     45.0      5.0   \n",
      "10                       25.0                  Normal     45.0      5.0   \n",
      "11                       25.0                  Normal     45.0      5.0   \n",
      "12                       25.0                  Normal     45.0      5.0   \n",
      "13                       25.0                  Normal     45.0      5.0   \n",
      "14                       25.0                  Normal     45.0      5.0   \n",
      "15                       25.0                  Normal     45.0      5.0   \n",
      "16                       25.0                  Normal     45.0      5.0   \n",
      "17                       25.0                  Normal     45.0      5.0   \n",
      "18                       25.0                  Normal     45.0      5.0   \n",
      "19                       25.0                  Normal     45.0      5.0   \n",
      "\n",
      "       Source Destination  \n",
      "0   Source 02     Dump 03  \n",
      "1   Source 02     Dump 03  \n",
      "2   Source 01     Dump 01  \n",
      "3   Source 01     Dump 01  \n",
      "4   Source 01     Dump 01  \n",
      "5   Source 01     Dump 01  \n",
      "6   Source 01     Dump 01  \n",
      "7   Source 01     Dump 01  \n",
      "8   Source 01     Dump 01  \n",
      "9   Source 01     Dump 01  \n",
      "10  Source 01     Dump 01  \n",
      "11  Source 01     Dump 01  \n",
      "12  Source 01     Dump 01  \n",
      "13  Source 01     Dump 01  \n",
      "14  Source 01     Dump 01  \n",
      "15  Source 01     Dump 01  \n",
      "16  Source 01     Dump 01  \n",
      "17  Source 01     Dump 01  \n",
      "18  Source 01     Dump 01  \n",
      "19  Source 01     Dump 01  \n"
     ]
    }
   ],
   "source": [
    "# Create a set to keep track of assigned rows in updated_df_allocation\n",
    "assigned_rows = set()\n",
    "\n",
    "# Create new 'Source' and 'Destination' columns in df_tr_result\n",
    "df_tr_result['Source'] = ''\n",
    "df_tr_result['Destination'] = ''\n",
    "\n",
    "# Create a set to keep track of assigned rows in updated_df_allocation\n",
    "assigned_rows = set()\n",
    "\n",
    "# Iterate through rows of df_tr_result\n",
    "for index, truck_row in df_tr_result.iterrows():\n",
    "    # Initialize a flag to indicate if assignment has been made\n",
    "    assignment_made = False\n",
    "    \n",
    "    # Iterate through rows of updated_df_allocation\n",
    "    for allocation_index, allocation_row in updated_df_allocation.iterrows():\n",
    "        # Compare the 'Type' with 'Truck Type' (case-insensitive comparison)\n",
    "        if truck_row['Type'].lower() in allocation_row['Truck Type'].lower():\n",
    "            # Assign 'Source' and 'Destination' to the corresponding columns\n",
    "            df_tr_result.at[index, 'Source'] = allocation_row['Source']\n",
    "            df_tr_result.at[index, 'Destination'] = allocation_row['Destination']\n",
    "            # Set the flag to True to indicate assignment has been made\n",
    "            assignment_made = True\n",
    "            # Drop the assigned row from updated_df_allocation\n",
    "            updated_df_allocation.drop(allocation_index, inplace=True)\n",
    "            # Break out of the inner loop to avoid re-assigning the same row to multiple trucks\n",
    "            break\n",
    "    \n",
    "    # If assignment hasn't been made, set 'Source' to empty string\n",
    "    if not assignment_made:\n",
    "        df_tr_result.at[index, 'Source'] = ''\n",
    "\n",
    "# Display the updated df_tr_result\n",
    "print(df_tr_result)"
   ]
  },
  {
   "cell_type": "code",
   "execution_count": 55,
   "id": "fe2581d3-df54-403b-b956-39904a4f5ab1",
   "metadata": {
    "tags": []
   },
   "outputs": [],
   "source": [
    "df_tr_result.to_csv('truck_list.csv', index=False)"
   ]
  },
  {
   "cell_type": "code",
   "execution_count": 56,
   "id": "cbd816a7-051a-454b-9b55-8662319ea009",
   "metadata": {
    "tags": []
   },
   "outputs": [
    {
     "name": "stdout",
     "output_type": "stream",
     "text": [
      "Empty DataFrame\n",
      "Columns: [Truck Type, Source, Destination]\n",
      "Index: []\n"
     ]
    }
   ],
   "source": [
    "print(updated_df_allocation)"
   ]
  },
  {
   "cell_type": "code",
   "execution_count": null,
   "id": "974f2b48-39c5-440e-b54d-f116e1645cc1",
   "metadata": {},
   "outputs": [],
   "source": []
  }
 ],
 "metadata": {
  "kernelspec": {
   "display_name": "Python 3 (ipykernel)",
   "language": "python",
   "name": "python3"
  },
  "language_info": {
   "codemirror_mode": {
    "name": "ipython",
    "version": 3
   },
   "file_extension": ".py",
   "mimetype": "text/x-python",
   "name": "python",
   "nbconvert_exporter": "python",
   "pygments_lexer": "ipython3",
   "version": "3.9.7"
  }
 },
 "nbformat": 4,
 "nbformat_minor": 5
}
