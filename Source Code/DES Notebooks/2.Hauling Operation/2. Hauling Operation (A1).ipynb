{
 "cells": [
  {
   "cell_type": "markdown",
   "id": "24df7327-cf29-4449-ba60-60e59dd7081e",
   "metadata": {
    "tags": []
   },
   "source": [
    "# Hauling Opeartion Simulation\n",
    "This Notebook models and simulates the hauling operation using the OpenCLSim package, incorporating:\n",
    "\n",
    "- Hauling Cycle: Drive empty-load-drive full-unload\n",
    "- Queuing at source and destination\n",
    "- One type of material (Waste) \n",
    "- Importing the number of trucks, truck-shovel allocations, and hauling scenarios from designated files"
   ]
  },
  {
   "cell_type": "code",
   "execution_count": 31,
   "id": "04d02c6d-17c8-4bfe-b6e6-d25a874ba78c",
   "metadata": {
    "tags": []
   },
   "outputs": [],
   "source": [
    "import networkx as nx  \n",
    "import shapely.geometry\n",
    "import pyproj\n",
    "\n",
    "\n",
    "import datetime as dt\n",
    "import time\n",
    "import simpy\n",
    "import openclsim.core as core\n",
    "import openclsim.model as model\n",
    "import openclsim.plot as plot\n",
    "import opentnsim\n",
    "\n",
    "import pandas as pd\n",
    "import numpy as np\n",
    "\n",
    "import matplotlib.pyplot as plt\n",
    "import folium"
   ]
  },
  {
   "cell_type": "code",
   "execution_count": 32,
   "id": "f9f375bf-794f-46db-87c1-443e3677a892",
   "metadata": {},
   "outputs": [],
   "source": [
    "def run(total_waste):\n",
    "    # Read the CSV file\n",
    "    file_path = 'HaulageOperation_TruckDetails.csv'\n",
    "    df = pd.read_csv(file_path)\n",
    "\n",
    "    # Create an empty list to store information about each truck\n",
    "    truck_list = []\n",
    "\n",
    "    # Initialize a counter for overall truck numbering\n",
    "    overall_truck_counter = 1\n",
    "\n",
    "    # Iterate through rows and repeat based on the number of trucks\n",
    "    for index, row in df.iterrows():\n",
    "        # Convert 'Number of trucks' to integer\n",
    "        num_trucks = int(row['Number of Trucks'])\n",
    "\n",
    "        for truck_num in range(num_trucks):\n",
    "            # Create a dictionary for each truck\n",
    "            truck_info = {\n",
    "                'ID': row['ID'],\n",
    "                'Name of the trucks': f'truck{overall_truck_counter}',\n",
    "                'Type': row['Type'],\n",
    "                'Payload (Ton)': row['Payload (Ton)'],\n",
    "                'Minimum Speed (Mile/Hour)': row['Minimum Speed (Mile/Hour)'],\n",
    "                'Maximum Speed (Mile/Hour)': row['Maximum Speed (Mile/Hour)'],\n",
    "                'Unloading Time (Minute)': row['Unloading Time (Minute)'],\n",
    "                'Param 1': row['Param 1'],\n",
    "                'Param 2': row['Param 2']\n",
    "            }\n",
    "            # Increment the overall truck counter\n",
    "            overall_truck_counter += 1\n",
    "\n",
    "            # Append the truck information to the list\n",
    "            truck_list.append(truck_info)\n",
    "\n",
    "    # Create a new data frame from the list\n",
    "    df_result = pd.DataFrame(truck_list)\n",
    "\n",
    "    # Calculate the total number of trucks as an integer\n",
    "    total_trucks = int(df['Number of Trucks'].sum())\n",
    "\n",
    "    # create a Site object based on desired mixin classes\n",
    "    Site = type('Site',\n",
    "                (core.Identifiable,\n",
    "                 core.Log,\n",
    "                 core.Locatable,\n",
    "                 core.HasMultiContainer,\n",
    "                 core.HasResource,), {})\n",
    "\n",
    "    # create a TransportProcessingResource object based on desired mixin classes\n",
    "    TransportProcessingResource = type(\n",
    "        \"TransportProcessingResource\",\n",
    "        (\n",
    "            core.MultiContainerDependentMovable,\n",
    "            core.HasResource,\n",
    "            core.Processor,\n",
    "            core.Identifiable,\n",
    "            core.Log,\n",
    "            opentnsim.core.ExtraMetadata\n",
    "        ),\n",
    "        {},\n",
    "    )\n",
    "    \n",
    "    simulation_start = 0\n",
    "    my_env = simpy.Environment(initial_time=simulation_start)\n",
    "    registry = {}\n",
    "\n",
    "    # prepare input data for source\n",
    "    location_source01 = shapely.geometry.Point(4.062705498083785, 51.95909715255291)\n",
    "    data_source01 = {\"env\": my_env,\n",
    "                   \"name\": \"source01\",\n",
    "                   \"geometry\": location_source01,\n",
    "                   \"initials\": [\n",
    "                       {\"id\": \"waste\", \"level\": total_waste, \"capacity\": total_waste},\n",
    "                   ],\n",
    "                   \"nr_resources\": 1\n",
    "                   }\n",
    "    source01 = Site(**data_source01)\n",
    "\n",
    "    # prepare input data for dump\n",
    "    location_dump01 = shapely.geometry.Point(4.1795229742823, 52.11590591837503)\n",
    "    data_dump01 = {\"env\": my_env,\n",
    "                 \"name\": \"dump01\",\n",
    "                 \"geometry\": location_dump01,\n",
    "                 \"initials\": [\n",
    "                     {\"id\": \"waste\", \"level\": 0, \"capacity\": total_waste},\n",
    "                 ],\n",
    "                 }\n",
    "    dump01 = Site(**data_dump01)\n",
    "\n",
    "    # create truck objects\n",
    "    trucks = {}\n",
    "\n",
    "    for i in range(1, total_trucks + 1):\n",
    "        # Extract information from the truck list\n",
    "        truck_info = df_result[df_result['Name of the trucks'] == f'truck{i}'].iloc[0]\n",
    "\n",
    "        # Extract unloading time distribution parameters\n",
    "        mean_unloading_time = truck_info['Param 1']\n",
    "        std_dev_unloading_time = truck_info['Param 2']\n",
    "        # Generate random unloading time from the specified distribution\n",
    "        unloading_rate = np.random.normal(loc=mean_unloading_time, scale=std_dev_unloading_time)\n",
    "\n",
    "        # Create an instance of TransportProcessingResource\n",
    "        trucks[f\"truck{i}\"] = TransportProcessingResource(\n",
    "            env=my_env,\n",
    "            name=f\"truck{i}\",\n",
    "            geometry=location_dump01,\n",
    "            initials=[\n",
    "                {\"id\": \"waste\", \"level\": 0, \"capacity\": truck_info['Payload (Ton)']},\n",
    "            ],\n",
    "            loading_rate=1,\n",
    "            unloading_rate=unloading_rate,\n",
    "            compute_v=lambda x: 10 + 2 * x,\n",
    "        )\n",
    "\n",
    "   # Create activity objects\n",
    "    activities_d_truck = {}\n",
    "\n",
    "    for i in range(1, total_trucks + 1):\n",
    "        requested_resources = {}\n",
    "\n",
    "        d_subprocesses = [\n",
    "            model.MoveActivity(\n",
    "                env=my_env,\n",
    "                name=f\"driving_empty:\" + trucks[f\"truck{i}\"].name,\n",
    "                registry=registry,\n",
    "                mover=trucks[f\"truck{i}\"],\n",
    "                destination=source01,\n",
    "                duration=20,\n",
    "            ),\n",
    "            model.ShiftAmountActivity(\n",
    "                env=my_env,\n",
    "                name=f\"loading:\" + trucks[f\"truck{i}\"].name,\n",
    "                registry=registry,\n",
    "                processor=trucks[f\"truck{i}\"],\n",
    "                origin=source01,\n",
    "                destination=trucks[f\"truck{i}\"],\n",
    "                amount=20,\n",
    "                duration=50,\n",
    "                id_=\"waste\",\n",
    "                requested_resources=requested_resources,\n",
    "            ),\n",
    "            model.MoveActivity(\n",
    "                env=my_env,\n",
    "                name=f\"driving_full:\" + trucks[f\"truck{i}\"].name,\n",
    "                registry=registry,\n",
    "                mover=trucks[f\"truck{i}\"],\n",
    "                destination=dump01,\n",
    "                duration=15,\n",
    "            ),\n",
    "            model.ShiftAmountActivity(\n",
    "                env=my_env,\n",
    "                name=f\"unloading:\" + trucks[f\"truck{i}\"].name,\n",
    "                registry=registry,\n",
    "                processor=trucks[f\"truck{i}\"],\n",
    "                origin=trucks[f\"truck{i}\"],\n",
    "                destination=dump01,\n",
    "                amount=20,\n",
    "                duration=25,\n",
    "                id_=\"waste\",\n",
    "                requested_resources=requested_resources,\n",
    "            )\n",
    "        ]\n",
    "        activities_d_truck[f\"activities_d_truck{i}\"] = model.WhileActivity(\n",
    "            env=my_env,\n",
    "            name=f\"while_sequential_activity_d_truck{i}\",\n",
    "            registry=registry,\n",
    "            sub_processes=[model.SequentialActivity(\n",
    "                env=my_env,\n",
    "                name=f\"sequential_activity_d_truck{i}\",\n",
    "                registry=registry,\n",
    "                sub_processes=d_subprocesses\n",
    "            )],\n",
    "            condition_event=[{\"type\": \"container\",\n",
    "                              \"concept\": dump01,\n",
    "                              \"state\": \"full\",\n",
    "                              \"id_\": \"default_reservations\"}\n",
    "                             ]\n",
    "        )\n",
    "\n",
    "    model.register_processes([*activities_d_truck.values()])\n",
    "    my_env.run()\n",
    "\n",
    "    return {\n",
    "        \"trucks\": trucks,\n",
    "        \"activities_d_truck\": activities_d_truck,\n",
    "        \"source01\": source01,\n",
    "        \"dump01\": dump01,\n",
    "    }"
   ]
  },
  {
   "cell_type": "code",
   "execution_count": 33,
   "id": "5f409b8b-b52e-4a1a-9081-d9802cd62b3e",
   "metadata": {},
   "outputs": [
    {
     "data": {
      "text/html": [
       "        <script type=\"text/javascript\">\n",
       "        window.PlotlyConfig = {MathJaxConfig: 'local'};\n",
       "        if (window.MathJax && window.MathJax.Hub && window.MathJax.Hub.Config) {window.MathJax.Hub.Config({SVG: {font: \"STIX-Web\"}});}\n",
       "        if (typeof require !== 'undefined') {\n",
       "        require.undef(\"plotly\");\n",
       "        requirejs.config({\n",
       "            paths: {\n",
       "                'plotly': ['https://cdn.plot.ly/plotly-2.24.1.min']\n",
       "            }\n",
       "        });\n",
       "        require(['plotly'], function(Plotly) {\n",
       "            window._Plotly = Plotly;\n",
       "        });\n",
       "        }\n",
       "        </script>\n",
       "        "
      ]
     },
     "metadata": {},
     "output_type": "display_data"
    },
    {
     "data": {
      "application/vnd.plotly.v1+json": {
       "config": {
        "linkText": "Export to plot.ly",
        "plotlyServerURL": "https://plot.ly",
        "showLink": false
       },
       "data": [
        {
         "connectgaps": false,
         "hoverinfo": "y+name",
         "line": {
          "color": "rgb(86,73,166)",
          "width": 10
         },
         "mode": "lines",
         "name": "unloading:truck1",
         "type": "scatter",
         "x": [
          "1970-01-01T00:01:25",
          "1970-01-01T00:01:25",
          "1970-01-01T00:01:50",
          "1970-01-01T00:01:50",
          "1970-01-01T00:01:50"
         ],
         "y": [
          "truck1",
          "truck1",
          "truck1",
          "truck1",
          null
         ]
        },
        {
         "connectgaps": false,
         "hoverinfo": "y+name",
         "line": {
          "color": "rgb(89,76,169)",
          "width": 10
         },
         "mode": "lines",
         "name": "driving_full:truck1",
         "type": "scatter",
         "x": [
          "1970-01-01T00:01:10",
          "1970-01-01T00:01:10",
          "1970-01-01T00:01:25",
          "1970-01-01T00:01:25",
          "1970-01-01T00:01:25"
         ],
         "y": [
          "truck1",
          "truck1",
          "truck1",
          "truck1",
          null
         ]
        },
        {
         "connectgaps": false,
         "hoverinfo": "y+name",
         "line": {
          "color": "rgb(92,79,172)",
          "width": 10
         },
         "mode": "lines",
         "name": "loading:truck1",
         "type": "scatter",
         "x": [
          "1970-01-01T00:00:20",
          "1970-01-01T00:00:20",
          "1970-01-01T00:01:10",
          "1970-01-01T00:01:10",
          "1970-01-01T00:01:10"
         ],
         "y": [
          "truck1",
          "truck1",
          "truck1",
          "truck1",
          null
         ]
        },
        {
         "connectgaps": false,
         "hoverinfo": "y+name",
         "line": {
          "color": "rgb(95,82,175)",
          "width": 10
         },
         "mode": "lines",
         "name": "driving_empty:truck1",
         "type": "scatter",
         "x": [
          "1970-01-01T00:00:00",
          "1970-01-01T00:00:00",
          "1970-01-01T00:00:20",
          "1970-01-01T00:00:20",
          "1970-01-01T00:00:20"
         ],
         "y": [
          "truck1",
          "truck1",
          "truck1",
          "truck1",
          null
         ]
        },
        {
         "connectgaps": false,
         "hoverinfo": "y+name",
         "line": {
          "color": "rgb(98,85,178)",
          "width": 10
         },
         "mode": "lines",
         "name": "loading:truck2",
         "type": "scatter",
         "x": [
          "1970-01-01T00:01:10",
          "1970-01-01T00:01:10",
          "1970-01-01T00:02:00",
          "1970-01-01T00:02:00",
          "1970-01-01T00:02:00"
         ],
         "y": [
          "truck2",
          "truck2",
          "truck2",
          "truck2",
          null
         ]
        },
        {
         "connectgaps": false,
         "hoverinfo": "y+name",
         "line": {
          "color": "rgb(101,88,181)",
          "width": 10
         },
         "mode": "lines",
         "name": "unloading:truck2",
         "type": "scatter",
         "x": [
          "1970-01-01T00:02:15",
          "1970-01-01T00:02:15",
          "1970-01-01T00:02:40",
          "1970-01-01T00:02:40",
          "1970-01-01T00:02:40"
         ],
         "y": [
          "truck2",
          "truck2",
          "truck2",
          "truck2",
          null
         ]
        },
        {
         "connectgaps": false,
         "hoverinfo": "y+name",
         "line": {
          "color": "rgb(104,91,184)",
          "width": 10
         },
         "mode": "lines",
         "name": "driving_full:truck2",
         "type": "scatter",
         "x": [
          "1970-01-01T00:02:00",
          "1970-01-01T00:02:00",
          "1970-01-01T00:02:15",
          "1970-01-01T00:02:15",
          "1970-01-01T00:02:15"
         ],
         "y": [
          "truck2",
          "truck2",
          "truck2",
          "truck2",
          null
         ]
        },
        {
         "connectgaps": false,
         "hoverinfo": "y+name",
         "line": {
          "color": "rgb(107,94,187)",
          "width": 10
         },
         "mode": "lines",
         "name": "driving_empty:truck2",
         "type": "scatter",
         "x": [
          "1970-01-01T00:00:00",
          "1970-01-01T00:00:00",
          "1970-01-01T00:00:20",
          "1970-01-01T00:00:20",
          "1970-01-01T00:00:20"
         ],
         "y": [
          "truck2",
          "truck2",
          "truck2",
          "truck2",
          null
         ]
        },
        {
         "connectgaps": false,
         "hoverinfo": "y+name",
         "line": {
          "color": "rgb(110,97,190)",
          "width": 10
         },
         "mode": "lines",
         "name": "unloading:truck3",
         "type": "scatter",
         "x": [
          "1970-01-01T00:03:05",
          "1970-01-01T00:03:05",
          "1970-01-01T00:03:30",
          "1970-01-01T00:03:30",
          "1970-01-01T00:03:30"
         ],
         "y": [
          "truck3",
          "truck3",
          "truck3",
          "truck3",
          null
         ]
        },
        {
         "connectgaps": false,
         "hoverinfo": "y+name",
         "line": {
          "color": "rgb(113,100,193)",
          "width": 10
         },
         "mode": "lines",
         "name": "driving_empty:truck3",
         "type": "scatter",
         "x": [
          "1970-01-01T00:00:00",
          "1970-01-01T00:00:00",
          "1970-01-01T00:00:20",
          "1970-01-01T00:00:20",
          "1970-01-01T00:00:20"
         ],
         "y": [
          "truck3",
          "truck3",
          "truck3",
          "truck3",
          null
         ]
        },
        {
         "connectgaps": false,
         "hoverinfo": "y+name",
         "line": {
          "color": "rgb(116,103,196)",
          "width": 10
         },
         "mode": "lines",
         "name": "driving_full:truck3",
         "type": "scatter",
         "x": [
          "1970-01-01T00:02:50",
          "1970-01-01T00:02:50",
          "1970-01-01T00:03:05",
          "1970-01-01T00:03:05",
          "1970-01-01T00:03:05"
         ],
         "y": [
          "truck3",
          "truck3",
          "truck3",
          "truck3",
          null
         ]
        },
        {
         "connectgaps": false,
         "hoverinfo": "y+name",
         "line": {
          "color": "rgb(119,106,199)",
          "width": 10
         },
         "mode": "lines",
         "name": "loading:truck3",
         "type": "scatter",
         "x": [
          "1970-01-01T00:02:00",
          "1970-01-01T00:02:00",
          "1970-01-01T00:02:50",
          "1970-01-01T00:02:50",
          "1970-01-01T00:02:50"
         ],
         "y": [
          "truck3",
          "truck3",
          "truck3",
          "truck3",
          null
         ]
        },
        {
         "connectgaps": false,
         "hoverinfo": "y+name",
         "line": {
          "color": "rgb(122,109,202)",
          "width": 10
         },
         "mode": "lines",
         "name": "loading:truck4",
         "type": "scatter",
         "x": [
          "1970-01-01T00:02:50",
          "1970-01-01T00:02:50",
          "1970-01-01T00:03:40",
          "1970-01-01T00:03:40",
          "1970-01-01T00:03:40"
         ],
         "y": [
          "truck4",
          "truck4",
          "truck4",
          "truck4",
          null
         ]
        },
        {
         "connectgaps": false,
         "hoverinfo": "y+name",
         "line": {
          "color": "rgb(125,112,205)",
          "width": 10
         },
         "mode": "lines",
         "name": "unloading:truck4",
         "type": "scatter",
         "x": [
          "1970-01-01T00:03:55",
          "1970-01-01T00:03:55",
          "1970-01-01T00:04:20",
          "1970-01-01T00:04:20",
          "1970-01-01T00:04:20"
         ],
         "y": [
          "truck4",
          "truck4",
          "truck4",
          "truck4",
          null
         ]
        },
        {
         "connectgaps": false,
         "hoverinfo": "y+name",
         "line": {
          "color": "rgb(128,115,208)",
          "width": 10
         },
         "mode": "lines",
         "name": "driving_full:truck4",
         "type": "scatter",
         "x": [
          "1970-01-01T00:03:40",
          "1970-01-01T00:03:40",
          "1970-01-01T00:03:55",
          "1970-01-01T00:03:55",
          "1970-01-01T00:03:55"
         ],
         "y": [
          "truck4",
          "truck4",
          "truck4",
          "truck4",
          null
         ]
        },
        {
         "connectgaps": false,
         "hoverinfo": "y+name",
         "line": {
          "color": "rgb(131,118,211)",
          "width": 10
         },
         "mode": "lines",
         "name": "driving_empty:truck4",
         "type": "scatter",
         "x": [
          "1970-01-01T00:00:00",
          "1970-01-01T00:00:00",
          "1970-01-01T00:00:20",
          "1970-01-01T00:00:20",
          "1970-01-01T00:00:20"
         ],
         "y": [
          "truck4",
          "truck4",
          "truck4",
          "truck4",
          null
         ]
        },
        {
         "connectgaps": false,
         "hoverinfo": "y+name",
         "line": {
          "color": "rgb(134,121,214)",
          "width": 10
         },
         "mode": "lines",
         "name": "unloading:truck5",
         "type": "scatter",
         "x": [
          "1970-01-01T00:04:45",
          "1970-01-01T00:04:45",
          "1970-01-01T00:05:10",
          "1970-01-01T00:05:10",
          "1970-01-01T00:05:10"
         ],
         "y": [
          "truck5",
          "truck5",
          "truck5",
          "truck5",
          null
         ]
        },
        {
         "connectgaps": false,
         "hoverinfo": "y+name",
         "line": {
          "color": "rgb(137,124,217)",
          "width": 10
         },
         "mode": "lines",
         "name": "driving_full:truck5",
         "type": "scatter",
         "x": [
          "1970-01-01T00:04:30",
          "1970-01-01T00:04:30",
          "1970-01-01T00:04:45",
          "1970-01-01T00:04:45",
          "1970-01-01T00:04:45"
         ],
         "y": [
          "truck5",
          "truck5",
          "truck5",
          "truck5",
          null
         ]
        },
        {
         "connectgaps": false,
         "hoverinfo": "y+name",
         "line": {
          "color": "rgb(140,127,220)",
          "width": 10
         },
         "mode": "lines",
         "name": "loading:truck5",
         "type": "scatter",
         "x": [
          "1970-01-01T00:03:40",
          "1970-01-01T00:03:40",
          "1970-01-01T00:04:30",
          "1970-01-01T00:04:30",
          "1970-01-01T00:04:30"
         ],
         "y": [
          "truck5",
          "truck5",
          "truck5",
          "truck5",
          null
         ]
        },
        {
         "connectgaps": false,
         "hoverinfo": "y+name",
         "line": {
          "color": "rgb(143,130,223)",
          "width": 10
         },
         "mode": "lines",
         "name": "driving_empty:truck5",
         "type": "scatter",
         "x": [
          "1970-01-01T00:00:00",
          "1970-01-01T00:00:00",
          "1970-01-01T00:00:20",
          "1970-01-01T00:00:20",
          "1970-01-01T00:00:20"
         ],
         "y": [
          "truck5",
          "truck5",
          "truck5",
          "truck5",
          null
         ]
        },
        {
         "connectgaps": false,
         "hoverinfo": "y+name",
         "line": {
          "color": "rgb(146,133,226)",
          "width": 10
         },
         "mode": "lines",
         "name": "driving_full:truck6",
         "type": "scatter",
         "x": [
          "1970-01-01T00:05:20",
          "1970-01-01T00:05:20",
          "1970-01-01T00:05:35",
          "1970-01-01T00:05:35",
          "1970-01-01T00:05:35"
         ],
         "y": [
          "truck6",
          "truck6",
          "truck6",
          "truck6",
          null
         ]
        },
        {
         "connectgaps": false,
         "hoverinfo": "y+name",
         "line": {
          "color": "rgb(149,136,229)",
          "width": 10
         },
         "mode": "lines",
         "name": "driving_empty:truck6",
         "type": "scatter",
         "x": [
          "1970-01-01T00:00:00",
          "1970-01-01T00:00:00",
          "1970-01-01T00:00:20",
          "1970-01-01T00:00:20",
          "1970-01-01T00:00:20"
         ],
         "y": [
          "truck6",
          "truck6",
          "truck6",
          "truck6",
          null
         ]
        },
        {
         "connectgaps": false,
         "hoverinfo": "y+name",
         "line": {
          "color": "rgb(152,139,232)",
          "width": 10
         },
         "mode": "lines",
         "name": "loading:truck6",
         "type": "scatter",
         "x": [
          "1970-01-01T00:04:30",
          "1970-01-01T00:04:30",
          "1970-01-01T00:05:20",
          "1970-01-01T00:05:20",
          "1970-01-01T00:05:20"
         ],
         "y": [
          "truck6",
          "truck6",
          "truck6",
          "truck6",
          null
         ]
        },
        {
         "connectgaps": false,
         "hoverinfo": "y+name",
         "line": {
          "color": "rgb(155,142,235)",
          "width": 10
         },
         "mode": "lines",
         "name": "unloading:truck6",
         "type": "scatter",
         "x": [
          "1970-01-01T00:05:35",
          "1970-01-01T00:05:35",
          "1970-01-01T00:06:00",
          "1970-01-01T00:06:00",
          "1970-01-01T00:06:00"
         ],
         "y": [
          "truck6",
          "truck6",
          "truck6",
          "truck6",
          null
         ]
        },
        {
         "connectgaps": false,
         "hoverinfo": "y+name",
         "line": {
          "color": "rgb(158,145,238)",
          "width": 10
         },
         "mode": "lines",
         "name": "driving_full:truck7",
         "type": "scatter",
         "x": [
          "1970-01-01T00:06:10",
          "1970-01-01T00:06:10",
          "1970-01-01T00:06:25",
          "1970-01-01T00:06:25",
          "1970-01-01T00:06:25"
         ],
         "y": [
          "truck7",
          "truck7",
          "truck7",
          "truck7",
          null
         ]
        },
        {
         "connectgaps": false,
         "hoverinfo": "y+name",
         "line": {
          "color": "rgb(161,148,241)",
          "width": 10
         },
         "mode": "lines",
         "name": "loading:truck7",
         "type": "scatter",
         "x": [
          "1970-01-01T00:05:20",
          "1970-01-01T00:05:20",
          "1970-01-01T00:06:10",
          "1970-01-01T00:06:10",
          "1970-01-01T00:06:10"
         ],
         "y": [
          "truck7",
          "truck7",
          "truck7",
          "truck7",
          null
         ]
        },
        {
         "connectgaps": false,
         "hoverinfo": "y+name",
         "line": {
          "color": "rgb(164,151,244)",
          "width": 10
         },
         "mode": "lines",
         "name": "driving_empty:truck7",
         "type": "scatter",
         "x": [
          "1970-01-01T00:00:00",
          "1970-01-01T00:00:00",
          "1970-01-01T00:00:20",
          "1970-01-01T00:00:20",
          "1970-01-01T00:00:20"
         ],
         "y": [
          "truck7",
          "truck7",
          "truck7",
          "truck7",
          null
         ]
        },
        {
         "connectgaps": false,
         "hoverinfo": "y+name",
         "line": {
          "color": "rgb(167,154,247)",
          "width": 10
         },
         "mode": "lines",
         "name": "unloading:truck7",
         "type": "scatter",
         "x": [
          "1970-01-01T00:06:25",
          "1970-01-01T00:06:25",
          "1970-01-01T00:06:50",
          "1970-01-01T00:06:50",
          "1970-01-01T00:06:50"
         ],
         "y": [
          "truck7",
          "truck7",
          "truck7",
          "truck7",
          null
         ]
        },
        {
         "connectgaps": false,
         "hoverinfo": "y+name",
         "line": {
          "color": "rgb(170,157,250)",
          "width": 10
         },
         "mode": "lines",
         "name": "loading:truck8",
         "type": "scatter",
         "x": [
          "1970-01-01T00:06:10",
          "1970-01-01T00:06:10",
          "1970-01-01T00:07:00",
          "1970-01-01T00:07:00",
          "1970-01-01T00:07:00"
         ],
         "y": [
          "truck8",
          "truck8",
          "truck8",
          "truck8",
          null
         ]
        },
        {
         "connectgaps": false,
         "hoverinfo": "y+name",
         "line": {
          "color": "rgb(173,160,253)",
          "width": 10
         },
         "mode": "lines",
         "name": "unloading:truck8",
         "type": "scatter",
         "x": [
          "1970-01-01T00:07:15",
          "1970-01-01T00:07:15",
          "1970-01-01T00:07:40",
          "1970-01-01T00:07:40",
          "1970-01-01T00:07:40"
         ],
         "y": [
          "truck8",
          "truck8",
          "truck8",
          "truck8",
          null
         ]
        },
        {
         "connectgaps": false,
         "hoverinfo": "y+name",
         "line": {
          "color": "rgb(176,163,0)",
          "width": 10
         },
         "mode": "lines",
         "name": "driving_empty:truck8",
         "type": "scatter",
         "x": [
          "1970-01-01T00:00:00",
          "1970-01-01T00:00:00",
          "1970-01-01T00:00:20",
          "1970-01-01T00:00:20",
          "1970-01-01T00:00:20"
         ],
         "y": [
          "truck8",
          "truck8",
          "truck8",
          "truck8",
          null
         ]
        },
        {
         "connectgaps": false,
         "hoverinfo": "y+name",
         "line": {
          "color": "rgb(179,166,3)",
          "width": 10
         },
         "mode": "lines",
         "name": "driving_full:truck8",
         "type": "scatter",
         "x": [
          "1970-01-01T00:07:00",
          "1970-01-01T00:07:00",
          "1970-01-01T00:07:15",
          "1970-01-01T00:07:15",
          "1970-01-01T00:07:15"
         ],
         "y": [
          "truck8",
          "truck8",
          "truck8",
          "truck8",
          null
         ]
        },
        {
         "connectgaps": false,
         "hoverinfo": "y+name",
         "line": {
          "color": "rgb(182,169,6)",
          "width": 10
         },
         "mode": "lines",
         "name": "unloading:truck9",
         "type": "scatter",
         "x": [
          "1970-01-01T00:08:05",
          "1970-01-01T00:08:05",
          "1970-01-01T00:08:30",
          "1970-01-01T00:08:30",
          "1970-01-01T00:08:30"
         ],
         "y": [
          "truck9",
          "truck9",
          "truck9",
          "truck9",
          null
         ]
        },
        {
         "connectgaps": false,
         "hoverinfo": "y+name",
         "line": {
          "color": "rgb(185,172,9)",
          "width": 10
         },
         "mode": "lines",
         "name": "driving_empty:truck9",
         "type": "scatter",
         "x": [
          "1970-01-01T00:00:00",
          "1970-01-01T00:00:00",
          "1970-01-01T00:00:20",
          "1970-01-01T00:00:20",
          "1970-01-01T00:00:20"
         ],
         "y": [
          "truck9",
          "truck9",
          "truck9",
          "truck9",
          null
         ]
        },
        {
         "connectgaps": false,
         "hoverinfo": "y+name",
         "line": {
          "color": "rgb(188,175,12)",
          "width": 10
         },
         "mode": "lines",
         "name": "driving_full:truck9",
         "type": "scatter",
         "x": [
          "1970-01-01T00:07:50",
          "1970-01-01T00:07:50",
          "1970-01-01T00:08:05",
          "1970-01-01T00:08:05",
          "1970-01-01T00:08:05"
         ],
         "y": [
          "truck9",
          "truck9",
          "truck9",
          "truck9",
          null
         ]
        },
        {
         "connectgaps": false,
         "hoverinfo": "y+name",
         "line": {
          "color": "rgb(191,178,15)",
          "width": 10
         },
         "mode": "lines",
         "name": "loading:truck9",
         "type": "scatter",
         "x": [
          "1970-01-01T00:07:00",
          "1970-01-01T00:07:00",
          "1970-01-01T00:07:50",
          "1970-01-01T00:07:50",
          "1970-01-01T00:07:50"
         ],
         "y": [
          "truck9",
          "truck9",
          "truck9",
          "truck9",
          null
         ]
        },
        {
         "connectgaps": false,
         "hoverinfo": "y+name",
         "line": {
          "color": "rgb(194,181,18)",
          "width": 10
         },
         "mode": "lines",
         "name": "loading:truck10",
         "type": "scatter",
         "x": [
          "1970-01-01T00:07:50",
          "1970-01-01T00:07:50",
          "1970-01-01T00:08:40",
          "1970-01-01T00:08:40",
          "1970-01-01T00:08:40"
         ],
         "y": [
          "truck10",
          "truck10",
          "truck10",
          "truck10",
          null
         ]
        },
        {
         "connectgaps": false,
         "hoverinfo": "y+name",
         "line": {
          "color": "rgb(197,184,21)",
          "width": 10
         },
         "mode": "lines",
         "name": "unloading:truck10",
         "type": "scatter",
         "x": [
          "1970-01-01T00:08:55",
          "1970-01-01T00:08:55",
          "1970-01-01T00:09:20",
          "1970-01-01T00:09:20",
          "1970-01-01T00:09:20"
         ],
         "y": [
          "truck10",
          "truck10",
          "truck10",
          "truck10",
          null
         ]
        },
        {
         "connectgaps": false,
         "hoverinfo": "y+name",
         "line": {
          "color": "rgb(200,187,24)",
          "width": 10
         },
         "mode": "lines",
         "name": "driving_empty:truck10",
         "type": "scatter",
         "x": [
          "1970-01-01T00:00:00",
          "1970-01-01T00:00:00",
          "1970-01-01T00:00:20",
          "1970-01-01T00:00:20",
          "1970-01-01T00:00:20"
         ],
         "y": [
          "truck10",
          "truck10",
          "truck10",
          "truck10",
          null
         ]
        },
        {
         "connectgaps": false,
         "hoverinfo": "y+name",
         "line": {
          "color": "rgb(203,190,27)",
          "width": 10
         },
         "mode": "lines",
         "name": "driving_full:truck10",
         "type": "scatter",
         "x": [
          "1970-01-01T00:08:40",
          "1970-01-01T00:08:40",
          "1970-01-01T00:08:55",
          "1970-01-01T00:08:55",
          "1970-01-01T00:08:55"
         ],
         "y": [
          "truck10",
          "truck10",
          "truck10",
          "truck10",
          null
         ]
        },
        {
         "connectgaps": false,
         "hoverinfo": "y+name",
         "line": {
          "color": "rgb(206,193,30)",
          "width": 10
         },
         "mode": "lines",
         "name": "driving_full:truck11",
         "type": "scatter",
         "x": [
          "1970-01-01T00:09:30",
          "1970-01-01T00:09:30",
          "1970-01-01T00:09:45",
          "1970-01-01T00:09:45",
          "1970-01-01T00:09:45"
         ],
         "y": [
          "truck11",
          "truck11",
          "truck11",
          "truck11",
          null
         ]
        },
        {
         "connectgaps": false,
         "hoverinfo": "y+name",
         "line": {
          "color": "rgb(209,196,33)",
          "width": 10
         },
         "mode": "lines",
         "name": "loading:truck11",
         "type": "scatter",
         "x": [
          "1970-01-01T00:08:40",
          "1970-01-01T00:08:40",
          "1970-01-01T00:09:30",
          "1970-01-01T00:09:30",
          "1970-01-01T00:09:30"
         ],
         "y": [
          "truck11",
          "truck11",
          "truck11",
          "truck11",
          null
         ]
        },
        {
         "connectgaps": false,
         "hoverinfo": "y+name",
         "line": {
          "color": "rgb(212,199,36)",
          "width": 10
         },
         "mode": "lines",
         "name": "unloading:truck11",
         "type": "scatter",
         "x": [
          "1970-01-01T00:09:45",
          "1970-01-01T00:09:45",
          "1970-01-01T00:10:10",
          "1970-01-01T00:10:10",
          "1970-01-01T00:10:10"
         ],
         "y": [
          "truck11",
          "truck11",
          "truck11",
          "truck11",
          null
         ]
        },
        {
         "connectgaps": false,
         "hoverinfo": "y+name",
         "line": {
          "color": "rgb(215,202,39)",
          "width": 10
         },
         "mode": "lines",
         "name": "driving_empty:truck11",
         "type": "scatter",
         "x": [
          "1970-01-01T00:00:00",
          "1970-01-01T00:00:00",
          "1970-01-01T00:00:20",
          "1970-01-01T00:00:20",
          "1970-01-01T00:00:20"
         ],
         "y": [
          "truck11",
          "truck11",
          "truck11",
          "truck11",
          null
         ]
        },
        {
         "connectgaps": false,
         "hoverinfo": "y+name",
         "line": {
          "color": "rgb(218,205,42)",
          "width": 10
         },
         "mode": "lines",
         "name": "loading:truck12",
         "type": "scatter",
         "x": [
          "1970-01-01T00:09:30",
          "1970-01-01T00:09:30",
          "1970-01-01T00:10:20",
          "1970-01-01T00:10:20",
          "1970-01-01T00:10:20"
         ],
         "y": [
          "truck12",
          "truck12",
          "truck12",
          "truck12",
          null
         ]
        },
        {
         "connectgaps": false,
         "hoverinfo": "y+name",
         "line": {
          "color": "rgb(221,208,45)",
          "width": 10
         },
         "mode": "lines",
         "name": "driving_full:truck12",
         "type": "scatter",
         "x": [
          "1970-01-01T00:10:20",
          "1970-01-01T00:10:20",
          "1970-01-01T00:10:35",
          "1970-01-01T00:10:35",
          "1970-01-01T00:10:35"
         ],
         "y": [
          "truck12",
          "truck12",
          "truck12",
          "truck12",
          null
         ]
        },
        {
         "connectgaps": false,
         "hoverinfo": "y+name",
         "line": {
          "color": "rgb(224,211,48)",
          "width": 10
         },
         "mode": "lines",
         "name": "driving_empty:truck12",
         "type": "scatter",
         "x": [
          "1970-01-01T00:00:00",
          "1970-01-01T00:00:00",
          "1970-01-01T00:00:20",
          "1970-01-01T00:00:20",
          "1970-01-01T00:00:20"
         ],
         "y": [
          "truck12",
          "truck12",
          "truck12",
          "truck12",
          null
         ]
        },
        {
         "connectgaps": false,
         "hoverinfo": "y+name",
         "line": {
          "color": "rgb(227,214,51)",
          "width": 10
         },
         "mode": "lines",
         "name": "unloading:truck12",
         "type": "scatter",
         "x": [
          "1970-01-01T00:10:35",
          "1970-01-01T00:10:35",
          "1970-01-01T00:11:00",
          "1970-01-01T00:11:00",
          "1970-01-01T00:11:00"
         ],
         "y": [
          "truck12",
          "truck12",
          "truck12",
          "truck12",
          null
         ]
        },
        {
         "connectgaps": false,
         "hoverinfo": "y+name",
         "line": {
          "color": "rgb(230,217,54)",
          "width": 10
         },
         "mode": "lines",
         "name": "driving_full:truck13",
         "type": "scatter",
         "x": [
          "1970-01-01T00:11:10",
          "1970-01-01T00:11:10",
          "1970-01-01T00:11:25",
          "1970-01-01T00:11:25",
          "1970-01-01T00:11:25"
         ],
         "y": [
          "truck13",
          "truck13",
          "truck13",
          "truck13",
          null
         ]
        },
        {
         "connectgaps": false,
         "hoverinfo": "y+name",
         "line": {
          "color": "rgb(233,220,57)",
          "width": 10
         },
         "mode": "lines",
         "name": "unloading:truck13",
         "type": "scatter",
         "x": [
          "1970-01-01T00:11:25",
          "1970-01-01T00:11:25",
          "1970-01-01T00:11:50",
          "1970-01-01T00:11:50",
          "1970-01-01T00:11:50"
         ],
         "y": [
          "truck13",
          "truck13",
          "truck13",
          "truck13",
          null
         ]
        },
        {
         "connectgaps": false,
         "hoverinfo": "y+name",
         "line": {
          "color": "rgb(236,223,60)",
          "width": 10
         },
         "mode": "lines",
         "name": "driving_empty:truck13",
         "type": "scatter",
         "x": [
          "1970-01-01T00:00:00",
          "1970-01-01T00:00:00",
          "1970-01-01T00:00:20",
          "1970-01-01T00:00:20",
          "1970-01-01T00:00:20"
         ],
         "y": [
          "truck13",
          "truck13",
          "truck13",
          "truck13",
          null
         ]
        },
        {
         "connectgaps": false,
         "hoverinfo": "y+name",
         "line": {
          "color": "rgb(239,226,63)",
          "width": 10
         },
         "mode": "lines",
         "name": "loading:truck13",
         "type": "scatter",
         "x": [
          "1970-01-01T00:10:20",
          "1970-01-01T00:10:20",
          "1970-01-01T00:11:10",
          "1970-01-01T00:11:10",
          "1970-01-01T00:11:10"
         ],
         "y": [
          "truck13",
          "truck13",
          "truck13",
          "truck13",
          null
         ]
        },
        {
         "connectgaps": false,
         "hoverinfo": "y+name",
         "line": {
          "color": "rgb(242,229,66)",
          "width": 10
         },
         "mode": "lines",
         "name": "loading:truck14",
         "type": "scatter",
         "x": [
          "1970-01-01T00:11:10",
          "1970-01-01T00:11:10",
          "1970-01-01T00:12:00",
          "1970-01-01T00:12:00",
          "1970-01-01T00:12:00"
         ],
         "y": [
          "truck14",
          "truck14",
          "truck14",
          "truck14",
          null
         ]
        },
        {
         "connectgaps": false,
         "hoverinfo": "y+name",
         "line": {
          "color": "rgb(245,232,69)",
          "width": 10
         },
         "mode": "lines",
         "name": "driving_full:truck14",
         "type": "scatter",
         "x": [
          "1970-01-01T00:12:00",
          "1970-01-01T00:12:00",
          "1970-01-01T00:12:15",
          "1970-01-01T00:12:15",
          "1970-01-01T00:12:15"
         ],
         "y": [
          "truck14",
          "truck14",
          "truck14",
          "truck14",
          null
         ]
        },
        {
         "connectgaps": false,
         "hoverinfo": "y+name",
         "line": {
          "color": "rgb(248,235,72)",
          "width": 10
         },
         "mode": "lines",
         "name": "unloading:truck14",
         "type": "scatter",
         "x": [
          "1970-01-01T00:12:15",
          "1970-01-01T00:12:15",
          "1970-01-01T00:12:40",
          "1970-01-01T00:12:40",
          "1970-01-01T00:12:40"
         ],
         "y": [
          "truck14",
          "truck14",
          "truck14",
          "truck14",
          null
         ]
        },
        {
         "connectgaps": false,
         "hoverinfo": "y+name",
         "line": {
          "color": "rgb(251,238,75)",
          "width": 10
         },
         "mode": "lines",
         "name": "driving_empty:truck14",
         "type": "scatter",
         "x": [
          "1970-01-01T00:00:00",
          "1970-01-01T00:00:00",
          "1970-01-01T00:00:20",
          "1970-01-01T00:00:20",
          "1970-01-01T00:00:20"
         ],
         "y": [
          "truck14",
          "truck14",
          "truck14",
          "truck14",
          null
         ]
        },
        {
         "connectgaps": false,
         "hoverinfo": "y+name",
         "line": {
          "color": "rgb(254,241,78)",
          "width": 10
         },
         "mode": "lines",
         "name": "driving_full:truck15",
         "type": "scatter",
         "x": [
          "1970-01-01T00:12:50",
          "1970-01-01T00:12:50",
          "1970-01-01T00:13:05",
          "1970-01-01T00:13:05",
          "1970-01-01T00:13:05"
         ],
         "y": [
          "truck15",
          "truck15",
          "truck15",
          "truck15",
          null
         ]
        },
        {
         "connectgaps": false,
         "hoverinfo": "y+name",
         "line": {
          "color": "rgb(1,244,81)",
          "width": 10
         },
         "mode": "lines",
         "name": "unloading:truck15",
         "type": "scatter",
         "x": [
          "1970-01-01T00:13:05",
          "1970-01-01T00:13:05",
          "1970-01-01T00:13:30",
          "1970-01-01T00:13:30",
          "1970-01-01T00:13:30"
         ],
         "y": [
          "truck15",
          "truck15",
          "truck15",
          "truck15",
          null
         ]
        },
        {
         "connectgaps": false,
         "hoverinfo": "y+name",
         "line": {
          "color": "rgb(4,247,84)",
          "width": 10
         },
         "mode": "lines",
         "name": "driving_empty:truck15",
         "type": "scatter",
         "x": [
          "1970-01-01T00:00:00",
          "1970-01-01T00:00:00",
          "1970-01-01T00:00:20",
          "1970-01-01T00:00:20",
          "1970-01-01T00:00:20"
         ],
         "y": [
          "truck15",
          "truck15",
          "truck15",
          "truck15",
          null
         ]
        },
        {
         "connectgaps": false,
         "hoverinfo": "y+name",
         "line": {
          "color": "rgb(7,250,87)",
          "width": 10
         },
         "mode": "lines",
         "name": "loading:truck15",
         "type": "scatter",
         "x": [
          "1970-01-01T00:12:00",
          "1970-01-01T00:12:00",
          "1970-01-01T00:12:50",
          "1970-01-01T00:12:50",
          "1970-01-01T00:12:50"
         ],
         "y": [
          "truck15",
          "truck15",
          "truck15",
          "truck15",
          null
         ]
        },
        {
         "connectgaps": false,
         "hoverinfo": "y+name",
         "line": {
          "color": "rgb(10,253,90)",
          "width": 10
         },
         "mode": "lines",
         "name": "unloading:truck16",
         "type": "scatter",
         "x": [
          "1970-01-01T00:13:55",
          "1970-01-01T00:13:55",
          "1970-01-01T00:14:20",
          "1970-01-01T00:14:20",
          "1970-01-01T00:14:20"
         ],
         "y": [
          "truck16",
          "truck16",
          "truck16",
          "truck16",
          null
         ]
        },
        {
         "connectgaps": false,
         "hoverinfo": "y+name",
         "line": {
          "color": "rgb(13,0,93)",
          "width": 10
         },
         "mode": "lines",
         "name": "driving_full:truck16",
         "type": "scatter",
         "x": [
          "1970-01-01T00:13:40",
          "1970-01-01T00:13:40",
          "1970-01-01T00:13:55",
          "1970-01-01T00:13:55",
          "1970-01-01T00:13:55"
         ],
         "y": [
          "truck16",
          "truck16",
          "truck16",
          "truck16",
          null
         ]
        },
        {
         "connectgaps": false,
         "hoverinfo": "y+name",
         "line": {
          "color": "rgb(16,3,96)",
          "width": 10
         },
         "mode": "lines",
         "name": "loading:truck16",
         "type": "scatter",
         "x": [
          "1970-01-01T00:12:50",
          "1970-01-01T00:12:50",
          "1970-01-01T00:13:40",
          "1970-01-01T00:13:40",
          "1970-01-01T00:13:40"
         ],
         "y": [
          "truck16",
          "truck16",
          "truck16",
          "truck16",
          null
         ]
        },
        {
         "connectgaps": false,
         "hoverinfo": "y+name",
         "line": {
          "color": "rgb(19,6,99)",
          "width": 10
         },
         "mode": "lines",
         "name": "driving_empty:truck16",
         "type": "scatter",
         "x": [
          "1970-01-01T00:00:00",
          "1970-01-01T00:00:00",
          "1970-01-01T00:00:20",
          "1970-01-01T00:00:20",
          "1970-01-01T00:00:20"
         ],
         "y": [
          "truck16",
          "truck16",
          "truck16",
          "truck16",
          null
         ]
        },
        {
         "connectgaps": false,
         "hoverinfo": "y+name",
         "line": {
          "color": "rgb(22,9,102)",
          "width": 10
         },
         "mode": "lines",
         "name": "loading:truck17",
         "type": "scatter",
         "x": [
          "1970-01-01T00:13:40",
          "1970-01-01T00:13:40",
          "1970-01-01T00:14:30",
          "1970-01-01T00:14:30",
          "1970-01-01T00:14:30"
         ],
         "y": [
          "truck17",
          "truck17",
          "truck17",
          "truck17",
          null
         ]
        },
        {
         "connectgaps": false,
         "hoverinfo": "y+name",
         "line": {
          "color": "rgb(25,12,105)",
          "width": 10
         },
         "mode": "lines",
         "name": "driving_full:truck17",
         "type": "scatter",
         "x": [
          "1970-01-01T00:14:30",
          "1970-01-01T00:14:30",
          "1970-01-01T00:14:45",
          "1970-01-01T00:14:45",
          "1970-01-01T00:14:45"
         ],
         "y": [
          "truck17",
          "truck17",
          "truck17",
          "truck17",
          null
         ]
        },
        {
         "connectgaps": false,
         "hoverinfo": "y+name",
         "line": {
          "color": "rgb(28,15,108)",
          "width": 10
         },
         "mode": "lines",
         "name": "unloading:truck17",
         "type": "scatter",
         "x": [
          "1970-01-01T00:14:45",
          "1970-01-01T00:14:45",
          "1970-01-01T00:15:10",
          "1970-01-01T00:15:10",
          "1970-01-01T00:15:10"
         ],
         "y": [
          "truck17",
          "truck17",
          "truck17",
          "truck17",
          null
         ]
        },
        {
         "connectgaps": false,
         "hoverinfo": "y+name",
         "line": {
          "color": "rgb(31,18,111)",
          "width": 10
         },
         "mode": "lines",
         "name": "driving_empty:truck17",
         "type": "scatter",
         "x": [
          "1970-01-01T00:00:00",
          "1970-01-01T00:00:00",
          "1970-01-01T00:00:20",
          "1970-01-01T00:00:20",
          "1970-01-01T00:00:20"
         ],
         "y": [
          "truck17",
          "truck17",
          "truck17",
          "truck17",
          null
         ]
        },
        {
         "connectgaps": false,
         "hoverinfo": "y+name",
         "line": {
          "color": "rgb(34,21,114)",
          "width": 10
         },
         "mode": "lines",
         "name": "driving_empty:truck18",
         "type": "scatter",
         "x": [
          "1970-01-01T00:00:00",
          "1970-01-01T00:00:00",
          "1970-01-01T00:00:20",
          "1970-01-01T00:00:20",
          "1970-01-01T00:00:20"
         ],
         "y": [
          "truck18",
          "truck18",
          "truck18",
          "truck18",
          null
         ]
        },
        {
         "connectgaps": false,
         "hoverinfo": "y+name",
         "line": {
          "color": "rgb(37,24,117)",
          "width": 10
         },
         "mode": "lines",
         "name": "loading:truck18",
         "type": "scatter",
         "x": [
          "1970-01-01T00:14:30",
          "1970-01-01T00:14:30",
          "1970-01-01T00:15:20",
          "1970-01-01T00:15:20",
          "1970-01-01T00:15:20"
         ],
         "y": [
          "truck18",
          "truck18",
          "truck18",
          "truck18",
          null
         ]
        },
        {
         "connectgaps": false,
         "hoverinfo": "y+name",
         "line": {
          "color": "rgb(40,27,120)",
          "width": 10
         },
         "mode": "lines",
         "name": "unloading:truck18",
         "type": "scatter",
         "x": [
          "1970-01-01T00:15:35",
          "1970-01-01T00:15:35",
          "1970-01-01T00:16:00",
          "1970-01-01T00:16:00",
          "1970-01-01T00:16:00"
         ],
         "y": [
          "truck18",
          "truck18",
          "truck18",
          "truck18",
          null
         ]
        },
        {
         "connectgaps": false,
         "hoverinfo": "y+name",
         "line": {
          "color": "rgb(43,30,123)",
          "width": 10
         },
         "mode": "lines",
         "name": "driving_full:truck18",
         "type": "scatter",
         "x": [
          "1970-01-01T00:15:20",
          "1970-01-01T00:15:20",
          "1970-01-01T00:15:35",
          "1970-01-01T00:15:35",
          "1970-01-01T00:15:35"
         ],
         "y": [
          "truck18",
          "truck18",
          "truck18",
          "truck18",
          null
         ]
        },
        {
         "connectgaps": false,
         "hoverinfo": "y+name",
         "line": {
          "color": "rgb(46,33,126)",
          "width": 10
         },
         "mode": "lines",
         "name": "loading:truck19",
         "type": "scatter",
         "x": [
          "1970-01-01T00:15:20",
          "1970-01-01T00:15:20",
          "1970-01-01T00:16:10",
          "1970-01-01T00:16:10",
          "1970-01-01T00:16:10"
         ],
         "y": [
          "truck19",
          "truck19",
          "truck19",
          "truck19",
          null
         ]
        },
        {
         "connectgaps": false,
         "hoverinfo": "y+name",
         "line": {
          "color": "rgb(49,36,129)",
          "width": 10
         },
         "mode": "lines",
         "name": "driving_empty:truck19",
         "type": "scatter",
         "x": [
          "1970-01-01T00:00:00",
          "1970-01-01T00:00:00",
          "1970-01-01T00:00:20",
          "1970-01-01T00:00:20",
          "1970-01-01T00:00:20"
         ],
         "y": [
          "truck19",
          "truck19",
          "truck19",
          "truck19",
          null
         ]
        },
        {
         "connectgaps": false,
         "hoverinfo": "y+name",
         "line": {
          "color": "rgb(52,39,132)",
          "width": 10
         },
         "mode": "lines",
         "name": "driving_full:truck19",
         "type": "scatter",
         "x": [
          "1970-01-01T00:16:10",
          "1970-01-01T00:16:10",
          "1970-01-01T00:16:25",
          "1970-01-01T00:16:25",
          "1970-01-01T00:16:25"
         ],
         "y": [
          "truck19",
          "truck19",
          "truck19",
          "truck19",
          null
         ]
        },
        {
         "connectgaps": false,
         "hoverinfo": "y+name",
         "line": {
          "color": "rgb(55,42,135)",
          "width": 10
         },
         "mode": "lines",
         "name": "unloading:truck19",
         "type": "scatter",
         "x": [
          "1970-01-01T00:16:25",
          "1970-01-01T00:16:25",
          "1970-01-01T00:16:50",
          "1970-01-01T00:16:50",
          "1970-01-01T00:16:50"
         ],
         "y": [
          "truck19",
          "truck19",
          "truck19",
          "truck19",
          null
         ]
        },
        {
         "connectgaps": false,
         "hoverinfo": "y+name",
         "line": {
          "color": "rgb(58,45,138)",
          "width": 10
         },
         "mode": "lines",
         "name": "driving_empty:truck20",
         "type": "scatter",
         "x": [
          "1970-01-01T00:00:00",
          "1970-01-01T00:00:00",
          "1970-01-01T00:00:20",
          "1970-01-01T00:00:20",
          "1970-01-01T00:00:20"
         ],
         "y": [
          "truck20",
          "truck20",
          "truck20",
          "truck20",
          null
         ]
        },
        {
         "connectgaps": false,
         "hoverinfo": "y+name",
         "line": {
          "color": "rgb(61,48,141)",
          "width": 10
         },
         "mode": "lines",
         "name": "driving_full:truck20",
         "type": "scatter",
         "x": [
          "1970-01-01T00:17:00",
          "1970-01-01T00:17:00",
          "1970-01-01T00:17:15",
          "1970-01-01T00:17:15",
          "1970-01-01T00:17:15"
         ],
         "y": [
          "truck20",
          "truck20",
          "truck20",
          "truck20",
          null
         ]
        },
        {
         "connectgaps": false,
         "hoverinfo": "y+name",
         "line": {
          "color": "rgb(64,51,144)",
          "width": 10
         },
         "mode": "lines",
         "name": "unloading:truck20",
         "type": "scatter",
         "x": [
          "1970-01-01T00:17:15",
          "1970-01-01T00:17:15",
          "1970-01-01T00:17:40",
          "1970-01-01T00:17:40",
          "1970-01-01T00:17:40"
         ],
         "y": [
          "truck20",
          "truck20",
          "truck20",
          "truck20",
          null
         ]
        },
        {
         "connectgaps": false,
         "hoverinfo": "y+name",
         "line": {
          "color": "rgb(67,54,147)",
          "width": 10
         },
         "mode": "lines",
         "name": "loading:truck20",
         "type": "scatter",
         "x": [
          "1970-01-01T00:16:10",
          "1970-01-01T00:16:10",
          "1970-01-01T00:17:00",
          "1970-01-01T00:17:00",
          "1970-01-01T00:17:00"
         ],
         "y": [
          "truck20",
          "truck20",
          "truck20",
          "truck20",
          null
         ]
        }
       ],
       "layout": {
        "autosize": true,
        "hovermode": "closest",
        "legend": {
         "orientation": "h",
         "x": 0,
         "y": -0.2
        },
        "template": {
         "data": {
          "bar": [
           {
            "error_x": {
             "color": "#2a3f5f"
            },
            "error_y": {
             "color": "#2a3f5f"
            },
            "marker": {
             "line": {
              "color": "#E5ECF6",
              "width": 0.5
             },
             "pattern": {
              "fillmode": "overlay",
              "size": 10,
              "solidity": 0.2
             }
            },
            "type": "bar"
           }
          ],
          "barpolar": [
           {
            "marker": {
             "line": {
              "color": "#E5ECF6",
              "width": 0.5
             },
             "pattern": {
              "fillmode": "overlay",
              "size": 10,
              "solidity": 0.2
             }
            },
            "type": "barpolar"
           }
          ],
          "carpet": [
           {
            "aaxis": {
             "endlinecolor": "#2a3f5f",
             "gridcolor": "white",
             "linecolor": "white",
             "minorgridcolor": "white",
             "startlinecolor": "#2a3f5f"
            },
            "baxis": {
             "endlinecolor": "#2a3f5f",
             "gridcolor": "white",
             "linecolor": "white",
             "minorgridcolor": "white",
             "startlinecolor": "#2a3f5f"
            },
            "type": "carpet"
           }
          ],
          "choropleth": [
           {
            "colorbar": {
             "outlinewidth": 0,
             "ticks": ""
            },
            "type": "choropleth"
           }
          ],
          "contour": [
           {
            "colorbar": {
             "outlinewidth": 0,
             "ticks": ""
            },
            "colorscale": [
             [
              0,
              "#0d0887"
             ],
             [
              0.1111111111111111,
              "#46039f"
             ],
             [
              0.2222222222222222,
              "#7201a8"
             ],
             [
              0.3333333333333333,
              "#9c179e"
             ],
             [
              0.4444444444444444,
              "#bd3786"
             ],
             [
              0.5555555555555556,
              "#d8576b"
             ],
             [
              0.6666666666666666,
              "#ed7953"
             ],
             [
              0.7777777777777778,
              "#fb9f3a"
             ],
             [
              0.8888888888888888,
              "#fdca26"
             ],
             [
              1,
              "#f0f921"
             ]
            ],
            "type": "contour"
           }
          ],
          "contourcarpet": [
           {
            "colorbar": {
             "outlinewidth": 0,
             "ticks": ""
            },
            "type": "contourcarpet"
           }
          ],
          "heatmap": [
           {
            "colorbar": {
             "outlinewidth": 0,
             "ticks": ""
            },
            "colorscale": [
             [
              0,
              "#0d0887"
             ],
             [
              0.1111111111111111,
              "#46039f"
             ],
             [
              0.2222222222222222,
              "#7201a8"
             ],
             [
              0.3333333333333333,
              "#9c179e"
             ],
             [
              0.4444444444444444,
              "#bd3786"
             ],
             [
              0.5555555555555556,
              "#d8576b"
             ],
             [
              0.6666666666666666,
              "#ed7953"
             ],
             [
              0.7777777777777778,
              "#fb9f3a"
             ],
             [
              0.8888888888888888,
              "#fdca26"
             ],
             [
              1,
              "#f0f921"
             ]
            ],
            "type": "heatmap"
           }
          ],
          "heatmapgl": [
           {
            "colorbar": {
             "outlinewidth": 0,
             "ticks": ""
            },
            "colorscale": [
             [
              0,
              "#0d0887"
             ],
             [
              0.1111111111111111,
              "#46039f"
             ],
             [
              0.2222222222222222,
              "#7201a8"
             ],
             [
              0.3333333333333333,
              "#9c179e"
             ],
             [
              0.4444444444444444,
              "#bd3786"
             ],
             [
              0.5555555555555556,
              "#d8576b"
             ],
             [
              0.6666666666666666,
              "#ed7953"
             ],
             [
              0.7777777777777778,
              "#fb9f3a"
             ],
             [
              0.8888888888888888,
              "#fdca26"
             ],
             [
              1,
              "#f0f921"
             ]
            ],
            "type": "heatmapgl"
           }
          ],
          "histogram": [
           {
            "marker": {
             "pattern": {
              "fillmode": "overlay",
              "size": 10,
              "solidity": 0.2
             }
            },
            "type": "histogram"
           }
          ],
          "histogram2d": [
           {
            "colorbar": {
             "outlinewidth": 0,
             "ticks": ""
            },
            "colorscale": [
             [
              0,
              "#0d0887"
             ],
             [
              0.1111111111111111,
              "#46039f"
             ],
             [
              0.2222222222222222,
              "#7201a8"
             ],
             [
              0.3333333333333333,
              "#9c179e"
             ],
             [
              0.4444444444444444,
              "#bd3786"
             ],
             [
              0.5555555555555556,
              "#d8576b"
             ],
             [
              0.6666666666666666,
              "#ed7953"
             ],
             [
              0.7777777777777778,
              "#fb9f3a"
             ],
             [
              0.8888888888888888,
              "#fdca26"
             ],
             [
              1,
              "#f0f921"
             ]
            ],
            "type": "histogram2d"
           }
          ],
          "histogram2dcontour": [
           {
            "colorbar": {
             "outlinewidth": 0,
             "ticks": ""
            },
            "colorscale": [
             [
              0,
              "#0d0887"
             ],
             [
              0.1111111111111111,
              "#46039f"
             ],
             [
              0.2222222222222222,
              "#7201a8"
             ],
             [
              0.3333333333333333,
              "#9c179e"
             ],
             [
              0.4444444444444444,
              "#bd3786"
             ],
             [
              0.5555555555555556,
              "#d8576b"
             ],
             [
              0.6666666666666666,
              "#ed7953"
             ],
             [
              0.7777777777777778,
              "#fb9f3a"
             ],
             [
              0.8888888888888888,
              "#fdca26"
             ],
             [
              1,
              "#f0f921"
             ]
            ],
            "type": "histogram2dcontour"
           }
          ],
          "mesh3d": [
           {
            "colorbar": {
             "outlinewidth": 0,
             "ticks": ""
            },
            "type": "mesh3d"
           }
          ],
          "parcoords": [
           {
            "line": {
             "colorbar": {
              "outlinewidth": 0,
              "ticks": ""
             }
            },
            "type": "parcoords"
           }
          ],
          "pie": [
           {
            "automargin": true,
            "type": "pie"
           }
          ],
          "scatter": [
           {
            "fillpattern": {
             "fillmode": "overlay",
             "size": 10,
             "solidity": 0.2
            },
            "type": "scatter"
           }
          ],
          "scatter3d": [
           {
            "line": {
             "colorbar": {
              "outlinewidth": 0,
              "ticks": ""
             }
            },
            "marker": {
             "colorbar": {
              "outlinewidth": 0,
              "ticks": ""
             }
            },
            "type": "scatter3d"
           }
          ],
          "scattercarpet": [
           {
            "marker": {
             "colorbar": {
              "outlinewidth": 0,
              "ticks": ""
             }
            },
            "type": "scattercarpet"
           }
          ],
          "scattergeo": [
           {
            "marker": {
             "colorbar": {
              "outlinewidth": 0,
              "ticks": ""
             }
            },
            "type": "scattergeo"
           }
          ],
          "scattergl": [
           {
            "marker": {
             "colorbar": {
              "outlinewidth": 0,
              "ticks": ""
             }
            },
            "type": "scattergl"
           }
          ],
          "scattermapbox": [
           {
            "marker": {
             "colorbar": {
              "outlinewidth": 0,
              "ticks": ""
             }
            },
            "type": "scattermapbox"
           }
          ],
          "scatterpolar": [
           {
            "marker": {
             "colorbar": {
              "outlinewidth": 0,
              "ticks": ""
             }
            },
            "type": "scatterpolar"
           }
          ],
          "scatterpolargl": [
           {
            "marker": {
             "colorbar": {
              "outlinewidth": 0,
              "ticks": ""
             }
            },
            "type": "scatterpolargl"
           }
          ],
          "scatterternary": [
           {
            "marker": {
             "colorbar": {
              "outlinewidth": 0,
              "ticks": ""
             }
            },
            "type": "scatterternary"
           }
          ],
          "surface": [
           {
            "colorbar": {
             "outlinewidth": 0,
             "ticks": ""
            },
            "colorscale": [
             [
              0,
              "#0d0887"
             ],
             [
              0.1111111111111111,
              "#46039f"
             ],
             [
              0.2222222222222222,
              "#7201a8"
             ],
             [
              0.3333333333333333,
              "#9c179e"
             ],
             [
              0.4444444444444444,
              "#bd3786"
             ],
             [
              0.5555555555555556,
              "#d8576b"
             ],
             [
              0.6666666666666666,
              "#ed7953"
             ],
             [
              0.7777777777777778,
              "#fb9f3a"
             ],
             [
              0.8888888888888888,
              "#fdca26"
             ],
             [
              1,
              "#f0f921"
             ]
            ],
            "type": "surface"
           }
          ],
          "table": [
           {
            "cells": {
             "fill": {
              "color": "#EBF0F8"
             },
             "line": {
              "color": "white"
             }
            },
            "header": {
             "fill": {
              "color": "#C8D4E3"
             },
             "line": {
              "color": "white"
             }
            },
            "type": "table"
           }
          ]
         },
         "layout": {
          "annotationdefaults": {
           "arrowcolor": "#2a3f5f",
           "arrowhead": 0,
           "arrowwidth": 1
          },
          "autotypenumbers": "strict",
          "coloraxis": {
           "colorbar": {
            "outlinewidth": 0,
            "ticks": ""
           }
          },
          "colorscale": {
           "diverging": [
            [
             0,
             "#8e0152"
            ],
            [
             0.1,
             "#c51b7d"
            ],
            [
             0.2,
             "#de77ae"
            ],
            [
             0.3,
             "#f1b6da"
            ],
            [
             0.4,
             "#fde0ef"
            ],
            [
             0.5,
             "#f7f7f7"
            ],
            [
             0.6,
             "#e6f5d0"
            ],
            [
             0.7,
             "#b8e186"
            ],
            [
             0.8,
             "#7fbc41"
            ],
            [
             0.9,
             "#4d9221"
            ],
            [
             1,
             "#276419"
            ]
           ],
           "sequential": [
            [
             0,
             "#0d0887"
            ],
            [
             0.1111111111111111,
             "#46039f"
            ],
            [
             0.2222222222222222,
             "#7201a8"
            ],
            [
             0.3333333333333333,
             "#9c179e"
            ],
            [
             0.4444444444444444,
             "#bd3786"
            ],
            [
             0.5555555555555556,
             "#d8576b"
            ],
            [
             0.6666666666666666,
             "#ed7953"
            ],
            [
             0.7777777777777778,
             "#fb9f3a"
            ],
            [
             0.8888888888888888,
             "#fdca26"
            ],
            [
             1,
             "#f0f921"
            ]
           ],
           "sequentialminus": [
            [
             0,
             "#0d0887"
            ],
            [
             0.1111111111111111,
             "#46039f"
            ],
            [
             0.2222222222222222,
             "#7201a8"
            ],
            [
             0.3333333333333333,
             "#9c179e"
            ],
            [
             0.4444444444444444,
             "#bd3786"
            ],
            [
             0.5555555555555556,
             "#d8576b"
            ],
            [
             0.6666666666666666,
             "#ed7953"
            ],
            [
             0.7777777777777778,
             "#fb9f3a"
            ],
            [
             0.8888888888888888,
             "#fdca26"
            ],
            [
             1,
             "#f0f921"
            ]
           ]
          },
          "colorway": [
           "#636efa",
           "#EF553B",
           "#00cc96",
           "#ab63fa",
           "#FFA15A",
           "#19d3f3",
           "#FF6692",
           "#B6E880",
           "#FF97FF",
           "#FECB52"
          ],
          "font": {
           "color": "#2a3f5f"
          },
          "geo": {
           "bgcolor": "white",
           "lakecolor": "white",
           "landcolor": "#E5ECF6",
           "showlakes": true,
           "showland": true,
           "subunitcolor": "white"
          },
          "hoverlabel": {
           "align": "left"
          },
          "hovermode": "closest",
          "mapbox": {
           "style": "light"
          },
          "paper_bgcolor": "white",
          "plot_bgcolor": "#E5ECF6",
          "polar": {
           "angularaxis": {
            "gridcolor": "white",
            "linecolor": "white",
            "ticks": ""
           },
           "bgcolor": "#E5ECF6",
           "radialaxis": {
            "gridcolor": "white",
            "linecolor": "white",
            "ticks": ""
           }
          },
          "scene": {
           "xaxis": {
            "backgroundcolor": "#E5ECF6",
            "gridcolor": "white",
            "gridwidth": 2,
            "linecolor": "white",
            "showbackground": true,
            "ticks": "",
            "zerolinecolor": "white"
           },
           "yaxis": {
            "backgroundcolor": "#E5ECF6",
            "gridcolor": "white",
            "gridwidth": 2,
            "linecolor": "white",
            "showbackground": true,
            "ticks": "",
            "zerolinecolor": "white"
           },
           "zaxis": {
            "backgroundcolor": "#E5ECF6",
            "gridcolor": "white",
            "gridwidth": 2,
            "linecolor": "white",
            "showbackground": true,
            "ticks": "",
            "zerolinecolor": "white"
           }
          },
          "shapedefaults": {
           "line": {
            "color": "#2a3f5f"
           }
          },
          "ternary": {
           "aaxis": {
            "gridcolor": "white",
            "linecolor": "white",
            "ticks": ""
           },
           "baxis": {
            "gridcolor": "white",
            "linecolor": "white",
            "ticks": ""
           },
           "bgcolor": "#E5ECF6",
           "caxis": {
            "gridcolor": "white",
            "linecolor": "white",
            "ticks": ""
           }
          },
          "title": {
           "x": 0.05
          },
          "xaxis": {
           "automargin": true,
           "gridcolor": "white",
           "linecolor": "white",
           "ticks": "",
           "title": {
            "standoff": 15
           },
           "zerolinecolor": "white",
           "zerolinewidth": 2
          },
          "yaxis": {
           "automargin": true,
           "gridcolor": "white",
           "linecolor": "white",
           "ticks": "",
           "title": {
            "standoff": 15
           },
           "zerolinecolor": "white",
           "zerolinewidth": 2
          }
         }
        },
        "title": {
         "text": "GANTT Chart"
        },
        "xaxis": {
         "range": [
          "1970-01-01T00:00:00",
          "1970-01-01T00:17:40"
         ],
         "title": {
          "font": {
           "color": "#7f7f7f",
           "family": "Courier New, monospace",
           "size": 18
          },
          "text": "Time"
         },
         "type": "date"
        },
        "yaxis": {
         "autorange": true,
         "range": [
          -1.0555555555555556,
          20.055555555555557
         ],
         "title": {
          "font": {
           "color": "#7f7f7f",
           "family": "Courier New, monospace",
           "size": 18
          },
          "text": "Activities"
         },
         "type": "category"
        }
       }
      },
      "text/html": [
       "<div>                            <div id=\"2ccb0c5e-3686-481b-a439-2f5c7f4da9de\" class=\"plotly-graph-div\" style=\"height:525px; width:100%;\"></div>            <script type=\"text/javascript\">                require([\"plotly\"], function(Plotly) {                    window.PLOTLYENV=window.PLOTLYENV || {};                                    if (document.getElementById(\"2ccb0c5e-3686-481b-a439-2f5c7f4da9de\")) {                    Plotly.newPlot(                        \"2ccb0c5e-3686-481b-a439-2f5c7f4da9de\",                        [{\"connectgaps\":false,\"hoverinfo\":\"y+name\",\"line\":{\"color\":\"rgb(86,73,166)\",\"width\":10},\"mode\":\"lines\",\"name\":\"unloading:truck1\",\"x\":[\"1970-01-01T00:01:25\",\"1970-01-01T00:01:25\",\"1970-01-01T00:01:50\",\"1970-01-01T00:01:50\",\"1970-01-01T00:01:50\"],\"y\":[\"truck1\",\"truck1\",\"truck1\",\"truck1\",null],\"type\":\"scatter\"},{\"connectgaps\":false,\"hoverinfo\":\"y+name\",\"line\":{\"color\":\"rgb(89,76,169)\",\"width\":10},\"mode\":\"lines\",\"name\":\"driving_full:truck1\",\"x\":[\"1970-01-01T00:01:10\",\"1970-01-01T00:01:10\",\"1970-01-01T00:01:25\",\"1970-01-01T00:01:25\",\"1970-01-01T00:01:25\"],\"y\":[\"truck1\",\"truck1\",\"truck1\",\"truck1\",null],\"type\":\"scatter\"},{\"connectgaps\":false,\"hoverinfo\":\"y+name\",\"line\":{\"color\":\"rgb(92,79,172)\",\"width\":10},\"mode\":\"lines\",\"name\":\"loading:truck1\",\"x\":[\"1970-01-01T00:00:20\",\"1970-01-01T00:00:20\",\"1970-01-01T00:01:10\",\"1970-01-01T00:01:10\",\"1970-01-01T00:01:10\"],\"y\":[\"truck1\",\"truck1\",\"truck1\",\"truck1\",null],\"type\":\"scatter\"},{\"connectgaps\":false,\"hoverinfo\":\"y+name\",\"line\":{\"color\":\"rgb(95,82,175)\",\"width\":10},\"mode\":\"lines\",\"name\":\"driving_empty:truck1\",\"x\":[\"1970-01-01T00:00:00\",\"1970-01-01T00:00:00\",\"1970-01-01T00:00:20\",\"1970-01-01T00:00:20\",\"1970-01-01T00:00:20\"],\"y\":[\"truck1\",\"truck1\",\"truck1\",\"truck1\",null],\"type\":\"scatter\"},{\"connectgaps\":false,\"hoverinfo\":\"y+name\",\"line\":{\"color\":\"rgb(98,85,178)\",\"width\":10},\"mode\":\"lines\",\"name\":\"loading:truck2\",\"x\":[\"1970-01-01T00:01:10\",\"1970-01-01T00:01:10\",\"1970-01-01T00:02:00\",\"1970-01-01T00:02:00\",\"1970-01-01T00:02:00\"],\"y\":[\"truck2\",\"truck2\",\"truck2\",\"truck2\",null],\"type\":\"scatter\"},{\"connectgaps\":false,\"hoverinfo\":\"y+name\",\"line\":{\"color\":\"rgb(101,88,181)\",\"width\":10},\"mode\":\"lines\",\"name\":\"unloading:truck2\",\"x\":[\"1970-01-01T00:02:15\",\"1970-01-01T00:02:15\",\"1970-01-01T00:02:40\",\"1970-01-01T00:02:40\",\"1970-01-01T00:02:40\"],\"y\":[\"truck2\",\"truck2\",\"truck2\",\"truck2\",null],\"type\":\"scatter\"},{\"connectgaps\":false,\"hoverinfo\":\"y+name\",\"line\":{\"color\":\"rgb(104,91,184)\",\"width\":10},\"mode\":\"lines\",\"name\":\"driving_full:truck2\",\"x\":[\"1970-01-01T00:02:00\",\"1970-01-01T00:02:00\",\"1970-01-01T00:02:15\",\"1970-01-01T00:02:15\",\"1970-01-01T00:02:15\"],\"y\":[\"truck2\",\"truck2\",\"truck2\",\"truck2\",null],\"type\":\"scatter\"},{\"connectgaps\":false,\"hoverinfo\":\"y+name\",\"line\":{\"color\":\"rgb(107,94,187)\",\"width\":10},\"mode\":\"lines\",\"name\":\"driving_empty:truck2\",\"x\":[\"1970-01-01T00:00:00\",\"1970-01-01T00:00:00\",\"1970-01-01T00:00:20\",\"1970-01-01T00:00:20\",\"1970-01-01T00:00:20\"],\"y\":[\"truck2\",\"truck2\",\"truck2\",\"truck2\",null],\"type\":\"scatter\"},{\"connectgaps\":false,\"hoverinfo\":\"y+name\",\"line\":{\"color\":\"rgb(110,97,190)\",\"width\":10},\"mode\":\"lines\",\"name\":\"unloading:truck3\",\"x\":[\"1970-01-01T00:03:05\",\"1970-01-01T00:03:05\",\"1970-01-01T00:03:30\",\"1970-01-01T00:03:30\",\"1970-01-01T00:03:30\"],\"y\":[\"truck3\",\"truck3\",\"truck3\",\"truck3\",null],\"type\":\"scatter\"},{\"connectgaps\":false,\"hoverinfo\":\"y+name\",\"line\":{\"color\":\"rgb(113,100,193)\",\"width\":10},\"mode\":\"lines\",\"name\":\"driving_empty:truck3\",\"x\":[\"1970-01-01T00:00:00\",\"1970-01-01T00:00:00\",\"1970-01-01T00:00:20\",\"1970-01-01T00:00:20\",\"1970-01-01T00:00:20\"],\"y\":[\"truck3\",\"truck3\",\"truck3\",\"truck3\",null],\"type\":\"scatter\"},{\"connectgaps\":false,\"hoverinfo\":\"y+name\",\"line\":{\"color\":\"rgb(116,103,196)\",\"width\":10},\"mode\":\"lines\",\"name\":\"driving_full:truck3\",\"x\":[\"1970-01-01T00:02:50\",\"1970-01-01T00:02:50\",\"1970-01-01T00:03:05\",\"1970-01-01T00:03:05\",\"1970-01-01T00:03:05\"],\"y\":[\"truck3\",\"truck3\",\"truck3\",\"truck3\",null],\"type\":\"scatter\"},{\"connectgaps\":false,\"hoverinfo\":\"y+name\",\"line\":{\"color\":\"rgb(119,106,199)\",\"width\":10},\"mode\":\"lines\",\"name\":\"loading:truck3\",\"x\":[\"1970-01-01T00:02:00\",\"1970-01-01T00:02:00\",\"1970-01-01T00:02:50\",\"1970-01-01T00:02:50\",\"1970-01-01T00:02:50\"],\"y\":[\"truck3\",\"truck3\",\"truck3\",\"truck3\",null],\"type\":\"scatter\"},{\"connectgaps\":false,\"hoverinfo\":\"y+name\",\"line\":{\"color\":\"rgb(122,109,202)\",\"width\":10},\"mode\":\"lines\",\"name\":\"loading:truck4\",\"x\":[\"1970-01-01T00:02:50\",\"1970-01-01T00:02:50\",\"1970-01-01T00:03:40\",\"1970-01-01T00:03:40\",\"1970-01-01T00:03:40\"],\"y\":[\"truck4\",\"truck4\",\"truck4\",\"truck4\",null],\"type\":\"scatter\"},{\"connectgaps\":false,\"hoverinfo\":\"y+name\",\"line\":{\"color\":\"rgb(125,112,205)\",\"width\":10},\"mode\":\"lines\",\"name\":\"unloading:truck4\",\"x\":[\"1970-01-01T00:03:55\",\"1970-01-01T00:03:55\",\"1970-01-01T00:04:20\",\"1970-01-01T00:04:20\",\"1970-01-01T00:04:20\"],\"y\":[\"truck4\",\"truck4\",\"truck4\",\"truck4\",null],\"type\":\"scatter\"},{\"connectgaps\":false,\"hoverinfo\":\"y+name\",\"line\":{\"color\":\"rgb(128,115,208)\",\"width\":10},\"mode\":\"lines\",\"name\":\"driving_full:truck4\",\"x\":[\"1970-01-01T00:03:40\",\"1970-01-01T00:03:40\",\"1970-01-01T00:03:55\",\"1970-01-01T00:03:55\",\"1970-01-01T00:03:55\"],\"y\":[\"truck4\",\"truck4\",\"truck4\",\"truck4\",null],\"type\":\"scatter\"},{\"connectgaps\":false,\"hoverinfo\":\"y+name\",\"line\":{\"color\":\"rgb(131,118,211)\",\"width\":10},\"mode\":\"lines\",\"name\":\"driving_empty:truck4\",\"x\":[\"1970-01-01T00:00:00\",\"1970-01-01T00:00:00\",\"1970-01-01T00:00:20\",\"1970-01-01T00:00:20\",\"1970-01-01T00:00:20\"],\"y\":[\"truck4\",\"truck4\",\"truck4\",\"truck4\",null],\"type\":\"scatter\"},{\"connectgaps\":false,\"hoverinfo\":\"y+name\",\"line\":{\"color\":\"rgb(134,121,214)\",\"width\":10},\"mode\":\"lines\",\"name\":\"unloading:truck5\",\"x\":[\"1970-01-01T00:04:45\",\"1970-01-01T00:04:45\",\"1970-01-01T00:05:10\",\"1970-01-01T00:05:10\",\"1970-01-01T00:05:10\"],\"y\":[\"truck5\",\"truck5\",\"truck5\",\"truck5\",null],\"type\":\"scatter\"},{\"connectgaps\":false,\"hoverinfo\":\"y+name\",\"line\":{\"color\":\"rgb(137,124,217)\",\"width\":10},\"mode\":\"lines\",\"name\":\"driving_full:truck5\",\"x\":[\"1970-01-01T00:04:30\",\"1970-01-01T00:04:30\",\"1970-01-01T00:04:45\",\"1970-01-01T00:04:45\",\"1970-01-01T00:04:45\"],\"y\":[\"truck5\",\"truck5\",\"truck5\",\"truck5\",null],\"type\":\"scatter\"},{\"connectgaps\":false,\"hoverinfo\":\"y+name\",\"line\":{\"color\":\"rgb(140,127,220)\",\"width\":10},\"mode\":\"lines\",\"name\":\"loading:truck5\",\"x\":[\"1970-01-01T00:03:40\",\"1970-01-01T00:03:40\",\"1970-01-01T00:04:30\",\"1970-01-01T00:04:30\",\"1970-01-01T00:04:30\"],\"y\":[\"truck5\",\"truck5\",\"truck5\",\"truck5\",null],\"type\":\"scatter\"},{\"connectgaps\":false,\"hoverinfo\":\"y+name\",\"line\":{\"color\":\"rgb(143,130,223)\",\"width\":10},\"mode\":\"lines\",\"name\":\"driving_empty:truck5\",\"x\":[\"1970-01-01T00:00:00\",\"1970-01-01T00:00:00\",\"1970-01-01T00:00:20\",\"1970-01-01T00:00:20\",\"1970-01-01T00:00:20\"],\"y\":[\"truck5\",\"truck5\",\"truck5\",\"truck5\",null],\"type\":\"scatter\"},{\"connectgaps\":false,\"hoverinfo\":\"y+name\",\"line\":{\"color\":\"rgb(146,133,226)\",\"width\":10},\"mode\":\"lines\",\"name\":\"driving_full:truck6\",\"x\":[\"1970-01-01T00:05:20\",\"1970-01-01T00:05:20\",\"1970-01-01T00:05:35\",\"1970-01-01T00:05:35\",\"1970-01-01T00:05:35\"],\"y\":[\"truck6\",\"truck6\",\"truck6\",\"truck6\",null],\"type\":\"scatter\"},{\"connectgaps\":false,\"hoverinfo\":\"y+name\",\"line\":{\"color\":\"rgb(149,136,229)\",\"width\":10},\"mode\":\"lines\",\"name\":\"driving_empty:truck6\",\"x\":[\"1970-01-01T00:00:00\",\"1970-01-01T00:00:00\",\"1970-01-01T00:00:20\",\"1970-01-01T00:00:20\",\"1970-01-01T00:00:20\"],\"y\":[\"truck6\",\"truck6\",\"truck6\",\"truck6\",null],\"type\":\"scatter\"},{\"connectgaps\":false,\"hoverinfo\":\"y+name\",\"line\":{\"color\":\"rgb(152,139,232)\",\"width\":10},\"mode\":\"lines\",\"name\":\"loading:truck6\",\"x\":[\"1970-01-01T00:04:30\",\"1970-01-01T00:04:30\",\"1970-01-01T00:05:20\",\"1970-01-01T00:05:20\",\"1970-01-01T00:05:20\"],\"y\":[\"truck6\",\"truck6\",\"truck6\",\"truck6\",null],\"type\":\"scatter\"},{\"connectgaps\":false,\"hoverinfo\":\"y+name\",\"line\":{\"color\":\"rgb(155,142,235)\",\"width\":10},\"mode\":\"lines\",\"name\":\"unloading:truck6\",\"x\":[\"1970-01-01T00:05:35\",\"1970-01-01T00:05:35\",\"1970-01-01T00:06:00\",\"1970-01-01T00:06:00\",\"1970-01-01T00:06:00\"],\"y\":[\"truck6\",\"truck6\",\"truck6\",\"truck6\",null],\"type\":\"scatter\"},{\"connectgaps\":false,\"hoverinfo\":\"y+name\",\"line\":{\"color\":\"rgb(158,145,238)\",\"width\":10},\"mode\":\"lines\",\"name\":\"driving_full:truck7\",\"x\":[\"1970-01-01T00:06:10\",\"1970-01-01T00:06:10\",\"1970-01-01T00:06:25\",\"1970-01-01T00:06:25\",\"1970-01-01T00:06:25\"],\"y\":[\"truck7\",\"truck7\",\"truck7\",\"truck7\",null],\"type\":\"scatter\"},{\"connectgaps\":false,\"hoverinfo\":\"y+name\",\"line\":{\"color\":\"rgb(161,148,241)\",\"width\":10},\"mode\":\"lines\",\"name\":\"loading:truck7\",\"x\":[\"1970-01-01T00:05:20\",\"1970-01-01T00:05:20\",\"1970-01-01T00:06:10\",\"1970-01-01T00:06:10\",\"1970-01-01T00:06:10\"],\"y\":[\"truck7\",\"truck7\",\"truck7\",\"truck7\",null],\"type\":\"scatter\"},{\"connectgaps\":false,\"hoverinfo\":\"y+name\",\"line\":{\"color\":\"rgb(164,151,244)\",\"width\":10},\"mode\":\"lines\",\"name\":\"driving_empty:truck7\",\"x\":[\"1970-01-01T00:00:00\",\"1970-01-01T00:00:00\",\"1970-01-01T00:00:20\",\"1970-01-01T00:00:20\",\"1970-01-01T00:00:20\"],\"y\":[\"truck7\",\"truck7\",\"truck7\",\"truck7\",null],\"type\":\"scatter\"},{\"connectgaps\":false,\"hoverinfo\":\"y+name\",\"line\":{\"color\":\"rgb(167,154,247)\",\"width\":10},\"mode\":\"lines\",\"name\":\"unloading:truck7\",\"x\":[\"1970-01-01T00:06:25\",\"1970-01-01T00:06:25\",\"1970-01-01T00:06:50\",\"1970-01-01T00:06:50\",\"1970-01-01T00:06:50\"],\"y\":[\"truck7\",\"truck7\",\"truck7\",\"truck7\",null],\"type\":\"scatter\"},{\"connectgaps\":false,\"hoverinfo\":\"y+name\",\"line\":{\"color\":\"rgb(170,157,250)\",\"width\":10},\"mode\":\"lines\",\"name\":\"loading:truck8\",\"x\":[\"1970-01-01T00:06:10\",\"1970-01-01T00:06:10\",\"1970-01-01T00:07:00\",\"1970-01-01T00:07:00\",\"1970-01-01T00:07:00\"],\"y\":[\"truck8\",\"truck8\",\"truck8\",\"truck8\",null],\"type\":\"scatter\"},{\"connectgaps\":false,\"hoverinfo\":\"y+name\",\"line\":{\"color\":\"rgb(173,160,253)\",\"width\":10},\"mode\":\"lines\",\"name\":\"unloading:truck8\",\"x\":[\"1970-01-01T00:07:15\",\"1970-01-01T00:07:15\",\"1970-01-01T00:07:40\",\"1970-01-01T00:07:40\",\"1970-01-01T00:07:40\"],\"y\":[\"truck8\",\"truck8\",\"truck8\",\"truck8\",null],\"type\":\"scatter\"},{\"connectgaps\":false,\"hoverinfo\":\"y+name\",\"line\":{\"color\":\"rgb(176,163,0)\",\"width\":10},\"mode\":\"lines\",\"name\":\"driving_empty:truck8\",\"x\":[\"1970-01-01T00:00:00\",\"1970-01-01T00:00:00\",\"1970-01-01T00:00:20\",\"1970-01-01T00:00:20\",\"1970-01-01T00:00:20\"],\"y\":[\"truck8\",\"truck8\",\"truck8\",\"truck8\",null],\"type\":\"scatter\"},{\"connectgaps\":false,\"hoverinfo\":\"y+name\",\"line\":{\"color\":\"rgb(179,166,3)\",\"width\":10},\"mode\":\"lines\",\"name\":\"driving_full:truck8\",\"x\":[\"1970-01-01T00:07:00\",\"1970-01-01T00:07:00\",\"1970-01-01T00:07:15\",\"1970-01-01T00:07:15\",\"1970-01-01T00:07:15\"],\"y\":[\"truck8\",\"truck8\",\"truck8\",\"truck8\",null],\"type\":\"scatter\"},{\"connectgaps\":false,\"hoverinfo\":\"y+name\",\"line\":{\"color\":\"rgb(182,169,6)\",\"width\":10},\"mode\":\"lines\",\"name\":\"unloading:truck9\",\"x\":[\"1970-01-01T00:08:05\",\"1970-01-01T00:08:05\",\"1970-01-01T00:08:30\",\"1970-01-01T00:08:30\",\"1970-01-01T00:08:30\"],\"y\":[\"truck9\",\"truck9\",\"truck9\",\"truck9\",null],\"type\":\"scatter\"},{\"connectgaps\":false,\"hoverinfo\":\"y+name\",\"line\":{\"color\":\"rgb(185,172,9)\",\"width\":10},\"mode\":\"lines\",\"name\":\"driving_empty:truck9\",\"x\":[\"1970-01-01T00:00:00\",\"1970-01-01T00:00:00\",\"1970-01-01T00:00:20\",\"1970-01-01T00:00:20\",\"1970-01-01T00:00:20\"],\"y\":[\"truck9\",\"truck9\",\"truck9\",\"truck9\",null],\"type\":\"scatter\"},{\"connectgaps\":false,\"hoverinfo\":\"y+name\",\"line\":{\"color\":\"rgb(188,175,12)\",\"width\":10},\"mode\":\"lines\",\"name\":\"driving_full:truck9\",\"x\":[\"1970-01-01T00:07:50\",\"1970-01-01T00:07:50\",\"1970-01-01T00:08:05\",\"1970-01-01T00:08:05\",\"1970-01-01T00:08:05\"],\"y\":[\"truck9\",\"truck9\",\"truck9\",\"truck9\",null],\"type\":\"scatter\"},{\"connectgaps\":false,\"hoverinfo\":\"y+name\",\"line\":{\"color\":\"rgb(191,178,15)\",\"width\":10},\"mode\":\"lines\",\"name\":\"loading:truck9\",\"x\":[\"1970-01-01T00:07:00\",\"1970-01-01T00:07:00\",\"1970-01-01T00:07:50\",\"1970-01-01T00:07:50\",\"1970-01-01T00:07:50\"],\"y\":[\"truck9\",\"truck9\",\"truck9\",\"truck9\",null],\"type\":\"scatter\"},{\"connectgaps\":false,\"hoverinfo\":\"y+name\",\"line\":{\"color\":\"rgb(194,181,18)\",\"width\":10},\"mode\":\"lines\",\"name\":\"loading:truck10\",\"x\":[\"1970-01-01T00:07:50\",\"1970-01-01T00:07:50\",\"1970-01-01T00:08:40\",\"1970-01-01T00:08:40\",\"1970-01-01T00:08:40\"],\"y\":[\"truck10\",\"truck10\",\"truck10\",\"truck10\",null],\"type\":\"scatter\"},{\"connectgaps\":false,\"hoverinfo\":\"y+name\",\"line\":{\"color\":\"rgb(197,184,21)\",\"width\":10},\"mode\":\"lines\",\"name\":\"unloading:truck10\",\"x\":[\"1970-01-01T00:08:55\",\"1970-01-01T00:08:55\",\"1970-01-01T00:09:20\",\"1970-01-01T00:09:20\",\"1970-01-01T00:09:20\"],\"y\":[\"truck10\",\"truck10\",\"truck10\",\"truck10\",null],\"type\":\"scatter\"},{\"connectgaps\":false,\"hoverinfo\":\"y+name\",\"line\":{\"color\":\"rgb(200,187,24)\",\"width\":10},\"mode\":\"lines\",\"name\":\"driving_empty:truck10\",\"x\":[\"1970-01-01T00:00:00\",\"1970-01-01T00:00:00\",\"1970-01-01T00:00:20\",\"1970-01-01T00:00:20\",\"1970-01-01T00:00:20\"],\"y\":[\"truck10\",\"truck10\",\"truck10\",\"truck10\",null],\"type\":\"scatter\"},{\"connectgaps\":false,\"hoverinfo\":\"y+name\",\"line\":{\"color\":\"rgb(203,190,27)\",\"width\":10},\"mode\":\"lines\",\"name\":\"driving_full:truck10\",\"x\":[\"1970-01-01T00:08:40\",\"1970-01-01T00:08:40\",\"1970-01-01T00:08:55\",\"1970-01-01T00:08:55\",\"1970-01-01T00:08:55\"],\"y\":[\"truck10\",\"truck10\",\"truck10\",\"truck10\",null],\"type\":\"scatter\"},{\"connectgaps\":false,\"hoverinfo\":\"y+name\",\"line\":{\"color\":\"rgb(206,193,30)\",\"width\":10},\"mode\":\"lines\",\"name\":\"driving_full:truck11\",\"x\":[\"1970-01-01T00:09:30\",\"1970-01-01T00:09:30\",\"1970-01-01T00:09:45\",\"1970-01-01T00:09:45\",\"1970-01-01T00:09:45\"],\"y\":[\"truck11\",\"truck11\",\"truck11\",\"truck11\",null],\"type\":\"scatter\"},{\"connectgaps\":false,\"hoverinfo\":\"y+name\",\"line\":{\"color\":\"rgb(209,196,33)\",\"width\":10},\"mode\":\"lines\",\"name\":\"loading:truck11\",\"x\":[\"1970-01-01T00:08:40\",\"1970-01-01T00:08:40\",\"1970-01-01T00:09:30\",\"1970-01-01T00:09:30\",\"1970-01-01T00:09:30\"],\"y\":[\"truck11\",\"truck11\",\"truck11\",\"truck11\",null],\"type\":\"scatter\"},{\"connectgaps\":false,\"hoverinfo\":\"y+name\",\"line\":{\"color\":\"rgb(212,199,36)\",\"width\":10},\"mode\":\"lines\",\"name\":\"unloading:truck11\",\"x\":[\"1970-01-01T00:09:45\",\"1970-01-01T00:09:45\",\"1970-01-01T00:10:10\",\"1970-01-01T00:10:10\",\"1970-01-01T00:10:10\"],\"y\":[\"truck11\",\"truck11\",\"truck11\",\"truck11\",null],\"type\":\"scatter\"},{\"connectgaps\":false,\"hoverinfo\":\"y+name\",\"line\":{\"color\":\"rgb(215,202,39)\",\"width\":10},\"mode\":\"lines\",\"name\":\"driving_empty:truck11\",\"x\":[\"1970-01-01T00:00:00\",\"1970-01-01T00:00:00\",\"1970-01-01T00:00:20\",\"1970-01-01T00:00:20\",\"1970-01-01T00:00:20\"],\"y\":[\"truck11\",\"truck11\",\"truck11\",\"truck11\",null],\"type\":\"scatter\"},{\"connectgaps\":false,\"hoverinfo\":\"y+name\",\"line\":{\"color\":\"rgb(218,205,42)\",\"width\":10},\"mode\":\"lines\",\"name\":\"loading:truck12\",\"x\":[\"1970-01-01T00:09:30\",\"1970-01-01T00:09:30\",\"1970-01-01T00:10:20\",\"1970-01-01T00:10:20\",\"1970-01-01T00:10:20\"],\"y\":[\"truck12\",\"truck12\",\"truck12\",\"truck12\",null],\"type\":\"scatter\"},{\"connectgaps\":false,\"hoverinfo\":\"y+name\",\"line\":{\"color\":\"rgb(221,208,45)\",\"width\":10},\"mode\":\"lines\",\"name\":\"driving_full:truck12\",\"x\":[\"1970-01-01T00:10:20\",\"1970-01-01T00:10:20\",\"1970-01-01T00:10:35\",\"1970-01-01T00:10:35\",\"1970-01-01T00:10:35\"],\"y\":[\"truck12\",\"truck12\",\"truck12\",\"truck12\",null],\"type\":\"scatter\"},{\"connectgaps\":false,\"hoverinfo\":\"y+name\",\"line\":{\"color\":\"rgb(224,211,48)\",\"width\":10},\"mode\":\"lines\",\"name\":\"driving_empty:truck12\",\"x\":[\"1970-01-01T00:00:00\",\"1970-01-01T00:00:00\",\"1970-01-01T00:00:20\",\"1970-01-01T00:00:20\",\"1970-01-01T00:00:20\"],\"y\":[\"truck12\",\"truck12\",\"truck12\",\"truck12\",null],\"type\":\"scatter\"},{\"connectgaps\":false,\"hoverinfo\":\"y+name\",\"line\":{\"color\":\"rgb(227,214,51)\",\"width\":10},\"mode\":\"lines\",\"name\":\"unloading:truck12\",\"x\":[\"1970-01-01T00:10:35\",\"1970-01-01T00:10:35\",\"1970-01-01T00:11:00\",\"1970-01-01T00:11:00\",\"1970-01-01T00:11:00\"],\"y\":[\"truck12\",\"truck12\",\"truck12\",\"truck12\",null],\"type\":\"scatter\"},{\"connectgaps\":false,\"hoverinfo\":\"y+name\",\"line\":{\"color\":\"rgb(230,217,54)\",\"width\":10},\"mode\":\"lines\",\"name\":\"driving_full:truck13\",\"x\":[\"1970-01-01T00:11:10\",\"1970-01-01T00:11:10\",\"1970-01-01T00:11:25\",\"1970-01-01T00:11:25\",\"1970-01-01T00:11:25\"],\"y\":[\"truck13\",\"truck13\",\"truck13\",\"truck13\",null],\"type\":\"scatter\"},{\"connectgaps\":false,\"hoverinfo\":\"y+name\",\"line\":{\"color\":\"rgb(233,220,57)\",\"width\":10},\"mode\":\"lines\",\"name\":\"unloading:truck13\",\"x\":[\"1970-01-01T00:11:25\",\"1970-01-01T00:11:25\",\"1970-01-01T00:11:50\",\"1970-01-01T00:11:50\",\"1970-01-01T00:11:50\"],\"y\":[\"truck13\",\"truck13\",\"truck13\",\"truck13\",null],\"type\":\"scatter\"},{\"connectgaps\":false,\"hoverinfo\":\"y+name\",\"line\":{\"color\":\"rgb(236,223,60)\",\"width\":10},\"mode\":\"lines\",\"name\":\"driving_empty:truck13\",\"x\":[\"1970-01-01T00:00:00\",\"1970-01-01T00:00:00\",\"1970-01-01T00:00:20\",\"1970-01-01T00:00:20\",\"1970-01-01T00:00:20\"],\"y\":[\"truck13\",\"truck13\",\"truck13\",\"truck13\",null],\"type\":\"scatter\"},{\"connectgaps\":false,\"hoverinfo\":\"y+name\",\"line\":{\"color\":\"rgb(239,226,63)\",\"width\":10},\"mode\":\"lines\",\"name\":\"loading:truck13\",\"x\":[\"1970-01-01T00:10:20\",\"1970-01-01T00:10:20\",\"1970-01-01T00:11:10\",\"1970-01-01T00:11:10\",\"1970-01-01T00:11:10\"],\"y\":[\"truck13\",\"truck13\",\"truck13\",\"truck13\",null],\"type\":\"scatter\"},{\"connectgaps\":false,\"hoverinfo\":\"y+name\",\"line\":{\"color\":\"rgb(242,229,66)\",\"width\":10},\"mode\":\"lines\",\"name\":\"loading:truck14\",\"x\":[\"1970-01-01T00:11:10\",\"1970-01-01T00:11:10\",\"1970-01-01T00:12:00\",\"1970-01-01T00:12:00\",\"1970-01-01T00:12:00\"],\"y\":[\"truck14\",\"truck14\",\"truck14\",\"truck14\",null],\"type\":\"scatter\"},{\"connectgaps\":false,\"hoverinfo\":\"y+name\",\"line\":{\"color\":\"rgb(245,232,69)\",\"width\":10},\"mode\":\"lines\",\"name\":\"driving_full:truck14\",\"x\":[\"1970-01-01T00:12:00\",\"1970-01-01T00:12:00\",\"1970-01-01T00:12:15\",\"1970-01-01T00:12:15\",\"1970-01-01T00:12:15\"],\"y\":[\"truck14\",\"truck14\",\"truck14\",\"truck14\",null],\"type\":\"scatter\"},{\"connectgaps\":false,\"hoverinfo\":\"y+name\",\"line\":{\"color\":\"rgb(248,235,72)\",\"width\":10},\"mode\":\"lines\",\"name\":\"unloading:truck14\",\"x\":[\"1970-01-01T00:12:15\",\"1970-01-01T00:12:15\",\"1970-01-01T00:12:40\",\"1970-01-01T00:12:40\",\"1970-01-01T00:12:40\"],\"y\":[\"truck14\",\"truck14\",\"truck14\",\"truck14\",null],\"type\":\"scatter\"},{\"connectgaps\":false,\"hoverinfo\":\"y+name\",\"line\":{\"color\":\"rgb(251,238,75)\",\"width\":10},\"mode\":\"lines\",\"name\":\"driving_empty:truck14\",\"x\":[\"1970-01-01T00:00:00\",\"1970-01-01T00:00:00\",\"1970-01-01T00:00:20\",\"1970-01-01T00:00:20\",\"1970-01-01T00:00:20\"],\"y\":[\"truck14\",\"truck14\",\"truck14\",\"truck14\",null],\"type\":\"scatter\"},{\"connectgaps\":false,\"hoverinfo\":\"y+name\",\"line\":{\"color\":\"rgb(254,241,78)\",\"width\":10},\"mode\":\"lines\",\"name\":\"driving_full:truck15\",\"x\":[\"1970-01-01T00:12:50\",\"1970-01-01T00:12:50\",\"1970-01-01T00:13:05\",\"1970-01-01T00:13:05\",\"1970-01-01T00:13:05\"],\"y\":[\"truck15\",\"truck15\",\"truck15\",\"truck15\",null],\"type\":\"scatter\"},{\"connectgaps\":false,\"hoverinfo\":\"y+name\",\"line\":{\"color\":\"rgb(1,244,81)\",\"width\":10},\"mode\":\"lines\",\"name\":\"unloading:truck15\",\"x\":[\"1970-01-01T00:13:05\",\"1970-01-01T00:13:05\",\"1970-01-01T00:13:30\",\"1970-01-01T00:13:30\",\"1970-01-01T00:13:30\"],\"y\":[\"truck15\",\"truck15\",\"truck15\",\"truck15\",null],\"type\":\"scatter\"},{\"connectgaps\":false,\"hoverinfo\":\"y+name\",\"line\":{\"color\":\"rgb(4,247,84)\",\"width\":10},\"mode\":\"lines\",\"name\":\"driving_empty:truck15\",\"x\":[\"1970-01-01T00:00:00\",\"1970-01-01T00:00:00\",\"1970-01-01T00:00:20\",\"1970-01-01T00:00:20\",\"1970-01-01T00:00:20\"],\"y\":[\"truck15\",\"truck15\",\"truck15\",\"truck15\",null],\"type\":\"scatter\"},{\"connectgaps\":false,\"hoverinfo\":\"y+name\",\"line\":{\"color\":\"rgb(7,250,87)\",\"width\":10},\"mode\":\"lines\",\"name\":\"loading:truck15\",\"x\":[\"1970-01-01T00:12:00\",\"1970-01-01T00:12:00\",\"1970-01-01T00:12:50\",\"1970-01-01T00:12:50\",\"1970-01-01T00:12:50\"],\"y\":[\"truck15\",\"truck15\",\"truck15\",\"truck15\",null],\"type\":\"scatter\"},{\"connectgaps\":false,\"hoverinfo\":\"y+name\",\"line\":{\"color\":\"rgb(10,253,90)\",\"width\":10},\"mode\":\"lines\",\"name\":\"unloading:truck16\",\"x\":[\"1970-01-01T00:13:55\",\"1970-01-01T00:13:55\",\"1970-01-01T00:14:20\",\"1970-01-01T00:14:20\",\"1970-01-01T00:14:20\"],\"y\":[\"truck16\",\"truck16\",\"truck16\",\"truck16\",null],\"type\":\"scatter\"},{\"connectgaps\":false,\"hoverinfo\":\"y+name\",\"line\":{\"color\":\"rgb(13,0,93)\",\"width\":10},\"mode\":\"lines\",\"name\":\"driving_full:truck16\",\"x\":[\"1970-01-01T00:13:40\",\"1970-01-01T00:13:40\",\"1970-01-01T00:13:55\",\"1970-01-01T00:13:55\",\"1970-01-01T00:13:55\"],\"y\":[\"truck16\",\"truck16\",\"truck16\",\"truck16\",null],\"type\":\"scatter\"},{\"connectgaps\":false,\"hoverinfo\":\"y+name\",\"line\":{\"color\":\"rgb(16,3,96)\",\"width\":10},\"mode\":\"lines\",\"name\":\"loading:truck16\",\"x\":[\"1970-01-01T00:12:50\",\"1970-01-01T00:12:50\",\"1970-01-01T00:13:40\",\"1970-01-01T00:13:40\",\"1970-01-01T00:13:40\"],\"y\":[\"truck16\",\"truck16\",\"truck16\",\"truck16\",null],\"type\":\"scatter\"},{\"connectgaps\":false,\"hoverinfo\":\"y+name\",\"line\":{\"color\":\"rgb(19,6,99)\",\"width\":10},\"mode\":\"lines\",\"name\":\"driving_empty:truck16\",\"x\":[\"1970-01-01T00:00:00\",\"1970-01-01T00:00:00\",\"1970-01-01T00:00:20\",\"1970-01-01T00:00:20\",\"1970-01-01T00:00:20\"],\"y\":[\"truck16\",\"truck16\",\"truck16\",\"truck16\",null],\"type\":\"scatter\"},{\"connectgaps\":false,\"hoverinfo\":\"y+name\",\"line\":{\"color\":\"rgb(22,9,102)\",\"width\":10},\"mode\":\"lines\",\"name\":\"loading:truck17\",\"x\":[\"1970-01-01T00:13:40\",\"1970-01-01T00:13:40\",\"1970-01-01T00:14:30\",\"1970-01-01T00:14:30\",\"1970-01-01T00:14:30\"],\"y\":[\"truck17\",\"truck17\",\"truck17\",\"truck17\",null],\"type\":\"scatter\"},{\"connectgaps\":false,\"hoverinfo\":\"y+name\",\"line\":{\"color\":\"rgb(25,12,105)\",\"width\":10},\"mode\":\"lines\",\"name\":\"driving_full:truck17\",\"x\":[\"1970-01-01T00:14:30\",\"1970-01-01T00:14:30\",\"1970-01-01T00:14:45\",\"1970-01-01T00:14:45\",\"1970-01-01T00:14:45\"],\"y\":[\"truck17\",\"truck17\",\"truck17\",\"truck17\",null],\"type\":\"scatter\"},{\"connectgaps\":false,\"hoverinfo\":\"y+name\",\"line\":{\"color\":\"rgb(28,15,108)\",\"width\":10},\"mode\":\"lines\",\"name\":\"unloading:truck17\",\"x\":[\"1970-01-01T00:14:45\",\"1970-01-01T00:14:45\",\"1970-01-01T00:15:10\",\"1970-01-01T00:15:10\",\"1970-01-01T00:15:10\"],\"y\":[\"truck17\",\"truck17\",\"truck17\",\"truck17\",null],\"type\":\"scatter\"},{\"connectgaps\":false,\"hoverinfo\":\"y+name\",\"line\":{\"color\":\"rgb(31,18,111)\",\"width\":10},\"mode\":\"lines\",\"name\":\"driving_empty:truck17\",\"x\":[\"1970-01-01T00:00:00\",\"1970-01-01T00:00:00\",\"1970-01-01T00:00:20\",\"1970-01-01T00:00:20\",\"1970-01-01T00:00:20\"],\"y\":[\"truck17\",\"truck17\",\"truck17\",\"truck17\",null],\"type\":\"scatter\"},{\"connectgaps\":false,\"hoverinfo\":\"y+name\",\"line\":{\"color\":\"rgb(34,21,114)\",\"width\":10},\"mode\":\"lines\",\"name\":\"driving_empty:truck18\",\"x\":[\"1970-01-01T00:00:00\",\"1970-01-01T00:00:00\",\"1970-01-01T00:00:20\",\"1970-01-01T00:00:20\",\"1970-01-01T00:00:20\"],\"y\":[\"truck18\",\"truck18\",\"truck18\",\"truck18\",null],\"type\":\"scatter\"},{\"connectgaps\":false,\"hoverinfo\":\"y+name\",\"line\":{\"color\":\"rgb(37,24,117)\",\"width\":10},\"mode\":\"lines\",\"name\":\"loading:truck18\",\"x\":[\"1970-01-01T00:14:30\",\"1970-01-01T00:14:30\",\"1970-01-01T00:15:20\",\"1970-01-01T00:15:20\",\"1970-01-01T00:15:20\"],\"y\":[\"truck18\",\"truck18\",\"truck18\",\"truck18\",null],\"type\":\"scatter\"},{\"connectgaps\":false,\"hoverinfo\":\"y+name\",\"line\":{\"color\":\"rgb(40,27,120)\",\"width\":10},\"mode\":\"lines\",\"name\":\"unloading:truck18\",\"x\":[\"1970-01-01T00:15:35\",\"1970-01-01T00:15:35\",\"1970-01-01T00:16:00\",\"1970-01-01T00:16:00\",\"1970-01-01T00:16:00\"],\"y\":[\"truck18\",\"truck18\",\"truck18\",\"truck18\",null],\"type\":\"scatter\"},{\"connectgaps\":false,\"hoverinfo\":\"y+name\",\"line\":{\"color\":\"rgb(43,30,123)\",\"width\":10},\"mode\":\"lines\",\"name\":\"driving_full:truck18\",\"x\":[\"1970-01-01T00:15:20\",\"1970-01-01T00:15:20\",\"1970-01-01T00:15:35\",\"1970-01-01T00:15:35\",\"1970-01-01T00:15:35\"],\"y\":[\"truck18\",\"truck18\",\"truck18\",\"truck18\",null],\"type\":\"scatter\"},{\"connectgaps\":false,\"hoverinfo\":\"y+name\",\"line\":{\"color\":\"rgb(46,33,126)\",\"width\":10},\"mode\":\"lines\",\"name\":\"loading:truck19\",\"x\":[\"1970-01-01T00:15:20\",\"1970-01-01T00:15:20\",\"1970-01-01T00:16:10\",\"1970-01-01T00:16:10\",\"1970-01-01T00:16:10\"],\"y\":[\"truck19\",\"truck19\",\"truck19\",\"truck19\",null],\"type\":\"scatter\"},{\"connectgaps\":false,\"hoverinfo\":\"y+name\",\"line\":{\"color\":\"rgb(49,36,129)\",\"width\":10},\"mode\":\"lines\",\"name\":\"driving_empty:truck19\",\"x\":[\"1970-01-01T00:00:00\",\"1970-01-01T00:00:00\",\"1970-01-01T00:00:20\",\"1970-01-01T00:00:20\",\"1970-01-01T00:00:20\"],\"y\":[\"truck19\",\"truck19\",\"truck19\",\"truck19\",null],\"type\":\"scatter\"},{\"connectgaps\":false,\"hoverinfo\":\"y+name\",\"line\":{\"color\":\"rgb(52,39,132)\",\"width\":10},\"mode\":\"lines\",\"name\":\"driving_full:truck19\",\"x\":[\"1970-01-01T00:16:10\",\"1970-01-01T00:16:10\",\"1970-01-01T00:16:25\",\"1970-01-01T00:16:25\",\"1970-01-01T00:16:25\"],\"y\":[\"truck19\",\"truck19\",\"truck19\",\"truck19\",null],\"type\":\"scatter\"},{\"connectgaps\":false,\"hoverinfo\":\"y+name\",\"line\":{\"color\":\"rgb(55,42,135)\",\"width\":10},\"mode\":\"lines\",\"name\":\"unloading:truck19\",\"x\":[\"1970-01-01T00:16:25\",\"1970-01-01T00:16:25\",\"1970-01-01T00:16:50\",\"1970-01-01T00:16:50\",\"1970-01-01T00:16:50\"],\"y\":[\"truck19\",\"truck19\",\"truck19\",\"truck19\",null],\"type\":\"scatter\"},{\"connectgaps\":false,\"hoverinfo\":\"y+name\",\"line\":{\"color\":\"rgb(58,45,138)\",\"width\":10},\"mode\":\"lines\",\"name\":\"driving_empty:truck20\",\"x\":[\"1970-01-01T00:00:00\",\"1970-01-01T00:00:00\",\"1970-01-01T00:00:20\",\"1970-01-01T00:00:20\",\"1970-01-01T00:00:20\"],\"y\":[\"truck20\",\"truck20\",\"truck20\",\"truck20\",null],\"type\":\"scatter\"},{\"connectgaps\":false,\"hoverinfo\":\"y+name\",\"line\":{\"color\":\"rgb(61,48,141)\",\"width\":10},\"mode\":\"lines\",\"name\":\"driving_full:truck20\",\"x\":[\"1970-01-01T00:17:00\",\"1970-01-01T00:17:00\",\"1970-01-01T00:17:15\",\"1970-01-01T00:17:15\",\"1970-01-01T00:17:15\"],\"y\":[\"truck20\",\"truck20\",\"truck20\",\"truck20\",null],\"type\":\"scatter\"},{\"connectgaps\":false,\"hoverinfo\":\"y+name\",\"line\":{\"color\":\"rgb(64,51,144)\",\"width\":10},\"mode\":\"lines\",\"name\":\"unloading:truck20\",\"x\":[\"1970-01-01T00:17:15\",\"1970-01-01T00:17:15\",\"1970-01-01T00:17:40\",\"1970-01-01T00:17:40\",\"1970-01-01T00:17:40\"],\"y\":[\"truck20\",\"truck20\",\"truck20\",\"truck20\",null],\"type\":\"scatter\"},{\"connectgaps\":false,\"hoverinfo\":\"y+name\",\"line\":{\"color\":\"rgb(67,54,147)\",\"width\":10},\"mode\":\"lines\",\"name\":\"loading:truck20\",\"x\":[\"1970-01-01T00:16:10\",\"1970-01-01T00:16:10\",\"1970-01-01T00:17:00\",\"1970-01-01T00:17:00\",\"1970-01-01T00:17:00\"],\"y\":[\"truck20\",\"truck20\",\"truck20\",\"truck20\",null],\"type\":\"scatter\"}],                        {\"hovermode\":\"closest\",\"legend\":{\"orientation\":\"h\",\"x\":0,\"y\":-0.2},\"template\":{\"data\":{\"barpolar\":[{\"marker\":{\"line\":{\"color\":\"#E5ECF6\",\"width\":0.5},\"pattern\":{\"fillmode\":\"overlay\",\"size\":10,\"solidity\":0.2}},\"type\":\"barpolar\"}],\"bar\":[{\"error_x\":{\"color\":\"#2a3f5f\"},\"error_y\":{\"color\":\"#2a3f5f\"},\"marker\":{\"line\":{\"color\":\"#E5ECF6\",\"width\":0.5},\"pattern\":{\"fillmode\":\"overlay\",\"size\":10,\"solidity\":0.2}},\"type\":\"bar\"}],\"carpet\":[{\"aaxis\":{\"endlinecolor\":\"#2a3f5f\",\"gridcolor\":\"white\",\"linecolor\":\"white\",\"minorgridcolor\":\"white\",\"startlinecolor\":\"#2a3f5f\"},\"baxis\":{\"endlinecolor\":\"#2a3f5f\",\"gridcolor\":\"white\",\"linecolor\":\"white\",\"minorgridcolor\":\"white\",\"startlinecolor\":\"#2a3f5f\"},\"type\":\"carpet\"}],\"choropleth\":[{\"colorbar\":{\"outlinewidth\":0,\"ticks\":\"\"},\"type\":\"choropleth\"}],\"contourcarpet\":[{\"colorbar\":{\"outlinewidth\":0,\"ticks\":\"\"},\"type\":\"contourcarpet\"}],\"contour\":[{\"colorbar\":{\"outlinewidth\":0,\"ticks\":\"\"},\"colorscale\":[[0.0,\"#0d0887\"],[0.1111111111111111,\"#46039f\"],[0.2222222222222222,\"#7201a8\"],[0.3333333333333333,\"#9c179e\"],[0.4444444444444444,\"#bd3786\"],[0.5555555555555556,\"#d8576b\"],[0.6666666666666666,\"#ed7953\"],[0.7777777777777778,\"#fb9f3a\"],[0.8888888888888888,\"#fdca26\"],[1.0,\"#f0f921\"]],\"type\":\"contour\"}],\"heatmapgl\":[{\"colorbar\":{\"outlinewidth\":0,\"ticks\":\"\"},\"colorscale\":[[0.0,\"#0d0887\"],[0.1111111111111111,\"#46039f\"],[0.2222222222222222,\"#7201a8\"],[0.3333333333333333,\"#9c179e\"],[0.4444444444444444,\"#bd3786\"],[0.5555555555555556,\"#d8576b\"],[0.6666666666666666,\"#ed7953\"],[0.7777777777777778,\"#fb9f3a\"],[0.8888888888888888,\"#fdca26\"],[1.0,\"#f0f921\"]],\"type\":\"heatmapgl\"}],\"heatmap\":[{\"colorbar\":{\"outlinewidth\":0,\"ticks\":\"\"},\"colorscale\":[[0.0,\"#0d0887\"],[0.1111111111111111,\"#46039f\"],[0.2222222222222222,\"#7201a8\"],[0.3333333333333333,\"#9c179e\"],[0.4444444444444444,\"#bd3786\"],[0.5555555555555556,\"#d8576b\"],[0.6666666666666666,\"#ed7953\"],[0.7777777777777778,\"#fb9f3a\"],[0.8888888888888888,\"#fdca26\"],[1.0,\"#f0f921\"]],\"type\":\"heatmap\"}],\"histogram2dcontour\":[{\"colorbar\":{\"outlinewidth\":0,\"ticks\":\"\"},\"colorscale\":[[0.0,\"#0d0887\"],[0.1111111111111111,\"#46039f\"],[0.2222222222222222,\"#7201a8\"],[0.3333333333333333,\"#9c179e\"],[0.4444444444444444,\"#bd3786\"],[0.5555555555555556,\"#d8576b\"],[0.6666666666666666,\"#ed7953\"],[0.7777777777777778,\"#fb9f3a\"],[0.8888888888888888,\"#fdca26\"],[1.0,\"#f0f921\"]],\"type\":\"histogram2dcontour\"}],\"histogram2d\":[{\"colorbar\":{\"outlinewidth\":0,\"ticks\":\"\"},\"colorscale\":[[0.0,\"#0d0887\"],[0.1111111111111111,\"#46039f\"],[0.2222222222222222,\"#7201a8\"],[0.3333333333333333,\"#9c179e\"],[0.4444444444444444,\"#bd3786\"],[0.5555555555555556,\"#d8576b\"],[0.6666666666666666,\"#ed7953\"],[0.7777777777777778,\"#fb9f3a\"],[0.8888888888888888,\"#fdca26\"],[1.0,\"#f0f921\"]],\"type\":\"histogram2d\"}],\"histogram\":[{\"marker\":{\"pattern\":{\"fillmode\":\"overlay\",\"size\":10,\"solidity\":0.2}},\"type\":\"histogram\"}],\"mesh3d\":[{\"colorbar\":{\"outlinewidth\":0,\"ticks\":\"\"},\"type\":\"mesh3d\"}],\"parcoords\":[{\"line\":{\"colorbar\":{\"outlinewidth\":0,\"ticks\":\"\"}},\"type\":\"parcoords\"}],\"pie\":[{\"automargin\":true,\"type\":\"pie\"}],\"scatter3d\":[{\"line\":{\"colorbar\":{\"outlinewidth\":0,\"ticks\":\"\"}},\"marker\":{\"colorbar\":{\"outlinewidth\":0,\"ticks\":\"\"}},\"type\":\"scatter3d\"}],\"scattercarpet\":[{\"marker\":{\"colorbar\":{\"outlinewidth\":0,\"ticks\":\"\"}},\"type\":\"scattercarpet\"}],\"scattergeo\":[{\"marker\":{\"colorbar\":{\"outlinewidth\":0,\"ticks\":\"\"}},\"type\":\"scattergeo\"}],\"scattergl\":[{\"marker\":{\"colorbar\":{\"outlinewidth\":0,\"ticks\":\"\"}},\"type\":\"scattergl\"}],\"scattermapbox\":[{\"marker\":{\"colorbar\":{\"outlinewidth\":0,\"ticks\":\"\"}},\"type\":\"scattermapbox\"}],\"scatterpolargl\":[{\"marker\":{\"colorbar\":{\"outlinewidth\":0,\"ticks\":\"\"}},\"type\":\"scatterpolargl\"}],\"scatterpolar\":[{\"marker\":{\"colorbar\":{\"outlinewidth\":0,\"ticks\":\"\"}},\"type\":\"scatterpolar\"}],\"scatter\":[{\"fillpattern\":{\"fillmode\":\"overlay\",\"size\":10,\"solidity\":0.2},\"type\":\"scatter\"}],\"scatterternary\":[{\"marker\":{\"colorbar\":{\"outlinewidth\":0,\"ticks\":\"\"}},\"type\":\"scatterternary\"}],\"surface\":[{\"colorbar\":{\"outlinewidth\":0,\"ticks\":\"\"},\"colorscale\":[[0.0,\"#0d0887\"],[0.1111111111111111,\"#46039f\"],[0.2222222222222222,\"#7201a8\"],[0.3333333333333333,\"#9c179e\"],[0.4444444444444444,\"#bd3786\"],[0.5555555555555556,\"#d8576b\"],[0.6666666666666666,\"#ed7953\"],[0.7777777777777778,\"#fb9f3a\"],[0.8888888888888888,\"#fdca26\"],[1.0,\"#f0f921\"]],\"type\":\"surface\"}],\"table\":[{\"cells\":{\"fill\":{\"color\":\"#EBF0F8\"},\"line\":{\"color\":\"white\"}},\"header\":{\"fill\":{\"color\":\"#C8D4E3\"},\"line\":{\"color\":\"white\"}},\"type\":\"table\"}]},\"layout\":{\"annotationdefaults\":{\"arrowcolor\":\"#2a3f5f\",\"arrowhead\":0,\"arrowwidth\":1},\"autotypenumbers\":\"strict\",\"coloraxis\":{\"colorbar\":{\"outlinewidth\":0,\"ticks\":\"\"}},\"colorscale\":{\"diverging\":[[0,\"#8e0152\"],[0.1,\"#c51b7d\"],[0.2,\"#de77ae\"],[0.3,\"#f1b6da\"],[0.4,\"#fde0ef\"],[0.5,\"#f7f7f7\"],[0.6,\"#e6f5d0\"],[0.7,\"#b8e186\"],[0.8,\"#7fbc41\"],[0.9,\"#4d9221\"],[1,\"#276419\"]],\"sequential\":[[0.0,\"#0d0887\"],[0.1111111111111111,\"#46039f\"],[0.2222222222222222,\"#7201a8\"],[0.3333333333333333,\"#9c179e\"],[0.4444444444444444,\"#bd3786\"],[0.5555555555555556,\"#d8576b\"],[0.6666666666666666,\"#ed7953\"],[0.7777777777777778,\"#fb9f3a\"],[0.8888888888888888,\"#fdca26\"],[1.0,\"#f0f921\"]],\"sequentialminus\":[[0.0,\"#0d0887\"],[0.1111111111111111,\"#46039f\"],[0.2222222222222222,\"#7201a8\"],[0.3333333333333333,\"#9c179e\"],[0.4444444444444444,\"#bd3786\"],[0.5555555555555556,\"#d8576b\"],[0.6666666666666666,\"#ed7953\"],[0.7777777777777778,\"#fb9f3a\"],[0.8888888888888888,\"#fdca26\"],[1.0,\"#f0f921\"]]},\"colorway\":[\"#636efa\",\"#EF553B\",\"#00cc96\",\"#ab63fa\",\"#FFA15A\",\"#19d3f3\",\"#FF6692\",\"#B6E880\",\"#FF97FF\",\"#FECB52\"],\"font\":{\"color\":\"#2a3f5f\"},\"geo\":{\"bgcolor\":\"white\",\"lakecolor\":\"white\",\"landcolor\":\"#E5ECF6\",\"showlakes\":true,\"showland\":true,\"subunitcolor\":\"white\"},\"hoverlabel\":{\"align\":\"left\"},\"hovermode\":\"closest\",\"mapbox\":{\"style\":\"light\"},\"paper_bgcolor\":\"white\",\"plot_bgcolor\":\"#E5ECF6\",\"polar\":{\"angularaxis\":{\"gridcolor\":\"white\",\"linecolor\":\"white\",\"ticks\":\"\"},\"bgcolor\":\"#E5ECF6\",\"radialaxis\":{\"gridcolor\":\"white\",\"linecolor\":\"white\",\"ticks\":\"\"}},\"scene\":{\"xaxis\":{\"backgroundcolor\":\"#E5ECF6\",\"gridcolor\":\"white\",\"gridwidth\":2,\"linecolor\":\"white\",\"showbackground\":true,\"ticks\":\"\",\"zerolinecolor\":\"white\"},\"yaxis\":{\"backgroundcolor\":\"#E5ECF6\",\"gridcolor\":\"white\",\"gridwidth\":2,\"linecolor\":\"white\",\"showbackground\":true,\"ticks\":\"\",\"zerolinecolor\":\"white\"},\"zaxis\":{\"backgroundcolor\":\"#E5ECF6\",\"gridcolor\":\"white\",\"gridwidth\":2,\"linecolor\":\"white\",\"showbackground\":true,\"ticks\":\"\",\"zerolinecolor\":\"white\"}},\"shapedefaults\":{\"line\":{\"color\":\"#2a3f5f\"}},\"ternary\":{\"aaxis\":{\"gridcolor\":\"white\",\"linecolor\":\"white\",\"ticks\":\"\"},\"baxis\":{\"gridcolor\":\"white\",\"linecolor\":\"white\",\"ticks\":\"\"},\"bgcolor\":\"#E5ECF6\",\"caxis\":{\"gridcolor\":\"white\",\"linecolor\":\"white\",\"ticks\":\"\"}},\"title\":{\"x\":0.05},\"xaxis\":{\"automargin\":true,\"gridcolor\":\"white\",\"linecolor\":\"white\",\"ticks\":\"\",\"title\":{\"standoff\":15},\"zerolinecolor\":\"white\",\"zerolinewidth\":2},\"yaxis\":{\"automargin\":true,\"gridcolor\":\"white\",\"linecolor\":\"white\",\"ticks\":\"\",\"title\":{\"standoff\":15},\"zerolinecolor\":\"white\",\"zerolinewidth\":2}}},\"title\":{\"text\":\"GANTT Chart\"},\"xaxis\":{\"range\":[\"1970-01-01T00:00:00\",\"1970-01-01T00:17:40\"],\"title\":{\"font\":{\"color\":\"#7f7f7f\",\"family\":\"Courier New, monospace\",\"size\":18},\"text\":\"Time\"}},\"yaxis\":{\"title\":{\"font\":{\"color\":\"#7f7f7f\",\"family\":\"Courier New, monospace\",\"size\":18},\"text\":\"Activities\"}}},                        {\"responsive\": true}                    ).then(function(){\n",
       "                            \n",
       "var gd = document.getElementById('2ccb0c5e-3686-481b-a439-2f5c7f4da9de');\n",
       "var x = new MutationObserver(function (mutations, observer) {{\n",
       "        var display = window.getComputedStyle(gd).display;\n",
       "        if (!display || display === 'none') {{\n",
       "            console.log([gd, 'removed!']);\n",
       "            Plotly.purge(gd);\n",
       "            observer.disconnect();\n",
       "        }}\n",
       "}});\n",
       "\n",
       "// Listen for the removal of the full notebook cells\n",
       "var notebookContainer = gd.closest('#notebook-container');\n",
       "if (notebookContainer) {{\n",
       "    x.observe(notebookContainer, {childList: true});\n",
       "}}\n",
       "\n",
       "// Listen for the clearing of the current output cell\n",
       "var outputEl = gd.closest('.output');\n",
       "if (outputEl) {{\n",
       "    x.observe(outputEl, {childList: true});\n",
       "}}\n",
       "\n",
       "                        })                };                });            </script>        </div>"
      ]
     },
     "metadata": {},
     "output_type": "display_data"
    },
    {
     "data": {
      "text/html": [
       "<div>\n",
       "<style scoped>\n",
       "    .dataframe tbody tr th:only-of-type {\n",
       "        vertical-align: middle;\n",
       "    }\n",
       "\n",
       "    .dataframe tbody tr th {\n",
       "        vertical-align: top;\n",
       "    }\n",
       "\n",
       "    .dataframe thead th {\n",
       "        text-align: right;\n",
       "    }\n",
       "</style>\n",
       "<table border=\"1\" class=\"dataframe\">\n",
       "  <thead>\n",
       "    <tr style=\"text-align: right;\">\n",
       "      <th></th>\n",
       "      <th>Activity</th>\n",
       "      <th>Timestamp</th>\n",
       "      <th>ActivityState</th>\n",
       "      <th>container level</th>\n",
       "      <th>geometry</th>\n",
       "    </tr>\n",
       "  </thead>\n",
       "  <tbody>\n",
       "    <tr>\n",
       "      <th>0</th>\n",
       "      <td>loading:truck1</td>\n",
       "      <td>1970-01-01 00:00:20</td>\n",
       "      <td>START</td>\n",
       "      <td>{'waste': 500}</td>\n",
       "      <td>POINT (4.062705498083785 51.95909715255291)</td>\n",
       "    </tr>\n",
       "    <tr>\n",
       "      <th>1</th>\n",
       "      <td>loading:truck1</td>\n",
       "      <td>1970-01-01 00:01:10</td>\n",
       "      <td>STOP</td>\n",
       "      <td>{'waste': 480}</td>\n",
       "      <td>POINT (4.062705498083785 51.95909715255291)</td>\n",
       "    </tr>\n",
       "    <tr>\n",
       "      <th>2</th>\n",
       "      <td>loading:truck2</td>\n",
       "      <td>1970-01-01 00:01:10</td>\n",
       "      <td>START</td>\n",
       "      <td>{'waste': 480}</td>\n",
       "      <td>POINT (4.062705498083785 51.95909715255291)</td>\n",
       "    </tr>\n",
       "    <tr>\n",
       "      <th>3</th>\n",
       "      <td>loading:truck2</td>\n",
       "      <td>1970-01-01 00:02:00</td>\n",
       "      <td>STOP</td>\n",
       "      <td>{'waste': 460}</td>\n",
       "      <td>POINT (4.062705498083785 51.95909715255291)</td>\n",
       "    </tr>\n",
       "    <tr>\n",
       "      <th>4</th>\n",
       "      <td>loading:truck3</td>\n",
       "      <td>1970-01-01 00:02:00</td>\n",
       "      <td>START</td>\n",
       "      <td>{'waste': 460}</td>\n",
       "      <td>POINT (4.062705498083785 51.95909715255291)</td>\n",
       "    </tr>\n",
       "    <tr>\n",
       "      <th>5</th>\n",
       "      <td>loading:truck3</td>\n",
       "      <td>1970-01-01 00:02:50</td>\n",
       "      <td>STOP</td>\n",
       "      <td>{'waste': 440}</td>\n",
       "      <td>POINT (4.062705498083785 51.95909715255291)</td>\n",
       "    </tr>\n",
       "    <tr>\n",
       "      <th>6</th>\n",
       "      <td>loading:truck4</td>\n",
       "      <td>1970-01-01 00:02:50</td>\n",
       "      <td>START</td>\n",
       "      <td>{'waste': 440}</td>\n",
       "      <td>POINT (4.062705498083785 51.95909715255291)</td>\n",
       "    </tr>\n",
       "    <tr>\n",
       "      <th>7</th>\n",
       "      <td>loading:truck4</td>\n",
       "      <td>1970-01-01 00:03:40</td>\n",
       "      <td>STOP</td>\n",
       "      <td>{'waste': 420}</td>\n",
       "      <td>POINT (4.062705498083785 51.95909715255291)</td>\n",
       "    </tr>\n",
       "    <tr>\n",
       "      <th>8</th>\n",
       "      <td>loading:truck5</td>\n",
       "      <td>1970-01-01 00:03:40</td>\n",
       "      <td>START</td>\n",
       "      <td>{'waste': 420}</td>\n",
       "      <td>POINT (4.062705498083785 51.95909715255291)</td>\n",
       "    </tr>\n",
       "    <tr>\n",
       "      <th>9</th>\n",
       "      <td>loading:truck5</td>\n",
       "      <td>1970-01-01 00:04:30</td>\n",
       "      <td>STOP</td>\n",
       "      <td>{'waste': 400}</td>\n",
       "      <td>POINT (4.062705498083785 51.95909715255291)</td>\n",
       "    </tr>\n",
       "    <tr>\n",
       "      <th>10</th>\n",
       "      <td>loading:truck6</td>\n",
       "      <td>1970-01-01 00:04:30</td>\n",
       "      <td>START</td>\n",
       "      <td>{'waste': 400}</td>\n",
       "      <td>POINT (4.062705498083785 51.95909715255291)</td>\n",
       "    </tr>\n",
       "    <tr>\n",
       "      <th>11</th>\n",
       "      <td>loading:truck6</td>\n",
       "      <td>1970-01-01 00:05:20</td>\n",
       "      <td>STOP</td>\n",
       "      <td>{'waste': 380}</td>\n",
       "      <td>POINT (4.062705498083785 51.95909715255291)</td>\n",
       "    </tr>\n",
       "    <tr>\n",
       "      <th>12</th>\n",
       "      <td>loading:truck7</td>\n",
       "      <td>1970-01-01 00:05:20</td>\n",
       "      <td>START</td>\n",
       "      <td>{'waste': 380}</td>\n",
       "      <td>POINT (4.062705498083785 51.95909715255291)</td>\n",
       "    </tr>\n",
       "    <tr>\n",
       "      <th>13</th>\n",
       "      <td>loading:truck7</td>\n",
       "      <td>1970-01-01 00:06:10</td>\n",
       "      <td>STOP</td>\n",
       "      <td>{'waste': 360}</td>\n",
       "      <td>POINT (4.062705498083785 51.95909715255291)</td>\n",
       "    </tr>\n",
       "    <tr>\n",
       "      <th>14</th>\n",
       "      <td>loading:truck8</td>\n",
       "      <td>1970-01-01 00:06:10</td>\n",
       "      <td>START</td>\n",
       "      <td>{'waste': 360}</td>\n",
       "      <td>POINT (4.062705498083785 51.95909715255291)</td>\n",
       "    </tr>\n",
       "    <tr>\n",
       "      <th>15</th>\n",
       "      <td>loading:truck8</td>\n",
       "      <td>1970-01-01 00:07:00</td>\n",
       "      <td>STOP</td>\n",
       "      <td>{'waste': 340}</td>\n",
       "      <td>POINT (4.062705498083785 51.95909715255291)</td>\n",
       "    </tr>\n",
       "    <tr>\n",
       "      <th>16</th>\n",
       "      <td>loading:truck9</td>\n",
       "      <td>1970-01-01 00:07:00</td>\n",
       "      <td>START</td>\n",
       "      <td>{'waste': 340}</td>\n",
       "      <td>POINT (4.062705498083785 51.95909715255291)</td>\n",
       "    </tr>\n",
       "    <tr>\n",
       "      <th>17</th>\n",
       "      <td>loading:truck9</td>\n",
       "      <td>1970-01-01 00:07:50</td>\n",
       "      <td>STOP</td>\n",
       "      <td>{'waste': 320}</td>\n",
       "      <td>POINT (4.062705498083785 51.95909715255291)</td>\n",
       "    </tr>\n",
       "    <tr>\n",
       "      <th>18</th>\n",
       "      <td>loading:truck10</td>\n",
       "      <td>1970-01-01 00:07:50</td>\n",
       "      <td>START</td>\n",
       "      <td>{'waste': 320}</td>\n",
       "      <td>POINT (4.062705498083785 51.95909715255291)</td>\n",
       "    </tr>\n",
       "    <tr>\n",
       "      <th>19</th>\n",
       "      <td>loading:truck10</td>\n",
       "      <td>1970-01-01 00:08:40</td>\n",
       "      <td>STOP</td>\n",
       "      <td>{'waste': 300}</td>\n",
       "      <td>POINT (4.062705498083785 51.95909715255291)</td>\n",
       "    </tr>\n",
       "    <tr>\n",
       "      <th>20</th>\n",
       "      <td>loading:truck11</td>\n",
       "      <td>1970-01-01 00:08:40</td>\n",
       "      <td>START</td>\n",
       "      <td>{'waste': 300}</td>\n",
       "      <td>POINT (4.062705498083785 51.95909715255291)</td>\n",
       "    </tr>\n",
       "    <tr>\n",
       "      <th>21</th>\n",
       "      <td>loading:truck11</td>\n",
       "      <td>1970-01-01 00:09:30</td>\n",
       "      <td>STOP</td>\n",
       "      <td>{'waste': 280}</td>\n",
       "      <td>POINT (4.062705498083785 51.95909715255291)</td>\n",
       "    </tr>\n",
       "    <tr>\n",
       "      <th>22</th>\n",
       "      <td>loading:truck12</td>\n",
       "      <td>1970-01-01 00:09:30</td>\n",
       "      <td>START</td>\n",
       "      <td>{'waste': 280}</td>\n",
       "      <td>POINT (4.062705498083785 51.95909715255291)</td>\n",
       "    </tr>\n",
       "    <tr>\n",
       "      <th>23</th>\n",
       "      <td>loading:truck12</td>\n",
       "      <td>1970-01-01 00:10:20</td>\n",
       "      <td>STOP</td>\n",
       "      <td>{'waste': 260}</td>\n",
       "      <td>POINT (4.062705498083785 51.95909715255291)</td>\n",
       "    </tr>\n",
       "    <tr>\n",
       "      <th>24</th>\n",
       "      <td>loading:truck13</td>\n",
       "      <td>1970-01-01 00:10:20</td>\n",
       "      <td>START</td>\n",
       "      <td>{'waste': 260}</td>\n",
       "      <td>POINT (4.062705498083785 51.95909715255291)</td>\n",
       "    </tr>\n",
       "    <tr>\n",
       "      <th>25</th>\n",
       "      <td>loading:truck13</td>\n",
       "      <td>1970-01-01 00:11:10</td>\n",
       "      <td>STOP</td>\n",
       "      <td>{'waste': 240}</td>\n",
       "      <td>POINT (4.062705498083785 51.95909715255291)</td>\n",
       "    </tr>\n",
       "    <tr>\n",
       "      <th>26</th>\n",
       "      <td>loading:truck14</td>\n",
       "      <td>1970-01-01 00:11:10</td>\n",
       "      <td>START</td>\n",
       "      <td>{'waste': 240}</td>\n",
       "      <td>POINT (4.062705498083785 51.95909715255291)</td>\n",
       "    </tr>\n",
       "    <tr>\n",
       "      <th>27</th>\n",
       "      <td>loading:truck14</td>\n",
       "      <td>1970-01-01 00:12:00</td>\n",
       "      <td>STOP</td>\n",
       "      <td>{'waste': 220}</td>\n",
       "      <td>POINT (4.062705498083785 51.95909715255291)</td>\n",
       "    </tr>\n",
       "    <tr>\n",
       "      <th>28</th>\n",
       "      <td>loading:truck15</td>\n",
       "      <td>1970-01-01 00:12:00</td>\n",
       "      <td>START</td>\n",
       "      <td>{'waste': 220}</td>\n",
       "      <td>POINT (4.062705498083785 51.95909715255291)</td>\n",
       "    </tr>\n",
       "    <tr>\n",
       "      <th>29</th>\n",
       "      <td>loading:truck15</td>\n",
       "      <td>1970-01-01 00:12:50</td>\n",
       "      <td>STOP</td>\n",
       "      <td>{'waste': 200}</td>\n",
       "      <td>POINT (4.062705498083785 51.95909715255291)</td>\n",
       "    </tr>\n",
       "    <tr>\n",
       "      <th>30</th>\n",
       "      <td>loading:truck16</td>\n",
       "      <td>1970-01-01 00:12:50</td>\n",
       "      <td>START</td>\n",
       "      <td>{'waste': 200}</td>\n",
       "      <td>POINT (4.062705498083785 51.95909715255291)</td>\n",
       "    </tr>\n",
       "    <tr>\n",
       "      <th>31</th>\n",
       "      <td>loading:truck16</td>\n",
       "      <td>1970-01-01 00:13:40</td>\n",
       "      <td>STOP</td>\n",
       "      <td>{'waste': 180}</td>\n",
       "      <td>POINT (4.062705498083785 51.95909715255291)</td>\n",
       "    </tr>\n",
       "    <tr>\n",
       "      <th>32</th>\n",
       "      <td>loading:truck17</td>\n",
       "      <td>1970-01-01 00:13:40</td>\n",
       "      <td>START</td>\n",
       "      <td>{'waste': 180}</td>\n",
       "      <td>POINT (4.062705498083785 51.95909715255291)</td>\n",
       "    </tr>\n",
       "    <tr>\n",
       "      <th>33</th>\n",
       "      <td>loading:truck17</td>\n",
       "      <td>1970-01-01 00:14:30</td>\n",
       "      <td>STOP</td>\n",
       "      <td>{'waste': 160}</td>\n",
       "      <td>POINT (4.062705498083785 51.95909715255291)</td>\n",
       "    </tr>\n",
       "    <tr>\n",
       "      <th>34</th>\n",
       "      <td>loading:truck18</td>\n",
       "      <td>1970-01-01 00:14:30</td>\n",
       "      <td>START</td>\n",
       "      <td>{'waste': 160}</td>\n",
       "      <td>POINT (4.062705498083785 51.95909715255291)</td>\n",
       "    </tr>\n",
       "    <tr>\n",
       "      <th>35</th>\n",
       "      <td>loading:truck18</td>\n",
       "      <td>1970-01-01 00:15:20</td>\n",
       "      <td>STOP</td>\n",
       "      <td>{'waste': 140}</td>\n",
       "      <td>POINT (4.062705498083785 51.95909715255291)</td>\n",
       "    </tr>\n",
       "    <tr>\n",
       "      <th>36</th>\n",
       "      <td>loading:truck19</td>\n",
       "      <td>1970-01-01 00:15:20</td>\n",
       "      <td>START</td>\n",
       "      <td>{'waste': 140}</td>\n",
       "      <td>POINT (4.062705498083785 51.95909715255291)</td>\n",
       "    </tr>\n",
       "    <tr>\n",
       "      <th>37</th>\n",
       "      <td>loading:truck19</td>\n",
       "      <td>1970-01-01 00:16:10</td>\n",
       "      <td>STOP</td>\n",
       "      <td>{'waste': 120}</td>\n",
       "      <td>POINT (4.062705498083785 51.95909715255291)</td>\n",
       "    </tr>\n",
       "    <tr>\n",
       "      <th>38</th>\n",
       "      <td>loading:truck20</td>\n",
       "      <td>1970-01-01 00:16:10</td>\n",
       "      <td>START</td>\n",
       "      <td>{'waste': 120}</td>\n",
       "      <td>POINT (4.062705498083785 51.95909715255291)</td>\n",
       "    </tr>\n",
       "    <tr>\n",
       "      <th>39</th>\n",
       "      <td>loading:truck20</td>\n",
       "      <td>1970-01-01 00:17:00</td>\n",
       "      <td>STOP</td>\n",
       "      <td>{'waste': 100}</td>\n",
       "      <td>POINT (4.062705498083785 51.95909715255291)</td>\n",
       "    </tr>\n",
       "  </tbody>\n",
       "</table>\n",
       "</div>"
      ],
      "text/plain": [
       "           Activity           Timestamp ActivityState container level  \\\n",
       "0    loading:truck1 1970-01-01 00:00:20         START  {'waste': 500}   \n",
       "1    loading:truck1 1970-01-01 00:01:10          STOP  {'waste': 480}   \n",
       "2    loading:truck2 1970-01-01 00:01:10         START  {'waste': 480}   \n",
       "3    loading:truck2 1970-01-01 00:02:00          STOP  {'waste': 460}   \n",
       "4    loading:truck3 1970-01-01 00:02:00         START  {'waste': 460}   \n",
       "5    loading:truck3 1970-01-01 00:02:50          STOP  {'waste': 440}   \n",
       "6    loading:truck4 1970-01-01 00:02:50         START  {'waste': 440}   \n",
       "7    loading:truck4 1970-01-01 00:03:40          STOP  {'waste': 420}   \n",
       "8    loading:truck5 1970-01-01 00:03:40         START  {'waste': 420}   \n",
       "9    loading:truck5 1970-01-01 00:04:30          STOP  {'waste': 400}   \n",
       "10   loading:truck6 1970-01-01 00:04:30         START  {'waste': 400}   \n",
       "11   loading:truck6 1970-01-01 00:05:20          STOP  {'waste': 380}   \n",
       "12   loading:truck7 1970-01-01 00:05:20         START  {'waste': 380}   \n",
       "13   loading:truck7 1970-01-01 00:06:10          STOP  {'waste': 360}   \n",
       "14   loading:truck8 1970-01-01 00:06:10         START  {'waste': 360}   \n",
       "15   loading:truck8 1970-01-01 00:07:00          STOP  {'waste': 340}   \n",
       "16   loading:truck9 1970-01-01 00:07:00         START  {'waste': 340}   \n",
       "17   loading:truck9 1970-01-01 00:07:50          STOP  {'waste': 320}   \n",
       "18  loading:truck10 1970-01-01 00:07:50         START  {'waste': 320}   \n",
       "19  loading:truck10 1970-01-01 00:08:40          STOP  {'waste': 300}   \n",
       "20  loading:truck11 1970-01-01 00:08:40         START  {'waste': 300}   \n",
       "21  loading:truck11 1970-01-01 00:09:30          STOP  {'waste': 280}   \n",
       "22  loading:truck12 1970-01-01 00:09:30         START  {'waste': 280}   \n",
       "23  loading:truck12 1970-01-01 00:10:20          STOP  {'waste': 260}   \n",
       "24  loading:truck13 1970-01-01 00:10:20         START  {'waste': 260}   \n",
       "25  loading:truck13 1970-01-01 00:11:10          STOP  {'waste': 240}   \n",
       "26  loading:truck14 1970-01-01 00:11:10         START  {'waste': 240}   \n",
       "27  loading:truck14 1970-01-01 00:12:00          STOP  {'waste': 220}   \n",
       "28  loading:truck15 1970-01-01 00:12:00         START  {'waste': 220}   \n",
       "29  loading:truck15 1970-01-01 00:12:50          STOP  {'waste': 200}   \n",
       "30  loading:truck16 1970-01-01 00:12:50         START  {'waste': 200}   \n",
       "31  loading:truck16 1970-01-01 00:13:40          STOP  {'waste': 180}   \n",
       "32  loading:truck17 1970-01-01 00:13:40         START  {'waste': 180}   \n",
       "33  loading:truck17 1970-01-01 00:14:30          STOP  {'waste': 160}   \n",
       "34  loading:truck18 1970-01-01 00:14:30         START  {'waste': 160}   \n",
       "35  loading:truck18 1970-01-01 00:15:20          STOP  {'waste': 140}   \n",
       "36  loading:truck19 1970-01-01 00:15:20         START  {'waste': 140}   \n",
       "37  loading:truck19 1970-01-01 00:16:10          STOP  {'waste': 120}   \n",
       "38  loading:truck20 1970-01-01 00:16:10         START  {'waste': 120}   \n",
       "39  loading:truck20 1970-01-01 00:17:00          STOP  {'waste': 100}   \n",
       "\n",
       "                                       geometry  \n",
       "0   POINT (4.062705498083785 51.95909715255291)  \n",
       "1   POINT (4.062705498083785 51.95909715255291)  \n",
       "2   POINT (4.062705498083785 51.95909715255291)  \n",
       "3   POINT (4.062705498083785 51.95909715255291)  \n",
       "4   POINT (4.062705498083785 51.95909715255291)  \n",
       "5   POINT (4.062705498083785 51.95909715255291)  \n",
       "6   POINT (4.062705498083785 51.95909715255291)  \n",
       "7   POINT (4.062705498083785 51.95909715255291)  \n",
       "8   POINT (4.062705498083785 51.95909715255291)  \n",
       "9   POINT (4.062705498083785 51.95909715255291)  \n",
       "10  POINT (4.062705498083785 51.95909715255291)  \n",
       "11  POINT (4.062705498083785 51.95909715255291)  \n",
       "12  POINT (4.062705498083785 51.95909715255291)  \n",
       "13  POINT (4.062705498083785 51.95909715255291)  \n",
       "14  POINT (4.062705498083785 51.95909715255291)  \n",
       "15  POINT (4.062705498083785 51.95909715255291)  \n",
       "16  POINT (4.062705498083785 51.95909715255291)  \n",
       "17  POINT (4.062705498083785 51.95909715255291)  \n",
       "18  POINT (4.062705498083785 51.95909715255291)  \n",
       "19  POINT (4.062705498083785 51.95909715255291)  \n",
       "20  POINT (4.062705498083785 51.95909715255291)  \n",
       "21  POINT (4.062705498083785 51.95909715255291)  \n",
       "22  POINT (4.062705498083785 51.95909715255291)  \n",
       "23  POINT (4.062705498083785 51.95909715255291)  \n",
       "24  POINT (4.062705498083785 51.95909715255291)  \n",
       "25  POINT (4.062705498083785 51.95909715255291)  \n",
       "26  POINT (4.062705498083785 51.95909715255291)  \n",
       "27  POINT (4.062705498083785 51.95909715255291)  \n",
       "28  POINT (4.062705498083785 51.95909715255291)  \n",
       "29  POINT (4.062705498083785 51.95909715255291)  \n",
       "30  POINT (4.062705498083785 51.95909715255291)  \n",
       "31  POINT (4.062705498083785 51.95909715255291)  \n",
       "32  POINT (4.062705498083785 51.95909715255291)  \n",
       "33  POINT (4.062705498083785 51.95909715255291)  \n",
       "34  POINT (4.062705498083785 51.95909715255291)  \n",
       "35  POINT (4.062705498083785 51.95909715255291)  \n",
       "36  POINT (4.062705498083785 51.95909715255291)  \n",
       "37  POINT (4.062705498083785 51.95909715255291)  \n",
       "38  POINT (4.062705498083785 51.95909715255291)  \n",
       "39  POINT (4.062705498083785 51.95909715255291)  "
      ]
     },
     "metadata": {},
     "output_type": "display_data"
    },
    {
     "data": {
      "image/png": "[encoded data removed]",
      "text/plain": [
       "<Figure size 1400x700 with 1 Axes>"
      ]
     },
     "metadata": {},
     "output_type": "display_data"
    }
   ],
   "source": [
    "# Example usage:\n",
    "res = run(500)\n",
    "trucks = res['trucks']\n",
    "activities_d_truck = res['activities_d_truck']\n",
    "source01 = res['source01']\n",
    "dump01 = res['dump01']\n",
    "\n",
    "# Plotting\n",
    "fig_gantt = plot.get_gantt_chart([*trucks.values()], id_map=[*activities_d_truck.values()])\n",
    "fig_step = plot.get_step_chart([source01, dump01])\n",
    "display(plot.get_log_dataframe(source01,id_map=[*activities_d_truck.values()]))\n",
    "display(plot.get_log_dataframe(dump01,id_map=[*activities_d_truck.values()]))\n"
   ]
  },
  {
   "cell_type": "code",
   "execution_count": null,
   "id": "dfae0bcc-d0b6-49e7-851a-5344b691b9e9",
   "metadata": {},
   "outputs": [],
   "source": []
  }
 ],
 "metadata": {
  "kernelspec": {
   "display_name": "Python 3 (ipykernel)",
   "language": "python",
   "name": "python3"
  },
  "language_info": {
   "codemirror_mode": {
    "name": "ipython",
    "version": 3
   },
   "file_extension": ".py",
   "mimetype": "text/x-python",
   "name": "python",
   "nbconvert_exporter": "python",
   "pygments_lexer": "ipython3",
   "version": "3.9.16"
  }
 },
 "nbformat": 4,
 "nbformat_minor": 5
}
